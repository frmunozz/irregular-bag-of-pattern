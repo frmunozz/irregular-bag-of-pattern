{
 "cells": [
  {
   "cell_type": "code",
   "execution_count": 1,
   "metadata": {},
   "outputs": [
    {
     "name": "stderr",
     "output_type": "stream",
     "text": [
      "c:\\programdata\\miniconda3\\lib\\site-packages\\numpy\\_distributor_init.py:32: UserWarning: loaded more than 1 DLL from .libs:\n",
      "c:\\programdata\\miniconda3\\lib\\site-packages\\numpy\\.libs\\libopenblas.PYQHXLVVQ7VESDPUVUADXEVJOBGHJPAY.gfortran-win_amd64.dll\n",
      "c:\\programdata\\miniconda3\\lib\\site-packages\\numpy\\.libs\\libopenblas.TXA6YQSD3GCQQC22GEQ54J2UDCXDXHWN.gfortran-win_amd64.dll\n",
      "  stacklevel=1)\n"
     ]
    }
   ],
   "source": [
    "import sys\n",
    "import os\n",
    "sys.path.insert(0, os.path.abspath(os.path.join(os.path.dirname(\"./Untitled.ipynb\"), '..')))\n",
    "import numpy as np\n",
    "from src.bopf.bopf import BagOfPatternFeature\n",
    "from sklearn.model_selection import train_test_split\n",
    "import matplotlib.pyplot as plt"
   ]
  },
  {
   "cell_type": "code",
   "execution_count": 2,
   "metadata": {},
   "outputs": [],
   "source": [
    "bopf = BagOfPatternFeature()"
   ]
  },
  {
   "cell_type": "code",
   "execution_count": 3,
   "metadata": {},
   "outputs": [
    {
     "name": "stdout",
     "output_type": "stream",
     "text": [
      "Wall time: 2.5 s\n"
     ]
    }
   ],
   "source": [
    "%%time\n",
    "path = \"D:/tesis/plasticc-dataset/\"\n",
    "bopf.load_dataset(path, fmt=\"pandas\", data_filename=\"training_set.csv.zip\", meta_filename=\"training_set_metadata.csv\")"
   ]
  },
  {
   "cell_type": "code",
   "execution_count": 4,
   "metadata": {},
   "outputs": [],
   "source": [
    "dataset_tuple = []\n",
    "for t, y in zip(bopf.times, bopf.dataset):\n",
    "    dataset_tuple.append((t, y))"
   ]
  },
  {
   "cell_type": "code",
   "execution_count": 5,
   "metadata": {},
   "outputs": [],
   "source": [
    "x_train, x_test, y_train, y_test = train_test_split(dataset_tuple, bopf.labels,\n",
    "                                                    test_size=0.8,\n",
    "                                                    random_state=0,\n",
    "                                                    stratify=bopf.labels)"
   ]
  },
  {
   "cell_type": "code",
   "execution_count": 6,
   "metadata": {},
   "outputs": [],
   "source": [
    "dataset_split = []\n",
    "times_split = []\n",
    "for d_tuple in x_train:\n",
    "    times_split.append(d_tuple[0])\n",
    "    dataset_split.append(d_tuple[1])\n",
    "bopf.times = times_split\n",
    "bopf.dataset = dataset_split\n",
    "bopf.labels = y_train\n",
    "bopf.m = len(y_train)"
   ]
  },
  {
   "cell_type": "code",
   "execution_count": 7,
   "metadata": {},
   "outputs": [
    {
     "data": {
      "text/plain": [
       "(array([  0.    ,  52.0692,  89.0059, 117.9589, 298.2444, 299.2313,\n",
       "        302.2522, 307.214 , 367.0063, 369.0906, 384.0704, 384.9401,\n",
       "        407.0731, 424.9198, 636.2616, 662.1928, 741.0079, 743.9945,\n",
       "        748.9846, 778.9008, 779.892 ]),\n",
       " array([-46.516376, -31.217152,   5.277518,  53.555435, -13.740895,\n",
       "         62.813354,  25.039074,  55.830353,  57.1273  ,  56.240952,\n",
       "        -36.006386,  75.502884, -15.59936 ,  14.332279,  95.472527,\n",
       "         83.867554,  27.633608, -29.608046,   1.588219,  25.008795,\n",
       "         74.112045]))"
      ]
     },
     "execution_count": 7,
     "metadata": {},
     "output_type": "execute_result"
    },
    {
     "data": {
      "image/png": "[encoded data removed]",
      "text/plain": [
       "<Figure size 432x288 with 1 Axes>"
      ]
     },
     "metadata": {
      "needs_background": "light"
     },
     "output_type": "display_data"
    }
   ],
   "source": [
    "n = 55\n",
    "plt.plot(bopf.times[n], bopf.dataset[n], \"-o\")\n",
    "d_tuple"
   ]
  },
  {
   "cell_type": "code",
   "execution_count": 8,
   "metadata": {},
   "outputs": [
    {
     "name": "stdout",
     "output_type": "stream",
     "text": [
      "Wall time: 69.3 ms\n"
     ]
    }
   ],
   "source": [
    "%%time\n",
    "bopf.cumsum()"
   ]
  },
  {
   "cell_type": "code",
   "execution_count": 11,
   "metadata": {},
   "outputs": [
    {
     "name": "stdout",
     "output_type": "stream",
     "text": [
      "TOTAL DE SEGMENTOS VACIOS:  69736\n",
      "Wall time: 533 ms\n"
     ]
    }
   ],
   "source": [
    "%%time\n",
    "bopf.bop(7, 0.5, tol=3)"
   ]
  },
  {
   "cell_type": "code",
   "execution_count": 12,
   "metadata": {},
   "outputs": [
    {
     "name": "stdout",
     "output_type": "stream",
     "text": [
      "Wall time: 5.86 ms\n"
     ]
    }
   ],
   "source": [
    "%%time\n",
    "bopf.adjust_label_set()"
   ]
  },
  {
   "cell_type": "code",
   "execution_count": 13,
   "metadata": {},
   "outputs": [
    {
     "data": {
      "text/plain": [
       "65536"
      ]
     },
     "execution_count": 13,
     "metadata": {},
     "output_type": "execute_result"
    }
   ],
   "source": [
    "bopf.bopsize"
   ]
  },
  {
   "cell_type": "code",
   "execution_count": 14,
   "metadata": {},
   "outputs": [
    {
     "name": "stdout",
     "output_type": "stream",
     "text": [
      "Wall time: 3min 38s\n"
     ]
    }
   ],
   "source": [
    "%%time\n",
    "bopf.anova()"
   ]
  },
  {
   "cell_type": "code",
   "execution_count": 15,
   "metadata": {},
   "outputs": [
    {
     "name": "stdout",
     "output_type": "stream",
     "text": [
      "Wall time: 2.93 ms\n"
     ]
    }
   ],
   "source": [
    "%%time\n",
    "bopf.anova_sort()"
   ]
  },
  {
   "cell_type": "code",
   "execution_count": 16,
   "metadata": {},
   "outputs": [
    {
     "name": "stdout",
     "output_type": "stream",
     "text": [
      "Wall time: 1min 17s\n"
     ]
    }
   ],
   "source": [
    "%%time\n",
    "bopf.sort_trim_arr()"
   ]
  },
  {
   "cell_type": "code",
   "execution_count": 17,
   "metadata": {},
   "outputs": [
    {
     "data": {
      "text/plain": [
       "array([ 8221,  4359, 17410, ..., 43683, 43682,     0], dtype=int64)"
      ]
     },
     "execution_count": 17,
     "metadata": {},
     "output_type": "execute_result"
    }
   ],
   "source": [
    "bopf.sort_index"
   ]
  },
  {
   "cell_type": "code",
   "execution_count": 18,
   "metadata": {},
   "outputs": [
    {
     "data": {
      "text/plain": [
       "3059"
      ]
     },
     "execution_count": 18,
     "metadata": {},
     "output_type": "execute_result"
    }
   ],
   "source": [
    "bopf.fea_num"
   ]
  },
  {
   "cell_type": "code",
   "execution_count": 19,
   "metadata": {},
   "outputs": [],
   "source": [
    "# bopf.train_bop_sort = bopf.train_bop\n",
    "# bopf.fea_num = bopf.bopsize"
   ]
  },
  {
   "cell_type": "code",
   "execution_count": 20,
   "metadata": {
    "scrolled": true
   },
   "outputs": [
    {
     "name": "stdout",
     "output_type": "stream",
     "text": [
      "Wall time: 1min 43s\n"
     ]
    }
   ],
   "source": [
    "%%time\n",
    "bopf.crossVL()"
   ]
  },
  {
   "cell_type": "code",
   "execution_count": 21,
   "metadata": {},
   "outputs": [
    {
     "data": {
      "text/plain": [
       "(1757, 0.26577437858508607)"
      ]
     },
     "execution_count": 21,
     "metadata": {},
     "output_type": "execute_result"
    }
   ],
   "source": [
    "bopf.best_idx, bopf.best_score"
   ]
  },
  {
   "cell_type": "code",
   "execution_count": 22,
   "metadata": {},
   "outputs": [
    {
     "name": "stderr",
     "output_type": "stream",
     "text": [
      "D:\\tesis\\tesis\\src\\bopf\\bopf.py:342: RuntimeWarning: invalid value encountered in double_scalars\n",
      "  r = r1*r1 / (r2*r3)\n"
     ]
    },
    {
     "name": "stdout",
     "output_type": "stream",
     "text": [
      "Wall time: 4min 10s\n"
     ]
    }
   ],
   "source": [
    "%%time\n",
    "crossL2 = bopf.crossVL2()"
   ]
  },
  {
   "cell_type": "code",
   "execution_count": 23,
   "metadata": {},
   "outputs": [
    {
     "data": {
      "text/plain": [
       "(2361, 0.7718291905672403)"
      ]
     },
     "execution_count": 23,
     "metadata": {},
     "output_type": "execute_result"
    }
   ],
   "source": [
    "bopf.best2_idx, bopf.best2_score"
   ]
  },
  {
   "cell_type": "markdown",
   "metadata": {},
   "source": [
    "# Full process\n",
    "\n",
    "### Basic idea:\n",
    "1. Get **all** sub-sequences of same time width from time series.\n",
    "2. Transform each sub-sequence to a SAX word applying **numerosity reduction** and using **special character for empty segments**.\n",
    "3. Generate a **Bag-of-Pattern representation** of the time series using **all sub-sequences**\n",
    "4. compute **ANOVA F Test** for discriminating the best features from Bag-of-Pattern representation and drop the rest.\n",
    "5. compute centroid class features and tf-idf class features for each class on bag-of-patter representation.\n",
    "6. Use **cross validation leave-one-out** while testing different parameters combinations and find the top 10 parameter combinations. The validation is performed on classification using centroid or tf-idf\n",
    "7. Classify test set using the best 10 parameters combinations.\n",
    "\n",
    "### comments:\n",
    "- ANOVA F process is very expensive and needs a more efficient algorithm\n",
    "- Maybe we should consider creating the sub-sequences based on number of samples instead of window time length\n",
    "- For irregular time series the centroid method it seems to fail, probabily due to the variation in the time series samples which produces a variation in the Bag-of-pattern representation\n",
    "- The ANOVA F process would have to be implemented in multivariate form to work on multi-band time series.\n",
    "- The distances are euclidean and cosine of matrix for which multivariate methods exists.\n",
    "- Should try k-fold cross validation instead of leave-one-out\n",
    "- joker should be adapted for distances"
   ]
  },
  {
   "cell_type": "code",
   "execution_count": 38,
   "metadata": {},
   "outputs": [],
   "source": [
    "import sys\n",
    "import os\n",
    "sys.path.insert(0, os.path.abspath(os.path.join(os.path.dirname(\"./Untitled.ipynb\"), '..')))\n",
    "import numpy as np\n",
    "from src.bopf.bopf import BagOfPatternFeature\n",
    "from sklearn.model_selection import train_test_split"
   ]
  },
  {
   "cell_type": "code",
   "execution_count": 2,
   "metadata": {},
   "outputs": [
    {
     "name": "stdout",
     "output_type": "stream",
     "text": [
      "2354\n",
      "Wall time: 2.48 s\n"
     ]
    }
   ],
   "source": [
    "%%time\n",
    "bopf = BagOfPatternFeature()\n",
    "path = \"D:/tesis/plasticc-dataset/\"\n",
    "bopf.load_dataset(path, fmt=\"pandas\", data_filename=\"training_set.csv.zip\", meta_filename=\"training_set_metadata.csv\")\n",
    "\n",
    "dataset_tuple = []\n",
    "for t, y in zip(bopf.times, bopf.dataset):\n",
    "    dataset_tuple.append((t, y))\n",
    "    \n",
    "x_train, x_test, y_train, y_test = train_test_split(dataset_tuple, bopf.labels,\n",
    "                                                    test_size=0.7,\n",
    "                                                    random_state=0,\n",
    "                                                    stratify=bopf.labels)\n",
    "dataset_split = []\n",
    "times_split = []\n",
    "for d_tuple in x_train:\n",
    "    times_split.append(d_tuple[0])\n",
    "    dataset_split.append(d_tuple[1])\n",
    "bopf.times = times_split\n",
    "bopf.dataset = dataset_split\n",
    "bopf.labels = y_train\n",
    "bopf.m = len(y_train)\n",
    "print(bopf.m)\n",
    "bopf.cumsum()"
   ]
  },
  {
   "cell_type": "code",
   "execution_count": 3,
   "metadata": {},
   "outputs": [
    {
     "name": "stdout",
     "output_type": "stream",
     "text": [
      "[3, 4, 5, 6, 7] [0.05 0.1  0.15 0.2  0.25 0.3  0.35 0.4  0.45 0.5  0.55 0.6  0.65 0.7\n",
      " 0.75 0.8  0.85 0.9  0.95 1.  ]\n"
     ]
    }
   ],
   "source": [
    "wd_arr = [3, 4, 5, 6, 7]\n",
    "wd_num = len(wd_arr)\n",
    "step = 0.05\n",
    "wl_arr = (np.arange(int(1/step))+1)*step\n",
    "wl_num = len(wl_arr)\n",
    "print(wd_arr, wl_arr)"
   ]
  },
  {
   "cell_type": "code",
   "execution_count": 4,
   "metadata": {},
   "outputs": [
    {
     "name": "stdout",
     "output_type": "stream",
     "text": [
      "TOTAL DE SEGMENTOS VACIOS:  19668\n",
      "60/6156\r"
     ]
    },
    {
     "name": "stderr",
     "output_type": "stream",
     "text": [
      "D:\\tesis\\tesis\\src\\bopf\\bopf.py:342: RuntimeWarning: invalid value encountered in double_scalars\n",
      "  r = r1*r1 / (r2*r3)\n"
     ]
    },
    {
     "name": "stdout",
     "output_type": "stream",
     "text": [
      "cross_vl_results for wl: 0.05 , wd: 3\n",
      ">>> centroid => best_fea_num: 55 , best_acc:  0.12361937128292269\n",
      ">>> tf-idf => best_fea_num: 24 , best_acc:  0.08283772302463892\n",
      "TOTAL DE SEGMENTOS VACIOS:  26102\n",
      "cross_vl_results for wl: 0.1 , wd: 3\n",
      ">>> centroid => best_fea_num: 61 , best_acc:  0.12531860662701785\n",
      ">>> tf-idf => best_fea_num: 9 , best_acc:  0.06584536958368734\n",
      "TOTAL DE SEGMENTOS VACIOS:  33908\n",
      "cross_vl_results for wl: 0.15000000000000002 , wd: 3\n",
      ">>> centroid => best_fea_num: 2 , best_acc:  0.14443500424808836\n",
      ">>> tf-idf => best_fea_num: 8 , best_acc:  0.0632965165675446\n",
      "TOTAL DE SEGMENTOS VACIOS:  43853\n",
      "cross_vl_results for wl: 0.2 , wd: 3\n",
      ">>> centroid => best_fea_num: 60 , best_acc:  0.12446898895497026\n",
      ">>> tf-idf => best_fea_num: 42 , best_acc:  0.05310110450297366\n",
      "TOTAL DE SEGMENTOS VACIOS:  53920\n",
      "cross_vl_results for wl: 0.25 , wd: 3\n",
      ">>> centroid => best_fea_num: 61 , best_acc:  0.12489379779099405\n",
      ">>> tf-idf => best_fea_num: 7 , best_acc:  0.055225148683092605\n",
      "TOTAL DE SEGMENTOS VACIOS:  58827\n",
      "cross_vl_results for wl: 0.30000000000000004 , wd: 3\n",
      ">>> centroid => best_fea_num: 47 , best_acc:  0.15293118096856415\n",
      ">>> tf-idf => best_fea_num: 7 , best_acc:  0.07434154630416312\n",
      "TOTAL DE SEGMENTOS VACIOS:  51847\n",
      "cross_vl_results for wl: 0.35000000000000003 , wd: 3\n",
      ">>> centroid => best_fea_num: 54 , best_acc:  0.15760407816482583\n",
      ">>> tf-idf => best_fea_num: 20 , best_acc:  0.0675446049277825\n",
      "TOTAL DE SEGMENTOS VACIOS:  42487\n",
      "cross_vl_results for wl: 0.4 , wd: 3\n",
      ">>> centroid => best_fea_num: 21 , best_acc:  0.1516567544604928\n",
      ">>> tf-idf => best_fea_num: 56 , best_acc:  0.05012744265080714\n",
      "TOTAL DE SEGMENTOS VACIOS:  29789\n",
      "cross_vl_results for wl: 0.45 , wd: 3\n",
      ">>> centroid => best_fea_num: 54 , best_acc:  0.1389124893797791\n",
      ">>> tf-idf => best_fea_num: 16 , best_acc:  0.07561597281223449\n",
      "TOTAL DE SEGMENTOS VACIOS:  20757\n",
      "cross_vl_results for wl: 0.5 , wd: 3\n",
      ">>> centroid => best_fea_num: 57 , best_acc:  0.15250637213254037\n",
      ">>> tf-idf => best_fea_num: 47 , best_acc:  0.06627017841971113\n",
      "TOTAL DE SEGMENTOS VACIOS:  12024\n",
      "cross_vl_results for wl: 0.55 , wd: 3\n",
      ">>> centroid => best_fea_num: 55 , best_acc:  0.143160577740017\n",
      ">>> tf-idf => best_fea_num: 5 , best_acc:  0.08963466440101954\n",
      "TOTAL DE SEGMENTOS VACIOS:  5976\n",
      "cross_vl_results for wl: 0.6000000000000001 , wd: 3\n",
      ">>> centroid => best_fea_num: 4 , best_acc:  0.14146134239592184\n",
      ">>> tf-idf => best_fea_num: 59 , best_acc:  0.06966864910790145\n",
      "TOTAL DE SEGMENTOS VACIOS:  3803\n",
      "cross_vl_results for wl: 0.65 , wd: 3\n",
      ">>> centroid => best_fea_num: 44 , best_acc:  0.14146134239592184\n",
      ">>> tf-idf => best_fea_num: 48 , best_acc:  0.06881903143585387\n",
      "TOTAL DE SEGMENTOS VACIOS:  5424\n",
      "cross_vl_results for wl: 0.7000000000000001 , wd: 3\n",
      ">>> centroid => best_fea_num: 7 , best_acc:  0.17034834324553952\n",
      ">>> tf-idf => best_fea_num: 29 , best_acc:  0.08793542905692438\n",
      "TOTAL DE SEGMENTOS VACIOS:  4546\n",
      "cross_vl_results for wl: 0.75 , wd: 3\n",
      ">>> centroid => best_fea_num: 58 , best_acc:  0.19158878504672897\n",
      ">>> tf-idf => best_fea_num: 22 , best_acc:  0.1070518266779949\n",
      "TOTAL DE SEGMENTOS VACIOS:  2353\n",
      "cross_vl_results for wl: 0.8 , wd: 3\n",
      ">>> centroid => best_fea_num: 25 , best_acc:  0.18394222599830076\n",
      ">>> tf-idf => best_fea_num: 11 , best_acc:  0.09218351741716228\n",
      "TOTAL DE SEGMENTOS VACIOS:  860\n",
      "cross_vl_results for wl: 0.8500000000000001 , wd: 3\n",
      ">>> centroid => best_fea_num: 14 , best_acc:  0.1584536958368734\n",
      ">>> tf-idf => best_fea_num: 23 , best_acc:  0.08241291418861513\n",
      "TOTAL DE SEGMENTOS VACIOS:  148\n",
      "cross_vl_results for wl: 0.9 , wd: 3\n",
      ">>> centroid => best_fea_num: 20 , best_acc:  0.16185216652506373\n",
      ">>> tf-idf => best_fea_num: 19 , best_acc:  0.09218351741716228\n",
      "TOTAL DE SEGMENTOS VACIOS:  125\n",
      "cross_vl_results for wl: 0.9500000000000001 , wd: 3\n",
      ">>> centroid => best_fea_num: 23 , best_acc:  0.16652506372132542\n",
      ">>> tf-idf => best_fea_num: 47 , best_acc:  0.07561597281223449\n",
      "TOTAL DE SEGMENTOS VACIOS:  78\n",
      "cross_vl_results for wl: 1.0 , wd: 3\n",
      ">>> centroid => best_fea_num: 9 , best_acc:  0.11894647408666101\n",
      ">>> tf-idf => best_fea_num: 21 , best_acc:  0.11045029736618521\n",
      "TOTAL DE SEGMENTOS VACIOS:  41268\n",
      "cross_vl_results for wl: 0.05 , wd: 4\n",
      ">>> centroid => best_fea_num: 121 , best_acc:  0.16015293118096857\n",
      ">>> tf-idf => best_fea_num: 224 , best_acc:  0.12786745964316057\n",
      "TOTAL DE SEGMENTOS VACIOS:  46451\n",
      "cross_vl_results for wl: 0.1 , wd: 4\n",
      ">>> centroid => best_fea_num: 100 , best_acc:  0.16397621070518267\n",
      ">>> tf-idf => best_fea_num: 151 , best_acc:  0.14103653355989804\n",
      "TOTAL DE SEGMENTOS VACIOS:  55947\n",
      "cross_vl_results for wl: 0.15000000000000002 , wd: 4\n",
      ">>> centroid => best_fea_num: 249 , best_acc:  0.14103653355989804\n",
      ">>> tf-idf => best_fea_num: 206 , best_acc:  0.12361937128292269\n",
      "TOTAL DE SEGMENTOS VACIOS:  67976\n",
      "cross_vl_results for wl: 0.2 , wd: 4\n",
      ">>> centroid => best_fea_num: 124 , best_acc:  0.143160577740017\n",
      ">>> tf-idf => best_fea_num: 198 , best_acc:  0.10407816482582838\n",
      "TOTAL DE SEGMENTOS VACIOS:  81670\n",
      "cross_vl_results for wl: 0.25 , wd: 4\n",
      ">>> centroid => best_fea_num: 53 , best_acc:  0.15505522514868308\n",
      ">>> tf-idf => best_fea_num: 17 , best_acc:  0.11129991503823279\n",
      "TOTAL DE SEGMENTOS VACIOS:  91030\n",
      "cross_vl_results for wl: 0.30000000000000004 , wd: 4\n",
      ">>> centroid => best_fea_num: 186 , best_acc:  0.14188615123194562\n",
      ">>> tf-idf => best_fea_num: 3 , best_acc:  0.102803738317757\n",
      "TOTAL DE SEGMENTOS VACIOS:  86064\n",
      "cross_vl_results for wl: 0.35000000000000003 , wd: 4\n",
      ">>> centroid => best_fea_num: 181 , best_acc:  0.14953271028037382\n",
      ">>> tf-idf => best_fea_num: 2 , best_acc:  0.10790144435004248\n",
      "TOTAL DE SEGMENTOS VACIOS:  71750\n",
      "cross_vl_results for wl: 0.4 , wd: 4\n",
      ">>> centroid => best_fea_num: 4 , best_acc:  0.1903143585386576\n",
      ">>> tf-idf => best_fea_num: 168 , best_acc:  0.10407816482582838\n",
      "TOTAL DE SEGMENTOS VACIOS:  54264\n",
      "cross_vl_results for wl: 0.45 , wd: 4\n",
      ">>> centroid => best_fea_num: 149 , best_acc:  0.1584536958368734\n",
      ">>> tf-idf => best_fea_num: 223 , best_acc:  0.11597281223449447\n",
      "TOTAL DE SEGMENTOS VACIOS:  41042\n",
      "cross_vl_results for wl: 0.5 , wd: 4\n",
      ">>> centroid => best_fea_num: 3 , best_acc:  0.18394222599830076\n",
      ">>> tf-idf => best_fea_num: 113 , best_acc:  0.14953271028037382\n",
      "TOTAL DE SEGMENTOS VACIOS:  28397\n",
      "cross_vl_results for wl: 0.55 , wd: 4\n",
      ">>> centroid => best_fea_num: 232 , best_acc:  0.17417162276975362\n",
      ">>> tf-idf => best_fea_num: 197 , best_acc:  0.15505522514868308\n",
      "TOTAL DE SEGMENTOS VACIOS:  22669\n",
      "cross_vl_results for wl: 0.6000000000000001 , wd: 4\n",
      ">>> centroid => best_fea_num: 273 , best_acc:  0.17714528462192014\n",
      ">>> tf-idf => best_fea_num: 123 , best_acc:  0.17417162276975362\n",
      "TOTAL DE SEGMENTOS VACIOS:  22508\n",
      "cross_vl_results for wl: 0.65 , wd: 4\n",
      ">>> centroid => best_fea_num: 166 , best_acc:  0.18521665250637212\n",
      ">>> tf-idf => best_fea_num: 172 , best_acc:  0.16482582837723025\n",
      "TOTAL DE SEGMENTOS VACIOS:  21352\n",
      "cross_vl_results for wl: 0.7000000000000001 , wd: 4\n",
      ">>> centroid => best_fea_num: 197 , best_acc:  0.18564146134239592\n",
      ">>> tf-idf => best_fea_num: 104 , best_acc:  0.19201359388275277\n",
      "TOTAL DE SEGMENTOS VACIOS:  17199\n",
      "cross_vl_results for wl: 0.75 , wd: 4\n",
      ">>> centroid => best_fea_num: 150 , best_acc:  0.1864910790144435\n",
      ">>> tf-idf => best_fea_num: 183 , best_acc:  0.205607476635514\n",
      "TOTAL DE SEGMENTOS VACIOS:  11947\n",
      "cross_vl_results for wl: 0.8 , wd: 4\n",
      ">>> centroid => best_fea_num: 221 , best_acc:  0.17587085811384875\n",
      ">>> tf-idf => best_fea_num: 238 , best_acc:  0.19073916737468138\n",
      "TOTAL DE SEGMENTOS VACIOS:  5364\n",
      "cross_vl_results for wl: 0.8500000000000001 , wd: 4\n",
      ">>> centroid => best_fea_num: 124 , best_acc:  0.18436703483432457\n",
      ">>> tf-idf => best_fea_num: 188 , best_acc:  0.19541206457094307\n",
      "TOTAL DE SEGMENTOS VACIOS:  1236\n",
      "cross_vl_results for wl: 0.9 , wd: 4\n",
      ">>> centroid => best_fea_num: 215 , best_acc:  0.16652506372132542\n",
      ">>> tf-idf => best_fea_num: 203 , best_acc:  0.19158878504672897\n",
      "TOTAL DE SEGMENTOS VACIOS:  784\n",
      "cross_vl_results for wl: 0.9500000000000001 , wd: 4\n",
      ">>> centroid => best_fea_num: 147 , best_acc:  0.15293118096856415\n",
      ">>> tf-idf => best_fea_num: 207 , best_acc:  0.15293118096856415\n",
      "TOTAL DE SEGMENTOS VACIOS:  482\n",
      "cross_vl_results for wl: 1.0 , wd: 4\n",
      ">>> centroid => best_fea_num: 77 , best_acc:  0.16737468139337297\n",
      ">>> tf-idf => best_fea_num: 204 , best_acc:  0.1503823279524214\n"
     ]
    },
    {
     "name": "stdout",
     "output_type": "stream",
     "text": [
      "TOTAL DE SEGMENTOS VACIOS:  71482\n",
      "cross_vl_results for wl: 0.05 , wd: 5\n",
      ">>> centroid => best_fea_num: 375 , best_acc:  0.18181818181818182\n",
      ">>> tf-idf => best_fea_num: 577 , best_acc:  0.21325403568394222\n",
      "TOTAL DE SEGMENTOS VACIOS:  72084\n",
      "cross_vl_results for wl: 0.1 , wd: 5\n",
      ">>> centroid => best_fea_num: 768 , best_acc:  0.15378079864061173\n",
      ">>> tf-idf => best_fea_num: 833 , best_acc:  0.25955819881053527\n",
      "TOTAL DE SEGMENTOS VACIOS:  78866\n",
      "cross_vl_results for wl: 0.15000000000000002 , wd: 5\n",
      ">>> centroid => best_fea_num: 837 , best_acc:  0.13721325403568393\n",
      ">>> tf-idf => best_fea_num: 750 , best_acc:  0.27102803738317754\n",
      "TOTAL DE SEGMENTOS VACIOS:  94449\n",
      "cross_vl_results for wl: 0.2 , wd: 5\n",
      ">>> centroid => best_fea_num: 705 , best_acc:  0.13806287170773152\n",
      ">>> tf-idf => best_fea_num: 268 , best_acc:  0.26125743415463043\n",
      "TOTAL DE SEGMENTOS VACIOS:  109586\n",
      "cross_vl_results for wl: 0.25 , wd: 5\n",
      ">>> centroid => best_fea_num: 441 , best_acc:  0.1503823279524214\n",
      ">>> tf-idf => best_fea_num: 146 , best_acc:  0.21197960917587086\n",
      "TOTAL DE SEGMENTOS VACIOS:  123887\n",
      "cross_vl_results for wl: 0.30000000000000004 , wd: 5\n",
      ">>> centroid => best_fea_num: 7 , best_acc:  0.18011894647408666\n",
      ">>> tf-idf => best_fea_num: 206 , best_acc:  0.14995751911639763\n",
      "TOTAL DE SEGMENTOS VACIOS:  119100\n",
      "cross_vl_results for wl: 0.35000000000000003 , wd: 5\n",
      ">>> centroid => best_fea_num: 323 , best_acc:  0.15972812234494477\n",
      ">>> tf-idf => best_fea_num: 117 , best_acc:  0.19158878504672897\n",
      "TOTAL DE SEGMENTOS VACIOS:  102693\n",
      "cross_vl_results for wl: 0.4 , wd: 5\n",
      ">>> centroid => best_fea_num: 20 , best_acc:  0.1937128292268479\n",
      ">>> tf-idf => best_fea_num: 190 , best_acc:  0.2599830076465591\n",
      "TOTAL DE SEGMENTOS VACIOS:  81444\n",
      "cross_vl_results for wl: 0.45 , wd: 5\n",
      ">>> centroid => best_fea_num: 13 , best_acc:  0.17204757858963465\n",
      ">>> tf-idf => best_fea_num: 553 , best_acc:  0.2531860662701784\n",
      "TOTAL DE SEGMENTOS VACIOS:  60456\n",
      "cross_vl_results for wl: 0.5 , wd: 5\n",
      ">>> centroid => best_fea_num: 423 , best_acc:  0.1898895497026338\n",
      ">>> tf-idf => best_fea_num: 444 , best_acc:  0.2706032285471538\n",
      "TOTAL DE SEGMENTOS VACIOS:  44498\n",
      "cross_vl_results for wl: 0.55 , wd: 5\n",
      ">>> centroid => best_fea_num: 595 , best_acc:  0.2145284621920136\n",
      ">>> tf-idf => best_fea_num: 553 , best_acc:  0.33305012744265083\n",
      "TOTAL DE SEGMENTOS VACIOS:  39455\n",
      "cross_vl_results for wl: 0.6000000000000001 , wd: 5\n",
      ">>> centroid => best_fea_num: 659 , best_acc:  0.20093457943925233\n",
      ">>> tf-idf => best_fea_num: 525 , best_acc:  0.3623619371282923\n",
      "TOTAL DE SEGMENTOS VACIOS:  38274\n",
      "cross_vl_results for wl: 0.65 , wd: 5\n",
      ">>> centroid => best_fea_num: 19 , best_acc:  0.19541206457094307\n",
      ">>> tf-idf => best_fea_num: 539 , best_acc:  0.3768054375531011\n",
      "TOTAL DE SEGMENTOS VACIOS:  35289\n",
      "cross_vl_results for wl: 0.7000000000000001 , wd: 5\n",
      ">>> centroid => best_fea_num: 627 , best_acc:  0.16015293118096857\n",
      ">>> tf-idf => best_fea_num: 678 , best_acc:  0.36278674596431604\n",
      "TOTAL DE SEGMENTOS VACIOS:  32791\n",
      "cross_vl_results for wl: 0.75 , wd: 5\n",
      ">>> centroid => best_fea_num: 495 , best_acc:  0.17672047578589634\n",
      ">>> tf-idf => best_fea_num: 627 , best_acc:  0.37383177570093457\n",
      "TOTAL DE SEGMENTOS VACIOS:  29058\n",
      "cross_vl_results for wl: 0.8 , wd: 5\n",
      ">>> centroid => best_fea_num: 597 , best_acc:  0.17799490229396772\n",
      ">>> tf-idf => best_fea_num: 622 , best_acc:  0.3296516567544605\n",
      "TOTAL DE SEGMENTOS VACIOS:  23225\n",
      "cross_vl_results for wl: 0.8500000000000001 , wd: 5\n",
      ">>> centroid => best_fea_num: 590 , best_acc:  0.19073916737468138\n",
      ">>> tf-idf => best_fea_num: 620 , best_acc:  0.3615123194562447\n",
      "TOTAL DE SEGMENTOS VACIOS:  16543\n",
      "cross_vl_results for wl: 0.9 , wd: 5\n",
      ">>> centroid => best_fea_num: 679 , best_acc:  0.20900594732370434\n",
      ">>> tf-idf => best_fea_num: 620 , best_acc:  0.34239592183517414\n",
      "TOTAL DE SEGMENTOS VACIOS:  10902\n",
      "cross_vl_results for wl: 0.9500000000000001 , wd: 5\n",
      ">>> centroid => best_fea_num: 500 , best_acc:  0.2064570943075616\n",
      ">>> tf-idf => best_fea_num: 675 , best_acc:  0.32285471537807986\n",
      "TOTAL DE SEGMENTOS VACIOS:  4788\n",
      "cross_vl_results for wl: 1.0 , wd: 5\n",
      ">>> centroid => best_fea_num: 341 , best_acc:  0.20900594732370434\n",
      ">>> tf-idf => best_fea_num: 617 , best_acc:  0.2965165675446049\n",
      "TOTAL DE SEGMENTOS VACIOS:  103170\n",
      "cross_vl_results for wl: 0.05 , wd: 6\n",
      ">>> centroid => best_fea_num: 1424 , best_acc:  0.1627017841971113\n",
      ">>> tf-idf => best_fea_num: 2743 , best_acc:  0.2977909940526763\n",
      "TOTAL DE SEGMENTOS VACIOS:  95021\n",
      "cross_vl_results for wl: 0.1 , wd: 6\n",
      ">>> centroid => best_fea_num: 2166 , best_acc:  0.16482582837723025\n",
      ">>> tf-idf => best_fea_num: 2347 , best_acc:  0.42480883602378927\n",
      "TOTAL DE SEGMENTOS VACIOS:  104078\n",
      "cross_vl_results for wl: 0.15000000000000002 , wd: 6\n",
      ">>> centroid => best_fea_num: 1487 , best_acc:  0.15208156329651656\n",
      ">>> tf-idf => best_fea_num: 1518 , best_acc:  0.5488530161427357\n",
      "TOTAL DE SEGMENTOS VACIOS:  119937\n",
      "cross_vl_results for wl: 0.2 , wd: 6\n",
      ">>> centroid => best_fea_num: 1060 , best_acc:  0.1274426508071368\n",
      ">>> tf-idf => best_fea_num: 997 , best_acc:  0.45454545454545453\n",
      "TOTAL DE SEGMENTOS VACIOS:  139683\n",
      "cross_vl_results for wl: 0.25 , wd: 6\n",
      ">>> centroid => best_fea_num: 825 , best_acc:  0.15505522514868308\n",
      ">>> tf-idf => best_fea_num: 500 , best_acc:  0.34239592183517414\n",
      "TOTAL DE SEGMENTOS VACIOS:  156749\n",
      "cross_vl_results for wl: 0.30000000000000004 , wd: 6\n",
      ">>> centroid => best_fea_num: 10 , best_acc:  0.1554800339847069\n",
      ">>> tf-idf => best_fea_num: 475 , best_acc:  0.2574341546304163\n",
      "TOTAL DE SEGMENTOS VACIOS:  153139\n",
      "cross_vl_results for wl: 0.35000000000000003 , wd: 6\n",
      ">>> centroid => best_fea_num: 1006 , best_acc:  0.1661002548853016\n",
      ">>> tf-idf => best_fea_num: 470 , best_acc:  0.324553950722175\n",
      "TOTAL DE SEGMENTOS VACIOS:  133695\n",
      "cross_vl_results for wl: 0.4 , wd: 6\n",
      ">>> centroid => best_fea_num: 22 , best_acc:  0.20135938827527614\n",
      ">>> tf-idf => best_fea_num: 610 , best_acc:  0.3806287170773152\n",
      "TOTAL DE SEGMENTOS VACIOS:  108091\n",
      "cross_vl_results for wl: 0.45 , wd: 6\n",
      ">>> centroid => best_fea_num: 18 , best_acc:  0.18691588785046728\n",
      ">>> tf-idf => best_fea_num: 1011 , best_acc:  0.45029736618521665\n",
      "TOTAL DE SEGMENTOS VACIOS:  82044\n",
      "cross_vl_results for wl: 0.5 , wd: 6\n",
      ">>> centroid => best_fea_num: 38 , best_acc:  0.23789294817332202\n",
      ">>> tf-idf => best_fea_num: 1123 , best_acc:  0.48895497026338147\n",
      "TOTAL DE SEGMENTOS VACIOS:  64529\n",
      "cross_vl_results for wl: 0.55 , wd: 6\n",
      ">>> centroid => best_fea_num: 52 , best_acc:  0.23322005097706033\n",
      ">>> tf-idf => best_fea_num: 1235 , best_acc:  0.5208156329651656\n",
      "TOTAL DE SEGMENTOS VACIOS:  55159\n",
      "cross_vl_results for wl: 0.6000000000000001 , wd: 6\n",
      ">>> centroid => best_fea_num: 1067 , best_acc:  0.20603228547153782\n",
      ">>> tf-idf => best_fea_num: 1252 , best_acc:  0.5382327952421411\n",
      "TOTAL DE SEGMENTOS VACIOS:  51592\n",
      "cross_vl_results for wl: 0.65 , wd: 6\n",
      ">>> centroid => best_fea_num: 133 , best_acc:  0.19583687340696687\n",
      ">>> tf-idf => best_fea_num: 1232 , best_acc:  0.5734919286321155\n",
      "TOTAL DE SEGMENTOS VACIOS:  51422\n",
      "cross_vl_results for wl: 0.7000000000000001 , wd: 6\n",
      ">>> centroid => best_fea_num: 104 , best_acc:  0.19541206457094307\n",
      ">>> tf-idf => best_fea_num: 1175 , best_acc:  0.5450297366185217\n",
      "TOTAL DE SEGMENTOS VACIOS:  48478\n",
      "cross_vl_results for wl: 0.75 , wd: 6\n",
      ">>> centroid => best_fea_num: 712 , best_acc:  0.2064570943075616\n",
      ">>> tf-idf => best_fea_num: 1249 , best_acc:  0.5569243840271878\n",
      "TOTAL DE SEGMENTOS VACIOS:  43310\n",
      "cross_vl_results for wl: 0.8 , wd: 6\n",
      ">>> centroid => best_fea_num: 941 , best_acc:  0.20900594732370434\n",
      ">>> tf-idf => best_fea_num: 1296 , best_acc:  0.5424808836023789\n",
      "TOTAL DE SEGMENTOS VACIOS:  35805\n",
      "cross_vl_results for wl: 0.8500000000000001 , wd: 6\n",
      ">>> centroid => best_fea_num: 1184 , best_acc:  0.17629566694987256\n",
      ">>> tf-idf => best_fea_num: 1711 , best_acc:  0.5654205607476636\n",
      "TOTAL DE SEGMENTOS VACIOS:  24214\n",
      "cross_vl_results for wl: 0.9 , wd: 6\n",
      ">>> centroid => best_fea_num: 889 , best_acc:  0.18861512319456245\n",
      ">>> tf-idf => best_fea_num: 1458 , best_acc:  0.5382327952421411\n",
      "TOTAL DE SEGMENTOS VACIOS:  14940\n",
      "cross_vl_results for wl: 0.9500000000000001 , wd: 6\n",
      ">>> centroid => best_fea_num: 1416 , best_acc:  0.1873406966864911\n",
      ">>> tf-idf => best_fea_num: 1402 , best_acc:  0.47790994052676294\n",
      "TOTAL DE SEGMENTOS VACIOS:  6216\n",
      "cross_vl_results for wl: 1.0 , wd: 6\n",
      ">>> centroid => best_fea_num: 532 , best_acc:  0.20730671197960918\n",
      ">>> tf-idf => best_fea_num: 1171 , best_acc:  0.43840271877655057\n"
     ]
    },
    {
     "name": "stdout",
     "output_type": "stream",
     "text": [
      "TOTAL DE SEGMENTOS VACIOS:  141386\n",
      "cross_vl_results for wl: 0.05 , wd: 7\n",
      ">>> centroid => best_fea_num: 2020 , best_acc:  0.18054375531011044\n",
      ">>> tf-idf => best_fea_num: 3022 , best_acc:  0.381053525913339\n",
      "TOTAL DE SEGMENTOS VACIOS:  125205\n",
      "cross_vl_results for wl: 0.1 , wd: 7\n",
      ">>> centroid => best_fea_num: 3429 , best_acc:  0.17714528462192014\n",
      ">>> tf-idf => best_fea_num: 4324 , best_acc:  0.6325403568394222\n",
      "TOTAL DE SEGMENTOS VACIOS:  132340\n",
      "cross_vl_results for wl: 0.15000000000000002 , wd: 7\n",
      ">>> centroid => best_fea_num: 4486 , best_acc:  0.1503823279524214\n",
      ">>> tf-idf => best_fea_num: 3286 , best_acc:  0.7663551401869159\n",
      "TOTAL DE SEGMENTOS VACIOS:  147672\n",
      "cross_vl_results for wl: 0.2 , wd: 7\n",
      ">>> centroid => best_fea_num: 2525 , best_acc:  0.1389124893797791\n",
      ">>> tf-idf => best_fea_num: 1961 , best_acc:  0.6503823279524215\n",
      "TOTAL DE SEGMENTOS VACIOS:  169559\n",
      "cross_vl_results for wl: 0.25 , wd: 7\n",
      ">>> centroid => best_fea_num: 1277 , best_acc:  0.15760407816482583\n",
      ">>> tf-idf => best_fea_num: 1259 , best_acc:  0.4949022939677145\n",
      "TOTAL DE SEGMENTOS VACIOS:  191354\n",
      "cross_vl_results for wl: 0.30000000000000004 , wd: 7\n",
      ">>> centroid => best_fea_num: 21 , best_acc:  0.15208156329651656\n",
      ">>> tf-idf => best_fea_num: 895 , best_acc:  0.4201359388275276\n",
      "TOTAL DE SEGMENTOS VACIOS:  186678\n",
      "cross_vl_results for wl: 0.35000000000000003 , wd: 7\n",
      ">>> centroid => best_fea_num: 1258 , best_acc:  0.16992353440951571\n",
      ">>> tf-idf => best_fea_num: 1027 , best_acc:  0.4613423959218352\n",
      "TOTAL DE SEGMENTOS VACIOS:  166509\n",
      "cross_vl_results for wl: 0.4 , wd: 7\n",
      ">>> centroid => best_fea_num: 1566 , best_acc:  0.18054375531011044\n",
      ">>> tf-idf => best_fea_num: 1229 , best_acc:  0.5943075615972813\n",
      "TOTAL DE SEGMENTOS VACIOS:  135479\n",
      "cross_vl_results for wl: 0.45 , wd: 7\n",
      ">>> centroid => best_fea_num: 1437 , best_acc:  0.23279524214103653\n",
      ">>> tf-idf => best_fea_num: 1872 , best_acc:  0.6206457094307561\n",
      "TOTAL DE SEGMENTOS VACIOS:  104189\n",
      "cross_vl_results for wl: 0.5 , wd: 7\n",
      ">>> centroid => best_fea_num: 1742 , best_acc:  0.24851316907391674\n",
      ">>> tf-idf => best_fea_num: 2132 , best_acc:  0.7090059473237044\n",
      "TOTAL DE SEGMENTOS VACIOS:  82880\n",
      "cross_vl_results for wl: 0.55 , wd: 7\n",
      ">>> centroid => best_fea_num: 2067 , best_acc:  0.23534409515717927\n",
      ">>> tf-idf => best_fea_num: 2705 , best_acc:  0.7098555649957519\n",
      "TOTAL DE SEGMENTOS VACIOS:  72030\n",
      "cross_vl_results for wl: 0.6000000000000001 , wd: 7\n",
      ">>> centroid => best_fea_num: 1684 , best_acc:  0.2336448598130841\n",
      ">>> tf-idf => best_fea_num: 2504 , best_acc:  0.7187765505522515\n",
      "TOTAL DE SEGMENTOS VACIOS:  69969\n",
      "cross_vl_results for wl: 0.65 , wd: 7\n",
      ">>> centroid => best_fea_num: 1933 , best_acc:  0.21622769753610874\n",
      ">>> tf-idf => best_fea_num: 2582 , best_acc:  0.7149532710280374\n",
      "TOTAL DE SEGMENTOS VACIOS:  66731\n",
      "cross_vl_results for wl: 0.7000000000000001 , wd: 7\n",
      ">>> centroid => best_fea_num: 133 , best_acc:  0.19328802039082413\n",
      ">>> tf-idf => best_fea_num: 2673 , best_acc:  0.6677994902293968\n",
      "TOTAL DE SEGMENTOS VACIOS:  61401\n",
      "cross_vl_results for wl: 0.75 , wd: 7\n",
      ">>> centroid => best_fea_num: 187 , best_acc:  0.21495327102803738\n",
      ">>> tf-idf => best_fea_num: 2495 , best_acc:  0.6911639762107051\n",
      "TOTAL DE SEGMENTOS VACIOS:  57919\n",
      "cross_vl_results for wl: 0.8 , wd: 7\n",
      ">>> centroid => best_fea_num: 1597 , best_acc:  0.2017841971112999\n",
      ">>> tf-idf => best_fea_num: 2478 , best_acc:  0.6796941376380629\n",
      "TOTAL DE SEGMENTOS VACIOS:  49297\n",
      "cross_vl_results for wl: 0.8500000000000001 , wd: 7\n",
      ">>> centroid => best_fea_num: 1695 , best_acc:  0.221750212404418\n",
      ">>> tf-idf => best_fea_num: 2627 , best_acc:  0.6758708581138487\n",
      "TOTAL DE SEGMENTOS VACIOS:  34792\n",
      "cross_vl_results for wl: 0.9 , wd: 7\n",
      ">>> centroid => best_fea_num: 1592 , best_acc:  0.24341546304163125\n",
      ">>> tf-idf => best_fea_num: 2184 , best_acc:  0.657179269328802\n",
      "TOTAL DE SEGMENTOS VACIOS:  18699\n",
      "cross_vl_results for wl: 0.9500000000000001 , wd: 7\n",
      ">>> centroid => best_fea_num: 1093 , best_acc:  0.2306711979609176\n",
      ">>> tf-idf => best_fea_num: 2286 , best_acc:  0.6499575191163977\n",
      "TOTAL DE SEGMENTOS VACIOS:  7275\n",
      "cross_vl_results for wl: 1.0 , wd: 7\n",
      ">>> centroid => best_fea_num: 1364 , best_acc:  0.2463891248937978\n",
      ">>> tf-idf => best_fea_num: 1841 , best_acc:  0.6291418861512319\n",
      "Wall time: 10h 2min 17s\n"
     ]
    }
   ],
   "source": [
    "%%time\n",
    "bop_features = []\n",
    "bop_fea_num = []\n",
    "bop_cv_acc = []\n",
    "bop_feature_index = []\n",
    "bop_features2 = []\n",
    "bop_fea_num2 = []\n",
    "bop_cv_acc2 = []\n",
    "bop_feature_index2 = []\n",
    "bop_wd = []\n",
    "bop_wl = []\n",
    "for i in range(wd_num):\n",
    "    wd = wd_arr[i]\n",
    "    for j in range(wl_num):\n",
    "        wl = wl_arr[j]\n",
    "        bopf.bop(wd, wl)\n",
    "        bopf.adjust_label_set()\n",
    "        bopf.anova()\n",
    "        bopf.anova_sort()\n",
    "        bopf.sort_trim_arr()\n",
    "        bopf.crossVL()\n",
    "        \n",
    "        bop_features.append(bopf.crossL[:bopf.c*bopf.best_idx])\n",
    "        bop_fea_num.append(bopf.best_idx)\n",
    "        bop_cv_acc.append(bopf.best_score)\n",
    "        bop_feature_index.append(bopf.sort_index[:bopf.best_idx])\n",
    "        \n",
    "        bopf.crossVL2()\n",
    "        bop_features2.append(bopf.crossL2[:bopf.c*bopf.best2_idx])\n",
    "        bop_fea_num2.append(bopf.best2_idx)\n",
    "        bop_cv_acc2.append(bopf.best2_score)\n",
    "        bop_feature_index2.append(bopf.sort_index[:bopf.best2_idx])\n",
    "        \n",
    "        bop_wd.append(wd)\n",
    "        bop_wl.append(wl)\n",
    "        print(\"cross_vl_results for wl:\", wl, \", wd:\", wd)\n",
    "        print(\">>> centroid => best_fea_num:\", bopf.best_idx, \", best_acc: \", bopf.best_score)\n",
    "        print(\">>> tf-idf => best_fea_num:\", bopf.best2_idx, \", best_acc: \", bopf.best2_score)"
   ]
  },
  {
   "cell_type": "code",
   "execution_count": 6,
   "metadata": {},
   "outputs": [],
   "source": [
    "np.save(\"bop_features.npy\", np.array(bop_features))\n",
    "np.save(\"bop_fea_num.npy\", np.array(bop_fea_num))\n",
    "np.save(\"bop_cv_acc.npy\", np.array(bop_cv_acc))\n",
    "np.save(\"bop_feature_index.npy\", np.array(bop_feature_index))\n",
    "np.save(\"bop_features2.npy\", np.array(bop_features2))\n",
    "np.save(\"bop_fea_num2.npy\", np.array(bop_fea_num2))\n",
    "np.save(\"bop_cv_acc2.npy\", np.array(bop_cv_acc2))\n",
    "np.save(\"bop_feature_index2.npy\", np.array(bop_feature_index2))\n",
    "np.save(\"bop_wd.npy\", np.array(bop_wd))\n",
    "np.save(\"bop_wl.npy\", np.array(bop_wl))"
   ]
  },
  {
   "cell_type": "code",
   "execution_count": 8,
   "metadata": {},
   "outputs": [
    {
     "name": "stdout",
     "output_type": "stream",
     "text": [
      "centroid:  0.24851316907391674 7 0.5\n",
      "tf-idf: 0.7663551401869159 7 0.15000000000000002\n",
      "centroid:  0.2463891248937978 7 1.0\n",
      "tf-idf: 0.7187765505522515 7 0.6000000000000001\n",
      "centroid:  0.24341546304163125 7 0.9\n",
      "tf-idf: 0.7149532710280374 7 0.65\n",
      "centroid:  0.23789294817332202 6 0.5\n",
      "tf-idf: 0.7098555649957519 7 0.55\n",
      "centroid:  0.23534409515717927 7 0.55\n",
      "tf-idf: 0.7090059473237044 7 0.5\n",
      "centroid:  0.2336448598130841 7 0.6000000000000001\n",
      "tf-idf: 0.6911639762107051 7 0.75\n",
      "centroid:  0.23322005097706033 6 0.55\n",
      "tf-idf: 0.6796941376380629 7 0.8\n",
      "centroid:  0.23279524214103653 7 0.45\n",
      "tf-idf: 0.6758708581138487 7 0.8500000000000001\n",
      "centroid:  0.2306711979609176 7 0.9500000000000001\n",
      "tf-idf: 0.6677994902293968 7 0.7000000000000001\n",
      "centroid:  0.221750212404418 7 0.8500000000000001\n",
      "tf-idf: 0.657179269328802 7 0.9\n",
      "centroid avg: 0.2363636363636364\n",
      "tf-idf avg:  0.6990654205607477\n"
     ]
    }
   ],
   "source": [
    "index1 = np.argsort(bop_cv_acc)[::-1]\n",
    "index2 = np.argsort(bop_cv_acc2)[::-1]\n",
    "top_n = 10\n",
    "\n",
    "avg_acc_sum = 0\n",
    "avg_acc_sum2 = 0\n",
    "for i in range(top_n):\n",
    "    avg_acc_sum += bop_cv_acc[index1[i]]\n",
    "    avg_acc_sum2 += bop_cv_acc2[index2[i]]\n",
    "    print(\"centroid: \", bop_cv_acc[index1[i]], bop_wd[index1[i]], bop_wl[index1[i]])\n",
    "    print(\"tf-idf:\" , bop_cv_acc2[index2[i]], bop_wd[index2[i]], bop_wl[index2[i]])\n",
    "\n",
    "avg_acc = avg_acc_sum / top_n\n",
    "avg_acc2 = avg_acc_sum2 / top_n\n",
    "print(\"centroid avg:\", avg_acc)\n",
    "print(\"tf-idf avg: \", avg_acc2)"
   ]
  },
  {
   "cell_type": "code",
   "execution_count": 21,
   "metadata": {},
   "outputs": [
    {
     "name": "stdout",
     "output_type": "stream",
     "text": [
      "100\n"
     ]
    }
   ],
   "source": [
    "# make small test (100 samples)\n",
    "x_train2, x_test2, y_train2, y_test2 = train_test_split(x_test, y_test,\n",
    "                                                    test_size=0.0181,\n",
    "                                                    random_state=0,\n",
    "                                                    stratify=y_test)\n",
    "len(x_test2)\n",
    "\n",
    "bopf_t = BagOfPatternFeature()\n",
    "\n",
    "dataset_split = []\n",
    "times_split = []\n",
    "for d_tuple in x_test2:\n",
    "    times_split.append(d_tuple[0])\n",
    "    dataset_split.append(d_tuple[1])\n",
    "bopf_t.times = times_split\n",
    "bopf_t.dataset = dataset_split\n",
    "bopf_t.labels = y_test2\n",
    "bopf_t.m = len(y_test2)\n",
    "print(bopf_t.m)\n",
    "bopf_t.cumsum()"
   ]
  },
  {
   "cell_type": "code",
   "execution_count": 25,
   "metadata": {},
   "outputs": [],
   "source": [
    "def sort_trim_arr(train_bop, sort_index, m, n):\n",
    "    train_bop_sort = np.zeros((n+1) * m)\n",
    "    idx = 0\n",
    "    for j in range(n):\n",
    "        k = sort_index[j]\n",
    "        for i in range(m):\n",
    "            train_bop_sort[idx] = train_bop[i + k * m]\n",
    "            idx  += 1\n",
    "    return train_bop_sort\n",
    "\n",
    "def classify(test_bop, centroids, tlabel, mt, c, fea_num):\n",
    "    res = np.zeros(mt, dtype=int)\n",
    "    for i in range(mt):\n",
    "        rmin = np.inf\n",
    "        label = -1\n",
    "        for j in range(c):\n",
    "            r = 0.0\n",
    "            pm = 0\n",
    "            pv = 0\n",
    "            for k in range(fea_num):\n",
    "                pm += test_bop[i + (k)*mt]\n",
    "                pv += centroids[j + (k)*c]\n",
    "                d = pm - pv\n",
    "                r += d*d\n",
    "            \n",
    "#             pm = test_bop[i]\n",
    "#             pv = centroids[j]\n",
    "            \n",
    "            \n",
    "#             for k in range(fea_num):\n",
    "#                 d = pm - pv\n",
    "#                 pm += test_bop[i + (k+1)*mt]\n",
    "#                 pv += centroids[j+ (k+1)*c]\n",
    "#                 r += d*d\n",
    "            if r < rmin:\n",
    "                rmin = r\n",
    "                label = tlabel[j]\n",
    "        res[i] = label\n",
    "\n",
    "    return res\n",
    "\n",
    "def classify2(test_bop, tf_idfs, tlabel, mt, c, fea_num):\n",
    "    res = np.zeros(mt, dtype=int)\n",
    "    for i in range(mt):\n",
    "        rmin = np.inf\n",
    "        label = -1\n",
    "        for j in range(c):\n",
    "            r1 = 0.0\n",
    "            r2 = 0.0\n",
    "            r3 = 0.0\n",
    "            pm = 0\n",
    "            pv = 0\n",
    "            for k in range(fea_num):\n",
    "                pm += test_bop[i + k*mt]\n",
    "                pv += tf_idfs[j + (k)*c]\n",
    "                d = pm\n",
    "                if d > 0:\n",
    "                    d = 1 + np.log10(d)\n",
    "                r1 += d * pv\n",
    "                r2 += d*d\n",
    "                r3 += pv * pv\n",
    "            r = r1 * r1 / (r2 * r3)\n",
    "            if r > rmax:\n",
    "                rmax = r\n",
    "                label = tlabel[j]\n",
    "        res[i] = label\n",
    "    return res"
   ]
  },
  {
   "cell_type": "code",
   "execution_count": 37,
   "metadata": {},
   "outputs": [
    {
     "name": "stdout",
     "output_type": "stream",
     "text": [
      "TOTAL DE SEGMENTOS VACIOS:  4236\n",
      "cv_acc:  0.24851316907391674 , wd:  7 , wl: 0.5 , fea_num: 1742\n",
      "acc:  0.05\n",
      "TOTAL DE SEGMENTOS VACIOS:  289\n",
      "cv_acc:  0.2463891248937978 , wd:  7 , wl: 1.0 , fea_num: 1364\n",
      "acc:  0.17\n",
      "TOTAL DE SEGMENTOS VACIOS:  1340\n",
      "cv_acc:  0.24341546304163125 , wd:  7 , wl: 0.9 , fea_num: 1592\n",
      "acc:  0.11\n",
      "TOTAL DE SEGMENTOS VACIOS:  3336\n",
      "cv_acc:  0.23789294817332202 , wd:  6 , wl: 0.5 , fea_num: 38\n",
      "acc:  0.08\n",
      "TOTAL DE SEGMENTOS VACIOS:  3448\n",
      "cv_acc:  0.23534409515717927 , wd:  7 , wl: 0.55 , fea_num: 2067\n",
      "acc:  0.05\n",
      "TOTAL DE SEGMENTOS VACIOS:  2999\n",
      "cv_acc:  0.2336448598130841 , wd:  7 , wl: 0.6000000000000001 , fea_num: 1684\n",
      "acc:  0.1\n",
      "TOTAL DE SEGMENTOS VACIOS:  2690\n",
      "cv_acc:  0.23322005097706033 , wd:  6 , wl: 0.55 , fea_num: 52\n",
      "acc:  0.16\n",
      "TOTAL DE SEGMENTOS VACIOS:  5474\n",
      "cv_acc:  0.23279524214103653 , wd:  7 , wl: 0.45 , fea_num: 1437\n",
      "acc:  0.07\n",
      "TOTAL DE SEGMENTOS VACIOS:  712\n",
      "cv_acc:  0.2306711979609176 , wd:  7 , wl: 0.9500000000000001 , fea_num: 1093\n",
      "acc:  0.12\n",
      "TOTAL DE SEGMENTOS VACIOS:  1905\n",
      "cv_acc:  0.221750212404418 , wd:  7 , wl: 0.8500000000000001 , fea_num: 1695\n",
      "acc:  0.07\n"
     ]
    }
   ],
   "source": [
    "for i in range(top_n):\n",
    "    s_index = index1[i]\n",
    "    wd = bop_wd[s_index]\n",
    "    wl = bop_wl[s_index]\n",
    "    bopf_t.bop(wd, wl)\n",
    "    test_bop_sort = sort_trim_arr(bopf_t.train_bop, bop_feature_index[s_index], \n",
    "                                  bopf_t.m, bop_fea_num[s_index])\n",
    "    predicted_label = classify(test_bop_sort, bop_features[s_index], bopf.tlabel, \n",
    "                               bopf_t.m, bopf.c, bop_fea_num[s_index])\n",
    "    real_label = np.array(bopf_t.labels)\n",
    "    count = 0\n",
    "    for i in range(len(real_label)):\n",
    "        if predicted_label[i] == real_label[i]:\n",
    "            count += 1\n",
    "    print(\"cv_acc: \", bop_cv_acc[s_index], \", wd: \", wd, \", wl:\", wl, \", fea_num:\", bop_fea_num[s_index])\n",
    "    print(\"acc: \", count / len(real_label))"
   ]
  },
  {
   "cell_type": "code",
   "execution_count": 26,
   "metadata": {},
   "outputs": [
    {
     "name": "stdout",
     "output_type": "stream",
     "text": [
      "TOTAL DE SEGMENTOS VACIOS:  5552\n"
     ]
    },
    {
     "ename": "IndexError",
     "evalue": "list index out of range",
     "output_type": "error",
     "traceback": [
      "\u001b[1;31m---------------------------------------------------------------------------\u001b[0m",
      "\u001b[1;31mIndexError\u001b[0m                                Traceback (most recent call last)",
      "\u001b[1;32m<ipython-input-26-6dceb33af4cd>\u001b[0m in \u001b[0;36m<module>\u001b[1;34m\u001b[0m\n\u001b[0;32m      7\u001b[0m                                   bopf_t.m, bop_fea_num2[s_index])\n\u001b[0;32m      8\u001b[0m     predicted_label = classify2(test_bop_sort, bop_features2[s_index], bopf.tlabel, \n\u001b[1;32m----> 9\u001b[1;33m                                bopf_t.m, bopf.c, bop_fea_num2[s_index])\n\u001b[0m\u001b[0;32m     10\u001b[0m     \u001b[0mreal_label\u001b[0m \u001b[1;33m=\u001b[0m \u001b[0mnp\u001b[0m\u001b[1;33m.\u001b[0m\u001b[0marray\u001b[0m\u001b[1;33m(\u001b[0m\u001b[0mbopf_t\u001b[0m\u001b[1;33m.\u001b[0m\u001b[0mlabels\u001b[0m\u001b[1;33m)\u001b[0m\u001b[1;33m\u001b[0m\u001b[1;33m\u001b[0m\u001b[0m\n\u001b[0;32m     11\u001b[0m     \u001b[0mcount\u001b[0m \u001b[1;33m=\u001b[0m \u001b[1;36m0\u001b[0m\u001b[1;33m\u001b[0m\u001b[1;33m\u001b[0m\u001b[0m\n",
      "\u001b[1;32m<ipython-input-25-41fb25797761>\u001b[0m in \u001b[0;36mclassify2\u001b[1;34m(test_bop, tf_idfs, tlabel, mt, c, fea_num)\u001b[0m\n\u001b[0;32m     53\u001b[0m             \u001b[1;32mfor\u001b[0m \u001b[0mk\u001b[0m \u001b[1;32min\u001b[0m \u001b[0mrange\u001b[0m\u001b[1;33m(\u001b[0m\u001b[0mfea_num\u001b[0m\u001b[1;33m)\u001b[0m\u001b[1;33m:\u001b[0m\u001b[1;33m\u001b[0m\u001b[1;33m\u001b[0m\u001b[0m\n\u001b[0;32m     54\u001b[0m                 \u001b[0mpm\u001b[0m \u001b[1;33m+=\u001b[0m \u001b[0mtest_bop\u001b[0m\u001b[1;33m[\u001b[0m\u001b[0mi\u001b[0m \u001b[1;33m+\u001b[0m \u001b[0mk\u001b[0m\u001b[1;33m*\u001b[0m\u001b[0mmt\u001b[0m\u001b[1;33m]\u001b[0m\u001b[1;33m\u001b[0m\u001b[1;33m\u001b[0m\u001b[0m\n\u001b[1;32m---> 55\u001b[1;33m                 \u001b[0mpv\u001b[0m \u001b[1;33m+=\u001b[0m \u001b[0mtf_idfs\u001b[0m\u001b[1;33m[\u001b[0m\u001b[0mj\u001b[0m \u001b[1;33m+\u001b[0m \u001b[1;33m(\u001b[0m\u001b[0mk\u001b[0m\u001b[1;33m)\u001b[0m\u001b[1;33m*\u001b[0m\u001b[0mc\u001b[0m\u001b[1;33m]\u001b[0m\u001b[1;33m\u001b[0m\u001b[1;33m\u001b[0m\u001b[0m\n\u001b[0m\u001b[0;32m     56\u001b[0m                 \u001b[0md\u001b[0m \u001b[1;33m=\u001b[0m \u001b[0mpm\u001b[0m\u001b[1;33m\u001b[0m\u001b[1;33m\u001b[0m\u001b[0m\n\u001b[0;32m     57\u001b[0m                 \u001b[1;32mif\u001b[0m \u001b[0md\u001b[0m \u001b[1;33m>\u001b[0m \u001b[1;36m0\u001b[0m\u001b[1;33m:\u001b[0m\u001b[1;33m\u001b[0m\u001b[1;33m\u001b[0m\u001b[0m\n",
      "\u001b[1;31mIndexError\u001b[0m: list index out of range"
     ]
    }
   ],
   "source": [
    "for i in range(top_n):\n",
    "    s_index = index2[i]\n",
    "    wd = bop_wd[s_index]\n",
    "    wl = bop_wl[s_index]\n",
    "    bopf_t.bop(wd, wl)\n",
    "    test_bop_sort = sort_trim_arr(bopf_t.train_bop, bop_feature_index2[s_index], \n",
    "                                  bopf_t.m, bop_fea_num2[s_index])\n",
    "    predicted_label = classify2(test_bop_sort, bop_features2[s_index], bopf.tlabel, \n",
    "                               bopf_t.m, bopf.c, bop_fea_num2[s_index])\n",
    "    real_label = np.array(bopf_t.labels)\n",
    "    count = 0\n",
    "    for i in range(len(real_label)):\n",
    "        if predicted_label[i] == real_label[i]:\n",
    "            count += 1\n",
    "\n",
    "    print(count / len(real_label))"
   ]
  },
  {
   "cell_type": "code",
   "execution_count": 34,
   "metadata": {},
   "outputs": [
    {
     "data": {
      "text/plain": [
       "770"
      ]
     },
     "execution_count": 34,
     "metadata": {},
     "output_type": "execute_result"
    }
   ],
   "source": [
    "len(bop_features[0])"
   ]
  },
  {
   "cell_type": "code",
   "execution_count": null,
   "metadata": {},
   "outputs": [],
   "source": []
  }
 ],
 "metadata": {
  "kernelspec": {
   "display_name": "Python 3",
   "language": "python",
   "name": "python3"
  },
  "language_info": {
   "codemirror_mode": {
    "name": "ipython",
    "version": 3
   },
   "file_extension": ".py",
   "mimetype": "text/x-python",
   "name": "python",
   "nbconvert_exporter": "python",
   "pygments_lexer": "ipython3",
   "version": "3.7.3"
  }
 },
 "nbformat": 4,
 "nbformat_minor": 2
}
