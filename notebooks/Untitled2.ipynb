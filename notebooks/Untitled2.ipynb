{
 "cells": [
  {
   "cell_type": "code",
   "execution_count": 1,
   "metadata": {},
   "outputs": [],
   "source": [
    "import sys\n",
    "import os\n",
    "sys.path.insert(0, os.path.abspath(os.path.join(os.path.dirname(\"./Untitled.ipynb\"), '..')))\n",
    "import numpy as np\n",
    "from src.bopf.bopf import BagOfPatternFeature"
   ]
  },
  {
   "cell_type": "code",
   "execution_count": 2,
   "metadata": {},
   "outputs": [],
   "source": [
    "bopf = BagOfPatternFeature()"
   ]
  },
  {
   "cell_type": "code",
   "execution_count": 3,
   "metadata": {},
   "outputs": [
    {
     "ename": "FileNotFoundError",
     "evalue": "[Errno 2] No such file or directory: 'D:/tesis/UCRArchive_2018/Car/Car_TRAIN.tsv'",
     "output_type": "error",
     "traceback": [
      "\u001b[0;31m---------------------------------------------------------------------------\u001b[0m",
      "\u001b[0;31mFileNotFoundError\u001b[0m                         Traceback (most recent call last)",
      "\u001b[0;32m<timed exec>\u001b[0m in \u001b[0;36m<module>\u001b[0;34m\u001b[0m\n",
      "\u001b[0;32m~/Documents/tesis/src/bopf/bopf.py\u001b[0m in \u001b[0;36mload_dataset\u001b[0;34m(self, dataset_path, fmt, **kwargs)\u001b[0m\n\u001b[1;32m     81\u001b[0m \u001b[0;34m\u001b[0m\u001b[0m\n\u001b[1;32m     82\u001b[0m         \u001b[0;32melif\u001b[0m \u001b[0mfmt\u001b[0m \u001b[0;34m==\u001b[0m \u001b[0;34m\"file\"\u001b[0m\u001b[0;34m:\u001b[0m\u001b[0;34m\u001b[0m\u001b[0;34m\u001b[0m\u001b[0m\n\u001b[0;32m---> 83\u001b[0;31m             \u001b[0mself\u001b[0m\u001b[0;34m.\u001b[0m\u001b[0mdataset\u001b[0m\u001b[0;34m,\u001b[0m \u001b[0mself\u001b[0m\u001b[0;34m.\u001b[0m\u001b[0mtimes\u001b[0m\u001b[0;34m,\u001b[0m \u001b[0mself\u001b[0m\u001b[0;34m.\u001b[0m\u001b[0mlabels\u001b[0m\u001b[0;34m,\u001b[0m \u001b[0mself\u001b[0m\u001b[0;34m.\u001b[0m\u001b[0mm\u001b[0m \u001b[0;34m=\u001b[0m \u001b[0m_load_file\u001b[0m\u001b[0;34m(\u001b[0m\u001b[0mdataset_path\u001b[0m\u001b[0;34m,\u001b[0m \u001b[0;34m**\u001b[0m\u001b[0mkwargs\u001b[0m\u001b[0;34m)\u001b[0m\u001b[0;34m\u001b[0m\u001b[0;34m\u001b[0m\u001b[0m\n\u001b[0m\u001b[1;32m     84\u001b[0m         \u001b[0;32melse\u001b[0m\u001b[0;34m:\u001b[0m\u001b[0;34m\u001b[0m\u001b[0;34m\u001b[0m\u001b[0m\n\u001b[1;32m     85\u001b[0m             \u001b[0;32mraise\u001b[0m \u001b[0mValueError\u001b[0m\u001b[0;34m(\u001b[0m\u001b[0;34m\"fmt unknown\"\u001b[0m\u001b[0;34m)\u001b[0m\u001b[0;34m\u001b[0m\u001b[0;34m\u001b[0m\u001b[0m\n",
      "\u001b[0;32m~/Documents/tesis/src/bopf/bopf.py\u001b[0m in \u001b[0;36m_load_file\u001b[0;34m(filename, **kwargs)\u001b[0m\n\u001b[1;32m      7\u001b[0m     \u001b[0mhas_time\u001b[0m \u001b[0;34m=\u001b[0m \u001b[0mkwargs\u001b[0m\u001b[0;34m.\u001b[0m\u001b[0mpop\u001b[0m\u001b[0;34m(\u001b[0m\u001b[0;34m\"has_time\"\u001b[0m\u001b[0;34m,\u001b[0m \u001b[0;32mFalse\u001b[0m\u001b[0;34m)\u001b[0m\u001b[0;34m\u001b[0m\u001b[0;34m\u001b[0m\u001b[0m\n\u001b[1;32m      8\u001b[0m     \u001b[0msep\u001b[0m \u001b[0;34m=\u001b[0m \u001b[0mkwargs\u001b[0m\u001b[0;34m.\u001b[0m\u001b[0mget\u001b[0m\u001b[0;34m(\u001b[0m\u001b[0;34m\"sep\"\u001b[0m\u001b[0;34m,\u001b[0m \u001b[0;34m'\\t'\u001b[0m\u001b[0;34m)\u001b[0m\u001b[0;34m\u001b[0m\u001b[0;34m\u001b[0m\u001b[0m\n\u001b[0;32m----> 9\u001b[0;31m     \u001b[0mfile1\u001b[0m \u001b[0;34m=\u001b[0m \u001b[0mopen\u001b[0m\u001b[0;34m(\u001b[0m\u001b[0mfilename\u001b[0m\u001b[0;34m,\u001b[0m \u001b[0;34m'r'\u001b[0m\u001b[0;34m)\u001b[0m\u001b[0;34m\u001b[0m\u001b[0;34m\u001b[0m\u001b[0m\n\u001b[0m\u001b[1;32m     10\u001b[0m     \u001b[0mlines\u001b[0m \u001b[0;34m=\u001b[0m \u001b[0mfile1\u001b[0m\u001b[0;34m.\u001b[0m\u001b[0mreadlines\u001b[0m\u001b[0;34m(\u001b[0m\u001b[0;34m)\u001b[0m\u001b[0;34m\u001b[0m\u001b[0;34m\u001b[0m\u001b[0m\n\u001b[1;32m     11\u001b[0m     \u001b[0mm\u001b[0m \u001b[0;34m=\u001b[0m \u001b[0mlen\u001b[0m\u001b[0;34m(\u001b[0m\u001b[0mlines\u001b[0m\u001b[0;34m)\u001b[0m\u001b[0;34m\u001b[0m\u001b[0;34m\u001b[0m\u001b[0m\n",
      "\u001b[0;31mFileNotFoundError\u001b[0m: [Errno 2] No such file or directory: 'D:/tesis/UCRArchive_2018/Car/Car_TRAIN.tsv'"
     ]
    }
   ],
   "source": [
    "%%time\n",
    "path = \"D:/tesis/UCRArchive_2018/Car/Car_TRAIN.tsv\"\n",
    "bopf.load_dataset(path, fmt=\"file\")"
   ]
  },
  {
   "cell_type": "code",
   "execution_count": 4,
   "metadata": {},
   "outputs": [
    {
     "name": "stdout",
     "output_type": "stream",
     "text": [
      "Wall time: 47.8 ms\n"
     ]
    }
   ],
   "source": [
    "%%time\n",
    "bopf.cumsum()"
   ]
  },
  {
   "cell_type": "code",
   "execution_count": 5,
   "metadata": {},
   "outputs": [
    {
     "name": "stdout",
     "output_type": "stream",
     "text": [
      "Wall time: 1.12 s\n"
     ]
    }
   ],
   "source": [
    "%%time\n",
    "bopf.bop(5, 0.25)"
   ]
  },
  {
   "cell_type": "code",
   "execution_count": 6,
   "metadata": {},
   "outputs": [
    {
     "name": "stdout",
     "output_type": "stream",
     "text": [
      "Wall time: 977 µs\n"
     ]
    }
   ],
   "source": [
    "%%time\n",
    "bopf.adjust_label_set()"
   ]
  },
  {
   "cell_type": "code",
   "execution_count": 7,
   "metadata": {},
   "outputs": [
    {
     "name": "stdout",
     "output_type": "stream",
     "text": [
      "Wall time: 571 ms\n"
     ]
    }
   ],
   "source": [
    "%%time\n",
    "bopf.anova()"
   ]
  },
  {
   "cell_type": "code",
   "execution_count": 8,
   "metadata": {},
   "outputs": [
    {
     "name": "stdout",
     "output_type": "stream",
     "text": [
      "Wall time: 0 ns\n"
     ]
    }
   ],
   "source": [
    "%%time\n",
    "bopf.anova_sort()"
   ]
  },
  {
   "cell_type": "code",
   "execution_count": 9,
   "metadata": {},
   "outputs": [
    {
     "name": "stdout",
     "output_type": "stream",
     "text": [
      "Wall time: 183 ms\n"
     ]
    }
   ],
   "source": [
    "%%time\n",
    "bopf.sort_trim_arr()"
   ]
  },
  {
   "cell_type": "code",
   "execution_count": 10,
   "metadata": {},
   "outputs": [
    {
     "name": "stdout",
     "output_type": "stream",
     "text": [
      "Wall time: 89.8 ms\n"
     ]
    }
   ],
   "source": [
    "%%time\n",
    "bopf.crossVL()"
   ]
  },
  {
   "cell_type": "code",
   "execution_count": 11,
   "metadata": {},
   "outputs": [
    {
     "data": {
      "text/plain": [
       "(20, 0.85)"
      ]
     },
     "execution_count": 11,
     "metadata": {},
     "output_type": "execute_result"
    }
   ],
   "source": [
    "bopf.best_idx, bopf.best_score"
   ]
  },
  {
   "cell_type": "code",
   "execution_count": 12,
   "metadata": {},
   "outputs": [
    {
     "name": "stdout",
     "output_type": "stream",
     "text": [
      "Wall time: 194 ms\n"
     ]
    }
   ],
   "source": [
    "%%time\n",
    "crossL2 = bopf.crossVL2()"
   ]
  },
  {
   "cell_type": "code",
   "execution_count": 13,
   "metadata": {},
   "outputs": [
    {
     "data": {
      "text/plain": [
       "(22, 0.6333333333333333)"
      ]
     },
     "execution_count": 13,
     "metadata": {},
     "output_type": "execute_result"
    }
   ],
   "source": [
    "bopf.best2_idx, bopf.best2_score"
   ]
  },
  {
   "cell_type": "code",
   "execution_count": 15,
   "metadata": {},
   "outputs": [],
   "source": [
    "bop_feature = bopf.crossL\n",
    "bop_fea_num = bopf.best_idx\n",
    "cv_acc = bopf.best_score\n",
    "bop_feature_index = bopf.sort_index[:bop_fea_num]\n",
    "bop_feature2 = bopf.crossL2\n",
    "bop_fea_num2 = bopf.best2_idx\n",
    "cv_acc2 = bopf.best2_score\n",
    "bop_feature_index2 = bopf.sort_index[:bop_fea_num2]"
   ]
  },
  {
   "cell_type": "code",
   "execution_count": 16,
   "metadata": {},
   "outputs": [],
   "source": [
    "bopf_test = BagOfPatternFeature()\n",
    "path_test = \"D:/tesis/UCRArchive_2018/Car/Car_TEST.tsv\"\n",
    "bopf_test.load_dataset(path_test, fmt=\"file\")"
   ]
  },
  {
   "cell_type": "code",
   "execution_count": 17,
   "metadata": {},
   "outputs": [],
   "source": [
    "bopf_test.cumsum()"
   ]
  },
  {
   "cell_type": "code",
   "execution_count": 18,
   "metadata": {},
   "outputs": [
    {
     "name": "stdout",
     "output_type": "stream",
     "text": [
      "Wall time: 1.22 s\n"
     ]
    }
   ],
   "source": [
    "%%time\n",
    "bopf_test.bop(7, 0.25)"
   ]
  },
  {
   "cell_type": "code",
   "execution_count": 19,
   "metadata": {},
   "outputs": [],
   "source": [
    "def sort_trim_arr(train_bop, sort_index, m, n):\n",
    "    train_bop_sort = np.zeros((n+1) * m)\n",
    "    idx = 0\n",
    "    for j in range(n):\n",
    "        k = sort_index[j]\n",
    "        for i in range(m):\n",
    "            train_bop_sort[idx] = train_bop[i + k * m]\n",
    "            idx  += 1\n",
    "    return train_bop_sort"
   ]
  },
  {
   "cell_type": "code",
   "execution_count": 20,
   "metadata": {},
   "outputs": [],
   "source": [
    "test_bop_sort = sort_trim_arr(bopf_test.train_bop, bop_feature_index, bopf_test.m, bop_fea_num)"
   ]
  },
  {
   "cell_type": "code",
   "execution_count": 21,
   "metadata": {},
   "outputs": [
    {
     "data": {
      "text/plain": [
       "1260"
      ]
     },
     "execution_count": 21,
     "metadata": {},
     "output_type": "execute_result"
    }
   ],
   "source": [
    "test_bop_sort.size"
   ]
  },
  {
   "cell_type": "code",
   "execution_count": 78,
   "metadata": {},
   "outputs": [],
   "source": [
    "def classify(test_bop, centroids, tlabel, mt, c, fea_num):\n",
    "    res = np.zeros(mt, dtype=int)\n",
    "    for i in range(mt):\n",
    "        rmin = np.inf\n",
    "        label = -1\n",
    "        for j in range(c):\n",
    "            r = 0.0\n",
    "            pm = 0\n",
    "            pv = 0\n",
    "            for k in range(fea_num):\n",
    "                pm += test_bop[i + (k)*mt]\n",
    "                pv += centroids[j + (k)*c]\n",
    "                d = pm - pv\n",
    "                r += d*d\n",
    "            \n",
    "#             pm = test_bop[i]\n",
    "#             pv = centroids[j]\n",
    "            \n",
    "            \n",
    "#             for k in range(fea_num):\n",
    "#                 d = pm - pv\n",
    "#                 pm += test_bop[i + (k+1)*mt]\n",
    "#                 pv += centroids[j+ (k+1)*c]\n",
    "#                 r += d*d\n",
    "            if r < rmin:\n",
    "                rmin = r\n",
    "                label = tlabel[j]\n",
    "        res[i] = label\n",
    "\n",
    "    return res\n",
    "\n",
    "def classify2(test_bop, tf_idfs, tlabel, mt, c, fea_num):\n",
    "    res = np.zeros(mt, dtype=int)\n",
    "    for i in range(mt):\n",
    "        rmin = np.inf\n",
    "        label = -1\n",
    "        for j in range(c):\n",
    "            r1 = 0.0\n",
    "            r2 = 0.0\n",
    "            r3 = 0.0\n",
    "            pm = 0\n",
    "            pv = 0\n",
    "            for k in range(fea_num):\n",
    "                pm += test_bop[i + k*mt]\n",
    "                pv += tf_idfs[j + (k)*c]\n",
    "                d = pm\n",
    "                if d > 0:\n",
    "                    d = 1 + np.log10(d)\n",
    "                r1 += d * pv\n",
    "                r2 += d*d\n",
    "                r3 += pv * pv\n",
    "            r = r1 * r1 / (r2 * r3)\n",
    "            if r > rmax:\n",
    "                rmax = r\n",
    "                label = tlabel[j]\n",
    "        res[i] = label\n",
    "    return res"
   ]
  },
  {
   "cell_type": "code",
   "execution_count": 23,
   "metadata": {},
   "outputs": [],
   "source": [
    "predicted_label = classify(test_bop_sort, bop_feature, bopf.tlabel, bopf_test.m, bopf.c, bop_fea_num)"
   ]
  },
  {
   "cell_type": "code",
   "execution_count": 24,
   "metadata": {},
   "outputs": [],
   "source": [
    "real_label = np.array(bopf_test.labels)"
   ]
  },
  {
   "cell_type": "code",
   "execution_count": 25,
   "metadata": {},
   "outputs": [
    {
     "name": "stdout",
     "output_type": "stream",
     "text": [
      "0.23333333333333334\n"
     ]
    }
   ],
   "source": [
    "count = 0\n",
    "for i in range(len(real_label)):\n",
    "    if predicted_label[i] == real_label[i]:\n",
    "        count += 1\n",
    "\n",
    "print(count / len(real_label))"
   ]
  },
  {
   "cell_type": "code",
   "execution_count": 26,
   "metadata": {},
   "outputs": [
    {
     "data": {
      "text/plain": [
       "array([2, 2, 2, 2, 2, 2, 2, 2, 2, 2, 2, 2, 2, 2, 2, 2, 2, 2, 2, 2, 2, 2,\n",
       "       2, 2, 2, 2, 2, 2, 2, 2, 2, 2, 2, 2, 2, 2, 2, 2, 2, 2, 2, 2, 2, 2,\n",
       "       2, 2, 2, 2, 2, 2, 2, 2, 2, 2, 2, 2, 2, 2, 2, 2])"
      ]
     },
     "execution_count": 26,
     "metadata": {},
     "output_type": "execute_result"
    }
   ],
   "source": [
    "predicted_label"
   ]
  },
  {
   "cell_type": "code",
   "execution_count": 27,
   "metadata": {},
   "outputs": [
    {
     "data": {
      "text/plain": [
       "array([4, 3, 2, 3, 4, 3, 4, 4, 2, 4, 1, 1, 1, 3, 4, 3, 3, 4, 2, 4, 2, 2,\n",
       "       3, 2, 3, 2, 3, 3, 1, 2, 4, 1, 4, 1, 4, 3, 1, 3, 1, 3, 2, 2, 3, 2,\n",
       "       2, 2, 3, 3, 1, 1, 4, 3, 1, 1, 2, 1, 1, 3, 3, 4])"
      ]
     },
     "execution_count": 27,
     "metadata": {},
     "output_type": "execute_result"
    }
   ],
   "source": [
    "real_label"
   ]
  },
  {
   "cell_type": "code",
   "execution_count": 2,
   "metadata": {},
   "outputs": [],
   "source": [
    "wd_arr = [3, 4, 5, 6, 7]\n",
    "wd_num = 5\n",
    "step = 0.05\n",
    "wl_arr = (np.arange(int(1/step))+1)*step\n",
    "wl_num = len(wl_arr)"
   ]
  },
  {
   "cell_type": "code",
   "execution_count": 3,
   "metadata": {},
   "outputs": [],
   "source": [
    "bopf = BagOfPatternFeature()\n",
    "path = \"D:/tesis/UCRArchive_2018/Car/Car_TRAIN.tsv\"\n",
    "bopf.load_dataset(path, fmt=\"file\")\n",
    "bopf.cumsum()"
   ]
  },
  {
   "cell_type": "code",
   "execution_count": 5,
   "metadata": {
    "scrolled": true
   },
   "outputs": [
    {
     "name": "stdout",
     "output_type": "stream",
     "text": [
      "TOTAL DE SEGMENTOS VACIOS:  0\n",
      "cross_vl_results for wl: 0.05 , wd: 3\n",
      ">>> centroid => best_fea_num: 19 , best_acc:  0.6333333333333333\n",
      ">>> tf-idf => best_fea_num: 19 , best_acc:  0.5833333333333334\n",
      "TOTAL DE SEGMENTOS VACIOS:  0\n",
      "cross_vl_results for wl: 0.1 , wd: 3\n",
      ">>> centroid => best_fea_num: 13 , best_acc:  0.7\n",
      ">>> tf-idf => best_fea_num: 22 , best_acc:  0.5\n"
     ]
    },
    {
     "name": "stderr",
     "output_type": "stream",
     "text": [
      "D:\\tesis\\tesis\\src\\bopf\\bopf.py:342: RuntimeWarning: invalid value encountered in double_scalars\n",
      "  r = r1*r1 / (r2*r3)\n"
     ]
    },
    {
     "name": "stdout",
     "output_type": "stream",
     "text": [
      "TOTAL DE SEGMENTOS VACIOS:  0\n",
      "cross_vl_results for wl: 0.15000000000000002 , wd: 3\n",
      ">>> centroid => best_fea_num: 23 , best_acc:  0.6833333333333333\n",
      ">>> tf-idf => best_fea_num: 5 , best_acc:  0.5666666666666667\n",
      "TOTAL DE SEGMENTOS VACIOS:  0\n",
      "cross_vl_results for wl: 0.2 , wd: 3\n",
      ">>> centroid => best_fea_num: 9 , best_acc:  0.5666666666666667\n",
      ">>> tf-idf => best_fea_num: 16 , best_acc:  0.5333333333333333\n",
      "TOTAL DE SEGMENTOS VACIOS:  0\n",
      "cross_vl_results for wl: 0.25 , wd: 3\n",
      ">>> centroid => best_fea_num: 1 , best_acc:  0.8833333333333333\n",
      ">>> tf-idf => best_fea_num: 11 , best_acc:  0.45\n",
      "TOTAL DE SEGMENTOS VACIOS:  0\n",
      "cross_vl_results for wl: 0.30000000000000004 , wd: 3\n",
      ">>> centroid => best_fea_num: 1 , best_acc:  0.38333333333333336\n",
      ">>> tf-idf => best_fea_num: 12 , best_acc:  0.38333333333333336\n",
      "TOTAL DE SEGMENTOS VACIOS:  0\n",
      "cross_vl_results for wl: 0.35000000000000003 , wd: 3\n",
      ">>> centroid => best_fea_num: 8 , best_acc:  0.5\n",
      ">>> tf-idf => best_fea_num: 2 , best_acc:  0.5\n",
      "TOTAL DE SEGMENTOS VACIOS:  0\n",
      "cross_vl_results for wl: 0.4 , wd: 3\n",
      ">>> centroid => best_fea_num: 11 , best_acc:  0.5166666666666667\n",
      ">>> tf-idf => best_fea_num: 4 , best_acc:  0.6\n",
      "TOTAL DE SEGMENTOS VACIOS:  0\n",
      "cross_vl_results for wl: 0.45 , wd: 3\n",
      ">>> centroid => best_fea_num: 14 , best_acc:  0.55\n",
      ">>> tf-idf => best_fea_num: 5 , best_acc:  0.5\n",
      "TOTAL DE SEGMENTOS VACIOS:  0\n",
      "cross_vl_results for wl: 0.5 , wd: 3\n",
      ">>> centroid => best_fea_num: 2 , best_acc:  0.6\n",
      ">>> tf-idf => best_fea_num: 10 , best_acc:  0.4666666666666667\n",
      "TOTAL DE SEGMENTOS VACIOS:  0\n",
      "cross_vl_results for wl: 0.55 , wd: 3\n",
      ">>> centroid => best_fea_num: 1 , best_acc:  0.3\n",
      ">>> tf-idf => best_fea_num: 18 , best_acc:  0.36666666666666664\n",
      "TOTAL DE SEGMENTOS VACIOS:  0\n",
      "cross_vl_results for wl: 0.6000000000000001 , wd: 3\n",
      ">>> centroid => best_fea_num: 7 , best_acc:  0.65\n",
      ">>> tf-idf => best_fea_num: 8 , best_acc:  0.5833333333333334\n",
      "TOTAL DE SEGMENTOS VACIOS:  0\n",
      "cross_vl_results for wl: 0.65 , wd: 3\n",
      ">>> centroid => best_fea_num: 20 , best_acc:  0.6166666666666667\n",
      ">>> tf-idf => best_fea_num: 13 , best_acc:  0.6333333333333333\n",
      "TOTAL DE SEGMENTOS VACIOS:  0\n",
      "cross_vl_results for wl: 0.7000000000000001 , wd: 3\n",
      ">>> centroid => best_fea_num: 4 , best_acc:  0.6\n",
      ">>> tf-idf => best_fea_num: 3 , best_acc:  0.6\n",
      "TOTAL DE SEGMENTOS VACIOS:  0\n",
      "cross_vl_results for wl: 0.75 , wd: 3\n",
      ">>> centroid => best_fea_num: 2 , best_acc:  0.4666666666666667\n",
      ">>> tf-idf => best_fea_num: 5 , best_acc:  0.48333333333333334\n",
      "TOTAL DE SEGMENTOS VACIOS:  0\n",
      "cross_vl_results for wl: 0.8 , wd: 3\n",
      ">>> centroid => best_fea_num: 6 , best_acc:  0.5833333333333334\n",
      ">>> tf-idf => best_fea_num: 5 , best_acc:  0.5166666666666667\n",
      "TOTAL DE SEGMENTOS VACIOS:  0\n",
      "cross_vl_results for wl: 0.8500000000000001 , wd: 3\n",
      ">>> centroid => best_fea_num: 2 , best_acc:  0.6166666666666667\n",
      ">>> tf-idf => best_fea_num: 3 , best_acc:  0.6166666666666667\n",
      "TOTAL DE SEGMENTOS VACIOS:  0\n",
      "cross_vl_results for wl: 0.9 , wd: 3\n",
      ">>> centroid => best_fea_num: 4 , best_acc:  0.5666666666666667\n",
      ">>> tf-idf => best_fea_num: 8 , best_acc:  0.5166666666666667\n",
      "TOTAL DE SEGMENTOS VACIOS:  0\n",
      "cross_vl_results for wl: 0.9500000000000001 , wd: 3\n",
      ">>> centroid => best_fea_num: 5 , best_acc:  0.4166666666666667\n",
      ">>> tf-idf => best_fea_num: 6 , best_acc:  0.4166666666666667\n",
      "TOTAL DE SEGMENTOS VACIOS:  0\n",
      "cross_vl_results for wl: 1.0 , wd: 3\n",
      ">>> centroid => best_fea_num: 3 , best_acc:  0.08333333333333333\n",
      ">>> tf-idf => best_fea_num: 3 , best_acc:  0.35\n",
      "TOTAL DE SEGMENTOS VACIOS:  0\n",
      "cross_vl_results for wl: 0.05 , wd: 4\n",
      ">>> centroid => best_fea_num: 73 , best_acc:  0.6166666666666667\n",
      ">>> tf-idf => best_fea_num: 83 , best_acc:  0.65\n",
      "TOTAL DE SEGMENTOS VACIOS:  0\n",
      "cross_vl_results for wl: 0.1 , wd: 4\n",
      ">>> centroid => best_fea_num: 62 , best_acc:  0.65\n",
      ">>> tf-idf => best_fea_num: 42 , best_acc:  0.6166666666666667\n",
      "TOTAL DE SEGMENTOS VACIOS:  0\n",
      "cross_vl_results for wl: 0.15000000000000002 , wd: 4\n",
      ">>> centroid => best_fea_num: 28 , best_acc:  0.75\n",
      ">>> tf-idf => best_fea_num: 28 , best_acc:  0.55\n",
      "TOTAL DE SEGMENTOS VACIOS:  0\n",
      "cross_vl_results for wl: 0.2 , wd: 4\n",
      ">>> centroid => best_fea_num: 5 , best_acc:  0.75\n",
      ">>> tf-idf => best_fea_num: 11 , best_acc:  0.6833333333333333\n",
      "TOTAL DE SEGMENTOS VACIOS:  0\n",
      "cross_vl_results for wl: 0.25 , wd: 4\n",
      ">>> centroid => best_fea_num: 21 , best_acc:  0.8\n",
      ">>> tf-idf => best_fea_num: 13 , best_acc:  0.6833333333333333\n",
      "TOTAL DE SEGMENTOS VACIOS:  0\n",
      "cross_vl_results for wl: 0.30000000000000004 , wd: 4\n",
      ">>> centroid => best_fea_num: 22 , best_acc:  0.8333333333333334\n",
      ">>> tf-idf => best_fea_num: 3 , best_acc:  0.5833333333333334\n",
      "TOTAL DE SEGMENTOS VACIOS:  0\n",
      "cross_vl_results for wl: 0.35000000000000003 , wd: 4\n",
      ">>> centroid => best_fea_num: 31 , best_acc:  0.7333333333333333\n",
      ">>> tf-idf => best_fea_num: 19 , best_acc:  0.6166666666666667\n",
      "TOTAL DE SEGMENTOS VACIOS:  0\n",
      "cross_vl_results for wl: 0.4 , wd: 4\n",
      ">>> centroid => best_fea_num: 47 , best_acc:  0.6833333333333333\n",
      ">>> tf-idf => best_fea_num: 28 , best_acc:  0.65\n",
      "TOTAL DE SEGMENTOS VACIOS:  0\n",
      "cross_vl_results for wl: 0.45 , wd: 4\n",
      ">>> centroid => best_fea_num: 12 , best_acc:  0.7666666666666667\n",
      ">>> tf-idf => best_fea_num: 11 , best_acc:  0.7666666666666667\n",
      "TOTAL DE SEGMENTOS VACIOS:  0\n",
      "cross_vl_results for wl: 0.5 , wd: 4\n",
      ">>> centroid => best_fea_num: 32 , best_acc:  0.7333333333333333\n",
      ">>> tf-idf => best_fea_num: 53 , best_acc:  0.7\n",
      "TOTAL DE SEGMENTOS VACIOS:  0\n",
      "cross_vl_results for wl: 0.55 , wd: 4\n",
      ">>> centroid => best_fea_num: 12 , best_acc:  0.75\n",
      ">>> tf-idf => best_fea_num: 30 , best_acc:  0.6666666666666666\n",
      "TOTAL DE SEGMENTOS VACIOS:  0\n",
      "cross_vl_results for wl: 0.6000000000000001 , wd: 4\n",
      ">>> centroid => best_fea_num: 11 , best_acc:  0.65\n",
      ">>> tf-idf => best_fea_num: 25 , best_acc:  0.7\n",
      "TOTAL DE SEGMENTOS VACIOS:  0\n",
      "cross_vl_results for wl: 0.65 , wd: 4\n",
      ">>> centroid => best_fea_num: 13 , best_acc:  0.7666666666666667\n",
      ">>> tf-idf => best_fea_num: 9 , best_acc:  0.7166666666666667\n",
      "TOTAL DE SEGMENTOS VACIOS:  0\n",
      "cross_vl_results for wl: 0.7000000000000001 , wd: 4\n",
      ">>> centroid => best_fea_num: 17 , best_acc:  0.65\n",
      ">>> tf-idf => best_fea_num: 6 , best_acc:  0.6166666666666667\n",
      "TOTAL DE SEGMENTOS VACIOS:  0\n",
      "cross_vl_results for wl: 0.75 , wd: 4\n",
      ">>> centroid => best_fea_num: 12 , best_acc:  0.6833333333333333\n",
      ">>> tf-idf => best_fea_num: 8 , best_acc:  0.6333333333333333\n",
      "TOTAL DE SEGMENTOS VACIOS:  0\n",
      "cross_vl_results for wl: 0.8 , wd: 4\n",
      ">>> centroid => best_fea_num: 13 , best_acc:  0.75\n",
      ">>> tf-idf => best_fea_num: 7 , best_acc:  0.6333333333333333\n",
      "TOTAL DE SEGMENTOS VACIOS:  0\n",
      "cross_vl_results for wl: 0.8500000000000001 , wd: 4\n",
      ">>> centroid => best_fea_num: 11 , best_acc:  0.7\n",
      ">>> tf-idf => best_fea_num: 13 , best_acc:  0.65\n",
      "TOTAL DE SEGMENTOS VACIOS:  0\n",
      "cross_vl_results for wl: 0.9 , wd: 4\n",
      ">>> centroid => best_fea_num: 12 , best_acc:  0.8166666666666667\n",
      ">>> tf-idf => best_fea_num: 23 , best_acc:  0.7333333333333333\n",
      "TOTAL DE SEGMENTOS VACIOS:  0\n",
      "cross_vl_results for wl: 0.9500000000000001 , wd: 4\n",
      ">>> centroid => best_fea_num: 7 , best_acc:  0.6333333333333333\n",
      ">>> tf-idf => best_fea_num: 15 , best_acc:  0.6333333333333333\n",
      "TOTAL DE SEGMENTOS VACIOS:  0\n",
      "cross_vl_results for wl: 1.0 , wd: 4\n",
      ">>> centroid => best_fea_num: 10 , best_acc:  0.45\n",
      ">>> tf-idf => best_fea_num: 10 , best_acc:  0.5\n",
      "TOTAL DE SEGMENTOS VACIOS:  0\n",
      "cross_vl_results for wl: 0.05 , wd: 5\n",
      ">>> centroid => best_fea_num: 241 , best_acc:  0.7\n",
      ">>> tf-idf => best_fea_num: 199 , best_acc:  0.8333333333333334\n",
      "TOTAL DE SEGMENTOS VACIOS:  0\n",
      "cross_vl_results for wl: 0.1 , wd: 5\n",
      ">>> centroid => best_fea_num: 72 , best_acc:  0.7833333333333333\n",
      ">>> tf-idf => best_fea_num: 223 , best_acc:  0.6666666666666666\n",
      "TOTAL DE SEGMENTOS VACIOS:  0\n",
      "cross_vl_results for wl: 0.15000000000000002 , wd: 5\n",
      ">>> centroid => best_fea_num: 150 , best_acc:  0.7833333333333333\n",
      ">>> tf-idf => best_fea_num: 13 , best_acc:  0.6333333333333333\n",
      "TOTAL DE SEGMENTOS VACIOS:  0\n",
      "cross_vl_results for wl: 0.2 , wd: 5\n",
      ">>> centroid => best_fea_num: 31 , best_acc:  0.7833333333333333\n",
      ">>> tf-idf => best_fea_num: 3 , best_acc:  0.6166666666666667\n",
      "TOTAL DE SEGMENTOS VACIOS:  0\n",
      "cross_vl_results for wl: 0.25 , wd: 5\n",
      ">>> centroid => best_fea_num: 20 , best_acc:  0.85\n",
      ">>> tf-idf => best_fea_num: 22 , best_acc:  0.6333333333333333\n",
      "TOTAL DE SEGMENTOS VACIOS:  0\n",
      "cross_vl_results for wl: 0.30000000000000004 , wd: 5\n",
      ">>> centroid => best_fea_num: 69 , best_acc:  0.75\n",
      ">>> tf-idf => best_fea_num: 2 , best_acc:  0.6333333333333333\n",
      "TOTAL DE SEGMENTOS VACIOS:  0\n",
      "cross_vl_results for wl: 0.35000000000000003 , wd: 5\n",
      ">>> centroid => best_fea_num: 36 , best_acc:  0.8\n",
      ">>> tf-idf => best_fea_num: 14 , best_acc:  0.6666666666666666\n",
      "TOTAL DE SEGMENTOS VACIOS:  0\n",
      "cross_vl_results for wl: 0.4 , wd: 5\n",
      ">>> centroid => best_fea_num: 8 , best_acc:  0.8\n",
      ">>> tf-idf => best_fea_num: 15 , best_acc:  0.8333333333333334\n",
      "TOTAL DE SEGMENTOS VACIOS:  0\n",
      "cross_vl_results for wl: 0.45 , wd: 5\n",
      ">>> centroid => best_fea_num: 25 , best_acc:  0.8333333333333334\n",
      ">>> tf-idf => best_fea_num: 19 , best_acc:  0.8\n",
      "TOTAL DE SEGMENTOS VACIOS:  0\n",
      "cross_vl_results for wl: 0.5 , wd: 5\n",
      ">>> centroid => best_fea_num: 37 , best_acc:  0.7833333333333333\n",
      ">>> tf-idf => best_fea_num: 104 , best_acc:  0.7\n",
      "TOTAL DE SEGMENTOS VACIOS:  0\n",
      "cross_vl_results for wl: 0.55 , wd: 5\n",
      ">>> centroid => best_fea_num: 69 , best_acc:  0.75\n",
      ">>> tf-idf => best_fea_num: 26 , best_acc:  0.75\n",
      "TOTAL DE SEGMENTOS VACIOS:  0\n",
      "cross_vl_results for wl: 0.6000000000000001 , wd: 5\n",
      ">>> centroid => best_fea_num: 22 , best_acc:  0.7833333333333333\n",
      ">>> tf-idf => best_fea_num: 29 , best_acc:  0.7666666666666667\n",
      "TOTAL DE SEGMENTOS VACIOS:  0\n",
      "cross_vl_results for wl: 0.65 , wd: 5\n",
      ">>> centroid => best_fea_num: 67 , best_acc:  0.8\n",
      ">>> tf-idf => best_fea_num: 22 , best_acc:  0.8166666666666667\n",
      "TOTAL DE SEGMENTOS VACIOS:  0\n",
      "cross_vl_results for wl: 0.7000000000000001 , wd: 5\n",
      ">>> centroid => best_fea_num: 12 , best_acc:  0.7833333333333333\n",
      ">>> tf-idf => best_fea_num: 22 , best_acc:  0.7833333333333333\n",
      "TOTAL DE SEGMENTOS VACIOS:  0\n",
      "cross_vl_results for wl: 0.75 , wd: 5\n",
      ">>> centroid => best_fea_num: 14 , best_acc:  0.8166666666666667\n",
      ">>> tf-idf => best_fea_num: 15 , best_acc:  0.7666666666666667\n",
      "TOTAL DE SEGMENTOS VACIOS:  0\n",
      "cross_vl_results for wl: 0.8 , wd: 5\n",
      ">>> centroid => best_fea_num: 7 , best_acc:  0.7333333333333333\n",
      ">>> tf-idf => best_fea_num: 37 , best_acc:  0.6833333333333333\n",
      "TOTAL DE SEGMENTOS VACIOS:  0\n",
      "cross_vl_results for wl: 0.8500000000000001 , wd: 5\n",
      ">>> centroid => best_fea_num: 29 , best_acc:  0.6833333333333333\n",
      ">>> tf-idf => best_fea_num: 28 , best_acc:  0.6833333333333333\n",
      "TOTAL DE SEGMENTOS VACIOS:  0\n",
      "cross_vl_results for wl: 0.9 , wd: 5\n",
      ">>> centroid => best_fea_num: 33 , best_acc:  0.6833333333333333\n",
      ">>> tf-idf => best_fea_num: 31 , best_acc:  0.7166666666666667\n",
      "TOTAL DE SEGMENTOS VACIOS:  0\n",
      "cross_vl_results for wl: 0.9500000000000001 , wd: 5\n",
      ">>> centroid => best_fea_num: 9 , best_acc:  0.7\n",
      ">>> tf-idf => best_fea_num: 27 , best_acc:  0.7\n",
      "TOTAL DE SEGMENTOS VACIOS:  0\n",
      "cross_vl_results for wl: 1.0 , wd: 5\n",
      ">>> centroid => best_fea_num: 7 , best_acc:  0.6\n",
      ">>> tf-idf => best_fea_num: 13 , best_acc:  0.65\n",
      "TOTAL DE SEGMENTOS VACIOS:  0\n",
      "cross_vl_results for wl: 0.05 , wd: 6\n",
      ">>> centroid => best_fea_num: 63 , best_acc:  0.7833333333333333\n",
      ">>> tf-idf => best_fea_num: 634 , best_acc:  1.0\n",
      "TOTAL DE SEGMENTOS VACIOS:  0\n",
      "cross_vl_results for wl: 0.1 , wd: 6\n",
      ">>> centroid => best_fea_num: 236 , best_acc:  0.8333333333333334\n",
      ">>> tf-idf => best_fea_num: 490 , best_acc:  0.9\n",
      "TOTAL DE SEGMENTOS VACIOS:  0\n",
      "cross_vl_results for wl: 0.15000000000000002 , wd: 6\n",
      ">>> centroid => best_fea_num: 36 , best_acc:  0.85\n",
      ">>> tf-idf => best_fea_num: 377 , best_acc:  0.7166666666666667\n",
      "TOTAL DE SEGMENTOS VACIOS:  0\n",
      "cross_vl_results for wl: 0.2 , wd: 6\n",
      ">>> centroid => best_fea_num: 70 , best_acc:  0.8333333333333334\n",
      ">>> tf-idf => best_fea_num: 139 , best_acc:  0.6666666666666666\n",
      "TOTAL DE SEGMENTOS VACIOS:  0\n",
      "cross_vl_results for wl: 0.25 , wd: 6\n",
      ">>> centroid => best_fea_num: 32 , best_acc:  0.8666666666666667\n",
      ">>> tf-idf => best_fea_num: 34 , best_acc:  0.7\n",
      "TOTAL DE SEGMENTOS VACIOS:  0\n",
      "cross_vl_results for wl: 0.30000000000000004 , wd: 6\n",
      ">>> centroid => best_fea_num: 93 , best_acc:  0.8666666666666667\n",
      ">>> tf-idf => best_fea_num: 80 , best_acc:  0.7166666666666667\n",
      "TOTAL DE SEGMENTOS VACIOS:  0\n",
      "cross_vl_results for wl: 0.35000000000000003 , wd: 6\n",
      ">>> centroid => best_fea_num: 79 , best_acc:  0.8333333333333334\n",
      ">>> tf-idf => best_fea_num: 33 , best_acc:  0.7833333333333333\n",
      "TOTAL DE SEGMENTOS VACIOS:  0\n",
      "cross_vl_results for wl: 0.4 , wd: 6\n",
      ">>> centroid => best_fea_num: 45 , best_acc:  0.8333333333333334\n",
      ">>> tf-idf => best_fea_num: 24 , best_acc:  0.75\n",
      "TOTAL DE SEGMENTOS VACIOS:  0\n",
      "cross_vl_results for wl: 0.45 , wd: 6\n",
      ">>> centroid => best_fea_num: 8 , best_acc:  0.8333333333333334\n",
      ">>> tf-idf => best_fea_num: 175 , best_acc:  0.7666666666666667\n",
      "TOTAL DE SEGMENTOS VACIOS:  0\n",
      "cross_vl_results for wl: 0.5 , wd: 6\n",
      ">>> centroid => best_fea_num: 32 , best_acc:  0.9\n",
      ">>> tf-idf => best_fea_num: 53 , best_acc:  0.9\n",
      "TOTAL DE SEGMENTOS VACIOS:  0\n",
      "cross_vl_results for wl: 0.55 , wd: 6\n",
      ">>> centroid => best_fea_num: 20 , best_acc:  0.8166666666666667\n",
      ">>> tf-idf => best_fea_num: 36 , best_acc:  0.8333333333333334\n",
      "TOTAL DE SEGMENTOS VACIOS:  0\n",
      "cross_vl_results for wl: 0.6000000000000001 , wd: 6\n",
      ">>> centroid => best_fea_num: 58 , best_acc:  0.85\n",
      ">>> tf-idf => best_fea_num: 60 , best_acc:  0.8666666666666667\n",
      "TOTAL DE SEGMENTOS VACIOS:  0\n",
      "cross_vl_results for wl: 0.65 , wd: 6\n",
      ">>> centroid => best_fea_num: 143 , best_acc:  0.85\n",
      ">>> tf-idf => best_fea_num: 60 , best_acc:  0.8333333333333334\n",
      "TOTAL DE SEGMENTOS VACIOS:  0\n",
      "cross_vl_results for wl: 0.7000000000000001 , wd: 6\n",
      ">>> centroid => best_fea_num: 45 , best_acc:  0.8\n",
      ">>> tf-idf => best_fea_num: 41 , best_acc:  0.8833333333333333\n",
      "TOTAL DE SEGMENTOS VACIOS:  0\n",
      "cross_vl_results for wl: 0.75 , wd: 6\n",
      ">>> centroid => best_fea_num: 29 , best_acc:  0.7833333333333333\n",
      ">>> tf-idf => best_fea_num: 23 , best_acc:  0.8166666666666667\n",
      "TOTAL DE SEGMENTOS VACIOS:  0\n",
      "cross_vl_results for wl: 0.8 , wd: 6\n",
      ">>> centroid => best_fea_num: 16 , best_acc:  0.8\n",
      ">>> tf-idf => best_fea_num: 87 , best_acc:  0.8333333333333334\n",
      "TOTAL DE SEGMENTOS VACIOS:  0\n",
      "cross_vl_results for wl: 0.8500000000000001 , wd: 6\n",
      ">>> centroid => best_fea_num: 21 , best_acc:  0.8\n",
      ">>> tf-idf => best_fea_num: 60 , best_acc:  0.7666666666666667\n",
      "TOTAL DE SEGMENTOS VACIOS:  0\n",
      "cross_vl_results for wl: 0.9 , wd: 6\n",
      ">>> centroid => best_fea_num: 8 , best_acc:  0.7166666666666667\n",
      ">>> tf-idf => best_fea_num: 23 , best_acc:  0.8166666666666667\n",
      "TOTAL DE SEGMENTOS VACIOS:  0\n",
      "cross_vl_results for wl: 0.9500000000000001 , wd: 6\n",
      ">>> centroid => best_fea_num: 8 , best_acc:  0.5666666666666667\n",
      ">>> tf-idf => best_fea_num: 28 , best_acc:  0.7\n",
      "TOTAL DE SEGMENTOS VACIOS:  0\n",
      "cross_vl_results for wl: 1.0 , wd: 6\n",
      ">>> centroid => best_fea_num: 14 , best_acc:  0.6\n",
      ">>> tf-idf => best_fea_num: 14 , best_acc:  0.6333333333333333\n",
      "TOTAL DE SEGMENTOS VACIOS:  0\n",
      "cross_vl_results for wl: 0.05 , wd: 7\n",
      ">>> centroid => best_fea_num: 396 , best_acc:  0.75\n",
      ">>> tf-idf => best_fea_num: 1215 , best_acc:  1.0\n",
      "TOTAL DE SEGMENTOS VACIOS:  0\n",
      "cross_vl_results for wl: 0.1 , wd: 7\n",
      ">>> centroid => best_fea_num: 177 , best_acc:  0.7833333333333333\n",
      ">>> tf-idf => best_fea_num: 919 , best_acc:  0.9666666666666667\n",
      "TOTAL DE SEGMENTOS VACIOS:  0\n",
      "cross_vl_results for wl: 0.15000000000000002 , wd: 7\n",
      ">>> centroid => best_fea_num: 124 , best_acc:  0.8333333333333334\n",
      ">>> tf-idf => best_fea_num: 535 , best_acc:  0.75\n",
      "TOTAL DE SEGMENTOS VACIOS:  0\n",
      "cross_vl_results for wl: 0.2 , wd: 7\n",
      ">>> centroid => best_fea_num: 21 , best_acc:  0.9333333333333333\n",
      ">>> tf-idf => best_fea_num: 21 , best_acc:  0.6833333333333333\n",
      "TOTAL DE SEGMENTOS VACIOS:  0\n",
      "cross_vl_results for wl: 0.25 , wd: 7\n",
      ">>> centroid => best_fea_num: 16 , best_acc:  0.9333333333333333\n",
      ">>> tf-idf => best_fea_num: 31 , best_acc:  0.75\n",
      "TOTAL DE SEGMENTOS VACIOS:  0\n",
      "cross_vl_results for wl: 0.30000000000000004 , wd: 7\n",
      ">>> centroid => best_fea_num: 21 , best_acc:  0.9166666666666666\n",
      ">>> tf-idf => best_fea_num: 84 , best_acc:  0.8666666666666667\n",
      "TOTAL DE SEGMENTOS VACIOS:  0\n",
      "cross_vl_results for wl: 0.35000000000000003 , wd: 7\n",
      ">>> centroid => best_fea_num: 287 , best_acc:  0.8666666666666667\n",
      ">>> tf-idf => best_fea_num: 36 , best_acc:  0.8\n",
      "TOTAL DE SEGMENTOS VACIOS:  0\n",
      "cross_vl_results for wl: 0.4 , wd: 7\n",
      ">>> centroid => best_fea_num: 27 , best_acc:  0.85\n",
      ">>> tf-idf => best_fea_num: 222 , best_acc:  0.8\n",
      "TOTAL DE SEGMENTOS VACIOS:  0\n",
      "cross_vl_results for wl: 0.45 , wd: 7\n",
      ">>> centroid => best_fea_num: 45 , best_acc:  0.85\n",
      ">>> tf-idf => best_fea_num: 28 , best_acc:  0.8333333333333334\n"
     ]
    },
    {
     "name": "stdout",
     "output_type": "stream",
     "text": [
      "TOTAL DE SEGMENTOS VACIOS:  0\n",
      "cross_vl_results for wl: 0.5 , wd: 7\n",
      ">>> centroid => best_fea_num: 24 , best_acc:  0.9\n",
      ">>> tf-idf => best_fea_num: 10 , best_acc:  0.85\n",
      "TOTAL DE SEGMENTOS VACIOS:  0\n",
      "cross_vl_results for wl: 0.55 , wd: 7\n",
      ">>> centroid => best_fea_num: 42 , best_acc:  0.8833333333333333\n",
      ">>> tf-idf => best_fea_num: 87 , best_acc:  0.85\n",
      "TOTAL DE SEGMENTOS VACIOS:  0\n",
      "cross_vl_results for wl: 0.6000000000000001 , wd: 7\n",
      ">>> centroid => best_fea_num: 90 , best_acc:  0.8166666666666667\n",
      ">>> tf-idf => best_fea_num: 57 , best_acc:  0.8333333333333334\n",
      "TOTAL DE SEGMENTOS VACIOS:  0\n",
      "cross_vl_results for wl: 0.65 , wd: 7\n",
      ">>> centroid => best_fea_num: 159 , best_acc:  0.8666666666666667\n",
      ">>> tf-idf => best_fea_num: 98 , best_acc:  0.9333333333333333\n",
      "TOTAL DE SEGMENTOS VACIOS:  0\n",
      "cross_vl_results for wl: 0.7000000000000001 , wd: 7\n",
      ">>> centroid => best_fea_num: 40 , best_acc:  0.8166666666666667\n",
      ">>> tf-idf => best_fea_num: 43 , best_acc:  0.8666666666666667\n",
      "TOTAL DE SEGMENTOS VACIOS:  0\n",
      "cross_vl_results for wl: 0.75 , wd: 7\n",
      ">>> centroid => best_fea_num: 24 , best_acc:  0.85\n",
      ">>> tf-idf => best_fea_num: 29 , best_acc:  0.9166666666666666\n",
      "TOTAL DE SEGMENTOS VACIOS:  0\n",
      "cross_vl_results for wl: 0.8 , wd: 7\n",
      ">>> centroid => best_fea_num: 21 , best_acc:  0.7666666666666667\n",
      ">>> tf-idf => best_fea_num: 102 , best_acc:  0.8166666666666667\n",
      "TOTAL DE SEGMENTOS VACIOS:  0\n",
      "cross_vl_results for wl: 0.8500000000000001 , wd: 7\n",
      ">>> centroid => best_fea_num: 88 , best_acc:  0.85\n",
      ">>> tf-idf => best_fea_num: 87 , best_acc:  0.8666666666666667\n",
      "TOTAL DE SEGMENTOS VACIOS:  0\n",
      "cross_vl_results for wl: 0.9 , wd: 7\n",
      ">>> centroid => best_fea_num: 4 , best_acc:  0.7833333333333333\n",
      ">>> tf-idf => best_fea_num: 71 , best_acc:  0.85\n",
      "TOTAL DE SEGMENTOS VACIOS:  0\n",
      "cross_vl_results for wl: 0.9500000000000001 , wd: 7\n",
      ">>> centroid => best_fea_num: 22 , best_acc:  0.7833333333333333\n",
      ">>> tf-idf => best_fea_num: 41 , best_acc:  0.85\n",
      "TOTAL DE SEGMENTOS VACIOS:  0\n",
      "cross_vl_results for wl: 1.0 , wd: 7\n",
      ">>> centroid => best_fea_num: 10 , best_acc:  0.4166666666666667\n",
      ">>> tf-idf => best_fea_num: 18 , best_acc:  0.5833333333333334\n",
      "Wall time: 7min 34s\n"
     ]
    }
   ],
   "source": [
    "%%time\n",
    "bop_features = []\n",
    "bop_fea_num = []\n",
    "bop_cv_acc = []\n",
    "bop_feature_index = []\n",
    "\n",
    "bop_features2 = []\n",
    "bop_fea_num2 = []\n",
    "bop_cv_acc2 = []\n",
    "bop_feature_index2 = []\n",
    "\n",
    "bop_wd = []\n",
    "bop_wl = []\n",
    "for i in range(wd_num):\n",
    "    wd = wd_arr[i]\n",
    "    for j in range(wl_num):\n",
    "        wl = wl_arr[j]\n",
    "        bopf.bop(wd, wl)\n",
    "        bopf.adjust_label_set()\n",
    "        bopf.anova()\n",
    "        bopf.anova_sort()\n",
    "        bopf.sort_trim_arr()\n",
    "        bopf.crossVL()\n",
    "        \n",
    "        bop_features.append(bopf.crossL[:bopf.c*bopf.best_idx])\n",
    "        bop_fea_num.append(bopf.best_idx)\n",
    "        bop_cv_acc.append(bopf.best_score)\n",
    "        bop_feature_index.append(bopf.sort_index[:bopf.best_idx])\n",
    "        \n",
    "        bopf.crossVL2()\n",
    "        bop_features2.append(bopf.crossL2[:bopf.c*bopf.best2_idx])\n",
    "        bop_fea_num2.append(bopf.best2_idx)\n",
    "        bop_cv_acc2.append(bopf.best2_score)\n",
    "        bop_feature_index2.append(bopf.sort_index[:bopf.best2_idx])\n",
    "        \n",
    "        bop_wd.append(wd)\n",
    "        bop_wl.append(wl)\n",
    "        print(\"cross_vl_results for wl:\", wl, \", wd:\", wd)\n",
    "        print(\">>> centroid => best_fea_num:\", bopf.best_idx, \", best_acc: \", bopf.best_score)\n",
    "        print(\">>> tf-idf => best_fea_num:\", bopf.best2_idx, \", best_acc: \", bopf.best2_score)"
   ]
  },
  {
   "cell_type": "code",
   "execution_count": 63,
   "metadata": {},
   "outputs": [
    {
     "name": "stdout",
     "output_type": "stream",
     "text": [
      "0.9333333333333333 7 0.2\n",
      "0.9333333333333333 7 0.25\n",
      "0.9166666666666666 7 0.30000000000000004\n",
      "0.9 6 0.5\n",
      "0.9 7 0.5\n",
      "0.8833333333333333 3 0.25\n",
      "0.8833333333333333 7 0.55\n",
      "0.8666666666666667 7 0.35000000000000003\n",
      "0.8666666666666667 6 0.30000000000000004\n",
      "0.8666666666666667 6 0.25\n"
     ]
    }
   ],
   "source": [
    "index = np.argsort(bop_cv_acc)[::-1]\n",
    "top_n = 10\n",
    "\n",
    "avg_acc_sum = 0\n",
    "for i in range(top_n):\n",
    "    avg_acc_sum += bop_cv_acc[index[i]]\n",
    "    print(bop_cv_acc[index[i]], bop_wd[index[i]], bop_wl[index[i]])\n",
    "\n",
    "avg_acc = avg_acc_sum / top_n"
   ]
  },
  {
   "cell_type": "code",
   "execution_count": 64,
   "metadata": {},
   "outputs": [
    {
     "data": {
      "text/plain": [
       "0.8950000000000001"
      ]
     },
     "execution_count": 64,
     "metadata": {},
     "output_type": "execute_result"
    }
   ],
   "source": [
    "avg_acc"
   ]
  },
  {
   "cell_type": "code",
   "execution_count": 67,
   "metadata": {},
   "outputs": [],
   "source": [
    "bopf_t = BagOfPatternFeature()\n",
    "path_t = \"D:/tesis/UCRArchive_2018/Car/Car_TEST.tsv\"\n",
    "bopf_t.load_dataset(path, fmt=\"file\")\n",
    "bopf_t.cumsum()"
   ]
  },
  {
   "cell_type": "code",
   "execution_count": 79,
   "metadata": {},
   "outputs": [
    {
     "name": "stdout",
     "output_type": "stream",
     "text": [
      "0.6\n",
      "0.7666666666666667\n",
      "0.7166666666666667\n",
      "0.7\n",
      "0.75\n",
      "0.38333333333333336\n",
      "0.7666666666666667\n",
      "0.43333333333333335\n",
      "0.5333333333333333\n",
      "0.6333333333333333\n"
     ]
    }
   ],
   "source": [
    "for i in range(top_n):\n",
    "    s_index = index[i]\n",
    "    wd = bop_wd[s_index]\n",
    "    wl = bop_wl[s_index]\n",
    "    bopf_t.bop(wd, wl)\n",
    "    test_bop_sort = sort_trim_arr(bopf_t.train_bop, bop_feature_index[s_index], \n",
    "                                  bopf_t.m, bop_fea_num[s_index])\n",
    "    predicted_label = classify(test_bop_sort, bop_features[s_index], bopf.tlabel, \n",
    "                               bopf_t.m, bopf.c, bop_fea_num[s_index])\n",
    "    real_label = np.array(bopf_t.labels)\n",
    "    count = 0\n",
    "    for i in range(len(real_label)):\n",
    "        if predicted_label[i] == real_label[i]:\n",
    "            count += 1\n",
    "\n",
    "    print(count / len(real_label))"
   ]
  },
  {
   "cell_type": "code",
   "execution_count": 55,
   "metadata": {},
   "outputs": [],
   "source": [
    "for i in range(top_n):\n",
    "    s_index = index2[i]\n",
    "    wd = bop_wd[s_index]\n",
    "    wl = bop_wl[s_index]\n",
    "    bopf_t.bop(wd, wl)\n",
    "    test_bop_sort = sort_trim_arr(bopf_t.train_bop, bop_feature_index2[s_index], \n",
    "                                  bopf_t.m, bop_fea_num2[s_index])\n",
    "    predicted_label = classify2(test_bop_sort, bop_features2[s_index], bopf.tlabel, \n",
    "                               bopf_t.m, bopf.c, bop_fea_num2[s_index])\n",
    "    real_label = np.array(bopf_t.labels)\n",
    "    count = 0\n",
    "    for i in range(len(real_label)):\n",
    "        if predicted_label[i] == real_label[i]:\n",
    "            count += 1\n",
    "\n",
    "    print(count / len(real_label))"
   ]
  },
  {
   "cell_type": "code",
   "execution_count": 60,
   "metadata": {},
   "outputs": [
    {
     "data": {
      "text/plain": [
       "1.75"
      ]
     },
     "execution_count": 60,
     "metadata": {},
     "output_type": "execute_result"
    }
   ],
   "source": []
  },
  {
   "cell_type": "code",
   "execution_count": null,
   "metadata": {},
   "outputs": [],
   "source": []
  }
 ],
 "metadata": {
  "kernelspec": {
   "display_name": "Python 3",
   "language": "python",
   "name": "python3"
  },
  "language_info": {
   "codemirror_mode": {
    "name": "ipython",
    "version": 3
   },
   "file_extension": ".py",
   "mimetype": "text/x-python",
   "name": "python",
   "nbconvert_exporter": "python",
   "pygments_lexer": "ipython3",
   "version": "3.8.1"
  }
 },
 "nbformat": 4,
 "nbformat_minor": 2
}
