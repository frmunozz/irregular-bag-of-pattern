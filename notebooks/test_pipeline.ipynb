{
 "cells": [
  {
   "cell_type": "code",
   "execution_count": 1,
   "metadata": {},
   "outputs": [],
   "source": [
    "import sys\n",
    "import os\n",
    "main_path = os.path.abspath(os.path.join(os.path.dirname(\"./test_pipeline.ipynb\"), '..'))\n",
    "sys.path.insert(0, main_path)"
   ]
  },
  {
   "cell_type": "code",
   "execution_count": 69,
   "metadata": {},
   "outputs": [],
   "source": [
    "from src.preprocesing import gen_dataset, gen_dataset_from_h5\n",
    "from src.pipelines import PipelineBuilder\n",
    "from src.feature_extraction.text import MPTextGenerator, CountVectorizer\n",
    "\n",
    "\n",
    "import numpy as np\n",
    "import matplotlib.pyplot as plt\n",
    "from scipy.stats import norm\n",
    "from scipy import sparse\n",
    "import time\n",
    "import pandas as pd\n",
    "\n",
    "from sklearn.model_selection import cross_val_score, GridSearchCV"
   ]
  },
  {
   "cell_type": "code",
   "execution_count": 3,
   "metadata": {},
   "outputs": [
    {
     "name": "stderr",
     "output_type": "stream",
     "text": [
      "Object: 100%|██████████| 600/600 [00:00<00:00, 239059.79it/s]"
     ]
    },
    {
     "name": "stdout",
     "output_type": "stream",
     "text": [
      "601.5589505662784 299.43984508617797 463\n",
      "target k: 0\n",
      "classes: [1 2 3 4 5 6]\n"
     ]
    },
    {
     "name": "stderr",
     "output_type": "stream",
     "text": [
      "\n"
     ]
    }
   ],
   "source": [
    "merged_labels_to_num = {\n",
    "    \"Single microlens\": 1,\n",
    "    \"TDE\": 2,\n",
    "    \"Short period VS\": 3,\n",
    "    \"SN\": 4,\n",
    "    \"M-dwarf\": 5,\n",
    "    \"AGN\": 6,\n",
    "    \"Unknown\": 99\n",
    "}\n",
    "\n",
    "merged_labels = {\n",
    "    6: \"Single microlens\",\n",
    "    15: \"TDE\",\n",
    "    16: \"Short period VS\",\n",
    "    42: \"SN\",\n",
    "    52: \"SN\",\n",
    "    53: \"Short period VS\",\n",
    "    62: \"SN\",\n",
    "    64: \"SN\",\n",
    "    65: \"M-dwarf\",\n",
    "    67: \"SN\",\n",
    "    88: \"AGN\",\n",
    "    90: \"SN\",\n",
    "    92: \"Short period VS\",\n",
    "    95: \"SN\",\n",
    "    99: \"Unknown\"\n",
    "}\n",
    "\n",
    "res, labels, metadata = gen_dataset_from_h5(\"plasticc_balanced_combined_classes_small_ddf\")\n",
    "bands = [\"lsstg\", \"lssti\", \"lsstr\", \"lsstu\", \"lssty\", \"lsstz\"]\n",
    "spatial_comp = int(np.mean([len(ts.observations[\"flux\"]) * 2 for ts in res]))\n",
    "time_durations = np.array([ts.observations[\"time\"].to_numpy()[-1] - ts.observations[\"time\"].to_numpy()[0] for ts in res])\n",
    "mean_time = np.mean(time_durations)\n",
    "std_time = np.std(time_durations)\n",
    "print(mean_time, std_time, spatial_comp)\n",
    "\n",
    "k = spatial_comp // len(res)\n",
    "print(\"target k:\", k)\n",
    "labels_merged = np.array([merged_labels_to_num[merged_labels[x]] for x in labels])\n",
    "print(\"classes:\", np.unique(labels_merged))"
   ]
  },
  {
   "cell_type": "markdown",
   "metadata": {},
   "source": [
    "# Pipeline for precomputed bag of words"
   ]
  },
  {
   "cell_type": "code",
   "execution_count": 18,
   "metadata": {},
   "outputs": [
    {
     "data": {
      "text/plain": [
       "30"
      ]
     },
     "execution_count": 18,
     "metadata": {},
     "output_type": "execute_result"
    }
   ],
   "source": [
    "alph_size = 4\n",
    "quantity = \"mean\"\n",
    "num_reduction=True\n",
    "irr_handler=\"supp_interp\"\n",
    "index_based_paa = False\n",
    "mean_bp_dist=\"normal\"\n",
    "verbose=False\n",
    "_BANDS = [\"lsstg\", \"lssti\", \"lsstr\", \"lsstu\", \"lssty\", \"lsstz\"]\n",
    "n_jobs = 8\n",
    "limit = int(len(res) * 0.05)\n",
    "limit\n",
    "# limit = 0"
   ]
  },
  {
   "cell_type": "code",
   "execution_count": 19,
   "metadata": {
    "collapsed": true,
    "jupyter": {
     "outputs_hidden": true
    }
   },
   "outputs": [
    {
     "data": {
      "application/vnd.jupyter.widget-view+json": {
       "model_id": "40a5247e88fb4843a4febe1bd6b713c2",
       "version_major": 2,
       "version_minor": 0
      },
      "text/plain": [
       "HBox(children=(HTML(value='[win: 10.109, wl: 2]'), FloatProgress(value=0.0, max=600.0), HTML(value='')))"
      ]
     },
     "metadata": {},
     "output_type": "display_data"
    },
    {
     "name": "stdout",
     "output_type": "stream",
     "text": [
      "\n",
      "160>30 time series failed to be represented, dropping sequence\n"
     ]
    },
    {
     "data": {
      "application/vnd.jupyter.widget-view+json": {
       "model_id": "32584f9c2cc946d48cf09e7894fd9aab",
       "version_major": 2,
       "version_minor": 0
      },
      "text/plain": [
       "HBox(children=(HTML(value='[win: 11.343, wl: 2]'), FloatProgress(value=0.0, max=600.0), HTML(value='')))"
      ]
     },
     "metadata": {},
     "output_type": "display_data"
    },
    {
     "name": "stdout",
     "output_type": "stream",
     "text": [
      "\n",
      "155>30 time series failed to be represented, dropping sequence\n"
     ]
    },
    {
     "data": {
      "application/vnd.jupyter.widget-view+json": {
       "model_id": "dbadb08bcd8f4113acd07a7288edfe4f",
       "version_major": 2,
       "version_minor": 0
      },
      "text/plain": [
       "HBox(children=(HTML(value='[win: 12.727, wl: 2]'), FloatProgress(value=0.0, max=600.0), HTML(value='')))"
      ]
     },
     "metadata": {},
     "output_type": "display_data"
    },
    {
     "name": "stdout",
     "output_type": "stream",
     "text": [
      "\n",
      "306>30 time series failed to be represented, dropping sequence\n"
     ]
    },
    {
     "data": {
      "application/vnd.jupyter.widget-view+json": {
       "model_id": "12976cad9d6e4bccb5721db75bbadf04",
       "version_major": 2,
       "version_minor": 0
      },
      "text/plain": [
       "HBox(children=(HTML(value='[win: 14.280, wl: 2]'), FloatProgress(value=0.0, max=600.0), HTML(value='')))"
      ]
     },
     "metadata": {},
     "output_type": "display_data"
    },
    {
     "name": "stdout",
     "output_type": "stream",
     "text": [
      "\n",
      "324>30 time series failed to be represented, dropping sequence\n"
     ]
    },
    {
     "data": {
      "application/vnd.jupyter.widget-view+json": {
       "model_id": "5d03ee0f7800437e90d7aef3660a60f9",
       "version_major": 2,
       "version_minor": 0
      },
      "text/plain": [
       "HBox(children=(HTML(value='[win: 16.022, wl: 2]'), FloatProgress(value=0.0, max=600.0), HTML(value='')))"
      ]
     },
     "metadata": {},
     "output_type": "display_data"
    },
    {
     "name": "stdout",
     "output_type": "stream",
     "text": [
      "\n",
      "324>30 time series failed to be represented, dropping sequence\n"
     ]
    },
    {
     "data": {
      "application/vnd.jupyter.widget-view+json": {
       "model_id": "64f74c2e339c483c85e9c972bbe3c4a3",
       "version_major": 2,
       "version_minor": 0
      },
      "text/plain": [
       "HBox(children=(HTML(value='[win: 17.977, wl: 2]'), FloatProgress(value=0.0, max=600.0), HTML(value='')))"
      ]
     },
     "metadata": {},
     "output_type": "display_data"
    },
    {
     "name": "stdout",
     "output_type": "stream",
     "text": [
      "\n",
      "371>30 time series failed to be represented, dropping sequence\n"
     ]
    },
    {
     "data": {
      "application/vnd.jupyter.widget-view+json": {
       "model_id": "13d186449f4e46bab789140e134ef570",
       "version_major": 2,
       "version_minor": 0
      },
      "text/plain": [
       "HBox(children=(HTML(value='[win: 20.171, wl: 2]'), FloatProgress(value=0.0, max=600.0), HTML(value='')))"
      ]
     },
     "metadata": {},
     "output_type": "display_data"
    },
    {
     "name": "stdout",
     "output_type": "stream",
     "text": [
      "\n",
      "401>30 time series failed to be represented, dropping sequence\n"
     ]
    },
    {
     "data": {
      "application/vnd.jupyter.widget-view+json": {
       "model_id": "1588b0d963fd41bfbdd7ec5cec2adc21",
       "version_major": 2,
       "version_minor": 0
      },
      "text/plain": [
       "HBox(children=(HTML(value='[win: 22.632, wl: 2]'), FloatProgress(value=0.0, max=600.0), HTML(value='')))"
      ]
     },
     "metadata": {},
     "output_type": "display_data"
    },
    {
     "name": "stdout",
     "output_type": "stream",
     "text": [
      "\n",
      "392>30 time series failed to be represented, dropping sequence\n"
     ]
    },
    {
     "data": {
      "application/vnd.jupyter.widget-view+json": {
       "model_id": "474ad29e4ff84d9b85815e82b6b6e4f6",
       "version_major": 2,
       "version_minor": 0
      },
      "text/plain": [
       "HBox(children=(HTML(value='[win: 25.394, wl: 2]'), FloatProgress(value=0.0, max=600.0), HTML(value='')))"
      ]
     },
     "metadata": {},
     "output_type": "display_data"
    },
    {
     "name": "stdout",
     "output_type": "stream",
     "text": [
      "\n",
      "385>30 time series failed to be represented, dropping sequence\n"
     ]
    },
    {
     "data": {
      "application/vnd.jupyter.widget-view+json": {
       "model_id": "0372eb04286047868bdbd84c90da8176",
       "version_major": 2,
       "version_minor": 0
      },
      "text/plain": [
       "HBox(children=(HTML(value='[win: 28.492, wl: 2]'), FloatProgress(value=0.0, max=600.0), HTML(value='')))"
      ]
     },
     "metadata": {},
     "output_type": "display_data"
    },
    {
     "name": "stdout",
     "output_type": "stream",
     "text": [
      "\n",
      "78>30 time series failed to be represented, dropping sequence\n"
     ]
    },
    {
     "data": {
      "application/vnd.jupyter.widget-view+json": {
       "model_id": "7d12fa04c62945c1891e03cdadf4dda1",
       "version_major": 2,
       "version_minor": 0
      },
      "text/plain": [
       "HBox(children=(HTML(value='[win: 31.969, wl: 2]'), FloatProgress(value=0.0, max=600.0), HTML(value='')))"
      ]
     },
     "metadata": {},
     "output_type": "display_data"
    },
    {
     "name": "stdout",
     "output_type": "stream",
     "text": [
      "\n"
     ]
    },
    {
     "data": {
      "application/vnd.jupyter.widget-view+json": {
       "model_id": "f28341f634b14c6db9adc01f525795a5",
       "version_major": 2,
       "version_minor": 0
      },
      "text/plain": [
       "HBox(children=(HTML(value='[win: 35.869, wl: 2]'), FloatProgress(value=0.0, max=600.0), HTML(value='')))"
      ]
     },
     "metadata": {},
     "output_type": "display_data"
    },
    {
     "name": "stdout",
     "output_type": "stream",
     "text": [
      "\n"
     ]
    },
    {
     "data": {
      "application/vnd.jupyter.widget-view+json": {
       "model_id": "b948717975e34c298a384cdab1382e9c",
       "version_major": 2,
       "version_minor": 0
      },
      "text/plain": [
       "HBox(children=(HTML(value='[win: 40.246, wl: 2]'), FloatProgress(value=0.0, max=600.0), HTML(value='')))"
      ]
     },
     "metadata": {},
     "output_type": "display_data"
    },
    {
     "name": "stdout",
     "output_type": "stream",
     "text": [
      "\n"
     ]
    },
    {
     "data": {
      "application/vnd.jupyter.widget-view+json": {
       "model_id": "e7d8a24453324806ae10762f760cb063",
       "version_major": 2,
       "version_minor": 0
      },
      "text/plain": [
       "HBox(children=(HTML(value='[win: 45.157, wl: 2]'), FloatProgress(value=0.0, max=600.0), HTML(value='')))"
      ]
     },
     "metadata": {},
     "output_type": "display_data"
    },
    {
     "name": "stdout",
     "output_type": "stream",
     "text": [
      "\n"
     ]
    },
    {
     "data": {
      "application/vnd.jupyter.widget-view+json": {
       "model_id": "2613f72ff5694e71b461fae36839b64c",
       "version_major": 2,
       "version_minor": 0
      },
      "text/plain": [
       "HBox(children=(HTML(value='[win: 50.667, wl: 2]'), FloatProgress(value=0.0, max=600.0), HTML(value='')))"
      ]
     },
     "metadata": {},
     "output_type": "display_data"
    },
    {
     "name": "stdout",
     "output_type": "stream",
     "text": [
      "\n"
     ]
    },
    {
     "data": {
      "application/vnd.jupyter.widget-view+json": {
       "model_id": "4cbca94910d0424b925e7c9638875d9d",
       "version_major": 2,
       "version_minor": 0
      },
      "text/plain": [
       "HBox(children=(HTML(value='[win: 56.849, wl: 2]'), FloatProgress(value=0.0, max=600.0), HTML(value='')))"
      ]
     },
     "metadata": {},
     "output_type": "display_data"
    },
    {
     "name": "stdout",
     "output_type": "stream",
     "text": [
      "\n"
     ]
    },
    {
     "data": {
      "application/vnd.jupyter.widget-view+json": {
       "model_id": "c2d2e217153a4920994cb0c5a0bab3c4",
       "version_major": 2,
       "version_minor": 0
      },
      "text/plain": [
       "HBox(children=(HTML(value='[win: 63.786, wl: 2]'), FloatProgress(value=0.0, max=600.0), HTML(value='')))"
      ]
     },
     "metadata": {},
     "output_type": "display_data"
    },
    {
     "name": "stdout",
     "output_type": "stream",
     "text": [
      "\n"
     ]
    },
    {
     "data": {
      "application/vnd.jupyter.widget-view+json": {
       "model_id": "3c068b1d3b45424a81a517ce57da58f1",
       "version_major": 2,
       "version_minor": 0
      },
      "text/plain": [
       "HBox(children=(HTML(value='[win: 71.569, wl: 2]'), FloatProgress(value=0.0, max=600.0), HTML(value='')))"
      ]
     },
     "metadata": {},
     "output_type": "display_data"
    },
    {
     "name": "stdout",
     "output_type": "stream",
     "text": [
      "\n"
     ]
    },
    {
     "data": {
      "application/vnd.jupyter.widget-view+json": {
       "model_id": "20c97f695dbc43dfad77c76b19f8bc63",
       "version_major": 2,
       "version_minor": 0
      },
      "text/plain": [
       "HBox(children=(HTML(value='[win: 80.302, wl: 2]'), FloatProgress(value=0.0, max=600.0), HTML(value='')))"
      ]
     },
     "metadata": {},
     "output_type": "display_data"
    },
    {
     "name": "stdout",
     "output_type": "stream",
     "text": [
      "\n"
     ]
    },
    {
     "data": {
      "application/vnd.jupyter.widget-view+json": {
       "model_id": "96f8fd4f1c39464cb393fa8bc6d03c61",
       "version_major": 2,
       "version_minor": 0
      },
      "text/plain": [
       "HBox(children=(HTML(value='[win: 90.100, wl: 2]'), FloatProgress(value=0.0, max=600.0), HTML(value='')))"
      ]
     },
     "metadata": {},
     "output_type": "display_data"
    },
    {
     "name": "stdout",
     "output_type": "stream",
     "text": [
      "\n"
     ]
    },
    {
     "data": {
      "application/vnd.jupyter.widget-view+json": {
       "model_id": "24db7111d31c44e58def3e392b2e7609",
       "version_major": 2,
       "version_minor": 0
      },
      "text/plain": [
       "HBox(children=(HTML(value='[win: 101.094, wl: 2]'), FloatProgress(value=0.0, max=600.0), HTML(value='')))"
      ]
     },
     "metadata": {},
     "output_type": "display_data"
    },
    {
     "name": "stdout",
     "output_type": "stream",
     "text": [
      "\n"
     ]
    },
    {
     "data": {
      "application/vnd.jupyter.widget-view+json": {
       "model_id": "caa66aad1ecc4f528999752f25c2ea89",
       "version_major": 2,
       "version_minor": 0
      },
      "text/plain": [
       "HBox(children=(HTML(value='[win: 113.429, wl: 2]'), FloatProgress(value=0.0, max=600.0), HTML(value='')))"
      ]
     },
     "metadata": {},
     "output_type": "display_data"
    },
    {
     "name": "stdout",
     "output_type": "stream",
     "text": [
      "\n"
     ]
    },
    {
     "data": {
      "application/vnd.jupyter.widget-view+json": {
       "model_id": "9d9843c3ceaa43b8bad730ee251c83ae",
       "version_major": 2,
       "version_minor": 0
      },
      "text/plain": [
       "HBox(children=(HTML(value='[win: 127.269, wl: 2]'), FloatProgress(value=0.0, max=600.0), HTML(value='')))"
      ]
     },
     "metadata": {},
     "output_type": "display_data"
    },
    {
     "name": "stdout",
     "output_type": "stream",
     "text": [
      "\n"
     ]
    },
    {
     "data": {
      "application/vnd.jupyter.widget-view+json": {
       "model_id": "32bdf2ab543540c8b965f2ffd5c86093",
       "version_major": 2,
       "version_minor": 0
      },
      "text/plain": [
       "HBox(children=(HTML(value='[win: 142.799, wl: 2]'), FloatProgress(value=0.0, max=600.0), HTML(value='')))"
      ]
     },
     "metadata": {},
     "output_type": "display_data"
    },
    {
     "name": "stdout",
     "output_type": "stream",
     "text": [
      "\n"
     ]
    },
    {
     "data": {
      "application/vnd.jupyter.widget-view+json": {
       "model_id": "e5b6d932db9f485a81cb4b05603565bd",
       "version_major": 2,
       "version_minor": 0
      },
      "text/plain": [
       "HBox(children=(HTML(value='[win: 160.223, wl: 2]'), FloatProgress(value=0.0, max=600.0), HTML(value='')))"
      ]
     },
     "metadata": {},
     "output_type": "display_data"
    },
    {
     "name": "stdout",
     "output_type": "stream",
     "text": [
      "\n"
     ]
    },
    {
     "data": {
      "application/vnd.jupyter.widget-view+json": {
       "model_id": "3641902638454802b4cf4e35c76d4ed4",
       "version_major": 2,
       "version_minor": 0
      },
      "text/plain": [
       "HBox(children=(HTML(value='[win: 179.773, wl: 2]'), FloatProgress(value=0.0, max=600.0), HTML(value='')))"
      ]
     },
     "metadata": {},
     "output_type": "display_data"
    },
    {
     "name": "stdout",
     "output_type": "stream",
     "text": [
      "\n"
     ]
    },
    {
     "data": {
      "application/vnd.jupyter.widget-view+json": {
       "model_id": "788667e37bc44e6e8785b589c1ff9d6b",
       "version_major": 2,
       "version_minor": 0
      },
      "text/plain": [
       "HBox(children=(HTML(value='[win: 201.709, wl: 2]'), FloatProgress(value=0.0, max=600.0), HTML(value='')))"
      ]
     },
     "metadata": {},
     "output_type": "display_data"
    },
    {
     "name": "stdout",
     "output_type": "stream",
     "text": [
      "\n"
     ]
    },
    {
     "data": {
      "application/vnd.jupyter.widget-view+json": {
       "model_id": "4f378e2c22de4ec49d8558ce88a16a5c",
       "version_major": 2,
       "version_minor": 0
      },
      "text/plain": [
       "HBox(children=(HTML(value='[win: 226.321, wl: 2]'), FloatProgress(value=0.0, max=600.0), HTML(value='')))"
      ]
     },
     "metadata": {},
     "output_type": "display_data"
    },
    {
     "name": "stdout",
     "output_type": "stream",
     "text": [
      "\n"
     ]
    },
    {
     "data": {
      "application/vnd.jupyter.widget-view+json": {
       "model_id": "72ff9878ac1441339e04c7497a8dab0f",
       "version_major": 2,
       "version_minor": 0
      },
      "text/plain": [
       "HBox(children=(HTML(value='[win: 253.936, wl: 2]'), FloatProgress(value=0.0, max=600.0), HTML(value='')))"
      ]
     },
     "metadata": {},
     "output_type": "display_data"
    },
    {
     "name": "stdout",
     "output_type": "stream",
     "text": [
      "\n",
      "150>30 time series failed to be represented, dropping sequence\n"
     ]
    },
    {
     "data": {
      "application/vnd.jupyter.widget-view+json": {
       "model_id": "aa5eb822fb8a4ccf81f89a69024a7efa",
       "version_major": 2,
       "version_minor": 0
      },
      "text/plain": [
       "HBox(children=(HTML(value='[win: 284.921, wl: 2]'), FloatProgress(value=0.0, max=600.0), HTML(value='')))"
      ]
     },
     "metadata": {},
     "output_type": "display_data"
    },
    {
     "name": "stdout",
     "output_type": "stream",
     "text": [
      "\n",
      "113>30 time series failed to be represented, dropping sequence\n"
     ]
    },
    {
     "data": {
      "application/vnd.jupyter.widget-view+json": {
       "model_id": "bea2521d96784fce9011958b7e36f80c",
       "version_major": 2,
       "version_minor": 0
      },
      "text/plain": [
       "HBox(children=(HTML(value='[win: 319.686, wl: 2]'), FloatProgress(value=0.0, max=600.0), HTML(value='')))"
      ]
     },
     "metadata": {},
     "output_type": "display_data"
    },
    {
     "name": "stdout",
     "output_type": "stream",
     "text": [
      "\n",
      "76>30 time series failed to be represented, dropping sequence\n"
     ]
    },
    {
     "data": {
      "application/vnd.jupyter.widget-view+json": {
       "model_id": "421e84cf3d1a430a8c262a2e5ba2b81a",
       "version_major": 2,
       "version_minor": 0
      },
      "text/plain": [
       "HBox(children=(HTML(value='[win: 358.694, wl: 2]'), FloatProgress(value=0.0, max=600.0), HTML(value='')))"
      ]
     },
     "metadata": {},
     "output_type": "display_data"
    },
    {
     "name": "stdout",
     "output_type": "stream",
     "text": [
      "\n",
      "74>30 time series failed to be represented, dropping sequence\n"
     ]
    },
    {
     "data": {
      "application/vnd.jupyter.widget-view+json": {
       "model_id": "d3d254af9b81410cb2ca3a23a948fc4e",
       "version_major": 2,
       "version_minor": 0
      },
      "text/plain": [
       "HBox(children=(HTML(value='[win: 402.461, wl: 2]'), FloatProgress(value=0.0, max=600.0), HTML(value='')))"
      ]
     },
     "metadata": {},
     "output_type": "display_data"
    },
    {
     "name": "stdout",
     "output_type": "stream",
     "text": [
      "\n",
      "65>30 time series failed to be represented, dropping sequence\n"
     ]
    },
    {
     "data": {
      "application/vnd.jupyter.widget-view+json": {
       "model_id": "98ac9540f2e448a3b360da8df80eba3b",
       "version_major": 2,
       "version_minor": 0
      },
      "text/plain": [
       "HBox(children=(HTML(value='[win: 451.569, wl: 2]'), FloatProgress(value=0.0, max=600.0), HTML(value='')))"
      ]
     },
     "metadata": {},
     "output_type": "display_data"
    },
    {
     "name": "stdout",
     "output_type": "stream",
     "text": [
      "\n",
      "63>30 time series failed to be represented, dropping sequence\n"
     ]
    },
    {
     "data": {
      "application/vnd.jupyter.widget-view+json": {
       "model_id": "3861efcea3fd425c85a616a42ef72742",
       "version_major": 2,
       "version_minor": 0
      },
      "text/plain": [
       "HBox(children=(HTML(value='[win: 506.669, wl: 2]'), FloatProgress(value=0.0, max=600.0), HTML(value='')))"
      ]
     },
     "metadata": {},
     "output_type": "display_data"
    },
    {
     "name": "stdout",
     "output_type": "stream",
     "text": [
      "\n",
      "62>30 time series failed to be represented, dropping sequence\n"
     ]
    },
    {
     "data": {
      "application/vnd.jupyter.widget-view+json": {
       "model_id": "81c0be2e9f404a8d82226d6a556c96b5",
       "version_major": 2,
       "version_minor": 0
      },
      "text/plain": [
       "HBox(children=(HTML(value='[win: 568.492, wl: 2]'), FloatProgress(value=0.0, max=600.0), HTML(value='')))"
      ]
     },
     "metadata": {},
     "output_type": "display_data"
    },
    {
     "name": "stdout",
     "output_type": "stream",
     "text": [
      "\n",
      "59>30 time series failed to be represented, dropping sequence\n"
     ]
    },
    {
     "data": {
      "application/vnd.jupyter.widget-view+json": {
       "model_id": "0827a3aec47a4179a8e742af749f3486",
       "version_major": 2,
       "version_minor": 0
      },
      "text/plain": [
       "HBox(children=(HTML(value='[win: 637.858, wl: 2]'), FloatProgress(value=0.0, max=600.0), HTML(value='')))"
      ]
     },
     "metadata": {},
     "output_type": "display_data"
    },
    {
     "name": "stdout",
     "output_type": "stream",
     "text": [
      "\n"
     ]
    },
    {
     "data": {
      "application/vnd.jupyter.widget-view+json": {
       "model_id": "99d39b4ea2f043dead6311b6e7ef77b4",
       "version_major": 2,
       "version_minor": 0
      },
      "text/plain": [
       "HBox(children=(HTML(value='[win: 715.689, wl: 2]'), FloatProgress(value=0.0, max=600.0), HTML(value='')))"
      ]
     },
     "metadata": {},
     "output_type": "display_data"
    },
    {
     "name": "stdout",
     "output_type": "stream",
     "text": [
      "\n"
     ]
    },
    {
     "data": {
      "application/vnd.jupyter.widget-view+json": {
       "model_id": "c77427df55664e5498026856e0ab48cf",
       "version_major": 2,
       "version_minor": 0
      },
      "text/plain": [
       "HBox(children=(HTML(value='[win: 803.016, wl: 2]'), FloatProgress(value=0.0, max=600.0), HTML(value='')))"
      ]
     },
     "metadata": {},
     "output_type": "display_data"
    },
    {
     "name": "stdout",
     "output_type": "stream",
     "text": [
      "\n"
     ]
    },
    {
     "data": {
      "application/vnd.jupyter.widget-view+json": {
       "model_id": "63814b5e1d3f4212b8e688a638e62996",
       "version_major": 2,
       "version_minor": 0
      },
      "text/plain": [
       "HBox(children=(HTML(value='[win: 900.999, wl: 2]'), FloatProgress(value=0.0, max=600.0), HTML(value='')))"
      ]
     },
     "metadata": {},
     "output_type": "display_data"
    },
    {
     "name": "stdout",
     "output_type": "stream",
     "text": [
      "\n"
     ]
    },
    {
     "data": {
      "application/vnd.jupyter.widget-view+json": {
       "model_id": "42498d365dca453a97fe2bc99ec1c098",
       "version_major": 2,
       "version_minor": 0
      },
      "text/plain": [
       "HBox(children=(HTML(value='[win: 10.109, wl: 3]'), FloatProgress(value=0.0, max=600.0), HTML(value='')))"
      ]
     },
     "metadata": {},
     "output_type": "display_data"
    },
    {
     "name": "stdout",
     "output_type": "stream",
     "text": [
      "\n",
      "338>30 time series failed to be represented, dropping sequence\n"
     ]
    },
    {
     "data": {
      "application/vnd.jupyter.widget-view+json": {
       "model_id": "07f6f2a24444444b8f2e48d59308c5cc",
       "version_major": 2,
       "version_minor": 0
      },
      "text/plain": [
       "HBox(children=(HTML(value='[win: 11.343, wl: 3]'), FloatProgress(value=0.0, max=600.0), HTML(value='')))"
      ]
     },
     "metadata": {},
     "output_type": "display_data"
    },
    {
     "name": "stdout",
     "output_type": "stream",
     "text": [
      "\n",
      "351>30 time series failed to be represented, dropping sequence\n"
     ]
    },
    {
     "data": {
      "application/vnd.jupyter.widget-view+json": {
       "model_id": "f807fc2088504f0a82422b96e9df1891",
       "version_major": 2,
       "version_minor": 0
      },
      "text/plain": [
       "HBox(children=(HTML(value='[win: 12.727, wl: 3]'), FloatProgress(value=0.0, max=600.0), HTML(value='')))"
      ]
     },
     "metadata": {},
     "output_type": "display_data"
    },
    {
     "name": "stdout",
     "output_type": "stream",
     "text": [
      "\n",
      "411>30 time series failed to be represented, dropping sequence\n"
     ]
    },
    {
     "data": {
      "application/vnd.jupyter.widget-view+json": {
       "model_id": "bd97d23b97094724b2acf77d44628d5b",
       "version_major": 2,
       "version_minor": 0
      },
      "text/plain": [
       "HBox(children=(HTML(value='[win: 14.280, wl: 3]'), FloatProgress(value=0.0, max=600.0), HTML(value='')))"
      ]
     },
     "metadata": {},
     "output_type": "display_data"
    },
    {
     "name": "stdout",
     "output_type": "stream",
     "text": [
      "\n",
      "462>30 time series failed to be represented, dropping sequence\n"
     ]
    },
    {
     "data": {
      "application/vnd.jupyter.widget-view+json": {
       "model_id": "faacbb4328d94d6ca57f28fcc21f0c9a",
       "version_major": 2,
       "version_minor": 0
      },
      "text/plain": [
       "HBox(children=(HTML(value='[win: 16.022, wl: 3]'), FloatProgress(value=0.0, max=600.0), HTML(value='')))"
      ]
     },
     "metadata": {},
     "output_type": "display_data"
    },
    {
     "name": "stdout",
     "output_type": "stream",
     "text": [
      "\n",
      "458>30 time series failed to be represented, dropping sequence\n"
     ]
    },
    {
     "data": {
      "application/vnd.jupyter.widget-view+json": {
       "model_id": "02e5a4dc180041a5b1add573d2ade0cf",
       "version_major": 2,
       "version_minor": 0
      },
      "text/plain": [
       "HBox(children=(HTML(value='[win: 17.977, wl: 3]'), FloatProgress(value=0.0, max=600.0), HTML(value='')))"
      ]
     },
     "metadata": {},
     "output_type": "display_data"
    },
    {
     "name": "stdout",
     "output_type": "stream",
     "text": [
      "\n",
      "446>30 time series failed to be represented, dropping sequence\n"
     ]
    },
    {
     "data": {
      "application/vnd.jupyter.widget-view+json": {
       "model_id": "d604b5bbd96e4594b52c3b1488d00e35",
       "version_major": 2,
       "version_minor": 0
      },
      "text/plain": [
       "HBox(children=(HTML(value='[win: 20.171, wl: 3]'), FloatProgress(value=0.0, max=600.0), HTML(value='')))"
      ]
     },
     "metadata": {},
     "output_type": "display_data"
    },
    {
     "name": "stdout",
     "output_type": "stream",
     "text": [
      "\n",
      "427>30 time series failed to be represented, dropping sequence\n"
     ]
    },
    {
     "data": {
      "application/vnd.jupyter.widget-view+json": {
       "model_id": "80a59d0a34f64428ae67e69773fe957a",
       "version_major": 2,
       "version_minor": 0
      },
      "text/plain": [
       "HBox(children=(HTML(value='[win: 22.632, wl: 3]'), FloatProgress(value=0.0, max=600.0), HTML(value='')))"
      ]
     },
     "metadata": {},
     "output_type": "display_data"
    },
    {
     "name": "stdout",
     "output_type": "stream",
     "text": [
      "\n",
      "416>30 time series failed to be represented, dropping sequence\n"
     ]
    },
    {
     "data": {
      "application/vnd.jupyter.widget-view+json": {
       "model_id": "55f9cc334e9d44a188fedfa1521b08e1",
       "version_major": 2,
       "version_minor": 0
      },
      "text/plain": [
       "HBox(children=(HTML(value='[win: 25.394, wl: 3]'), FloatProgress(value=0.0, max=600.0), HTML(value='')))"
      ]
     },
     "metadata": {},
     "output_type": "display_data"
    },
    {
     "name": "stdout",
     "output_type": "stream",
     "text": [
      "\n",
      "400>30 time series failed to be represented, dropping sequence\n"
     ]
    },
    {
     "data": {
      "application/vnd.jupyter.widget-view+json": {
       "model_id": "708b3babfa3c4cf1ab4966f909837995",
       "version_major": 2,
       "version_minor": 0
      },
      "text/plain": [
       "HBox(children=(HTML(value='[win: 28.492, wl: 3]'), FloatProgress(value=0.0, max=600.0), HTML(value='')))"
      ]
     },
     "metadata": {},
     "output_type": "display_data"
    },
    {
     "name": "stdout",
     "output_type": "stream",
     "text": [
      "\n",
      "312>30 time series failed to be represented, dropping sequence\n"
     ]
    },
    {
     "data": {
      "application/vnd.jupyter.widget-view+json": {
       "model_id": "a6d3751fb2574fc49c18a828958f28bf",
       "version_major": 2,
       "version_minor": 0
      },
      "text/plain": [
       "HBox(children=(HTML(value='[win: 31.969, wl: 3]'), FloatProgress(value=0.0, max=600.0), HTML(value='')))"
      ]
     },
     "metadata": {},
     "output_type": "display_data"
    },
    {
     "name": "stdout",
     "output_type": "stream",
     "text": [
      "\n",
      "116>30 time series failed to be represented, dropping sequence\n"
     ]
    },
    {
     "data": {
      "application/vnd.jupyter.widget-view+json": {
       "model_id": "a40fa8c95dbd4fb9bddd31dbcfb3828c",
       "version_major": 2,
       "version_minor": 0
      },
      "text/plain": [
       "HBox(children=(HTML(value='[win: 35.869, wl: 3]'), FloatProgress(value=0.0, max=600.0), HTML(value='')))"
      ]
     },
     "metadata": {},
     "output_type": "display_data"
    },
    {
     "name": "stdout",
     "output_type": "stream",
     "text": [
      "\n"
     ]
    },
    {
     "data": {
      "application/vnd.jupyter.widget-view+json": {
       "model_id": "8d17a34e48084b3ab1f8e2a7c1f651ba",
       "version_major": 2,
       "version_minor": 0
      },
      "text/plain": [
       "HBox(children=(HTML(value='[win: 40.246, wl: 3]'), FloatProgress(value=0.0, max=600.0), HTML(value='')))"
      ]
     },
     "metadata": {},
     "output_type": "display_data"
    },
    {
     "name": "stdout",
     "output_type": "stream",
     "text": [
      "\n"
     ]
    },
    {
     "data": {
      "application/vnd.jupyter.widget-view+json": {
       "model_id": "96157d24037545dda86b4d94b73a55bf",
       "version_major": 2,
       "version_minor": 0
      },
      "text/plain": [
       "HBox(children=(HTML(value='[win: 45.157, wl: 3]'), FloatProgress(value=0.0, max=600.0), HTML(value='')))"
      ]
     },
     "metadata": {},
     "output_type": "display_data"
    },
    {
     "name": "stdout",
     "output_type": "stream",
     "text": [
      "\n"
     ]
    },
    {
     "data": {
      "application/vnd.jupyter.widget-view+json": {
       "model_id": "b23456f1cfe449fbab8e0a96d35072b7",
       "version_major": 2,
       "version_minor": 0
      },
      "text/plain": [
       "HBox(children=(HTML(value='[win: 50.667, wl: 3]'), FloatProgress(value=0.0, max=600.0), HTML(value='')))"
      ]
     },
     "metadata": {},
     "output_type": "display_data"
    },
    {
     "name": "stdout",
     "output_type": "stream",
     "text": [
      "\n"
     ]
    },
    {
     "data": {
      "application/vnd.jupyter.widget-view+json": {
       "model_id": "ed034ac0ad9c4371bb6edc1d891c9730",
       "version_major": 2,
       "version_minor": 0
      },
      "text/plain": [
       "HBox(children=(HTML(value='[win: 56.849, wl: 3]'), FloatProgress(value=0.0, max=600.0), HTML(value='')))"
      ]
     },
     "metadata": {},
     "output_type": "display_data"
    },
    {
     "name": "stdout",
     "output_type": "stream",
     "text": [
      "\n"
     ]
    },
    {
     "data": {
      "application/vnd.jupyter.widget-view+json": {
       "model_id": "1bb8426503c445d1a6ab571e79a4536a",
       "version_major": 2,
       "version_minor": 0
      },
      "text/plain": [
       "HBox(children=(HTML(value='[win: 63.786, wl: 3]'), FloatProgress(value=0.0, max=600.0), HTML(value='')))"
      ]
     },
     "metadata": {},
     "output_type": "display_data"
    },
    {
     "name": "stdout",
     "output_type": "stream",
     "text": [
      "\n"
     ]
    },
    {
     "data": {
      "application/vnd.jupyter.widget-view+json": {
       "model_id": "e06045f5dcd04c01bdede9d4ba1126a2",
       "version_major": 2,
       "version_minor": 0
      },
      "text/plain": [
       "HBox(children=(HTML(value='[win: 71.569, wl: 3]'), FloatProgress(value=0.0, max=600.0), HTML(value='')))"
      ]
     },
     "metadata": {},
     "output_type": "display_data"
    },
    {
     "name": "stdout",
     "output_type": "stream",
     "text": [
      "\n"
     ]
    },
    {
     "data": {
      "application/vnd.jupyter.widget-view+json": {
       "model_id": "d372f3e1357d46449c91f91cbacea35f",
       "version_major": 2,
       "version_minor": 0
      },
      "text/plain": [
       "HBox(children=(HTML(value='[win: 80.302, wl: 3]'), FloatProgress(value=0.0, max=600.0), HTML(value='')))"
      ]
     },
     "metadata": {},
     "output_type": "display_data"
    },
    {
     "name": "stdout",
     "output_type": "stream",
     "text": [
      "\n"
     ]
    },
    {
     "data": {
      "application/vnd.jupyter.widget-view+json": {
       "model_id": "5e72a670b3004a21b62fe32d359c5a71",
       "version_major": 2,
       "version_minor": 0
      },
      "text/plain": [
       "HBox(children=(HTML(value='[win: 90.100, wl: 3]'), FloatProgress(value=0.0, max=600.0), HTML(value='')))"
      ]
     },
     "metadata": {},
     "output_type": "display_data"
    },
    {
     "name": "stdout",
     "output_type": "stream",
     "text": [
      "\n"
     ]
    },
    {
     "data": {
      "application/vnd.jupyter.widget-view+json": {
       "model_id": "8b0d5296a00a47e18676e59255f80f47",
       "version_major": 2,
       "version_minor": 0
      },
      "text/plain": [
       "HBox(children=(HTML(value='[win: 101.094, wl: 3]'), FloatProgress(value=0.0, max=600.0), HTML(value='')))"
      ]
     },
     "metadata": {},
     "output_type": "display_data"
    },
    {
     "name": "stdout",
     "output_type": "stream",
     "text": [
      "\n"
     ]
    },
    {
     "data": {
      "application/vnd.jupyter.widget-view+json": {
       "model_id": "e59eb56dfec1405daa9240988e2984e3",
       "version_major": 2,
       "version_minor": 0
      },
      "text/plain": [
       "HBox(children=(HTML(value='[win: 113.429, wl: 3]'), FloatProgress(value=0.0, max=600.0), HTML(value='')))"
      ]
     },
     "metadata": {},
     "output_type": "display_data"
    },
    {
     "name": "stdout",
     "output_type": "stream",
     "text": [
      "\n"
     ]
    },
    {
     "data": {
      "application/vnd.jupyter.widget-view+json": {
       "model_id": "b83c270176b241ec8134026ec28f1e61",
       "version_major": 2,
       "version_minor": 0
      },
      "text/plain": [
       "HBox(children=(HTML(value='[win: 127.269, wl: 3]'), FloatProgress(value=0.0, max=600.0), HTML(value='')))"
      ]
     },
     "metadata": {},
     "output_type": "display_data"
    },
    {
     "name": "stdout",
     "output_type": "stream",
     "text": [
      "\n"
     ]
    },
    {
     "data": {
      "application/vnd.jupyter.widget-view+json": {
       "model_id": "d55740fe36a94404920ed0e850bbb96c",
       "version_major": 2,
       "version_minor": 0
      },
      "text/plain": [
       "HBox(children=(HTML(value='[win: 142.799, wl: 3]'), FloatProgress(value=0.0, max=600.0), HTML(value='')))"
      ]
     },
     "metadata": {},
     "output_type": "display_data"
    },
    {
     "name": "stdout",
     "output_type": "stream",
     "text": [
      "\n"
     ]
    },
    {
     "data": {
      "application/vnd.jupyter.widget-view+json": {
       "model_id": "f42c30bd9b4e4f47a224edd2a6c81918",
       "version_major": 2,
       "version_minor": 0
      },
      "text/plain": [
       "HBox(children=(HTML(value='[win: 160.223, wl: 3]'), FloatProgress(value=0.0, max=600.0), HTML(value='')))"
      ]
     },
     "metadata": {},
     "output_type": "display_data"
    },
    {
     "name": "stdout",
     "output_type": "stream",
     "text": [
      "\n"
     ]
    },
    {
     "data": {
      "application/vnd.jupyter.widget-view+json": {
       "model_id": "017af6f34d954297a25ec709e9e553cd",
       "version_major": 2,
       "version_minor": 0
      },
      "text/plain": [
       "HBox(children=(HTML(value='[win: 179.773, wl: 3]'), FloatProgress(value=0.0, max=600.0), HTML(value='')))"
      ]
     },
     "metadata": {},
     "output_type": "display_data"
    },
    {
     "name": "stdout",
     "output_type": "stream",
     "text": [
      "\n",
      "102>30 time series failed to be represented, dropping sequence\n"
     ]
    },
    {
     "data": {
      "application/vnd.jupyter.widget-view+json": {
       "model_id": "d8a41687b15f43438f29494042bc7eb3",
       "version_major": 2,
       "version_minor": 0
      },
      "text/plain": [
       "HBox(children=(HTML(value='[win: 201.709, wl: 3]'), FloatProgress(value=0.0, max=600.0), HTML(value='')))"
      ]
     },
     "metadata": {},
     "output_type": "display_data"
    },
    {
     "name": "stdout",
     "output_type": "stream",
     "text": [
      "\n",
      "272>30 time series failed to be represented, dropping sequence\n"
     ]
    },
    {
     "data": {
      "application/vnd.jupyter.widget-view+json": {
       "model_id": "85266a0285094b198a00345795be55c9",
       "version_major": 2,
       "version_minor": 0
      },
      "text/plain": [
       "HBox(children=(HTML(value='[win: 226.321, wl: 3]'), FloatProgress(value=0.0, max=600.0), HTML(value='')))"
      ]
     },
     "metadata": {},
     "output_type": "display_data"
    },
    {
     "name": "stdout",
     "output_type": "stream",
     "text": [
      "\n",
      "472>30 time series failed to be represented, dropping sequence\n"
     ]
    },
    {
     "data": {
      "application/vnd.jupyter.widget-view+json": {
       "model_id": "61481f31290d4cdf8404deba1e9d8ca3",
       "version_major": 2,
       "version_minor": 0
      },
      "text/plain": [
       "HBox(children=(HTML(value='[win: 253.936, wl: 3]'), FloatProgress(value=0.0, max=600.0), HTML(value='')))"
      ]
     },
     "metadata": {},
     "output_type": "display_data"
    },
    {
     "name": "stdout",
     "output_type": "stream",
     "text": [
      "\n",
      "542>30 time series failed to be represented, dropping sequence\n"
     ]
    },
    {
     "data": {
      "application/vnd.jupyter.widget-view+json": {
       "model_id": "e2d56de9663149288f729b85e1bfad96",
       "version_major": 2,
       "version_minor": 0
      },
      "text/plain": [
       "HBox(children=(HTML(value='[win: 284.921, wl: 3]'), FloatProgress(value=0.0, max=600.0), HTML(value='')))"
      ]
     },
     "metadata": {},
     "output_type": "display_data"
    },
    {
     "name": "stdout",
     "output_type": "stream",
     "text": [
      "\n",
      "583>30 time series failed to be represented, dropping sequence\n"
     ]
    },
    {
     "data": {
      "application/vnd.jupyter.widget-view+json": {
       "model_id": "47ca81ebf4ae40cab052026c5c42de0d",
       "version_major": 2,
       "version_minor": 0
      },
      "text/plain": [
       "HBox(children=(HTML(value='[win: 319.686, wl: 3]'), FloatProgress(value=0.0, max=600.0), HTML(value='')))"
      ]
     },
     "metadata": {},
     "output_type": "display_data"
    },
    {
     "name": "stdout",
     "output_type": "stream",
     "text": [
      "\n",
      "597>30 time series failed to be represented, dropping sequence\n"
     ]
    },
    {
     "data": {
      "application/vnd.jupyter.widget-view+json": {
       "model_id": "62e985d1914248ac848a71295e90b8f9",
       "version_major": 2,
       "version_minor": 0
      },
      "text/plain": [
       "HBox(children=(HTML(value='[win: 358.694, wl: 3]'), FloatProgress(value=0.0, max=600.0), HTML(value='')))"
      ]
     },
     "metadata": {},
     "output_type": "display_data"
    },
    {
     "name": "stdout",
     "output_type": "stream",
     "text": [
      "\n",
      "459>30 time series failed to be represented, dropping sequence\n"
     ]
    },
    {
     "data": {
      "application/vnd.jupyter.widget-view+json": {
       "model_id": "caefc2bef6fc42319ba6acd9ffc67863",
       "version_major": 2,
       "version_minor": 0
      },
      "text/plain": [
       "HBox(children=(HTML(value='[win: 402.461, wl: 3]'), FloatProgress(value=0.0, max=600.0), HTML(value='')))"
      ]
     },
     "metadata": {},
     "output_type": "display_data"
    },
    {
     "name": "stdout",
     "output_type": "stream",
     "text": [
      "\n",
      "230>30 time series failed to be represented, dropping sequence\n"
     ]
    },
    {
     "data": {
      "application/vnd.jupyter.widget-view+json": {
       "model_id": "ca9d7e2e297f4e88a408b1b4b419345d",
       "version_major": 2,
       "version_minor": 0
      },
      "text/plain": [
       "HBox(children=(HTML(value='[win: 451.569, wl: 3]'), FloatProgress(value=0.0, max=600.0), HTML(value='')))"
      ]
     },
     "metadata": {},
     "output_type": "display_data"
    },
    {
     "name": "stdout",
     "output_type": "stream",
     "text": [
      "\n",
      "146>30 time series failed to be represented, dropping sequence\n"
     ]
    },
    {
     "data": {
      "application/vnd.jupyter.widget-view+json": {
       "model_id": "ec69194cdc45488483b64fe836527329",
       "version_major": 2,
       "version_minor": 0
      },
      "text/plain": [
       "HBox(children=(HTML(value='[win: 506.669, wl: 3]'), FloatProgress(value=0.0, max=600.0), HTML(value='')))"
      ]
     },
     "metadata": {},
     "output_type": "display_data"
    },
    {
     "name": "stdout",
     "output_type": "stream",
     "text": [
      "\n",
      "102>30 time series failed to be represented, dropping sequence\n"
     ]
    },
    {
     "data": {
      "application/vnd.jupyter.widget-view+json": {
       "model_id": "fe5229fe31cc487c84cb724462ff0b36",
       "version_major": 2,
       "version_minor": 0
      },
      "text/plain": [
       "HBox(children=(HTML(value='[win: 568.492, wl: 3]'), FloatProgress(value=0.0, max=600.0), HTML(value='')))"
      ]
     },
     "metadata": {},
     "output_type": "display_data"
    },
    {
     "name": "stdout",
     "output_type": "stream",
     "text": [
      "\n",
      "78>30 time series failed to be represented, dropping sequence\n"
     ]
    },
    {
     "data": {
      "application/vnd.jupyter.widget-view+json": {
       "model_id": "6653101c893c4906875aaf3b0b9adf4e",
       "version_major": 2,
       "version_minor": 0
      },
      "text/plain": [
       "HBox(children=(HTML(value='[win: 637.858, wl: 3]'), FloatProgress(value=0.0, max=600.0), HTML(value='')))"
      ]
     },
     "metadata": {},
     "output_type": "display_data"
    },
    {
     "name": "stdout",
     "output_type": "stream",
     "text": [
      "\n",
      "71>30 time series failed to be represented, dropping sequence\n"
     ]
    },
    {
     "data": {
      "application/vnd.jupyter.widget-view+json": {
       "model_id": "ab261680daa8488c957fac4940570bda",
       "version_major": 2,
       "version_minor": 0
      },
      "text/plain": [
       "HBox(children=(HTML(value='[win: 715.689, wl: 3]'), FloatProgress(value=0.0, max=600.0), HTML(value='')))"
      ]
     },
     "metadata": {},
     "output_type": "display_data"
    },
    {
     "name": "stdout",
     "output_type": "stream",
     "text": [
      "\n",
      "95>30 time series failed to be represented, dropping sequence\n"
     ]
    },
    {
     "data": {
      "application/vnd.jupyter.widget-view+json": {
       "model_id": "a4016a492b974edaa457d62d803b55f0",
       "version_major": 2,
       "version_minor": 0
      },
      "text/plain": [
       "HBox(children=(HTML(value='[win: 803.016, wl: 3]'), FloatProgress(value=0.0, max=600.0), HTML(value='')))"
      ]
     },
     "metadata": {},
     "output_type": "display_data"
    },
    {
     "name": "stdout",
     "output_type": "stream",
     "text": [
      "\n",
      "143>30 time series failed to be represented, dropping sequence\n"
     ]
    },
    {
     "data": {
      "application/vnd.jupyter.widget-view+json": {
       "model_id": "b70b4b70a9a2483b89d3e3c536cbc385",
       "version_major": 2,
       "version_minor": 0
      },
      "text/plain": [
       "HBox(children=(HTML(value='[win: 900.999, wl: 3]'), FloatProgress(value=0.0, max=600.0), HTML(value='')))"
      ]
     },
     "metadata": {},
     "output_type": "display_data"
    },
    {
     "name": "stdout",
     "output_type": "stream",
     "text": [
      "\n",
      "159>30 time series failed to be represented, dropping sequence\n"
     ]
    },
    {
     "data": {
      "application/vnd.jupyter.widget-view+json": {
       "model_id": "0e535f5496e14c1b92c7070933bfdd3c",
       "version_major": 2,
       "version_minor": 0
      },
      "text/plain": [
       "HBox(children=(HTML(value='[win: 10.109, wl: 4]'), FloatProgress(value=0.0, max=600.0), HTML(value='')))"
      ]
     },
     "metadata": {},
     "output_type": "display_data"
    },
    {
     "name": "stdout",
     "output_type": "stream",
     "text": [
      "\n",
      "491>30 time series failed to be represented, dropping sequence\n"
     ]
    },
    {
     "data": {
      "application/vnd.jupyter.widget-view+json": {
       "model_id": "158fcfacf47f412bbb2a899c1cf5a5a5",
       "version_major": 2,
       "version_minor": 0
      },
      "text/plain": [
       "HBox(children=(HTML(value='[win: 11.343, wl: 4]'), FloatProgress(value=0.0, max=600.0), HTML(value='')))"
      ]
     },
     "metadata": {},
     "output_type": "display_data"
    },
    {
     "name": "stdout",
     "output_type": "stream",
     "text": [
      "\n",
      "459>30 time series failed to be represented, dropping sequence\n"
     ]
    },
    {
     "data": {
      "application/vnd.jupyter.widget-view+json": {
       "model_id": "01c80bd03fdb4b3f8cb8ed170a8b8cf5",
       "version_major": 2,
       "version_minor": 0
      },
      "text/plain": [
       "HBox(children=(HTML(value='[win: 12.727, wl: 4]'), FloatProgress(value=0.0, max=600.0), HTML(value='')))"
      ]
     },
     "metadata": {},
     "output_type": "display_data"
    },
    {
     "name": "stdout",
     "output_type": "stream",
     "text": [
      "\n",
      "504>30 time series failed to be represented, dropping sequence\n"
     ]
    },
    {
     "data": {
      "application/vnd.jupyter.widget-view+json": {
       "model_id": "5011652b118048779044a907b9887f7d",
       "version_major": 2,
       "version_minor": 0
      },
      "text/plain": [
       "HBox(children=(HTML(value='[win: 14.280, wl: 4]'), FloatProgress(value=0.0, max=600.0), HTML(value='')))"
      ]
     },
     "metadata": {},
     "output_type": "display_data"
    },
    {
     "name": "stdout",
     "output_type": "stream",
     "text": [
      "\n",
      "500>30 time series failed to be represented, dropping sequence\n"
     ]
    },
    {
     "data": {
      "application/vnd.jupyter.widget-view+json": {
       "model_id": "9c90241964434b849f9dc96e9cdfac35",
       "version_major": 2,
       "version_minor": 0
      },
      "text/plain": [
       "HBox(children=(HTML(value='[win: 16.022, wl: 4]'), FloatProgress(value=0.0, max=600.0), HTML(value='')))"
      ]
     },
     "metadata": {},
     "output_type": "display_data"
    },
    {
     "name": "stdout",
     "output_type": "stream",
     "text": [
      "\n",
      "498>30 time series failed to be represented, dropping sequence\n"
     ]
    },
    {
     "data": {
      "application/vnd.jupyter.widget-view+json": {
       "model_id": "406ea27db0c243a2a6b110dc8269e771",
       "version_major": 2,
       "version_minor": 0
      },
      "text/plain": [
       "HBox(children=(HTML(value='[win: 17.977, wl: 4]'), FloatProgress(value=0.0, max=600.0), HTML(value='')))"
      ]
     },
     "metadata": {},
     "output_type": "display_data"
    },
    {
     "name": "stdout",
     "output_type": "stream",
     "text": [
      "\n",
      "514>30 time series failed to be represented, dropping sequence\n"
     ]
    },
    {
     "data": {
      "application/vnd.jupyter.widget-view+json": {
       "model_id": "2581197555214413b79e1bd3f1a43c04",
       "version_major": 2,
       "version_minor": 0
      },
      "text/plain": [
       "HBox(children=(HTML(value='[win: 20.171, wl: 4]'), FloatProgress(value=0.0, max=600.0), HTML(value='')))"
      ]
     },
     "metadata": {},
     "output_type": "display_data"
    },
    {
     "name": "stdout",
     "output_type": "stream",
     "text": [
      "\n",
      "497>30 time series failed to be represented, dropping sequence\n"
     ]
    },
    {
     "data": {
      "application/vnd.jupyter.widget-view+json": {
       "model_id": "8e581a58710b4eb4a54b7d3a6cd82c3a",
       "version_major": 2,
       "version_minor": 0
      },
      "text/plain": [
       "HBox(children=(HTML(value='[win: 22.632, wl: 4]'), FloatProgress(value=0.0, max=600.0), HTML(value='')))"
      ]
     },
     "metadata": {},
     "output_type": "display_data"
    },
    {
     "name": "stdout",
     "output_type": "stream",
     "text": [
      "\n",
      "465>30 time series failed to be represented, dropping sequence\n"
     ]
    },
    {
     "data": {
      "application/vnd.jupyter.widget-view+json": {
       "model_id": "953f1282d5074ae99712e75e4a48e4d0",
       "version_major": 2,
       "version_minor": 0
      },
      "text/plain": [
       "HBox(children=(HTML(value='[win: 25.394, wl: 4]'), FloatProgress(value=0.0, max=600.0), HTML(value='')))"
      ]
     },
     "metadata": {},
     "output_type": "display_data"
    },
    {
     "name": "stdout",
     "output_type": "stream",
     "text": [
      "\n",
      "438>30 time series failed to be represented, dropping sequence\n"
     ]
    },
    {
     "data": {
      "application/vnd.jupyter.widget-view+json": {
       "model_id": "ddbbfb6184904de29665455a26bcb21a",
       "version_major": 2,
       "version_minor": 0
      },
      "text/plain": [
       "HBox(children=(HTML(value='[win: 28.492, wl: 4]'), FloatProgress(value=0.0, max=600.0), HTML(value='')))"
      ]
     },
     "metadata": {},
     "output_type": "display_data"
    },
    {
     "name": "stdout",
     "output_type": "stream",
     "text": [
      "\n",
      "363>30 time series failed to be represented, dropping sequence\n"
     ]
    },
    {
     "data": {
      "application/vnd.jupyter.widget-view+json": {
       "model_id": "da43b19dde0842b0bdaa98864ba07cf8",
       "version_major": 2,
       "version_minor": 0
      },
      "text/plain": [
       "HBox(children=(HTML(value='[win: 31.969, wl: 4]'), FloatProgress(value=0.0, max=600.0), HTML(value='')))"
      ]
     },
     "metadata": {},
     "output_type": "display_data"
    },
    {
     "name": "stdout",
     "output_type": "stream",
     "text": [
      "\n",
      "179>30 time series failed to be represented, dropping sequence\n"
     ]
    },
    {
     "data": {
      "application/vnd.jupyter.widget-view+json": {
       "model_id": "82f3b9b0fb1e4c1d812e1424575a1112",
       "version_major": 2,
       "version_minor": 0
      },
      "text/plain": [
       "HBox(children=(HTML(value='[win: 35.869, wl: 4]'), FloatProgress(value=0.0, max=600.0), HTML(value='')))"
      ]
     },
     "metadata": {},
     "output_type": "display_data"
    },
    {
     "name": "stdout",
     "output_type": "stream",
     "text": [
      "\n",
      "54>30 time series failed to be represented, dropping sequence\n"
     ]
    },
    {
     "data": {
      "application/vnd.jupyter.widget-view+json": {
       "model_id": "b08326fd5f324c37b34161484b349a58",
       "version_major": 2,
       "version_minor": 0
      },
      "text/plain": [
       "HBox(children=(HTML(value='[win: 40.246, wl: 4]'), FloatProgress(value=0.0, max=600.0), HTML(value='')))"
      ]
     },
     "metadata": {},
     "output_type": "display_data"
    },
    {
     "name": "stdout",
     "output_type": "stream",
     "text": [
      "\n"
     ]
    },
    {
     "data": {
      "application/vnd.jupyter.widget-view+json": {
       "model_id": "36aca68500034779add1b91eb4090a44",
       "version_major": 2,
       "version_minor": 0
      },
      "text/plain": [
       "HBox(children=(HTML(value='[win: 45.157, wl: 4]'), FloatProgress(value=0.0, max=600.0), HTML(value='')))"
      ]
     },
     "metadata": {},
     "output_type": "display_data"
    },
    {
     "name": "stdout",
     "output_type": "stream",
     "text": [
      "\n"
     ]
    },
    {
     "data": {
      "application/vnd.jupyter.widget-view+json": {
       "model_id": "887d83d5806644aaa830fcd587d833d5",
       "version_major": 2,
       "version_minor": 0
      },
      "text/plain": [
       "HBox(children=(HTML(value='[win: 50.667, wl: 4]'), FloatProgress(value=0.0, max=600.0), HTML(value='')))"
      ]
     },
     "metadata": {},
     "output_type": "display_data"
    },
    {
     "name": "stdout",
     "output_type": "stream",
     "text": [
      "\n"
     ]
    },
    {
     "data": {
      "application/vnd.jupyter.widget-view+json": {
       "model_id": "72b4886932404a1293dd2920a67ebe74",
       "version_major": 2,
       "version_minor": 0
      },
      "text/plain": [
       "HBox(children=(HTML(value='[win: 56.849, wl: 4]'), FloatProgress(value=0.0, max=600.0), HTML(value='')))"
      ]
     },
     "metadata": {},
     "output_type": "display_data"
    },
    {
     "name": "stdout",
     "output_type": "stream",
     "text": [
      "\n"
     ]
    },
    {
     "data": {
      "application/vnd.jupyter.widget-view+json": {
       "model_id": "5c91605a8ad942f49e2ea61ccb956738",
       "version_major": 2,
       "version_minor": 0
      },
      "text/plain": [
       "HBox(children=(HTML(value='[win: 63.786, wl: 4]'), FloatProgress(value=0.0, max=600.0), HTML(value='')))"
      ]
     },
     "metadata": {},
     "output_type": "display_data"
    },
    {
     "name": "stdout",
     "output_type": "stream",
     "text": [
      "\n"
     ]
    },
    {
     "data": {
      "application/vnd.jupyter.widget-view+json": {
       "model_id": "96c13150577b487990ed8b4107e909a0",
       "version_major": 2,
       "version_minor": 0
      },
      "text/plain": [
       "HBox(children=(HTML(value='[win: 71.569, wl: 4]'), FloatProgress(value=0.0, max=600.0), HTML(value='')))"
      ]
     },
     "metadata": {},
     "output_type": "display_data"
    },
    {
     "name": "stdout",
     "output_type": "stream",
     "text": [
      "\n"
     ]
    },
    {
     "data": {
      "application/vnd.jupyter.widget-view+json": {
       "model_id": "fdf638142837420389cebdddfeb120fd",
       "version_major": 2,
       "version_minor": 0
      },
      "text/plain": [
       "HBox(children=(HTML(value='[win: 80.302, wl: 4]'), FloatProgress(value=0.0, max=600.0), HTML(value='')))"
      ]
     },
     "metadata": {},
     "output_type": "display_data"
    },
    {
     "name": "stdout",
     "output_type": "stream",
     "text": [
      "\n"
     ]
    },
    {
     "data": {
      "application/vnd.jupyter.widget-view+json": {
       "model_id": "48f26bea76564c1a9007f7af25f6f2fe",
       "version_major": 2,
       "version_minor": 0
      },
      "text/plain": [
       "HBox(children=(HTML(value='[win: 90.100, wl: 4]'), FloatProgress(value=0.0, max=600.0), HTML(value='')))"
      ]
     },
     "metadata": {},
     "output_type": "display_data"
    },
    {
     "name": "stdout",
     "output_type": "stream",
     "text": [
      "\n"
     ]
    },
    {
     "data": {
      "application/vnd.jupyter.widget-view+json": {
       "model_id": "b235e352722c4dcca800bbc801693ecb",
       "version_major": 2,
       "version_minor": 0
      },
      "text/plain": [
       "HBox(children=(HTML(value='[win: 101.094, wl: 4]'), FloatProgress(value=0.0, max=600.0), HTML(value='')))"
      ]
     },
     "metadata": {},
     "output_type": "display_data"
    },
    {
     "name": "stdout",
     "output_type": "stream",
     "text": [
      "\n"
     ]
    },
    {
     "data": {
      "application/vnd.jupyter.widget-view+json": {
       "model_id": "92d5a09046a24ab7b9fdb73c7c7ac4dd",
       "version_major": 2,
       "version_minor": 0
      },
      "text/plain": [
       "HBox(children=(HTML(value='[win: 113.429, wl: 4]'), FloatProgress(value=0.0, max=600.0), HTML(value='')))"
      ]
     },
     "metadata": {},
     "output_type": "display_data"
    },
    {
     "name": "stdout",
     "output_type": "stream",
     "text": [
      "\n"
     ]
    },
    {
     "data": {
      "application/vnd.jupyter.widget-view+json": {
       "model_id": "fdf717238a9f4799bec581d8fea8edca",
       "version_major": 2,
       "version_minor": 0
      },
      "text/plain": [
       "HBox(children=(HTML(value='[win: 127.269, wl: 4]'), FloatProgress(value=0.0, max=600.0), HTML(value='')))"
      ]
     },
     "metadata": {},
     "output_type": "display_data"
    },
    {
     "name": "stdout",
     "output_type": "stream",
     "text": [
      "\n"
     ]
    },
    {
     "data": {
      "application/vnd.jupyter.widget-view+json": {
       "model_id": "8f7803a098434d93b48ca313f56d7787",
       "version_major": 2,
       "version_minor": 0
      },
      "text/plain": [
       "HBox(children=(HTML(value='[win: 142.799, wl: 4]'), FloatProgress(value=0.0, max=600.0), HTML(value='')))"
      ]
     },
     "metadata": {},
     "output_type": "display_data"
    },
    {
     "name": "stdout",
     "output_type": "stream",
     "text": [
      "\n"
     ]
    },
    {
     "data": {
      "application/vnd.jupyter.widget-view+json": {
       "model_id": "4e80f635719649ee9cf1e05a1186904b",
       "version_major": 2,
       "version_minor": 0
      },
      "text/plain": [
       "HBox(children=(HTML(value='[win: 160.223, wl: 4]'), FloatProgress(value=0.0, max=600.0), HTML(value='')))"
      ]
     },
     "metadata": {},
     "output_type": "display_data"
    },
    {
     "name": "stdout",
     "output_type": "stream",
     "text": [
      "\n",
      "108>30 time series failed to be represented, dropping sequence\n"
     ]
    },
    {
     "data": {
      "application/vnd.jupyter.widget-view+json": {
       "model_id": "3543bcf037b3482fab1597ef1905b444",
       "version_major": 2,
       "version_minor": 0
      },
      "text/plain": [
       "HBox(children=(HTML(value='[win: 179.773, wl: 4]'), FloatProgress(value=0.0, max=600.0), HTML(value='')))"
      ]
     },
     "metadata": {},
     "output_type": "display_data"
    },
    {
     "name": "stdout",
     "output_type": "stream",
     "text": [
      "\n",
      "289>30 time series failed to be represented, dropping sequence\n"
     ]
    },
    {
     "data": {
      "application/vnd.jupyter.widget-view+json": {
       "model_id": "c0de93dafaba419c8fa3f82c3c4419e8",
       "version_major": 2,
       "version_minor": 0
      },
      "text/plain": [
       "HBox(children=(HTML(value='[win: 201.709, wl: 4]'), FloatProgress(value=0.0, max=600.0), HTML(value='')))"
      ]
     },
     "metadata": {},
     "output_type": "display_data"
    },
    {
     "name": "stdout",
     "output_type": "stream",
     "text": [
      "\n",
      "472>30 time series failed to be represented, dropping sequence\n"
     ]
    },
    {
     "data": {
      "application/vnd.jupyter.widget-view+json": {
       "model_id": "0efac19c53ec42ab91de65a2869896bf",
       "version_major": 2,
       "version_minor": 0
      },
      "text/plain": [
       "HBox(children=(HTML(value='[win: 226.321, wl: 4]'), FloatProgress(value=0.0, max=600.0), HTML(value='')))"
      ]
     },
     "metadata": {},
     "output_type": "display_data"
    },
    {
     "name": "stdout",
     "output_type": "stream",
     "text": [
      "\n",
      "542>30 time series failed to be represented, dropping sequence\n"
     ]
    },
    {
     "data": {
      "application/vnd.jupyter.widget-view+json": {
       "model_id": "24cb09072def414aad9b6b3ca10f606d",
       "version_major": 2,
       "version_minor": 0
      },
      "text/plain": [
       "HBox(children=(HTML(value='[win: 253.936, wl: 4]'), FloatProgress(value=0.0, max=600.0), HTML(value='')))"
      ]
     },
     "metadata": {},
     "output_type": "display_data"
    },
    {
     "name": "stdout",
     "output_type": "stream",
     "text": [
      "\n",
      "583>30 time series failed to be represented, dropping sequence\n"
     ]
    },
    {
     "data": {
      "application/vnd.jupyter.widget-view+json": {
       "model_id": "b0343b0bfec8446798632043b8a8535f",
       "version_major": 2,
       "version_minor": 0
      },
      "text/plain": [
       "HBox(children=(HTML(value='[win: 284.921, wl: 4]'), FloatProgress(value=0.0, max=600.0), HTML(value='')))"
      ]
     },
     "metadata": {},
     "output_type": "display_data"
    },
    {
     "name": "stdout",
     "output_type": "stream",
     "text": [
      "\n",
      "597>30 time series failed to be represented, dropping sequence\n"
     ]
    },
    {
     "data": {
      "application/vnd.jupyter.widget-view+json": {
       "model_id": "715113acc08c4016a30fc6f1f2b726e3",
       "version_major": 2,
       "version_minor": 0
      },
      "text/plain": [
       "HBox(children=(HTML(value='[win: 319.686, wl: 4]'), FloatProgress(value=0.0, max=600.0), HTML(value='')))"
      ]
     },
     "metadata": {},
     "output_type": "display_data"
    },
    {
     "name": "stdout",
     "output_type": "stream",
     "text": [
      "\n",
      "600>30 time series failed to be represented, dropping sequence\n"
     ]
    },
    {
     "data": {
      "application/vnd.jupyter.widget-view+json": {
       "model_id": "03ae554c8e274834a100accf03cfa4fc",
       "version_major": 2,
       "version_minor": 0
      },
      "text/plain": [
       "HBox(children=(HTML(value='[win: 358.694, wl: 4]'), FloatProgress(value=0.0, max=600.0), HTML(value='')))"
      ]
     },
     "metadata": {},
     "output_type": "display_data"
    },
    {
     "name": "stdout",
     "output_type": "stream",
     "text": [
      "\n",
      "600>30 time series failed to be represented, dropping sequence\n"
     ]
    },
    {
     "data": {
      "application/vnd.jupyter.widget-view+json": {
       "model_id": "4eeed16cc61b4f7cb99d7637b95124b9",
       "version_major": 2,
       "version_minor": 0
      },
      "text/plain": [
       "HBox(children=(HTML(value='[win: 402.461, wl: 4]'), FloatProgress(value=0.0, max=600.0), HTML(value='')))"
      ]
     },
     "metadata": {},
     "output_type": "display_data"
    },
    {
     "name": "stdout",
     "output_type": "stream",
     "text": [
      "\n",
      "600>30 time series failed to be represented, dropping sequence\n"
     ]
    },
    {
     "data": {
      "application/vnd.jupyter.widget-view+json": {
       "model_id": "b26cc05ec79a489ea07ba8c96b37db85",
       "version_major": 2,
       "version_minor": 0
      },
      "text/plain": [
       "HBox(children=(HTML(value='[win: 451.569, wl: 4]'), FloatProgress(value=0.0, max=600.0), HTML(value='')))"
      ]
     },
     "metadata": {},
     "output_type": "display_data"
    },
    {
     "name": "stdout",
     "output_type": "stream",
     "text": [
      "\n",
      "593>30 time series failed to be represented, dropping sequence\n"
     ]
    },
    {
     "data": {
      "application/vnd.jupyter.widget-view+json": {
       "model_id": "514487f9874849edb8192ed014da76eb",
       "version_major": 2,
       "version_minor": 0
      },
      "text/plain": [
       "HBox(children=(HTML(value='[win: 506.669, wl: 4]'), FloatProgress(value=0.0, max=600.0), HTML(value='')))"
      ]
     },
     "metadata": {},
     "output_type": "display_data"
    },
    {
     "name": "stdout",
     "output_type": "stream",
     "text": [
      "\n",
      "413>30 time series failed to be represented, dropping sequence\n"
     ]
    },
    {
     "data": {
      "application/vnd.jupyter.widget-view+json": {
       "model_id": "de66e10fdda24ea7b716cbc330fcc5b9",
       "version_major": 2,
       "version_minor": 0
      },
      "text/plain": [
       "HBox(children=(HTML(value='[win: 568.492, wl: 4]'), FloatProgress(value=0.0, max=600.0), HTML(value='')))"
      ]
     },
     "metadata": {},
     "output_type": "display_data"
    },
    {
     "name": "stdout",
     "output_type": "stream",
     "text": [
      "\n",
      "524>30 time series failed to be represented, dropping sequence\n"
     ]
    },
    {
     "data": {
      "application/vnd.jupyter.widget-view+json": {
       "model_id": "23dc3f071be345ed99892ad2c034ead6",
       "version_major": 2,
       "version_minor": 0
      },
      "text/plain": [
       "HBox(children=(HTML(value='[win: 637.858, wl: 4]'), FloatProgress(value=0.0, max=600.0), HTML(value='')))"
      ]
     },
     "metadata": {},
     "output_type": "display_data"
    },
    {
     "name": "stdout",
     "output_type": "stream",
     "text": [
      "\n",
      "414>30 time series failed to be represented, dropping sequence\n"
     ]
    },
    {
     "data": {
      "application/vnd.jupyter.widget-view+json": {
       "model_id": "6b108b84a9e141bcaa4e8030576f72f8",
       "version_major": 2,
       "version_minor": 0
      },
      "text/plain": [
       "HBox(children=(HTML(value='[win: 715.689, wl: 4]'), FloatProgress(value=0.0, max=600.0), HTML(value='')))"
      ]
     },
     "metadata": {},
     "output_type": "display_data"
    },
    {
     "name": "stdout",
     "output_type": "stream",
     "text": [
      "\n",
      "296>30 time series failed to be represented, dropping sequence\n"
     ]
    },
    {
     "data": {
      "application/vnd.jupyter.widget-view+json": {
       "model_id": "8b896140bb8945d3a7fe0a866edffcc7",
       "version_major": 2,
       "version_minor": 0
      },
      "text/plain": [
       "HBox(children=(HTML(value='[win: 803.016, wl: 4]'), FloatProgress(value=0.0, max=600.0), HTML(value='')))"
      ]
     },
     "metadata": {},
     "output_type": "display_data"
    },
    {
     "name": "stdout",
     "output_type": "stream",
     "text": [
      "\n",
      "271>30 time series failed to be represented, dropping sequence\n"
     ]
    },
    {
     "data": {
      "application/vnd.jupyter.widget-view+json": {
       "model_id": "44e4992815a14ca4b1226799a802a16e",
       "version_major": 2,
       "version_minor": 0
      },
      "text/plain": [
       "HBox(children=(HTML(value='[win: 900.999, wl: 4]'), FloatProgress(value=0.0, max=600.0), HTML(value='')))"
      ]
     },
     "metadata": {},
     "output_type": "display_data"
    },
    {
     "name": "stdout",
     "output_type": "stream",
     "text": [
      "\n",
      "222>30 time series failed to be represented, dropping sequence\n"
     ]
    },
    {
     "data": {
      "application/vnd.jupyter.widget-view+json": {
       "model_id": "8770ca3936344302b7f5e866515d2e6f",
       "version_major": 2,
       "version_minor": 0
      },
      "text/plain": [
       "HBox(children=(HTML(value='[win: 10.109, wl: 5]'), FloatProgress(value=0.0, max=600.0), HTML(value='')))"
      ]
     },
     "metadata": {},
     "output_type": "display_data"
    },
    {
     "name": "stdout",
     "output_type": "stream",
     "text": [
      "\n",
      "543>30 time series failed to be represented, dropping sequence\n"
     ]
    },
    {
     "data": {
      "application/vnd.jupyter.widget-view+json": {
       "model_id": "926ecee2f3514165ae4d6e9a09ff6b3d",
       "version_major": 2,
       "version_minor": 0
      },
      "text/plain": [
       "HBox(children=(HTML(value='[win: 11.343, wl: 5]'), FloatProgress(value=0.0, max=600.0), HTML(value='')))"
      ]
     },
     "metadata": {},
     "output_type": "display_data"
    },
    {
     "name": "stdout",
     "output_type": "stream",
     "text": [
      "\n",
      "559>30 time series failed to be represented, dropping sequence\n"
     ]
    },
    {
     "data": {
      "application/vnd.jupyter.widget-view+json": {
       "model_id": "0dcadb115589427a85e20fb6065848f9",
       "version_major": 2,
       "version_minor": 0
      },
      "text/plain": [
       "HBox(children=(HTML(value='[win: 12.727, wl: 5]'), FloatProgress(value=0.0, max=600.0), HTML(value='')))"
      ]
     },
     "metadata": {},
     "output_type": "display_data"
    },
    {
     "name": "stdout",
     "output_type": "stream",
     "text": [
      "\n",
      "571>30 time series failed to be represented, dropping sequence\n"
     ]
    },
    {
     "data": {
      "application/vnd.jupyter.widget-view+json": {
       "model_id": "c2c8f8ad49874b4ba3ff150b35c1a6a3",
       "version_major": 2,
       "version_minor": 0
      },
      "text/plain": [
       "HBox(children=(HTML(value='[win: 14.280, wl: 5]'), FloatProgress(value=0.0, max=600.0), HTML(value='')))"
      ]
     },
     "metadata": {},
     "output_type": "display_data"
    },
    {
     "name": "stdout",
     "output_type": "stream",
     "text": [
      "\n",
      "560>30 time series failed to be represented, dropping sequence\n"
     ]
    },
    {
     "data": {
      "application/vnd.jupyter.widget-view+json": {
       "model_id": "af818857e24543e688d007ed0eb6293e",
       "version_major": 2,
       "version_minor": 0
      },
      "text/plain": [
       "HBox(children=(HTML(value='[win: 16.022, wl: 5]'), FloatProgress(value=0.0, max=600.0), HTML(value='')))"
      ]
     },
     "metadata": {},
     "output_type": "display_data"
    },
    {
     "name": "stdout",
     "output_type": "stream",
     "text": [
      "\n",
      "556>30 time series failed to be represented, dropping sequence\n"
     ]
    },
    {
     "data": {
      "application/vnd.jupyter.widget-view+json": {
       "model_id": "5482dc98b96247a08fbe7e45fffe495b",
       "version_major": 2,
       "version_minor": 0
      },
      "text/plain": [
       "HBox(children=(HTML(value='[win: 17.977, wl: 5]'), FloatProgress(value=0.0, max=600.0), HTML(value='')))"
      ]
     },
     "metadata": {},
     "output_type": "display_data"
    },
    {
     "name": "stdout",
     "output_type": "stream",
     "text": [
      "\n",
      "560>30 time series failed to be represented, dropping sequence\n"
     ]
    },
    {
     "data": {
      "application/vnd.jupyter.widget-view+json": {
       "model_id": "ec773e4ef9a94ebc9599d418c0e43eb9",
       "version_major": 2,
       "version_minor": 0
      },
      "text/plain": [
       "HBox(children=(HTML(value='[win: 20.171, wl: 5]'), FloatProgress(value=0.0, max=600.0), HTML(value='')))"
      ]
     },
     "metadata": {},
     "output_type": "display_data"
    },
    {
     "name": "stdout",
     "output_type": "stream",
     "text": [
      "\n",
      "559>30 time series failed to be represented, dropping sequence\n"
     ]
    },
    {
     "data": {
      "application/vnd.jupyter.widget-view+json": {
       "model_id": "fbdd925c2ee34b9bb6f5120122583243",
       "version_major": 2,
       "version_minor": 0
      },
      "text/plain": [
       "HBox(children=(HTML(value='[win: 22.632, wl: 5]'), FloatProgress(value=0.0, max=600.0), HTML(value='')))"
      ]
     },
     "metadata": {},
     "output_type": "display_data"
    },
    {
     "name": "stdout",
     "output_type": "stream",
     "text": [
      "\n",
      "547>30 time series failed to be represented, dropping sequence\n"
     ]
    },
    {
     "data": {
      "application/vnd.jupyter.widget-view+json": {
       "model_id": "918b636f1ce749198b682174583cecad",
       "version_major": 2,
       "version_minor": 0
      },
      "text/plain": [
       "HBox(children=(HTML(value='[win: 25.394, wl: 5]'), FloatProgress(value=0.0, max=600.0), HTML(value='')))"
      ]
     },
     "metadata": {},
     "output_type": "display_data"
    },
    {
     "name": "stdout",
     "output_type": "stream",
     "text": [
      "\n",
      "524>30 time series failed to be represented, dropping sequence\n"
     ]
    },
    {
     "data": {
      "application/vnd.jupyter.widget-view+json": {
       "model_id": "b523b97718094602bba0c84b170f0154",
       "version_major": 2,
       "version_minor": 0
      },
      "text/plain": [
       "HBox(children=(HTML(value='[win: 28.492, wl: 5]'), FloatProgress(value=0.0, max=600.0), HTML(value='')))"
      ]
     },
     "metadata": {},
     "output_type": "display_data"
    },
    {
     "name": "stdout",
     "output_type": "stream",
     "text": [
      "\n",
      "423>30 time series failed to be represented, dropping sequence\n"
     ]
    },
    {
     "data": {
      "application/vnd.jupyter.widget-view+json": {
       "model_id": "b8fb4e4104f4429faaff502f7e665f50",
       "version_major": 2,
       "version_minor": 0
      },
      "text/plain": [
       "HBox(children=(HTML(value='[win: 31.969, wl: 5]'), FloatProgress(value=0.0, max=600.0), HTML(value='')))"
      ]
     },
     "metadata": {},
     "output_type": "display_data"
    },
    {
     "name": "stdout",
     "output_type": "stream",
     "text": [
      "\n",
      "264>30 time series failed to be represented, dropping sequence\n"
     ]
    },
    {
     "data": {
      "application/vnd.jupyter.widget-view+json": {
       "model_id": "c535a2272807409dbfad2e09dbd81c7a",
       "version_major": 2,
       "version_minor": 0
      },
      "text/plain": [
       "HBox(children=(HTML(value='[win: 35.869, wl: 5]'), FloatProgress(value=0.0, max=600.0), HTML(value='')))"
      ]
     },
     "metadata": {},
     "output_type": "display_data"
    },
    {
     "name": "stdout",
     "output_type": "stream",
     "text": [
      "\n",
      "162>30 time series failed to be represented, dropping sequence\n"
     ]
    },
    {
     "data": {
      "application/vnd.jupyter.widget-view+json": {
       "model_id": "00bbd08af8324dbe8a599aa2b8359842",
       "version_major": 2,
       "version_minor": 0
      },
      "text/plain": [
       "HBox(children=(HTML(value='[win: 40.246, wl: 5]'), FloatProgress(value=0.0, max=600.0), HTML(value='')))"
      ]
     },
     "metadata": {},
     "output_type": "display_data"
    },
    {
     "name": "stdout",
     "output_type": "stream",
     "text": [
      "\n",
      "76>30 time series failed to be represented, dropping sequence\n"
     ]
    },
    {
     "data": {
      "application/vnd.jupyter.widget-view+json": {
       "model_id": "acc35bbc1cc948ec927901cb4f565a05",
       "version_major": 2,
       "version_minor": 0
      },
      "text/plain": [
       "HBox(children=(HTML(value='[win: 45.157, wl: 5]'), FloatProgress(value=0.0, max=600.0), HTML(value='')))"
      ]
     },
     "metadata": {},
     "output_type": "display_data"
    },
    {
     "name": "stdout",
     "output_type": "stream",
     "text": [
      "\n"
     ]
    },
    {
     "data": {
      "application/vnd.jupyter.widget-view+json": {
       "model_id": "2e014a8720bb443c8dbedb5046f0d7de",
       "version_major": 2,
       "version_minor": 0
      },
      "text/plain": [
       "HBox(children=(HTML(value='[win: 50.667, wl: 5]'), FloatProgress(value=0.0, max=600.0), HTML(value='')))"
      ]
     },
     "metadata": {},
     "output_type": "display_data"
    },
    {
     "name": "stdout",
     "output_type": "stream",
     "text": [
      "\n"
     ]
    },
    {
     "data": {
      "application/vnd.jupyter.widget-view+json": {
       "model_id": "a017a02381c9417b97885e2177708848",
       "version_major": 2,
       "version_minor": 0
      },
      "text/plain": [
       "HBox(children=(HTML(value='[win: 56.849, wl: 5]'), FloatProgress(value=0.0, max=600.0), HTML(value='')))"
      ]
     },
     "metadata": {},
     "output_type": "display_data"
    },
    {
     "name": "stdout",
     "output_type": "stream",
     "text": [
      "\n"
     ]
    },
    {
     "data": {
      "application/vnd.jupyter.widget-view+json": {
       "model_id": "a28b257e8dab4b11b6d844c155199a3b",
       "version_major": 2,
       "version_minor": 0
      },
      "text/plain": [
       "HBox(children=(HTML(value='[win: 63.786, wl: 5]'), FloatProgress(value=0.0, max=600.0), HTML(value='')))"
      ]
     },
     "metadata": {},
     "output_type": "display_data"
    },
    {
     "name": "stdout",
     "output_type": "stream",
     "text": [
      "\n"
     ]
    },
    {
     "data": {
      "application/vnd.jupyter.widget-view+json": {
       "model_id": "ec86b74b934b44568d72013f4e49c612",
       "version_major": 2,
       "version_minor": 0
      },
      "text/plain": [
       "HBox(children=(HTML(value='[win: 71.569, wl: 5]'), FloatProgress(value=0.0, max=600.0), HTML(value='')))"
      ]
     },
     "metadata": {},
     "output_type": "display_data"
    },
    {
     "name": "stdout",
     "output_type": "stream",
     "text": [
      "\n"
     ]
    },
    {
     "data": {
      "application/vnd.jupyter.widget-view+json": {
       "model_id": "63ec060c8d604a548156fdb4c967a3c4",
       "version_major": 2,
       "version_minor": 0
      },
      "text/plain": [
       "HBox(children=(HTML(value='[win: 80.302, wl: 5]'), FloatProgress(value=0.0, max=600.0), HTML(value='')))"
      ]
     },
     "metadata": {},
     "output_type": "display_data"
    },
    {
     "name": "stdout",
     "output_type": "stream",
     "text": [
      "\n"
     ]
    },
    {
     "data": {
      "application/vnd.jupyter.widget-view+json": {
       "model_id": "8f79da7b804548329029129cc5ac92ae",
       "version_major": 2,
       "version_minor": 0
      },
      "text/plain": [
       "HBox(children=(HTML(value='[win: 90.100, wl: 5]'), FloatProgress(value=0.0, max=600.0), HTML(value='')))"
      ]
     },
     "metadata": {},
     "output_type": "display_data"
    },
    {
     "name": "stdout",
     "output_type": "stream",
     "text": [
      "\n"
     ]
    },
    {
     "data": {
      "application/vnd.jupyter.widget-view+json": {
       "model_id": "dd0a2880b8d143c58304d48ef14a3f5d",
       "version_major": 2,
       "version_minor": 0
      },
      "text/plain": [
       "HBox(children=(HTML(value='[win: 101.094, wl: 5]'), FloatProgress(value=0.0, max=600.0), HTML(value='')))"
      ]
     },
     "metadata": {},
     "output_type": "display_data"
    },
    {
     "name": "stdout",
     "output_type": "stream",
     "text": [
      "\n"
     ]
    },
    {
     "data": {
      "application/vnd.jupyter.widget-view+json": {
       "model_id": "0186d3d5c4d84aa8a11bf50f3f3b20f8",
       "version_major": 2,
       "version_minor": 0
      },
      "text/plain": [
       "HBox(children=(HTML(value='[win: 113.429, wl: 5]'), FloatProgress(value=0.0, max=600.0), HTML(value='')))"
      ]
     },
     "metadata": {},
     "output_type": "display_data"
    },
    {
     "name": "stdout",
     "output_type": "stream",
     "text": [
      "\n"
     ]
    },
    {
     "data": {
      "application/vnd.jupyter.widget-view+json": {
       "model_id": "66634245241049c39c01b93c7b7efbae",
       "version_major": 2,
       "version_minor": 0
      },
      "text/plain": [
       "HBox(children=(HTML(value='[win: 127.269, wl: 5]'), FloatProgress(value=0.0, max=600.0), HTML(value='')))"
      ]
     },
     "metadata": {},
     "output_type": "display_data"
    },
    {
     "name": "stdout",
     "output_type": "stream",
     "text": [
      "\n"
     ]
    },
    {
     "data": {
      "application/vnd.jupyter.widget-view+json": {
       "model_id": "5b696aaf28c14382b5e99fed679fb7d6",
       "version_major": 2,
       "version_minor": 0
      },
      "text/plain": [
       "HBox(children=(HTML(value='[win: 142.799, wl: 5]'), FloatProgress(value=0.0, max=600.0), HTML(value='')))"
      ]
     },
     "metadata": {},
     "output_type": "display_data"
    },
    {
     "name": "stdout",
     "output_type": "stream",
     "text": [
      "\n",
      "31>30 time series failed to be represented, dropping sequence\n"
     ]
    },
    {
     "data": {
      "application/vnd.jupyter.widget-view+json": {
       "model_id": "776758542d684b2c9a43a8c04811dee5",
       "version_major": 2,
       "version_minor": 0
      },
      "text/plain": [
       "HBox(children=(HTML(value='[win: 160.223, wl: 5]'), FloatProgress(value=0.0, max=600.0), HTML(value='')))"
      ]
     },
     "metadata": {},
     "output_type": "display_data"
    },
    {
     "name": "stdout",
     "output_type": "stream",
     "text": [
      "\n",
      "163>30 time series failed to be represented, dropping sequence\n"
     ]
    },
    {
     "data": {
      "application/vnd.jupyter.widget-view+json": {
       "model_id": "03cee6d0d4d949748949c48fdeb59981",
       "version_major": 2,
       "version_minor": 0
      },
      "text/plain": [
       "HBox(children=(HTML(value='[win: 179.773, wl: 5]'), FloatProgress(value=0.0, max=600.0), HTML(value='')))"
      ]
     },
     "metadata": {},
     "output_type": "display_data"
    },
    {
     "name": "stdout",
     "output_type": "stream",
     "text": [
      "\n",
      "386>30 time series failed to be represented, dropping sequence\n"
     ]
    },
    {
     "data": {
      "application/vnd.jupyter.widget-view+json": {
       "model_id": "6173b44a010b42be8f1d3dc1d5495bd2",
       "version_major": 2,
       "version_minor": 0
      },
      "text/plain": [
       "HBox(children=(HTML(value='[win: 201.709, wl: 5]'), FloatProgress(value=0.0, max=600.0), HTML(value='')))"
      ]
     },
     "metadata": {},
     "output_type": "display_data"
    },
    {
     "name": "stdout",
     "output_type": "stream",
     "text": [
      "\n",
      "517>30 time series failed to be represented, dropping sequence\n"
     ]
    },
    {
     "data": {
      "application/vnd.jupyter.widget-view+json": {
       "model_id": "3bc0a87f019c454fa1a6f0f946be966e",
       "version_major": 2,
       "version_minor": 0
      },
      "text/plain": [
       "HBox(children=(HTML(value='[win: 226.321, wl: 5]'), FloatProgress(value=0.0, max=600.0), HTML(value='')))"
      ]
     },
     "metadata": {},
     "output_type": "display_data"
    },
    {
     "name": "stdout",
     "output_type": "stream",
     "text": [
      "\n",
      "570>30 time series failed to be represented, dropping sequence\n"
     ]
    },
    {
     "data": {
      "application/vnd.jupyter.widget-view+json": {
       "model_id": "2d9f6f223d1842c7a2967eec54476262",
       "version_major": 2,
       "version_minor": 0
      },
      "text/plain": [
       "HBox(children=(HTML(value='[win: 253.936, wl: 5]'), FloatProgress(value=0.0, max=600.0), HTML(value='')))"
      ]
     },
     "metadata": {},
     "output_type": "display_data"
    },
    {
     "name": "stdout",
     "output_type": "stream",
     "text": [
      "\n",
      "592>30 time series failed to be represented, dropping sequence\n"
     ]
    },
    {
     "data": {
      "application/vnd.jupyter.widget-view+json": {
       "model_id": "922b3d39dac047b280e2427588e8cc64",
       "version_major": 2,
       "version_minor": 0
      },
      "text/plain": [
       "HBox(children=(HTML(value='[win: 284.921, wl: 5]'), FloatProgress(value=0.0, max=600.0), HTML(value='')))"
      ]
     },
     "metadata": {},
     "output_type": "display_data"
    },
    {
     "name": "stdout",
     "output_type": "stream",
     "text": [
      "\n",
      "600>30 time series failed to be represented, dropping sequence\n"
     ]
    },
    {
     "data": {
      "application/vnd.jupyter.widget-view+json": {
       "model_id": "d280dd361ede4d1e8ffa03362e570edd",
       "version_major": 2,
       "version_minor": 0
      },
      "text/plain": [
       "HBox(children=(HTML(value='[win: 319.686, wl: 5]'), FloatProgress(value=0.0, max=600.0), HTML(value='')))"
      ]
     },
     "metadata": {},
     "output_type": "display_data"
    },
    {
     "name": "stdout",
     "output_type": "stream",
     "text": [
      "\n",
      "600>30 time series failed to be represented, dropping sequence\n"
     ]
    },
    {
     "data": {
      "application/vnd.jupyter.widget-view+json": {
       "model_id": "8f0572920f854d9d9adf74b417bc2df3",
       "version_major": 2,
       "version_minor": 0
      },
      "text/plain": [
       "HBox(children=(HTML(value='[win: 358.694, wl: 5]'), FloatProgress(value=0.0, max=600.0), HTML(value='')))"
      ]
     },
     "metadata": {},
     "output_type": "display_data"
    },
    {
     "name": "stdout",
     "output_type": "stream",
     "text": [
      "\n",
      "600>30 time series failed to be represented, dropping sequence\n"
     ]
    },
    {
     "data": {
      "application/vnd.jupyter.widget-view+json": {
       "model_id": "ffd71c125d544ba29db927017cea8575",
       "version_major": 2,
       "version_minor": 0
      },
      "text/plain": [
       "HBox(children=(HTML(value='[win: 402.461, wl: 5]'), FloatProgress(value=0.0, max=600.0), HTML(value='')))"
      ]
     },
     "metadata": {},
     "output_type": "display_data"
    },
    {
     "name": "stdout",
     "output_type": "stream",
     "text": [
      "\n",
      "600>30 time series failed to be represented, dropping sequence\n"
     ]
    },
    {
     "data": {
      "application/vnd.jupyter.widget-view+json": {
       "model_id": "8e2175c476fb43618d8f57106529b75c",
       "version_major": 2,
       "version_minor": 0
      },
      "text/plain": [
       "HBox(children=(HTML(value='[win: 451.569, wl: 5]'), FloatProgress(value=0.0, max=600.0), HTML(value='')))"
      ]
     },
     "metadata": {},
     "output_type": "display_data"
    },
    {
     "name": "stdout",
     "output_type": "stream",
     "text": [
      "\n",
      "600>30 time series failed to be represented, dropping sequence\n"
     ]
    },
    {
     "data": {
      "application/vnd.jupyter.widget-view+json": {
       "model_id": "8cd95391101c42a6b9b6699a161dfd45",
       "version_major": 2,
       "version_minor": 0
      },
      "text/plain": [
       "HBox(children=(HTML(value='[win: 506.669, wl: 5]'), FloatProgress(value=0.0, max=600.0), HTML(value='')))"
      ]
     },
     "metadata": {},
     "output_type": "display_data"
    },
    {
     "name": "stdout",
     "output_type": "stream",
     "text": [
      "\n",
      "600>30 time series failed to be represented, dropping sequence\n"
     ]
    },
    {
     "data": {
      "application/vnd.jupyter.widget-view+json": {
       "model_id": "190e07e3bfc843b8a4d187e91db4f63c",
       "version_major": 2,
       "version_minor": 0
      },
      "text/plain": [
       "HBox(children=(HTML(value='[win: 568.492, wl: 5]'), FloatProgress(value=0.0, max=600.0), HTML(value='')))"
      ]
     },
     "metadata": {},
     "output_type": "display_data"
    },
    {
     "name": "stdout",
     "output_type": "stream",
     "text": [
      "\n",
      "599>30 time series failed to be represented, dropping sequence\n"
     ]
    },
    {
     "data": {
      "application/vnd.jupyter.widget-view+json": {
       "model_id": "96236a763c2942c192d25041d49a0afc",
       "version_major": 2,
       "version_minor": 0
      },
      "text/plain": [
       "HBox(children=(HTML(value='[win: 637.858, wl: 5]'), FloatProgress(value=0.0, max=600.0), HTML(value='')))"
      ]
     },
     "metadata": {},
     "output_type": "display_data"
    },
    {
     "name": "stdout",
     "output_type": "stream",
     "text": [
      "\n",
      "553>30 time series failed to be represented, dropping sequence\n"
     ]
    },
    {
     "data": {
      "application/vnd.jupyter.widget-view+json": {
       "model_id": "8a543fd5a68240b59473c8910e8f01a6",
       "version_major": 2,
       "version_minor": 0
      },
      "text/plain": [
       "HBox(children=(HTML(value='[win: 715.689, wl: 5]'), FloatProgress(value=0.0, max=600.0), HTML(value='')))"
      ]
     },
     "metadata": {},
     "output_type": "display_data"
    },
    {
     "name": "stdout",
     "output_type": "stream",
     "text": [
      "\n",
      "588>30 time series failed to be represented, dropping sequence\n"
     ]
    },
    {
     "data": {
      "application/vnd.jupyter.widget-view+json": {
       "model_id": "0f8f53240d4b4bc7976bc14e5a437962",
       "version_major": 2,
       "version_minor": 0
      },
      "text/plain": [
       "HBox(children=(HTML(value='[win: 803.016, wl: 5]'), FloatProgress(value=0.0, max=600.0), HTML(value='')))"
      ]
     },
     "metadata": {},
     "output_type": "display_data"
    },
    {
     "name": "stdout",
     "output_type": "stream",
     "text": [
      "\n",
      "446>30 time series failed to be represented, dropping sequence\n"
     ]
    },
    {
     "data": {
      "application/vnd.jupyter.widget-view+json": {
       "model_id": "7bb9e4335b3148ce8a46a388f4430aa2",
       "version_major": 2,
       "version_minor": 0
      },
      "text/plain": [
       "HBox(children=(HTML(value='[win: 900.999, wl: 5]'), FloatProgress(value=0.0, max=600.0), HTML(value='')))"
      ]
     },
     "metadata": {},
     "output_type": "display_data"
    },
    {
     "name": "stdout",
     "output_type": "stream",
     "text": [
      "\n",
      "323>30 time series failed to be represented, dropping sequence\n"
     ]
    },
    {
     "data": {
      "application/vnd.jupyter.widget-view+json": {
       "model_id": "d5c76bcf6b3e4e63bc004eb79696e21e",
       "version_major": 2,
       "version_minor": 0
      },
      "text/plain": [
       "HBox(children=(HTML(value='[win: 10.109, wl: 6]'), FloatProgress(value=0.0, max=600.0), HTML(value='')))"
      ]
     },
     "metadata": {},
     "output_type": "display_data"
    },
    {
     "name": "stdout",
     "output_type": "stream",
     "text": [
      "\n",
      "561>30 time series failed to be represented, dropping sequence\n"
     ]
    },
    {
     "data": {
      "application/vnd.jupyter.widget-view+json": {
       "model_id": "bfbf0a32895d4511b1f4a41153e5533d",
       "version_major": 2,
       "version_minor": 0
      },
      "text/plain": [
       "HBox(children=(HTML(value='[win: 11.343, wl: 6]'), FloatProgress(value=0.0, max=600.0), HTML(value='')))"
      ]
     },
     "metadata": {},
     "output_type": "display_data"
    },
    {
     "name": "stdout",
     "output_type": "stream",
     "text": [
      "\n",
      "580>30 time series failed to be represented, dropping sequence\n"
     ]
    },
    {
     "data": {
      "application/vnd.jupyter.widget-view+json": {
       "model_id": "7e9b90e8bb7c4354b6cc25ab915a4f72",
       "version_major": 2,
       "version_minor": 0
      },
      "text/plain": [
       "HBox(children=(HTML(value='[win: 12.727, wl: 6]'), FloatProgress(value=0.0, max=600.0), HTML(value='')))"
      ]
     },
     "metadata": {},
     "output_type": "display_data"
    },
    {
     "name": "stdout",
     "output_type": "stream",
     "text": [
      "\n",
      "590>30 time series failed to be represented, dropping sequence\n"
     ]
    },
    {
     "data": {
      "application/vnd.jupyter.widget-view+json": {
       "model_id": "5c2dc5f464e8435c883c40a024cccd5e",
       "version_major": 2,
       "version_minor": 0
      },
      "text/plain": [
       "HBox(children=(HTML(value='[win: 14.280, wl: 6]'), FloatProgress(value=0.0, max=600.0), HTML(value='')))"
      ]
     },
     "metadata": {},
     "output_type": "display_data"
    },
    {
     "name": "stdout",
     "output_type": "stream",
     "text": [
      "\n",
      "591>30 time series failed to be represented, dropping sequence\n"
     ]
    },
    {
     "data": {
      "application/vnd.jupyter.widget-view+json": {
       "model_id": "86a25f95ff9749d9862d7bdc5181d278",
       "version_major": 2,
       "version_minor": 0
      },
      "text/plain": [
       "HBox(children=(HTML(value='[win: 16.022, wl: 6]'), FloatProgress(value=0.0, max=600.0), HTML(value='')))"
      ]
     },
     "metadata": {},
     "output_type": "display_data"
    },
    {
     "name": "stdout",
     "output_type": "stream",
     "text": [
      "\n",
      "592>30 time series failed to be represented, dropping sequence\n"
     ]
    },
    {
     "data": {
      "application/vnd.jupyter.widget-view+json": {
       "model_id": "96644062d08f40cab7f71918ef778d11",
       "version_major": 2,
       "version_minor": 0
      },
      "text/plain": [
       "HBox(children=(HTML(value='[win: 17.977, wl: 6]'), FloatProgress(value=0.0, max=600.0), HTML(value='')))"
      ]
     },
     "metadata": {},
     "output_type": "display_data"
    },
    {
     "name": "stdout",
     "output_type": "stream",
     "text": [
      "\n",
      "589>30 time series failed to be represented, dropping sequence\n"
     ]
    },
    {
     "data": {
      "application/vnd.jupyter.widget-view+json": {
       "model_id": "89035482377946d2bad446cfa494f1d1",
       "version_major": 2,
       "version_minor": 0
      },
      "text/plain": [
       "HBox(children=(HTML(value='[win: 20.171, wl: 6]'), FloatProgress(value=0.0, max=600.0), HTML(value='')))"
      ]
     },
     "metadata": {},
     "output_type": "display_data"
    },
    {
     "name": "stdout",
     "output_type": "stream",
     "text": [
      "\n",
      "589>30 time series failed to be represented, dropping sequence\n"
     ]
    },
    {
     "data": {
      "application/vnd.jupyter.widget-view+json": {
       "model_id": "8b1aef0c22c74def8ee3f009b9609d2c",
       "version_major": 2,
       "version_minor": 0
      },
      "text/plain": [
       "HBox(children=(HTML(value='[win: 22.632, wl: 6]'), FloatProgress(value=0.0, max=600.0), HTML(value='')))"
      ]
     },
     "metadata": {},
     "output_type": "display_data"
    },
    {
     "name": "stdout",
     "output_type": "stream",
     "text": [
      "\n",
      "591>30 time series failed to be represented, dropping sequence\n"
     ]
    },
    {
     "data": {
      "application/vnd.jupyter.widget-view+json": {
       "model_id": "4c01236181c747c49360e9db0543e05f",
       "version_major": 2,
       "version_minor": 0
      },
      "text/plain": [
       "HBox(children=(HTML(value='[win: 25.394, wl: 6]'), FloatProgress(value=0.0, max=600.0), HTML(value='')))"
      ]
     },
     "metadata": {},
     "output_type": "display_data"
    },
    {
     "name": "stdout",
     "output_type": "stream",
     "text": [
      "\n",
      "580>30 time series failed to be represented, dropping sequence\n"
     ]
    },
    {
     "data": {
      "application/vnd.jupyter.widget-view+json": {
       "model_id": "331d9d096c1947b7b6fd7b2683802679",
       "version_major": 2,
       "version_minor": 0
      },
      "text/plain": [
       "HBox(children=(HTML(value='[win: 28.492, wl: 6]'), FloatProgress(value=0.0, max=600.0), HTML(value='')))"
      ]
     },
     "metadata": {},
     "output_type": "display_data"
    },
    {
     "name": "stdout",
     "output_type": "stream",
     "text": [
      "\n",
      "567>30 time series failed to be represented, dropping sequence\n"
     ]
    },
    {
     "data": {
      "application/vnd.jupyter.widget-view+json": {
       "model_id": "812d79a978e64320ad7ea9e70019c252",
       "version_major": 2,
       "version_minor": 0
      },
      "text/plain": [
       "HBox(children=(HTML(value='[win: 31.969, wl: 6]'), FloatProgress(value=0.0, max=600.0), HTML(value='')))"
      ]
     },
     "metadata": {},
     "output_type": "display_data"
    },
    {
     "name": "stdout",
     "output_type": "stream",
     "text": [
      "\n",
      "438>30 time series failed to be represented, dropping sequence\n"
     ]
    },
    {
     "data": {
      "application/vnd.jupyter.widget-view+json": {
       "model_id": "fb5ea3131d22430186f92d9cceaad9e7",
       "version_major": 2,
       "version_minor": 0
      },
      "text/plain": [
       "HBox(children=(HTML(value='[win: 35.869, wl: 6]'), FloatProgress(value=0.0, max=600.0), HTML(value='')))"
      ]
     },
     "metadata": {},
     "output_type": "display_data"
    },
    {
     "name": "stdout",
     "output_type": "stream",
     "text": [
      "\n",
      "365>30 time series failed to be represented, dropping sequence\n"
     ]
    },
    {
     "data": {
      "application/vnd.jupyter.widget-view+json": {
       "model_id": "14e906d4f8584b9783d0ab543410bf70",
       "version_major": 2,
       "version_minor": 0
      },
      "text/plain": [
       "HBox(children=(HTML(value='[win: 40.246, wl: 6]'), FloatProgress(value=0.0, max=600.0), HTML(value='')))"
      ]
     },
     "metadata": {},
     "output_type": "display_data"
    },
    {
     "name": "stdout",
     "output_type": "stream",
     "text": [
      "\n",
      "222>30 time series failed to be represented, dropping sequence\n"
     ]
    },
    {
     "data": {
      "application/vnd.jupyter.widget-view+json": {
       "model_id": "13f7f677488f4923b216bd000d15fe74",
       "version_major": 2,
       "version_minor": 0
      },
      "text/plain": [
       "HBox(children=(HTML(value='[win: 45.157, wl: 6]'), FloatProgress(value=0.0, max=600.0), HTML(value='')))"
      ]
     },
     "metadata": {},
     "output_type": "display_data"
    },
    {
     "name": "stdout",
     "output_type": "stream",
     "text": [
      "\n",
      "88>30 time series failed to be represented, dropping sequence\n"
     ]
    },
    {
     "data": {
      "application/vnd.jupyter.widget-view+json": {
       "model_id": "0a03d091545b4b17b04adaab750d4e28",
       "version_major": 2,
       "version_minor": 0
      },
      "text/plain": [
       "HBox(children=(HTML(value='[win: 50.667, wl: 6]'), FloatProgress(value=0.0, max=600.0), HTML(value='')))"
      ]
     },
     "metadata": {},
     "output_type": "display_data"
    },
    {
     "name": "stdout",
     "output_type": "stream",
     "text": [
      "\n",
      "31>30 time series failed to be represented, dropping sequence\n"
     ]
    },
    {
     "data": {
      "application/vnd.jupyter.widget-view+json": {
       "model_id": "95f0c3f03d43409fb5aeb2de00c6dd7f",
       "version_major": 2,
       "version_minor": 0
      },
      "text/plain": [
       "HBox(children=(HTML(value='[win: 56.849, wl: 6]'), FloatProgress(value=0.0, max=600.0), HTML(value='')))"
      ]
     },
     "metadata": {},
     "output_type": "display_data"
    },
    {
     "name": "stdout",
     "output_type": "stream",
     "text": [
      "\n"
     ]
    },
    {
     "data": {
      "application/vnd.jupyter.widget-view+json": {
       "model_id": "ac8d4b0f9ed647749294daa83e02eb51",
       "version_major": 2,
       "version_minor": 0
      },
      "text/plain": [
       "HBox(children=(HTML(value='[win: 63.786, wl: 6]'), FloatProgress(value=0.0, max=600.0), HTML(value='')))"
      ]
     },
     "metadata": {},
     "output_type": "display_data"
    },
    {
     "name": "stdout",
     "output_type": "stream",
     "text": [
      "\n"
     ]
    },
    {
     "data": {
      "application/vnd.jupyter.widget-view+json": {
       "model_id": "bf53383405a64786b91e6d96c2fc1459",
       "version_major": 2,
       "version_minor": 0
      },
      "text/plain": [
       "HBox(children=(HTML(value='[win: 71.569, wl: 6]'), FloatProgress(value=0.0, max=600.0), HTML(value='')))"
      ]
     },
     "metadata": {},
     "output_type": "display_data"
    },
    {
     "name": "stdout",
     "output_type": "stream",
     "text": [
      "\n"
     ]
    },
    {
     "data": {
      "application/vnd.jupyter.widget-view+json": {
       "model_id": "3c3c01dcb4d040d18b33c28fc97807a3",
       "version_major": 2,
       "version_minor": 0
      },
      "text/plain": [
       "HBox(children=(HTML(value='[win: 80.302, wl: 6]'), FloatProgress(value=0.0, max=600.0), HTML(value='')))"
      ]
     },
     "metadata": {},
     "output_type": "display_data"
    },
    {
     "name": "stdout",
     "output_type": "stream",
     "text": [
      "\n"
     ]
    },
    {
     "data": {
      "application/vnd.jupyter.widget-view+json": {
       "model_id": "c14d6a0cb99d4c98b59128b83e012543",
       "version_major": 2,
       "version_minor": 0
      },
      "text/plain": [
       "HBox(children=(HTML(value='[win: 90.100, wl: 6]'), FloatProgress(value=0.0, max=600.0), HTML(value='')))"
      ]
     },
     "metadata": {},
     "output_type": "display_data"
    },
    {
     "name": "stdout",
     "output_type": "stream",
     "text": [
      "\n"
     ]
    },
    {
     "data": {
      "application/vnd.jupyter.widget-view+json": {
       "model_id": "ec492e00cb774b499ff2ca5fdf06a113",
       "version_major": 2,
       "version_minor": 0
      },
      "text/plain": [
       "HBox(children=(HTML(value='[win: 101.094, wl: 6]'), FloatProgress(value=0.0, max=600.0), HTML(value='')))"
      ]
     },
     "metadata": {},
     "output_type": "display_data"
    },
    {
     "name": "stdout",
     "output_type": "stream",
     "text": [
      "\n"
     ]
    },
    {
     "data": {
      "application/vnd.jupyter.widget-view+json": {
       "model_id": "2134bcc9d649464d98675ccd2cbb646d",
       "version_major": 2,
       "version_minor": 0
      },
      "text/plain": [
       "HBox(children=(HTML(value='[win: 113.429, wl: 6]'), FloatProgress(value=0.0, max=600.0), HTML(value='')))"
      ]
     },
     "metadata": {},
     "output_type": "display_data"
    },
    {
     "name": "stdout",
     "output_type": "stream",
     "text": [
      "\n"
     ]
    },
    {
     "data": {
      "application/vnd.jupyter.widget-view+json": {
       "model_id": "b6ff29f8e1fa4a75bb8718e971e797b0",
       "version_major": 2,
       "version_minor": 0
      },
      "text/plain": [
       "HBox(children=(HTML(value='[win: 127.269, wl: 6]'), FloatProgress(value=0.0, max=600.0), HTML(value='')))"
      ]
     },
     "metadata": {},
     "output_type": "display_data"
    },
    {
     "name": "stdout",
     "output_type": "stream",
     "text": [
      "\n"
     ]
    },
    {
     "data": {
      "application/vnd.jupyter.widget-view+json": {
       "model_id": "50a41557948b48ed86ef3ca143da46fd",
       "version_major": 2,
       "version_minor": 0
      },
      "text/plain": [
       "HBox(children=(HTML(value='[win: 142.799, wl: 6]'), FloatProgress(value=0.0, max=600.0), HTML(value='')))"
      ]
     },
     "metadata": {},
     "output_type": "display_data"
    },
    {
     "name": "stdout",
     "output_type": "stream",
     "text": [
      "\n",
      "44>30 time series failed to be represented, dropping sequence\n"
     ]
    },
    {
     "data": {
      "application/vnd.jupyter.widget-view+json": {
       "model_id": "04b2a7fe9c05461bab2a9c54c87df53b",
       "version_major": 2,
       "version_minor": 0
      },
      "text/plain": [
       "HBox(children=(HTML(value='[win: 160.223, wl: 6]'), FloatProgress(value=0.0, max=600.0), HTML(value='')))"
      ]
     },
     "metadata": {},
     "output_type": "display_data"
    },
    {
     "name": "stdout",
     "output_type": "stream",
     "text": [
      "\n",
      "265>30 time series failed to be represented, dropping sequence\n"
     ]
    },
    {
     "data": {
      "application/vnd.jupyter.widget-view+json": {
       "model_id": "2b4ee98db20c48cb917298dfccb8f6f4",
       "version_major": 2,
       "version_minor": 0
      },
      "text/plain": [
       "HBox(children=(HTML(value='[win: 179.773, wl: 6]'), FloatProgress(value=0.0, max=600.0), HTML(value='')))"
      ]
     },
     "metadata": {},
     "output_type": "display_data"
    },
    {
     "name": "stdout",
     "output_type": "stream",
     "text": [
      "\n",
      "472>30 time series failed to be represented, dropping sequence\n"
     ]
    },
    {
     "data": {
      "application/vnd.jupyter.widget-view+json": {
       "model_id": "b26316efeb7f4068ae9a57c7be835b8b",
       "version_major": 2,
       "version_minor": 0
      },
      "text/plain": [
       "HBox(children=(HTML(value='[win: 201.709, wl: 6]'), FloatProgress(value=0.0, max=600.0), HTML(value='')))"
      ]
     },
     "metadata": {},
     "output_type": "display_data"
    },
    {
     "name": "stdout",
     "output_type": "stream",
     "text": [
      "\n",
      "539>30 time series failed to be represented, dropping sequence\n"
     ]
    },
    {
     "data": {
      "application/vnd.jupyter.widget-view+json": {
       "model_id": "b17e9b2779f141299f807c137fb7d440",
       "version_major": 2,
       "version_minor": 0
      },
      "text/plain": [
       "HBox(children=(HTML(value='[win: 226.321, wl: 6]'), FloatProgress(value=0.0, max=600.0), HTML(value='')))"
      ]
     },
     "metadata": {},
     "output_type": "display_data"
    },
    {
     "name": "stdout",
     "output_type": "stream",
     "text": [
      "\n",
      "583>30 time series failed to be represented, dropping sequence\n"
     ]
    },
    {
     "data": {
      "application/vnd.jupyter.widget-view+json": {
       "model_id": "f5297783640a4a6a99aa2cffbd3cd107",
       "version_major": 2,
       "version_minor": 0
      },
      "text/plain": [
       "HBox(children=(HTML(value='[win: 253.936, wl: 6]'), FloatProgress(value=0.0, max=600.0), HTML(value='')))"
      ]
     },
     "metadata": {},
     "output_type": "display_data"
    },
    {
     "name": "stdout",
     "output_type": "stream",
     "text": [
      "\n",
      "597>30 time series failed to be represented, dropping sequence\n"
     ]
    },
    {
     "data": {
      "application/vnd.jupyter.widget-view+json": {
       "model_id": "71b6eecaa442403790c09362075d3dbd",
       "version_major": 2,
       "version_minor": 0
      },
      "text/plain": [
       "HBox(children=(HTML(value='[win: 284.921, wl: 6]'), FloatProgress(value=0.0, max=600.0), HTML(value='')))"
      ]
     },
     "metadata": {},
     "output_type": "display_data"
    },
    {
     "name": "stdout",
     "output_type": "stream",
     "text": [
      "\n",
      "600>30 time series failed to be represented, dropping sequence\n"
     ]
    },
    {
     "data": {
      "application/vnd.jupyter.widget-view+json": {
       "model_id": "fd6956d86db24f238b9c4b2cc9ec86ac",
       "version_major": 2,
       "version_minor": 0
      },
      "text/plain": [
       "HBox(children=(HTML(value='[win: 319.686, wl: 6]'), FloatProgress(value=0.0, max=600.0), HTML(value='')))"
      ]
     },
     "metadata": {},
     "output_type": "display_data"
    },
    {
     "name": "stdout",
     "output_type": "stream",
     "text": [
      "\n",
      "600>30 time series failed to be represented, dropping sequence\n"
     ]
    },
    {
     "data": {
      "application/vnd.jupyter.widget-view+json": {
       "model_id": "c62686ea523a48c5801b7dafb191aa0f",
       "version_major": 2,
       "version_minor": 0
      },
      "text/plain": [
       "HBox(children=(HTML(value='[win: 358.694, wl: 6]'), FloatProgress(value=0.0, max=600.0), HTML(value='')))"
      ]
     },
     "metadata": {},
     "output_type": "display_data"
    },
    {
     "name": "stdout",
     "output_type": "stream",
     "text": [
      "\n",
      "600>30 time series failed to be represented, dropping sequence\n"
     ]
    },
    {
     "data": {
      "application/vnd.jupyter.widget-view+json": {
       "model_id": "c36728360b6741c48187fe82ccd43b87",
       "version_major": 2,
       "version_minor": 0
      },
      "text/plain": [
       "HBox(children=(HTML(value='[win: 402.461, wl: 6]'), FloatProgress(value=0.0, max=600.0), HTML(value='')))"
      ]
     },
     "metadata": {},
     "output_type": "display_data"
    },
    {
     "name": "stdout",
     "output_type": "stream",
     "text": [
      "\n",
      "600>30 time series failed to be represented, dropping sequence\n"
     ]
    },
    {
     "data": {
      "application/vnd.jupyter.widget-view+json": {
       "model_id": "5a1d6225b9354dcbbe1d9dbbb1bd0fc5",
       "version_major": 2,
       "version_minor": 0
      },
      "text/plain": [
       "HBox(children=(HTML(value='[win: 451.569, wl: 6]'), FloatProgress(value=0.0, max=600.0), HTML(value='')))"
      ]
     },
     "metadata": {},
     "output_type": "display_data"
    },
    {
     "name": "stdout",
     "output_type": "stream",
     "text": [
      "\n",
      "600>30 time series failed to be represented, dropping sequence\n"
     ]
    },
    {
     "data": {
      "application/vnd.jupyter.widget-view+json": {
       "model_id": "ec6ca21bee1040e5bd20ca0c5d24dc7d",
       "version_major": 2,
       "version_minor": 0
      },
      "text/plain": [
       "HBox(children=(HTML(value='[win: 506.669, wl: 6]'), FloatProgress(value=0.0, max=600.0), HTML(value='')))"
      ]
     },
     "metadata": {},
     "output_type": "display_data"
    },
    {
     "name": "stdout",
     "output_type": "stream",
     "text": [
      "\n",
      "600>30 time series failed to be represented, dropping sequence\n"
     ]
    },
    {
     "data": {
      "application/vnd.jupyter.widget-view+json": {
       "model_id": "e30fa945a4fe41b580ba47caf51e3f2e",
       "version_major": 2,
       "version_minor": 0
      },
      "text/plain": [
       "HBox(children=(HTML(value='[win: 568.492, wl: 6]'), FloatProgress(value=0.0, max=600.0), HTML(value='')))"
      ]
     },
     "metadata": {},
     "output_type": "display_data"
    },
    {
     "name": "stdout",
     "output_type": "stream",
     "text": [
      "\n",
      "600>30 time series failed to be represented, dropping sequence\n"
     ]
    },
    {
     "data": {
      "application/vnd.jupyter.widget-view+json": {
       "model_id": "4e2619a2b0e74447b459728214736b0c",
       "version_major": 2,
       "version_minor": 0
      },
      "text/plain": [
       "HBox(children=(HTML(value='[win: 637.858, wl: 6]'), FloatProgress(value=0.0, max=600.0), HTML(value='')))"
      ]
     },
     "metadata": {},
     "output_type": "display_data"
    },
    {
     "name": "stdout",
     "output_type": "stream",
     "text": [
      "\n",
      "600>30 time series failed to be represented, dropping sequence\n"
     ]
    },
    {
     "data": {
      "application/vnd.jupyter.widget-view+json": {
       "model_id": "183282ba314443dd8bd88c09acc4b154",
       "version_major": 2,
       "version_minor": 0
      },
      "text/plain": [
       "HBox(children=(HTML(value='[win: 715.689, wl: 6]'), FloatProgress(value=0.0, max=600.0), HTML(value='')))"
      ]
     },
     "metadata": {},
     "output_type": "display_data"
    },
    {
     "name": "stdout",
     "output_type": "stream",
     "text": [
      "\n",
      "596>30 time series failed to be represented, dropping sequence\n"
     ]
    },
    {
     "data": {
      "application/vnd.jupyter.widget-view+json": {
       "model_id": "763215e38c064ae8ae039508ea07d708",
       "version_major": 2,
       "version_minor": 0
      },
      "text/plain": [
       "HBox(children=(HTML(value='[win: 803.016, wl: 6]'), FloatProgress(value=0.0, max=600.0), HTML(value='')))"
      ]
     },
     "metadata": {},
     "output_type": "display_data"
    },
    {
     "name": "stdout",
     "output_type": "stream",
     "text": [
      "\n",
      "579>30 time series failed to be represented, dropping sequence\n"
     ]
    },
    {
     "data": {
      "application/vnd.jupyter.widget-view+json": {
       "model_id": "1f853054540e4ba1843ad0cc6864b67c",
       "version_major": 2,
       "version_minor": 0
      },
      "text/plain": [
       "HBox(children=(HTML(value='[win: 900.999, wl: 6]'), FloatProgress(value=0.0, max=600.0), HTML(value='')))"
      ]
     },
     "metadata": {},
     "output_type": "display_data"
    },
    {
     "name": "stdout",
     "output_type": "stream",
     "text": [
      "\n",
      "595>30 time series failed to be represented, dropping sequence\n",
      "TIME:  891.3609461784363\n"
     ]
    }
   ],
   "source": [
    "if __name__ == \"__main__\":\n",
    "    wls = [2, 3, 4, 5, 6]\n",
    "    wins = (mean_time + std_time) * 10 ** np.linspace(-1.95, 0, 40)\n",
    "    values = []\n",
    "    out_wins = []\n",
    "    out_wls = []\n",
    "    ini = time.time()\n",
    "    for wl in wls:\n",
    "        for win in wins:\n",
    "            threshold = max(1, int(round(wl / 2)))\n",
    "            tol = wl\n",
    "            gen = MPTextGenerator(bands=_BANDS, n_jobs=n_jobs, alph_size=4,\n",
    "                                 quantity=quantity, num_reduction=num_reduction,\n",
    "                                 irr_handler=irr_handler, index_based_paa=index_based_paa,\n",
    "                                 mean_bp_dist=mean_bp_dist, verbose=verbose, win=win, word_length=wl)\n",
    "            vec = CountVectorizer(alph_size=alph_size, word_length=wl, empty_handler=irr_handler, bands=_BANDS)\n",
    "            corpus = np.array(gen.transform(res))\n",
    "            fails = 0\n",
    "            for c in corpus:\n",
    "                if c is None:\n",
    "                    fails += 1\n",
    "                    \n",
    "            if fails > limit:\n",
    "                print(\"%d>%s time series failed to be represented, dropping sequence\" % (fails, limit))\n",
    "                continue\n",
    "            matrix = sparse.csr_matrix(vec.transform(corpus))\n",
    "            values.append(matrix)\n",
    "            out_wins.append(win)\n",
    "            out_wls.append(wl)\n",
    "#             break\n",
    "#         break\n",
    "    end = time.time()\n",
    "print(\"TIME: \", end - ini)"
   ]
  },
  {
   "cell_type": "code",
   "execution_count": 86,
   "metadata": {},
   "outputs": [],
   "source": [
    "class_based = True\n",
    "class_type = \"type-2\"\n",
    "classes = np.unique(labels_merged)\n",
    "\n",
    "norm_key=\"l2\"\n",
    "use_idf=True\n",
    "smooth_idf=True\n",
    "sublinear_tf=True\n",
    "\n",
    "reducer_type = \"lsa\"\n",
    "n_iter = 20\n",
    "\n",
    "n_neighbors=1\n",
    "# print(spatial_comp)\n",
    "pipeline_builder = PipelineBuilder(class_based=class_based, class_type=class_type, classes=classes)\n",
    "\n",
    "pipeline_builder.set_feature_extraction(precomputed=True, idx=-1, data=values, win_arr=out_wins, wl_arr=out_wls)\n",
    "pipeline_builder.set_transformer(norm=norm_key, use_idf=use_idf, smooth_idf=smooth_idf, sublinear_tf=sublinear_tf)\n",
    "pipeline_builder.set_reducer(spatial_complexity=spatial_comp, reducer_type=reducer_type, n_iter=n_iter)\n",
    "# print(pipeline_builder.pipe)\n",
    "pipeline_builder.set_normalizer()\n",
    "pipeline_builder.set_classifier(n_neighbors=n_neighbors)\n",
    "pipeline = pipeline_builder.build()"
   ]
  },
  {
   "cell_type": "code",
   "execution_count": 49,
   "metadata": {},
   "outputs": [
    {
     "data": {
      "text/plain": [
       "(80.30160218826266, 5)"
      ]
     },
     "execution_count": 49,
     "metadata": {},
     "output_type": "execute_result"
    }
   ],
   "source": [
    "out_wins[53], out_wls[53]"
   ]
  },
  {
   "cell_type": "code",
   "execution_count": 28,
   "metadata": {},
   "outputs": [
    {
     "data": {
      "text/plain": [
       "463"
      ]
     },
     "execution_count": 28,
     "metadata": {},
     "output_type": "execute_result"
    }
   ],
   "source": [
    "spatial_comp"
   ]
  },
  {
   "cell_type": "code",
   "execution_count": 48,
   "metadata": {},
   "outputs": [
    {
     "data": {
      "text/plain": [
       "array([462, 462, 462, 462, 462, 461, 461, 460, 460, 459, 459, 458, 457,\n",
       "       456, 454, 453, 451, 449, 447, 444, 440, 436, 432, 426, 420, 412,\n",
       "       404, 394, 382, 368, 351, 332, 310, 284, 253, 217, 175, 126,  69,\n",
       "         1])"
      ]
     },
     "execution_count": 48,
     "metadata": {},
     "output_type": "execute_result"
    }
   ],
   "source": [
    "spatial_comp - np.logspace(np.log10(1), np.log10(spatial_comp-1), 40, dtype=int)"
   ]
  },
  {
   "cell_type": "code",
   "execution_count": 99,
   "metadata": {},
   "outputs": [
    {
     "data": {
      "text/plain": [
       "array([ 10,  60, 110, 160, 210, 261, 311, 361, 411, 462])"
      ]
     },
     "execution_count": 99,
     "metadata": {},
     "output_type": "execute_result"
    }
   ],
   "source": [
    "np.linspace(10, spatial_comp-1, 10, dtype=int)"
   ]
  },
  {
   "cell_type": "code",
   "execution_count": 53,
   "metadata": {},
   "outputs": [
    {
     "name": "stdout",
     "output_type": "stream",
     "text": [
      "Fitting 10 folds for each of 46 candidates, totalling 460 fits\n"
     ]
    },
    {
     "name": "stderr",
     "output_type": "stream",
     "text": [
      "[Parallel(n_jobs=8)]: Using backend LokyBackend with 8 concurrent workers.\n",
      "[Parallel(n_jobs=8)]: Done  34 tasks      | elapsed:   11.7s\n",
      "[Parallel(n_jobs=8)]: Done 184 tasks      | elapsed:  1.5min\n",
      "[Parallel(n_jobs=8)]: Done 434 tasks      | elapsed:  7.3min\n",
      "[Parallel(n_jobs=8)]: Done 460 out of 460 | elapsed:  8.2min finished\n"
     ]
    },
    {
     "name": "stdout",
     "output_type": "stream",
     "text": [
      "gettign the count words for win idx: 80.301602.3 and wl idx: 5\n",
      "update n components in fit_transform to: 259\n",
      "DONE IN 494.012s\n",
      "Best parameters set found on development set:\n",
      "\n",
      "{'ext__idx': 53, 'red__sc': 260}\n",
      "\n",
      "Grid scores on development set:\n",
      "\n",
      "0.498 (+/-0.123) for {'ext__idx': 53, 'red__sc': 10}\n",
      "0.520 (+/-0.094) for {'ext__idx': 53, 'red__sc': 20}\n",
      "0.527 (+/-0.095) for {'ext__idx': 53, 'red__sc': 30}\n",
      "0.543 (+/-0.117) for {'ext__idx': 53, 'red__sc': 40}\n",
      "0.542 (+/-0.099) for {'ext__idx': 53, 'red__sc': 50}\n",
      "0.547 (+/-0.095) for {'ext__idx': 53, 'red__sc': 60}\n",
      "0.542 (+/-0.095) for {'ext__idx': 53, 'red__sc': 70}\n",
      "0.543 (+/-0.098) for {'ext__idx': 53, 'red__sc': 80}\n",
      "0.533 (+/-0.106) for {'ext__idx': 53, 'red__sc': 90}\n",
      "0.535 (+/-0.115) for {'ext__idx': 53, 'red__sc': 100}\n",
      "0.532 (+/-0.122) for {'ext__idx': 53, 'red__sc': 110}\n",
      "0.532 (+/-0.124) for {'ext__idx': 53, 'red__sc': 120}\n",
      "0.547 (+/-0.111) for {'ext__idx': 53, 'red__sc': 130}\n",
      "0.548 (+/-0.104) for {'ext__idx': 53, 'red__sc': 140}\n",
      "0.540 (+/-0.103) for {'ext__idx': 53, 'red__sc': 150}\n",
      "0.542 (+/-0.115) for {'ext__idx': 53, 'red__sc': 160}\n",
      "0.545 (+/-0.120) for {'ext__idx': 53, 'red__sc': 170}\n",
      "0.542 (+/-0.116) for {'ext__idx': 53, 'red__sc': 180}\n",
      "0.548 (+/-0.126) for {'ext__idx': 53, 'red__sc': 190}\n",
      "0.547 (+/-0.118) for {'ext__idx': 53, 'red__sc': 200}\n",
      "0.553 (+/-0.122) for {'ext__idx': 53, 'red__sc': 210}\n",
      "0.552 (+/-0.119) for {'ext__idx': 53, 'red__sc': 220}\n",
      "0.555 (+/-0.115) for {'ext__idx': 53, 'red__sc': 230}\n",
      "0.557 (+/-0.110) for {'ext__idx': 53, 'red__sc': 240}\n",
      "0.553 (+/-0.129) for {'ext__idx': 53, 'red__sc': 250}\n",
      "0.560 (+/-0.122) for {'ext__idx': 53, 'red__sc': 260}\n",
      "0.555 (+/-0.116) for {'ext__idx': 53, 'red__sc': 270}\n",
      "0.553 (+/-0.111) for {'ext__idx': 53, 'red__sc': 280}\n",
      "0.553 (+/-0.104) for {'ext__idx': 53, 'red__sc': 290}\n",
      "0.548 (+/-0.112) for {'ext__idx': 53, 'red__sc': 300}\n",
      "0.550 (+/-0.101) for {'ext__idx': 53, 'red__sc': 310}\n",
      "0.557 (+/-0.098) for {'ext__idx': 53, 'red__sc': 320}\n",
      "0.558 (+/-0.104) for {'ext__idx': 53, 'red__sc': 330}\n",
      "0.555 (+/-0.116) for {'ext__idx': 53, 'red__sc': 340}\n",
      "0.555 (+/-0.118) for {'ext__idx': 53, 'red__sc': 350}\n",
      "0.552 (+/-0.114) for {'ext__idx': 53, 'red__sc': 360}\n",
      "0.557 (+/-0.113) for {'ext__idx': 53, 'red__sc': 370}\n",
      "0.558 (+/-0.125) for {'ext__idx': 53, 'red__sc': 380}\n",
      "0.560 (+/-0.126) for {'ext__idx': 53, 'red__sc': 390}\n",
      "0.552 (+/-0.118) for {'ext__idx': 53, 'red__sc': 400}\n",
      "0.552 (+/-0.130) for {'ext__idx': 53, 'red__sc': 410}\n",
      "0.553 (+/-0.117) for {'ext__idx': 53, 'red__sc': 420}\n",
      "0.555 (+/-0.116) for {'ext__idx': 53, 'red__sc': 430}\n",
      "0.558 (+/-0.123) for {'ext__idx': 53, 'red__sc': 440}\n",
      "0.560 (+/-0.124) for {'ext__idx': 53, 'red__sc': 450}\n",
      "0.560 (+/-0.128) for {'ext__idx': 53, 'red__sc': 460}\n",
      "\n"
     ]
    }
   ],
   "source": [
    "parameters = {\n",
    "    \"ext__idx\": np.array([53]),\n",
    "    \"red__sc\": np.arange(1, 1 + (spatial_comp//10)) * 10\n",
    "}\n",
    "\n",
    "X = np.arange(len(res))\n",
    "if __name__ == \"__main__\":\n",
    "    grid_search = GridSearchCV(pipeline, parameters, n_jobs=8, verbose=1, cv=10)\n",
    "    t0 = time.time()\n",
    "    grid_search.fit(X, labels_merged)\n",
    "    print(\"DONE IN %0.3fs\" % (time.time() - t0))\n",
    "    print(\"Best parameters set found on development set:\")\n",
    "    print()\n",
    "    print(grid_search.best_params_)\n",
    "    print()\n",
    "    print(\"Grid scores on development set:\")\n",
    "    print()\n",
    "    means = grid_search.cv_results_[\"mean_test_score\"]\n",
    "    stds = grid_search.cv_results_[\"std_test_score\"]\n",
    "    for mean, std, params in zip(means, stds, grid_search.cv_results_[\"params\"]):\n",
    "        print(\"%0.3f (+/-%0.03f) for %r\" % (mean, std * 2, params))\n",
    "    print()\n",
    "    \n",
    "#     print(\"Detailed classification report:\")\n",
    "#     print()\n",
    "#     print(\"The model is trained on the full development set.\")\n",
    "#     print(\"The scores are computed on the full evaluation set.\")\n",
    "#     print()\n",
    "#     y_true, y_pred = y_test, grid_search.predict(X_test)"
   ]
  },
  {
   "cell_type": "code",
   "execution_count": 83,
   "metadata": {},
   "outputs": [
    {
     "data": {
      "text/plain": [
       "dict_keys(['mean_fit_time', 'std_fit_time', 'mean_score_time', 'std_score_time', 'param_ext__idx', 'param_red__sc', 'params', 'split0_test_score', 'split1_test_score', 'split2_test_score', 'split3_test_score', 'split4_test_score', 'split5_test_score', 'split6_test_score', 'split7_test_score', 'split8_test_score', 'split9_test_score', 'mean_test_score', 'std_test_score', 'rank_test_score'])"
      ]
     },
     "execution_count": 83,
     "metadata": {},
     "output_type": "execute_result"
    }
   ],
   "source": [
    "grid_search.cv_results_.keys()"
   ]
  },
  {
   "cell_type": "code",
   "execution_count": 106,
   "metadata": {},
   "outputs": [
    {
     "data": {
      "text/html": [
       "<div>\n",
       "<style scoped>\n",
       "    .dataframe tbody tr th:only-of-type {\n",
       "        vertical-align: middle;\n",
       "    }\n",
       "\n",
       "    .dataframe tbody tr th {\n",
       "        vertical-align: top;\n",
       "    }\n",
       "\n",
       "    .dataframe thead th {\n",
       "        text-align: right;\n",
       "    }\n",
       "</style>\n",
       "<table border=\"1\" class=\"dataframe\">\n",
       "  <thead>\n",
       "    <tr style=\"text-align: right;\">\n",
       "      <th></th>\n",
       "      <th>class_feature</th>\n",
       "      <th>scheme</th>\n",
       "      <th>reducer_type</th>\n",
       "      <th>param_ext__idx</th>\n",
       "      <th>param_red__sc</th>\n",
       "      <th>window</th>\n",
       "      <th>word_length</th>\n",
       "      <th>mean_test_score</th>\n",
       "      <th>std_test_score</th>\n",
       "      <th>rank_test_score</th>\n",
       "    </tr>\n",
       "  </thead>\n",
       "  <tbody>\n",
       "    <tr>\n",
       "      <th>0</th>\n",
       "      <td>type-2</td>\n",
       "      <td>ltc.ltc</td>\n",
       "      <td>lsa</td>\n",
       "      <td>53</td>\n",
       "      <td>10</td>\n",
       "      <td>80.301602</td>\n",
       "      <td>5</td>\n",
       "      <td>0.498333</td>\n",
       "      <td>0.061667</td>\n",
       "      <td>46</td>\n",
       "    </tr>\n",
       "    <tr>\n",
       "      <th>1</th>\n",
       "      <td>type-2</td>\n",
       "      <td>ltc.ltc</td>\n",
       "      <td>lsa</td>\n",
       "      <td>53</td>\n",
       "      <td>20</td>\n",
       "      <td>80.301602</td>\n",
       "      <td>5</td>\n",
       "      <td>0.520000</td>\n",
       "      <td>0.047022</td>\n",
       "      <td>45</td>\n",
       "    </tr>\n",
       "    <tr>\n",
       "      <th>2</th>\n",
       "      <td>type-2</td>\n",
       "      <td>ltc.ltc</td>\n",
       "      <td>lsa</td>\n",
       "      <td>53</td>\n",
       "      <td>30</td>\n",
       "      <td>80.301602</td>\n",
       "      <td>5</td>\n",
       "      <td>0.526667</td>\n",
       "      <td>0.047258</td>\n",
       "      <td>44</td>\n",
       "    </tr>\n",
       "    <tr>\n",
       "      <th>3</th>\n",
       "      <td>type-2</td>\n",
       "      <td>ltc.ltc</td>\n",
       "      <td>lsa</td>\n",
       "      <td>53</td>\n",
       "      <td>40</td>\n",
       "      <td>80.301602</td>\n",
       "      <td>5</td>\n",
       "      <td>0.543333</td>\n",
       "      <td>0.058310</td>\n",
       "      <td>33</td>\n",
       "    </tr>\n",
       "    <tr>\n",
       "      <th>4</th>\n",
       "      <td>type-2</td>\n",
       "      <td>ltc.ltc</td>\n",
       "      <td>lsa</td>\n",
       "      <td>53</td>\n",
       "      <td>50</td>\n",
       "      <td>80.301602</td>\n",
       "      <td>5</td>\n",
       "      <td>0.541667</td>\n",
       "      <td>0.049582</td>\n",
       "      <td>35</td>\n",
       "    </tr>\n",
       "    <tr>\n",
       "      <th>5</th>\n",
       "      <td>type-2</td>\n",
       "      <td>ltc.ltc</td>\n",
       "      <td>lsa</td>\n",
       "      <td>53</td>\n",
       "      <td>60</td>\n",
       "      <td>80.301602</td>\n",
       "      <td>5</td>\n",
       "      <td>0.546667</td>\n",
       "      <td>0.047610</td>\n",
       "      <td>29</td>\n",
       "    </tr>\n",
       "    <tr>\n",
       "      <th>6</th>\n",
       "      <td>type-2</td>\n",
       "      <td>ltc.ltc</td>\n",
       "      <td>lsa</td>\n",
       "      <td>53</td>\n",
       "      <td>70</td>\n",
       "      <td>80.301602</td>\n",
       "      <td>5</td>\n",
       "      <td>0.541667</td>\n",
       "      <td>0.047288</td>\n",
       "      <td>35</td>\n",
       "    </tr>\n",
       "    <tr>\n",
       "      <th>7</th>\n",
       "      <td>type-2</td>\n",
       "      <td>ltc.ltc</td>\n",
       "      <td>lsa</td>\n",
       "      <td>53</td>\n",
       "      <td>80</td>\n",
       "      <td>80.301602</td>\n",
       "      <td>5</td>\n",
       "      <td>0.543333</td>\n",
       "      <td>0.048990</td>\n",
       "      <td>33</td>\n",
       "    </tr>\n",
       "    <tr>\n",
       "      <th>8</th>\n",
       "      <td>type-2</td>\n",
       "      <td>ltc.ltc</td>\n",
       "      <td>lsa</td>\n",
       "      <td>53</td>\n",
       "      <td>90</td>\n",
       "      <td>80.301602</td>\n",
       "      <td>5</td>\n",
       "      <td>0.533333</td>\n",
       "      <td>0.053229</td>\n",
       "      <td>41</td>\n",
       "    </tr>\n",
       "    <tr>\n",
       "      <th>9</th>\n",
       "      <td>type-2</td>\n",
       "      <td>ltc.ltc</td>\n",
       "      <td>lsa</td>\n",
       "      <td>53</td>\n",
       "      <td>100</td>\n",
       "      <td>80.301602</td>\n",
       "      <td>5</td>\n",
       "      <td>0.535000</td>\n",
       "      <td>0.057470</td>\n",
       "      <td>40</td>\n",
       "    </tr>\n",
       "    <tr>\n",
       "      <th>10</th>\n",
       "      <td>type-2</td>\n",
       "      <td>ltc.ltc</td>\n",
       "      <td>lsa</td>\n",
       "      <td>53</td>\n",
       "      <td>110</td>\n",
       "      <td>80.301602</td>\n",
       "      <td>5</td>\n",
       "      <td>0.531667</td>\n",
       "      <td>0.060759</td>\n",
       "      <td>42</td>\n",
       "    </tr>\n",
       "    <tr>\n",
       "      <th>11</th>\n",
       "      <td>type-2</td>\n",
       "      <td>ltc.ltc</td>\n",
       "      <td>lsa</td>\n",
       "      <td>53</td>\n",
       "      <td>120</td>\n",
       "      <td>80.301602</td>\n",
       "      <td>5</td>\n",
       "      <td>0.531667</td>\n",
       "      <td>0.062115</td>\n",
       "      <td>42</td>\n",
       "    </tr>\n",
       "    <tr>\n",
       "      <th>12</th>\n",
       "      <td>type-2</td>\n",
       "      <td>ltc.ltc</td>\n",
       "      <td>lsa</td>\n",
       "      <td>53</td>\n",
       "      <td>130</td>\n",
       "      <td>80.301602</td>\n",
       "      <td>5</td>\n",
       "      <td>0.546667</td>\n",
       "      <td>0.055678</td>\n",
       "      <td>29</td>\n",
       "    </tr>\n",
       "    <tr>\n",
       "      <th>13</th>\n",
       "      <td>type-2</td>\n",
       "      <td>ltc.ltc</td>\n",
       "      <td>lsa</td>\n",
       "      <td>53</td>\n",
       "      <td>140</td>\n",
       "      <td>80.301602</td>\n",
       "      <td>5</td>\n",
       "      <td>0.548333</td>\n",
       "      <td>0.051881</td>\n",
       "      <td>26</td>\n",
       "    </tr>\n",
       "    <tr>\n",
       "      <th>14</th>\n",
       "      <td>type-2</td>\n",
       "      <td>ltc.ltc</td>\n",
       "      <td>lsa</td>\n",
       "      <td>53</td>\n",
       "      <td>150</td>\n",
       "      <td>80.301602</td>\n",
       "      <td>5</td>\n",
       "      <td>0.540000</td>\n",
       "      <td>0.051747</td>\n",
       "      <td>39</td>\n",
       "    </tr>\n",
       "    <tr>\n",
       "      <th>15</th>\n",
       "      <td>type-2</td>\n",
       "      <td>ltc.ltc</td>\n",
       "      <td>lsa</td>\n",
       "      <td>53</td>\n",
       "      <td>160</td>\n",
       "      <td>80.301602</td>\n",
       "      <td>5</td>\n",
       "      <td>0.541667</td>\n",
       "      <td>0.057373</td>\n",
       "      <td>35</td>\n",
       "    </tr>\n",
       "    <tr>\n",
       "      <th>16</th>\n",
       "      <td>type-2</td>\n",
       "      <td>ltc.ltc</td>\n",
       "      <td>lsa</td>\n",
       "      <td>53</td>\n",
       "      <td>170</td>\n",
       "      <td>80.301602</td>\n",
       "      <td>5</td>\n",
       "      <td>0.545000</td>\n",
       "      <td>0.060116</td>\n",
       "      <td>32</td>\n",
       "    </tr>\n",
       "    <tr>\n",
       "      <th>17</th>\n",
       "      <td>type-2</td>\n",
       "      <td>ltc.ltc</td>\n",
       "      <td>lsa</td>\n",
       "      <td>53</td>\n",
       "      <td>180</td>\n",
       "      <td>80.301602</td>\n",
       "      <td>5</td>\n",
       "      <td>0.541667</td>\n",
       "      <td>0.057855</td>\n",
       "      <td>35</td>\n",
       "    </tr>\n",
       "    <tr>\n",
       "      <th>18</th>\n",
       "      <td>type-2</td>\n",
       "      <td>ltc.ltc</td>\n",
       "      <td>lsa</td>\n",
       "      <td>53</td>\n",
       "      <td>190</td>\n",
       "      <td>80.301602</td>\n",
       "      <td>5</td>\n",
       "      <td>0.548333</td>\n",
       "      <td>0.063004</td>\n",
       "      <td>28</td>\n",
       "    </tr>\n",
       "    <tr>\n",
       "      <th>19</th>\n",
       "      <td>type-2</td>\n",
       "      <td>ltc.ltc</td>\n",
       "      <td>lsa</td>\n",
       "      <td>53</td>\n",
       "      <td>200</td>\n",
       "      <td>80.301602</td>\n",
       "      <td>5</td>\n",
       "      <td>0.546667</td>\n",
       "      <td>0.059067</td>\n",
       "      <td>29</td>\n",
       "    </tr>\n",
       "    <tr>\n",
       "      <th>20</th>\n",
       "      <td>type-2</td>\n",
       "      <td>ltc.ltc</td>\n",
       "      <td>lsa</td>\n",
       "      <td>53</td>\n",
       "      <td>210</td>\n",
       "      <td>80.301602</td>\n",
       "      <td>5</td>\n",
       "      <td>0.553333</td>\n",
       "      <td>0.060919</td>\n",
       "      <td>16</td>\n",
       "    </tr>\n",
       "    <tr>\n",
       "      <th>21</th>\n",
       "      <td>type-2</td>\n",
       "      <td>ltc.ltc</td>\n",
       "      <td>lsa</td>\n",
       "      <td>53</td>\n",
       "      <td>220</td>\n",
       "      <td>80.301602</td>\n",
       "      <td>5</td>\n",
       "      <td>0.551667</td>\n",
       "      <td>0.059372</td>\n",
       "      <td>24</td>\n",
       "    </tr>\n",
       "    <tr>\n",
       "      <th>22</th>\n",
       "      <td>type-2</td>\n",
       "      <td>ltc.ltc</td>\n",
       "      <td>lsa</td>\n",
       "      <td>53</td>\n",
       "      <td>230</td>\n",
       "      <td>80.301602</td>\n",
       "      <td>5</td>\n",
       "      <td>0.555000</td>\n",
       "      <td>0.057276</td>\n",
       "      <td>14</td>\n",
       "    </tr>\n",
       "    <tr>\n",
       "      <th>23</th>\n",
       "      <td>type-2</td>\n",
       "      <td>ltc.ltc</td>\n",
       "      <td>lsa</td>\n",
       "      <td>53</td>\n",
       "      <td>240</td>\n",
       "      <td>80.301602</td>\n",
       "      <td>5</td>\n",
       "      <td>0.556667</td>\n",
       "      <td>0.054874</td>\n",
       "      <td>8</td>\n",
       "    </tr>\n",
       "    <tr>\n",
       "      <th>24</th>\n",
       "      <td>type-2</td>\n",
       "      <td>ltc.ltc</td>\n",
       "      <td>lsa</td>\n",
       "      <td>53</td>\n",
       "      <td>250</td>\n",
       "      <td>80.301602</td>\n",
       "      <td>5</td>\n",
       "      <td>0.553333</td>\n",
       "      <td>0.064464</td>\n",
       "      <td>16</td>\n",
       "    </tr>\n",
       "    <tr>\n",
       "      <th>25</th>\n",
       "      <td>type-2</td>\n",
       "      <td>ltc.ltc</td>\n",
       "      <td>lsa</td>\n",
       "      <td>53</td>\n",
       "      <td>260</td>\n",
       "      <td>80.301602</td>\n",
       "      <td>5</td>\n",
       "      <td>0.560000</td>\n",
       "      <td>0.061101</td>\n",
       "      <td>1</td>\n",
       "    </tr>\n",
       "    <tr>\n",
       "      <th>26</th>\n",
       "      <td>type-2</td>\n",
       "      <td>ltc.ltc</td>\n",
       "      <td>lsa</td>\n",
       "      <td>53</td>\n",
       "      <td>270</td>\n",
       "      <td>80.301602</td>\n",
       "      <td>5</td>\n",
       "      <td>0.555000</td>\n",
       "      <td>0.057759</td>\n",
       "      <td>14</td>\n",
       "    </tr>\n",
       "    <tr>\n",
       "      <th>27</th>\n",
       "      <td>type-2</td>\n",
       "      <td>ltc.ltc</td>\n",
       "      <td>lsa</td>\n",
       "      <td>53</td>\n",
       "      <td>280</td>\n",
       "      <td>80.301602</td>\n",
       "      <td>5</td>\n",
       "      <td>0.553333</td>\n",
       "      <td>0.055678</td>\n",
       "      <td>16</td>\n",
       "    </tr>\n",
       "    <tr>\n",
       "      <th>28</th>\n",
       "      <td>type-2</td>\n",
       "      <td>ltc.ltc</td>\n",
       "      <td>lsa</td>\n",
       "      <td>53</td>\n",
       "      <td>290</td>\n",
       "      <td>80.301602</td>\n",
       "      <td>5</td>\n",
       "      <td>0.553333</td>\n",
       "      <td>0.052068</td>\n",
       "      <td>16</td>\n",
       "    </tr>\n",
       "    <tr>\n",
       "      <th>29</th>\n",
       "      <td>type-2</td>\n",
       "      <td>ltc.ltc</td>\n",
       "      <td>lsa</td>\n",
       "      <td>53</td>\n",
       "      <td>300</td>\n",
       "      <td>80.301602</td>\n",
       "      <td>5</td>\n",
       "      <td>0.548333</td>\n",
       "      <td>0.056001</td>\n",
       "      <td>27</td>\n",
       "    </tr>\n",
       "    <tr>\n",
       "      <th>30</th>\n",
       "      <td>type-2</td>\n",
       "      <td>ltc.ltc</td>\n",
       "      <td>lsa</td>\n",
       "      <td>53</td>\n",
       "      <td>310</td>\n",
       "      <td>80.301602</td>\n",
       "      <td>5</td>\n",
       "      <td>0.550000</td>\n",
       "      <td>0.050553</td>\n",
       "      <td>25</td>\n",
       "    </tr>\n",
       "    <tr>\n",
       "      <th>31</th>\n",
       "      <td>type-2</td>\n",
       "      <td>ltc.ltc</td>\n",
       "      <td>lsa</td>\n",
       "      <td>53</td>\n",
       "      <td>320</td>\n",
       "      <td>80.301602</td>\n",
       "      <td>5</td>\n",
       "      <td>0.556667</td>\n",
       "      <td>0.048990</td>\n",
       "      <td>8</td>\n",
       "    </tr>\n",
       "    <tr>\n",
       "      <th>32</th>\n",
       "      <td>type-2</td>\n",
       "      <td>ltc.ltc</td>\n",
       "      <td>lsa</td>\n",
       "      <td>53</td>\n",
       "      <td>330</td>\n",
       "      <td>80.301602</td>\n",
       "      <td>5</td>\n",
       "      <td>0.558333</td>\n",
       "      <td>0.051774</td>\n",
       "      <td>5</td>\n",
       "    </tr>\n",
       "    <tr>\n",
       "      <th>33</th>\n",
       "      <td>type-2</td>\n",
       "      <td>ltc.ltc</td>\n",
       "      <td>lsa</td>\n",
       "      <td>53</td>\n",
       "      <td>340</td>\n",
       "      <td>80.301602</td>\n",
       "      <td>5</td>\n",
       "      <td>0.555000</td>\n",
       "      <td>0.057759</td>\n",
       "      <td>11</td>\n",
       "    </tr>\n",
       "    <tr>\n",
       "      <th>34</th>\n",
       "      <td>type-2</td>\n",
       "      <td>ltc.ltc</td>\n",
       "      <td>lsa</td>\n",
       "      <td>53</td>\n",
       "      <td>350</td>\n",
       "      <td>80.301602</td>\n",
       "      <td>5</td>\n",
       "      <td>0.555000</td>\n",
       "      <td>0.059184</td>\n",
       "      <td>11</td>\n",
       "    </tr>\n",
       "    <tr>\n",
       "      <th>35</th>\n",
       "      <td>type-2</td>\n",
       "      <td>ltc.ltc</td>\n",
       "      <td>lsa</td>\n",
       "      <td>53</td>\n",
       "      <td>360</td>\n",
       "      <td>80.301602</td>\n",
       "      <td>5</td>\n",
       "      <td>0.551667</td>\n",
       "      <td>0.056984</td>\n",
       "      <td>21</td>\n",
       "    </tr>\n",
       "    <tr>\n",
       "      <th>36</th>\n",
       "      <td>type-2</td>\n",
       "      <td>ltc.ltc</td>\n",
       "      <td>lsa</td>\n",
       "      <td>53</td>\n",
       "      <td>370</td>\n",
       "      <td>80.301602</td>\n",
       "      <td>5</td>\n",
       "      <td>0.556667</td>\n",
       "      <td>0.056372</td>\n",
       "      <td>8</td>\n",
       "    </tr>\n",
       "    <tr>\n",
       "      <th>37</th>\n",
       "      <td>type-2</td>\n",
       "      <td>ltc.ltc</td>\n",
       "      <td>lsa</td>\n",
       "      <td>53</td>\n",
       "      <td>380</td>\n",
       "      <td>80.301602</td>\n",
       "      <td>5</td>\n",
       "      <td>0.558333</td>\n",
       "      <td>0.062472</td>\n",
       "      <td>5</td>\n",
       "    </tr>\n",
       "    <tr>\n",
       "      <th>38</th>\n",
       "      <td>type-2</td>\n",
       "      <td>ltc.ltc</td>\n",
       "      <td>lsa</td>\n",
       "      <td>53</td>\n",
       "      <td>390</td>\n",
       "      <td>80.301602</td>\n",
       "      <td>5</td>\n",
       "      <td>0.560000</td>\n",
       "      <td>0.062893</td>\n",
       "      <td>1</td>\n",
       "    </tr>\n",
       "    <tr>\n",
       "      <th>39</th>\n",
       "      <td>type-2</td>\n",
       "      <td>ltc.ltc</td>\n",
       "      <td>lsa</td>\n",
       "      <td>53</td>\n",
       "      <td>400</td>\n",
       "      <td>80.301602</td>\n",
       "      <td>5</td>\n",
       "      <td>0.551667</td>\n",
       "      <td>0.058902</td>\n",
       "      <td>21</td>\n",
       "    </tr>\n",
       "    <tr>\n",
       "      <th>40</th>\n",
       "      <td>type-2</td>\n",
       "      <td>ltc.ltc</td>\n",
       "      <td>lsa</td>\n",
       "      <td>53</td>\n",
       "      <td>410</td>\n",
       "      <td>80.301602</td>\n",
       "      <td>5</td>\n",
       "      <td>0.551667</td>\n",
       "      <td>0.065171</td>\n",
       "      <td>21</td>\n",
       "    </tr>\n",
       "    <tr>\n",
       "      <th>41</th>\n",
       "      <td>type-2</td>\n",
       "      <td>ltc.ltc</td>\n",
       "      <td>lsa</td>\n",
       "      <td>53</td>\n",
       "      <td>420</td>\n",
       "      <td>80.301602</td>\n",
       "      <td>5</td>\n",
       "      <td>0.553333</td>\n",
       "      <td>0.058595</td>\n",
       "      <td>16</td>\n",
       "    </tr>\n",
       "    <tr>\n",
       "      <th>42</th>\n",
       "      <td>type-2</td>\n",
       "      <td>ltc.ltc</td>\n",
       "      <td>lsa</td>\n",
       "      <td>53</td>\n",
       "      <td>430</td>\n",
       "      <td>80.301602</td>\n",
       "      <td>5</td>\n",
       "      <td>0.555000</td>\n",
       "      <td>0.058238</td>\n",
       "      <td>11</td>\n",
       "    </tr>\n",
       "    <tr>\n",
       "      <th>43</th>\n",
       "      <td>type-2</td>\n",
       "      <td>ltc.ltc</td>\n",
       "      <td>lsa</td>\n",
       "      <td>53</td>\n",
       "      <td>440</td>\n",
       "      <td>80.301602</td>\n",
       "      <td>5</td>\n",
       "      <td>0.558333</td>\n",
       "      <td>0.061577</td>\n",
       "      <td>5</td>\n",
       "    </tr>\n",
       "    <tr>\n",
       "      <th>44</th>\n",
       "      <td>type-2</td>\n",
       "      <td>ltc.ltc</td>\n",
       "      <td>lsa</td>\n",
       "      <td>53</td>\n",
       "      <td>450</td>\n",
       "      <td>80.301602</td>\n",
       "      <td>5</td>\n",
       "      <td>0.560000</td>\n",
       "      <td>0.062004</td>\n",
       "      <td>1</td>\n",
       "    </tr>\n",
       "    <tr>\n",
       "      <th>45</th>\n",
       "      <td>type-2</td>\n",
       "      <td>ltc.ltc</td>\n",
       "      <td>lsa</td>\n",
       "      <td>53</td>\n",
       "      <td>460</td>\n",
       "      <td>80.301602</td>\n",
       "      <td>5</td>\n",
       "      <td>0.560000</td>\n",
       "      <td>0.063770</td>\n",
       "      <td>1</td>\n",
       "    </tr>\n",
       "  </tbody>\n",
       "</table>\n",
       "</div>"
      ],
      "text/plain": [
       "   class_feature   scheme reducer_type param_ext__idx param_red__sc  \\\n",
       "0         type-2  ltc.ltc          lsa             53            10   \n",
       "1         type-2  ltc.ltc          lsa             53            20   \n",
       "2         type-2  ltc.ltc          lsa             53            30   \n",
       "3         type-2  ltc.ltc          lsa             53            40   \n",
       "4         type-2  ltc.ltc          lsa             53            50   \n",
       "5         type-2  ltc.ltc          lsa             53            60   \n",
       "6         type-2  ltc.ltc          lsa             53            70   \n",
       "7         type-2  ltc.ltc          lsa             53            80   \n",
       "8         type-2  ltc.ltc          lsa             53            90   \n",
       "9         type-2  ltc.ltc          lsa             53           100   \n",
       "10        type-2  ltc.ltc          lsa             53           110   \n",
       "11        type-2  ltc.ltc          lsa             53           120   \n",
       "12        type-2  ltc.ltc          lsa             53           130   \n",
       "13        type-2  ltc.ltc          lsa             53           140   \n",
       "14        type-2  ltc.ltc          lsa             53           150   \n",
       "15        type-2  ltc.ltc          lsa             53           160   \n",
       "16        type-2  ltc.ltc          lsa             53           170   \n",
       "17        type-2  ltc.ltc          lsa             53           180   \n",
       "18        type-2  ltc.ltc          lsa             53           190   \n",
       "19        type-2  ltc.ltc          lsa             53           200   \n",
       "20        type-2  ltc.ltc          lsa             53           210   \n",
       "21        type-2  ltc.ltc          lsa             53           220   \n",
       "22        type-2  ltc.ltc          lsa             53           230   \n",
       "23        type-2  ltc.ltc          lsa             53           240   \n",
       "24        type-2  ltc.ltc          lsa             53           250   \n",
       "25        type-2  ltc.ltc          lsa             53           260   \n",
       "26        type-2  ltc.ltc          lsa             53           270   \n",
       "27        type-2  ltc.ltc          lsa             53           280   \n",
       "28        type-2  ltc.ltc          lsa             53           290   \n",
       "29        type-2  ltc.ltc          lsa             53           300   \n",
       "30        type-2  ltc.ltc          lsa             53           310   \n",
       "31        type-2  ltc.ltc          lsa             53           320   \n",
       "32        type-2  ltc.ltc          lsa             53           330   \n",
       "33        type-2  ltc.ltc          lsa             53           340   \n",
       "34        type-2  ltc.ltc          lsa             53           350   \n",
       "35        type-2  ltc.ltc          lsa             53           360   \n",
       "36        type-2  ltc.ltc          lsa             53           370   \n",
       "37        type-2  ltc.ltc          lsa             53           380   \n",
       "38        type-2  ltc.ltc          lsa             53           390   \n",
       "39        type-2  ltc.ltc          lsa             53           400   \n",
       "40        type-2  ltc.ltc          lsa             53           410   \n",
       "41        type-2  ltc.ltc          lsa             53           420   \n",
       "42        type-2  ltc.ltc          lsa             53           430   \n",
       "43        type-2  ltc.ltc          lsa             53           440   \n",
       "44        type-2  ltc.ltc          lsa             53           450   \n",
       "45        type-2  ltc.ltc          lsa             53           460   \n",
       "\n",
       "       window  word_length  mean_test_score  std_test_score  rank_test_score  \n",
       "0   80.301602            5         0.498333        0.061667               46  \n",
       "1   80.301602            5         0.520000        0.047022               45  \n",
       "2   80.301602            5         0.526667        0.047258               44  \n",
       "3   80.301602            5         0.543333        0.058310               33  \n",
       "4   80.301602            5         0.541667        0.049582               35  \n",
       "5   80.301602            5         0.546667        0.047610               29  \n",
       "6   80.301602            5         0.541667        0.047288               35  \n",
       "7   80.301602            5         0.543333        0.048990               33  \n",
       "8   80.301602            5         0.533333        0.053229               41  \n",
       "9   80.301602            5         0.535000        0.057470               40  \n",
       "10  80.301602            5         0.531667        0.060759               42  \n",
       "11  80.301602            5         0.531667        0.062115               42  \n",
       "12  80.301602            5         0.546667        0.055678               29  \n",
       "13  80.301602            5         0.548333        0.051881               26  \n",
       "14  80.301602            5         0.540000        0.051747               39  \n",
       "15  80.301602            5         0.541667        0.057373               35  \n",
       "16  80.301602            5         0.545000        0.060116               32  \n",
       "17  80.301602            5         0.541667        0.057855               35  \n",
       "18  80.301602            5         0.548333        0.063004               28  \n",
       "19  80.301602            5         0.546667        0.059067               29  \n",
       "20  80.301602            5         0.553333        0.060919               16  \n",
       "21  80.301602            5         0.551667        0.059372               24  \n",
       "22  80.301602            5         0.555000        0.057276               14  \n",
       "23  80.301602            5         0.556667        0.054874                8  \n",
       "24  80.301602            5         0.553333        0.064464               16  \n",
       "25  80.301602            5         0.560000        0.061101                1  \n",
       "26  80.301602            5         0.555000        0.057759               14  \n",
       "27  80.301602            5         0.553333        0.055678               16  \n",
       "28  80.301602            5         0.553333        0.052068               16  \n",
       "29  80.301602            5         0.548333        0.056001               27  \n",
       "30  80.301602            5         0.550000        0.050553               25  \n",
       "31  80.301602            5         0.556667        0.048990                8  \n",
       "32  80.301602            5         0.558333        0.051774                5  \n",
       "33  80.301602            5         0.555000        0.057759               11  \n",
       "34  80.301602            5         0.555000        0.059184               11  \n",
       "35  80.301602            5         0.551667        0.056984               21  \n",
       "36  80.301602            5         0.556667        0.056372                8  \n",
       "37  80.301602            5         0.558333        0.062472                5  \n",
       "38  80.301602            5         0.560000        0.062893                1  \n",
       "39  80.301602            5         0.551667        0.058902               21  \n",
       "40  80.301602            5         0.551667        0.065171               21  \n",
       "41  80.301602            5         0.553333        0.058595               16  \n",
       "42  80.301602            5         0.555000        0.058238               11  \n",
       "43  80.301602            5         0.558333        0.061577                5  \n",
       "44  80.301602            5         0.560000        0.062004                1  \n",
       "45  80.301602            5         0.560000        0.063770                1  "
      ]
     },
     "execution_count": 106,
     "metadata": {},
     "output_type": "execute_result"
    }
   ],
   "source": [
    "n = len(grid_search.cv_results_[\"params\"])\n",
    "c = class_type if class_based else None\n",
    "# c = None\n",
    "scheme = \"l\" if sublinear_tf else \"n\"\n",
    "scheme += \"t\" if use_idf else \"n\"\n",
    "scheme += \"c\" if norm_key == \"l2\" else \"n\"\n",
    "scheme += \".\" + scheme\n",
    "\n",
    "data_dict = {\n",
    "    \"class_feature\": np.full(n, c),\n",
    "    \"scheme\": np.full(n, scheme),\n",
    "#     \"smooth_idf\": np.full(n, smooth_idf),\n",
    "    \"reducer_type\": np.full(n, reducer_type),\n",
    "#     \"n_neighbors\": np.full(n, n_neighbors),\n",
    "}\n",
    "for k in grid_search.param_grid.keys():\n",
    "    data_dict[\"param_\" + k] = grid_search.cv_results_[\"param_\" + k]\n",
    "    \n",
    "data_dict[\"window\"] = np.array([out_wins[k] for k in data_dict[\"param_ext__idx\"]])\n",
    "data_dict[\"word_length\"] = np.array([out_wls[k] for k in data_dict[\"param_ext__idx\"]])\n",
    "data_dict[\"mean_test_score\"] = grid_search.cv_results_[\"mean_test_score\"]\n",
    "data_dict[\"std_test_score\"] = grid_search.cv_results_[\"std_test_score\"]\n",
    "data_dict[\"rank_test_score\"] = grid_search.cv_results_[\"rank_test_score\"]\n",
    "\n",
    "df = pd.DataFrame(data_dict)\n",
    "df"
   ]
  },
  {
   "cell_type": "markdown",
   "metadata": {},
   "source": [
    "## simple cross validation"
   ]
  },
  {
   "cell_type": "code",
   "execution_count": 10,
   "metadata": {},
   "outputs": [
    {
     "name": "stdout",
     "output_type": "stream",
     "text": [
      "463\n",
      "gettign the count words for win idx: 122.477847.3 and wl idx: 2\n",
      "gettign the count words for win idx: 122.477847.3 and wl idx: 2\n",
      "gettign the count words for win idx: 122.477847.3 and wl idx: 2\n",
      "gettign the count words for win idx: 122.477847.3 and wl idx: 2\n",
      "gettign the count words for win idx: 122.477847.3 and wl idx: 2\n",
      "gettign the count words for win idx: 122.477847.3 and wl idx: 2\n",
      "gettign the count words for win idx: 122.477847.3 and wl idx: 2\n",
      "gettign the count words for win idx: 122.477847.3 and wl idx: 2\n",
      "gettign the count words for win idx: 122.477847.3 and wl idx: 2\n",
      "gettign the count words for win idx: 122.477847.3 and wl idx: 2\n"
     ]
    },
    {
     "data": {
      "text/plain": [
       "array([0.25      , 0.2       , 0.35      , 0.4       , 0.31666667,\n",
       "       0.35      , 0.3       , 0.35      , 0.31666667, 0.3       ])"
      ]
     },
     "execution_count": 10,
     "metadata": {},
     "output_type": "execute_result"
    }
   ],
   "source": [
    "pipeline_builder = PipelineBuilder(class_based=class_based, class_type=class_type, classes=classes)\n",
    "\n",
    "pipeline_builder.set_feature_extraction(precomputed=True, idx=2, data=values, win_arr=out_wins, wl_arr=out_wls)\n",
    "pipeline_builder.set_transformer(norm=norm, use_idf=use_idf, smooth_idf=smooth_idf, sublinear_tf=sublinear_tf)\n",
    "pipeline_builder.set_reducer(spatial_complexity=spatial_comp, reducer_type=reducer_type, n_iter=n_iter)\n",
    "# print(pipeline_builder.pipe)\n",
    "pipeline_builder.set_normalizer()\n",
    "pipeline_builder.set_classifier(n_neighbors=n_neighbors)\n",
    "pipeline = pipeline_builder.build()\n",
    "\n",
    "scores = cross_val_score(pipeline, X, labels_merged, cv=10, scoring=\"balanced_accuracy\")\n",
    "scores"
   ]
  },
  {
   "cell_type": "markdown",
   "metadata": {},
   "source": [
    "# Pipeline for non-precomputed bag of words"
   ]
  },
  {
   "cell_type": "code",
   "execution_count": null,
   "metadata": {},
   "outputs": [],
   "source": [
    "class_based = False\n",
    "class_type = \"type-1\"\n",
    "classes = np.unique(labels_merged)\n",
    "precomputed=True\n",
    "\n",
    "alph_size = 4\n",
    "quantity = \"mean\"\n",
    "num_reduction=True\n",
    "irr_handler=\"supp_interp\"\n",
    "index_based_paa = False\n",
    "mean_bp_dist=\"normal\"\n",
    "verbose=False\n",
    "_BANDS = [\"lsstg\", \"lssti\", \"lsstr\", \"lsstu\", \"lssty\", \"lsstz\"]\n",
    "n_jobs = 8\n",
    "win = 100\n",
    "wl = 3\n",
    "threshold = 2\n",
    "tol = 3\n",
    "\n",
    "\n",
    "norm=\"l2\"\n",
    "use_idf=True\n",
    "smooth_idf=True\n",
    "sublinear_tf=True\n",
    "\n",
    "reducer_type = \"anova\"\n",
    "n_iter = 20\n",
    "\n",
    "n_neighbors=1\n",
    "print(spatial_comp)\n",
    "pipeline_builder = PipelineBuilder(class_based=class_based, class_type=class_type, classes=classes)\n",
    "\n",
    "\n",
    "# pipeline_builder.set_feature_extraction(precomputed=True, idx=-1, data=values, win_arr=out_wins, wl_arr=out_wls)\n",
    "\n",
    "pipeline_builder.set_feature_extraction(precomputed=False, bands=_BANDS, n_jobs=n_jobs, alph_size=4,\n",
    "                                        quantity=quantity, num_reduction=num_reduction,\n",
    "                                        irr_handler=irr_handler, index_based_paa=index_based_paa,\n",
    "                                        mean_bp_dist=mean_bp_dist, verbose=verbose, win=win, word_length=wl)\n",
    "\n",
    "\n",
    "pipeline_builder.set_transformer(norm=norm, use_idf=use_idf, smooth_idf=smooth_idf, sublinear_tf=sublinear_tf)\n",
    "pipeline_builder.set_reducer(spatial_comp, reducer_type=reducer_type, n_iter=n_iter)\n",
    "pipeline_builder.set_normalizer()\n",
    "pipeline_builder.set_classifier(n_neighbors=n_neighbors)\n",
    "pipeline = pipeline_builder.build()"
   ]
  }
 ],
 "metadata": {
  "kernelspec": {
   "display_name": "Python 3",
   "language": "python",
   "name": "python3"
  },
  "language_info": {
   "codemirror_mode": {
    "name": "ipython",
    "version": 3
   },
   "file_extension": ".py",
   "mimetype": "text/x-python",
   "name": "python",
   "nbconvert_exporter": "python",
   "pygments_lexer": "ipython3",
   "version": "3.8.6"
  }
 },
 "nbformat": 4,
 "nbformat_minor": 4
}
