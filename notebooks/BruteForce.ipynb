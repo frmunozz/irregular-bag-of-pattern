{
 "cells": [
  {
   "cell_type": "markdown",
   "metadata": {},
   "source": [
    "# Brute force algorithm\n",
    "\n",
    "naive implementation using DTW and TWED distances as a control case for future implementations.\n",
    "\n",
    "Here we will compute distance matrix for a given dataset and save the result to disk. Then, using this matrix we will evaluate performance on 1-nearest neighbor classification and Average Mean Presicion at K (AP@K)"
   ]
  },
  {
   "cell_type": "code",
   "execution_count": 1,
   "metadata": {},
   "outputs": [
    {
     "name": "stderr",
     "output_type": "stream",
     "text": [
      "c:\\programdata\\miniconda3\\lib\\site-packages\\numpy\\_distributor_init.py:32: UserWarning: loaded more than 1 DLL from .libs:\n",
      "c:\\programdata\\miniconda3\\lib\\site-packages\\numpy\\.libs\\libopenblas.PYQHXLVVQ7VESDPUVUADXEVJOBGHJPAY.gfortran-win_amd64.dll\n",
      "c:\\programdata\\miniconda3\\lib\\site-packages\\numpy\\.libs\\libopenblas.TXA6YQSD3GCQQC22GEQ54J2UDCXDXHWN.gfortran-win_amd64.dll\n",
      "  stacklevel=1)\n"
     ]
    }
   ],
   "source": [
    "import pandas as pd\n",
    "import numpy as np\n",
    "from collections import defaultdict\n",
    "from sklearn.model_selection import train_test_split\n",
    "from scipy.spatial import distance\n",
    "from sklearn.neighbors import KNeighborsClassifier\n",
    "from sklearn.model_selection import GridSearchCV\n",
    "from sklearn.metrics import classification_report\n",
    "from sklearn.metrics import confusion_matrix\n",
    "from sklearn.metrics import balanced_accuracy_score\n",
    "import itertools\n",
    "import multiprocessing as mp\n",
    "import os\n",
    "import matplotlib.pyplot as plt\n",
    "%matplotlib inline"
   ]
  },
  {
   "cell_type": "markdown",
   "metadata": {},
   "source": [
    "# DTW\n",
    "\n",
    "compute distance matrix between test and train datasets using DTW distance from [here](https://github.com/pierre-rouanet/dtw)\n",
    "\n",
    "**very expensive executions**"
   ]
  },
  {
   "cell_type": "code",
   "execution_count": 2,
   "metadata": {},
   "outputs": [],
   "source": [
    "from dtw import dtw, accelerated_dtw"
   ]
  },
  {
   "cell_type": "code",
   "execution_count": 3,
   "metadata": {},
   "outputs": [],
   "source": [
    "def distance_matrix(X_train, X_test):\n",
    "    # compute distances between each time series on test set and train set\n",
    "    n = len(X_train)\n",
    "    m = len(X_test)\n",
    "    res = np.ones((n, m)) * -1\n",
    "    for i in range(n):\n",
    "        for j in range(m):\n",
    "            d, cost_matrix, acc_cost_matrix, path = accelerated_dtw(X_train[i], X_test[j], 'cosine')\n",
    "            res[i][j] = d\n",
    "    return res\n",
    "\n",
    "def worker(X_train, X_test, i_subset, j_subset, out_q):\n",
    "    try:\n",
    "        n = len(X_train)\n",
    "        m = len(X_test)\n",
    "        rows = np.ones((n,m)) *  -1\n",
    "        for i in range(n):\n",
    "            for j in range(m):\n",
    "                d, cost_matrix, acc_cost_matrix, path = accelerated_dtw(X_train[i], X_test[j], 'cosine')\n",
    "                rows[i][j] = d\n",
    "        out_q.put((i_subset, j_subset, rows))\n",
    "    except:\n",
    "        print(\"worker failed\")\n",
    "    finally:\n",
    "        print(\"done\")\n",
    "\n",
    "# this code doesnt work on ipython notebooks when using windows system.\n",
    "def dmatrix_multiprocessing(X_train, X_test, n_process):\n",
    "    n = len(X_train)\n",
    "    m = len(X_test)\n",
    "    n_subset = n // n_process\n",
    "    man = mp.Manager()\n",
    "    result_queue = man.Queue()\n",
    "    jobs = []\n",
    "    for k in range(n_process):\n",
    "        i_subset = k * n_subset\n",
    "        j_subset = (k+1) * n_subset\n",
    "        if j_subset > n:\n",
    "            j_subset = n\n",
    "        X_train_subset = X_train[i_subset:j_subset]\n",
    "        jobs.append(mp.Process(target=worker, \n",
    "                               args=(X_train_subset, X_test, i_subset, j_subset, result_queue)))\n",
    "        jobs[-1].start()\n",
    "    \n",
    "    for p in jobs:\n",
    "        p.join()\n",
    "    \n",
    "    dmatrix = np.zeros((n, m))\n",
    "    num_res = result_queue.size()\n",
    "    while num_ress > 0:\n",
    "        i_subset, j_subset, rows_subset = result_queue.get()\n",
    "        dmatrix[i_subset:j_subset] = rows_subset\n",
    "    \n",
    "    return dmatrix"
   ]
  },
  {
   "cell_type": "code",
   "execution_count": 7,
   "metadata": {},
   "outputs": [
    {
     "name": "stdout",
     "output_type": "stream",
     "text": [
      "CPU times: user 5.83 s, sys: 9.65 ms, total: 5.83 s\n",
      "Wall time: 5.84 s\n"
     ]
    },
    {
     "data": {
      "text/plain": [
       "(100, 25)"
      ]
     },
     "execution_count": 7,
     "metadata": {},
     "output_type": "execute_result"
    }
   ],
   "source": [
    "%%time\n",
    "# dataset train size 100, test size 25, 6 classes\n",
    "\n",
    "path = \"/home/frmunoz/Documents/tesis/data/plasticc_subsets/scenario1_ratio_2-8/\"\n",
    "train_d = np.load(os.path.join(path, \"train_d_n100_c6.npy\"), allow_pickle=True)\n",
    "test_d = np.load(os.path.join(path, \"test_d_n25_c6.npy\"), allow_pickle=True)\n",
    "\n",
    "d_matrix_100_25_6 = distance_matrix(train_d, test_d)\n",
    "d_matrix_100_25_6.shape"
   ]
  },
  {
   "cell_type": "markdown",
   "metadata": {},
   "source": [
    "for more big datasets, please run the multiprocessing algorithm from terminal, here we will just load them"
   ]
  },
  {
   "cell_type": "markdown",
   "metadata": {},
   "source": [
    "## 1-nearest neighbor classification\n",
    "\n",
    "having the distance matrix we will classify each time series on the test set using the training set. \n",
    "\n",
    "The procedure will be:\n",
    "\n",
    "1. For each column on the distance matrix, get the clossest distance\n",
    "2. Check training and test label looking for match. \n",
    "3. Final accuracy will be the number of matches divided by the total number of test samples."
   ]
  },
  {
   "cell_type": "code",
   "execution_count": 4,
   "metadata": {},
   "outputs": [],
   "source": [
    "def bruteforce_classifier(dataset_folder, dmatrix_folder, n1, n2, c, dist_type=\"dtw\", input_dmatrix=None):\n",
    "    if dist_type == \"dtw\":\n",
    "        dmatrix = np.load(dmatrix_folder + \"dmatrix_n{}_m{}_c{}.npy\".format(n1, n2, c), allow_pickle=True)\n",
    "    elif dist_type == \"twed\":\n",
    "        dmatrix = np.load(dmatrix_folder + \"dmatrix_n{}_m{}_c{}_twed.npy\".format(n1, n2, c), allow_pickle=True)\n",
    "    else:\n",
    "        dmatrix = input_dmatrix\n",
    "    train_labels = np.load(dataset_folder + \"train_l_n{}_c{}.npy\".format(n1, c), allow_pickle=True)\n",
    "    test_labels = np.load(dataset_folder + \"test_l_n{}_c{}.npy\".format(n2, c), allow_pickle=True)\n",
    "    \n",
    "    n = len(train_labels)\n",
    "    m = len(test_labels)\n",
    "    count = 0\n",
    "    pred_label = []\n",
    "#     print(m)\n",
    "    for j in range(m):\n",
    "        dmin = np.inf\n",
    "        mink = -1\n",
    "        for i in range(n):\n",
    "            if dmatrix[i][j] < dmin:\n",
    "                dmin = dmatrix[i][j]\n",
    "                mink = i\n",
    "        pred_label.append(train_labels[mink])\n",
    "        if test_labels[j] == train_labels[mink]:\n",
    "            count += 1\n",
    "#     print(len(pred_label))\n",
    "    acc = balanced_accuracy_score(test_labels, pred_label)\n",
    "    return count, acc, np.array(pred_label), test_labels"
   ]
  },
  {
   "cell_type": "code",
   "execution_count": 5,
   "metadata": {},
   "outputs": [
    {
     "name": "stdout",
     "output_type": "stream",
     "text": [
      "accuracy for dataset [100, 25, 6]: 0.12962962962962962\n",
      "accuracy for dataset [500, 125, 6]: 0.1956384015594542\n",
      "accuracy for dataset [1000, 250, 6]: 0.1948260130231015\n",
      "accuracy for dataset [2000, 500, 6]: 0.21831984236893764\n",
      "accuracy for dataset [4000, 1000, 6]: 0.2026942640729168\n",
      "accuracy for dataset [5000, 1250, 6]: 0.19512562436316985\n"
     ]
    }
   ],
   "source": [
    "# loading matrix\n",
    "path1 = \"D:/tesis/tesis/data/plasticc_subsets/scenario1_ratio_2-8/\"\n",
    "path2 = \"D:/tesis/tesis/data/bruteforce_dmatrix/scenario1_ratio_2-8/\"\n",
    "ratio = 2/8 # 20% test, 80% train\n",
    "n1_arr = np.array([100, 500, 1000, 2000, 4000, 5000], dtype=int)\n",
    "n2_arr = (n1_arr * ratio).astype(int)\n",
    "c = 6\n",
    "\n",
    "acc_classifier_dtw = []\n",
    "test_labels_dtw = []\n",
    "pred_labels_dtw = []\n",
    "for n1, n2 in zip(n1_arr, n2_arr):\n",
    "    count, acc, pred_label, test_label = bruteforce_classifier(path1, path2, n1, n2, c, dist_type=\"dtw\")\n",
    "    print(\"accuracy for dataset [%d, %d, %d]:\" % (n1, n2, c), acc)\n",
    "    acc_classifier_dtw.append(acc)\n",
    "    pred_labels_dtw.append(pred_label)\n",
    "    test_labels_dtw.append(test_label)"
   ]
  },
  {
   "cell_type": "code",
   "execution_count": 6,
   "metadata": {},
   "outputs": [
    {
     "name": "stdout",
     "output_type": "stream",
     "text": [
      "Normalized confusion matrix\n",
      "              precision    recall  f1-score   support\n",
      "\n",
      "        15.0       0.04      0.01      0.02        77\n",
      "        16.0       0.27      0.04      0.07       145\n",
      "        42.0       0.21      0.49      0.29       187\n",
      "        62.0       0.08      0.12      0.09        76\n",
      "        65.0       0.30      0.24      0.27       153\n",
      "        90.0       0.41      0.31      0.36       362\n",
      "\n",
      "    accuracy                           0.26      1000\n",
      "   macro avg       0.22      0.20      0.18      1000\n",
      "weighted avg       0.28      0.26      0.24      1000\n",
      "\n"
     ]
    },
    {
     "data": {
      "image/png": "[encoded data removed]",
      "text/plain": [
       "<Figure size 576x576 with 2 Axes>"
      ]
     },
     "metadata": {
      "needs_background": "light"
     },
     "output_type": "display_data"
    }
   ],
   "source": [
    "def plot_confusion_matrix(cm, classes,\n",
    "                          normalize=False,\n",
    "                          title='Confusion matrix',\n",
    "                          cmap=plt.cm.Blues):\n",
    "    \"\"\"\n",
    "    This function prints and plots the confusion matrix.\n",
    "    Normalization can be applied by setting `normalize=True`.\n",
    "    \"\"\"\n",
    "    plt.imshow(cm, interpolation='nearest', cmap=cmap)\n",
    "    plt.title(title, fontsize=17)\n",
    "    plt.colorbar()\n",
    "    tick_marks = np.arange(len(classes))\n",
    "    plt.xticks(tick_marks, classes, rotation=45)\n",
    "    plt.yticks(tick_marks, classes)\n",
    "\n",
    "    if normalize:\n",
    "        cm = np.round(cm.astype('float') / cm.sum(axis=1)[:, np.newaxis], 2)\n",
    "        print(\"Normalized confusion matrix\")\n",
    "    else:\n",
    "        print('Confusion matrix, without normalization')\n",
    "\n",
    "#     print(cm)\n",
    "\n",
    "    thresh = cm.max() / 2.\n",
    "    for i, j in itertools.product(range(cm.shape[0]), range(cm.shape[1])):\n",
    "        plt.text(j, i, cm[i, j],\n",
    "                 horizontalalignment=\"center\",\n",
    "                 color=\"white\" if cm[i, j] > thresh else \"black\")\n",
    "\n",
    "    plt.tight_layout()\n",
    "    plt.ylabel('True label', fontsize=17)\n",
    "    plt.xlabel('Predicted label', fontsize=17)\n",
    "\n",
    "# Compute confusion matrix for last test\n",
    "N = 4\n",
    "y_test = test_labels_dtw[N]\n",
    "y_pred = pred_labels_dtw[N]\n",
    "cnf_matrix = confusion_matrix(y_test, y_pred)\n",
    "np.set_printoptions(precision=2)\n",
    "\n",
    "# Plot non-normalized confusion matrix\n",
    "class_names = [15, 16, 42, 62, 65, 90]\n",
    "# plt.figure(figsize=(6, 6))\n",
    "# plot_confusion_matrix(cnf_matrix, classes=class_names,\n",
    "#                       title='Confusion matrix, without normalization')\n",
    "\n",
    "# Plot normalized confusion matrix\n",
    "plt.figure(figsize=(8, 8))\n",
    "plot_confusion_matrix(cnf_matrix, classes=class_names, normalize=True,\n",
    "                      title='confusion matrix DTW, dataset %d/%d' % (n1_arr[N], n2_arr[N]))\n",
    "\n",
    "print(classification_report(y_test, y_pred))"
   ]
  },
  {
   "cell_type": "code",
   "execution_count": 12,
   "metadata": {},
   "outputs": [
    {
     "data": {
      "text/html": [
       "<div>\n",
       "<style scoped>\n",
       "    .dataframe tbody tr th:only-of-type {\n",
       "        vertical-align: middle;\n",
       "    }\n",
       "\n",
       "    .dataframe tbody tr th {\n",
       "        vertical-align: top;\n",
       "    }\n",
       "\n",
       "    .dataframe thead th {\n",
       "        text-align: right;\n",
       "    }\n",
       "</style>\n",
       "<table border=\"1\" class=\"dataframe\">\n",
       "  <thead>\n",
       "    <tr style=\"text-align: right;\">\n",
       "      <th></th>\n",
       "      <th>15.0</th>\n",
       "      <th>16.0</th>\n",
       "      <th>42.0</th>\n",
       "      <th>62.0</th>\n",
       "      <th>65.0</th>\n",
       "      <th>90.0</th>\n",
       "      <th>accuracy</th>\n",
       "      <th>macro avg</th>\n",
       "      <th>weighted avg</th>\n",
       "    </tr>\n",
       "  </thead>\n",
       "  <tbody>\n",
       "    <tr>\n",
       "      <th>precision</th>\n",
       "      <td>0.041667</td>\n",
       "      <td>0.272727</td>\n",
       "      <td>0.208716</td>\n",
       "      <td>0.075630</td>\n",
       "      <td>0.300813</td>\n",
       "      <td>0.413043</td>\n",
       "      <td>0.258</td>\n",
       "      <td>0.218766</td>\n",
       "      <td>0.283078</td>\n",
       "    </tr>\n",
       "    <tr>\n",
       "      <th>recall</th>\n",
       "      <td>0.012987</td>\n",
       "      <td>0.041379</td>\n",
       "      <td>0.486631</td>\n",
       "      <td>0.118421</td>\n",
       "      <td>0.241830</td>\n",
       "      <td>0.314917</td>\n",
       "      <td>0.258</td>\n",
       "      <td>0.202694</td>\n",
       "      <td>0.258000</td>\n",
       "    </tr>\n",
       "    <tr>\n",
       "      <th>f1-score</th>\n",
       "      <td>0.019802</td>\n",
       "      <td>0.071856</td>\n",
       "      <td>0.292135</td>\n",
       "      <td>0.092308</td>\n",
       "      <td>0.268116</td>\n",
       "      <td>0.357367</td>\n",
       "      <td>0.258</td>\n",
       "      <td>0.183597</td>\n",
       "      <td>0.243977</td>\n",
       "    </tr>\n",
       "    <tr>\n",
       "      <th>support</th>\n",
       "      <td>77.000000</td>\n",
       "      <td>145.000000</td>\n",
       "      <td>187.000000</td>\n",
       "      <td>76.000000</td>\n",
       "      <td>153.000000</td>\n",
       "      <td>362.000000</td>\n",
       "      <td>0.258</td>\n",
       "      <td>1000.000000</td>\n",
       "      <td>1000.000000</td>\n",
       "    </tr>\n",
       "  </tbody>\n",
       "</table>\n",
       "</div>"
      ],
      "text/plain": [
       "                15.0        16.0        42.0       62.0        65.0  \\\n",
       "precision   0.041667    0.272727    0.208716   0.075630    0.300813   \n",
       "recall      0.012987    0.041379    0.486631   0.118421    0.241830   \n",
       "f1-score    0.019802    0.071856    0.292135   0.092308    0.268116   \n",
       "support    77.000000  145.000000  187.000000  76.000000  153.000000   \n",
       "\n",
       "                 90.0  accuracy    macro avg  weighted avg  \n",
       "precision    0.413043     0.258     0.218766      0.283078  \n",
       "recall       0.314917     0.258     0.202694      0.258000  \n",
       "f1-score     0.357367     0.258     0.183597      0.243977  \n",
       "support    362.000000     0.258  1000.000000   1000.000000  "
      ]
     },
     "execution_count": 12,
     "metadata": {},
     "output_type": "execute_result"
    }
   ],
   "source": [
    "x = classification_report(y_test, y_pred, output_dict=True)\n",
    "df = pd.DataFrame(x)\n",
    "df"
   ]
  },
  {
   "cell_type": "markdown",
   "metadata": {},
   "source": [
    "## Mean Average Precision at K"
   ]
  },
  {
   "cell_type": "code",
   "execution_count": 8,
   "metadata": {},
   "outputs": [],
   "source": [
    "def average_precision(target_test, targets_train, predicted_targets_idx):\n",
    "    \n",
    "    n_tp_total = np.sum([target_test == targets_train[i] for i in predicted_targets_idx])\n",
    "    if n_tp_total == 0:\n",
    "        return 0\n",
    "    k = len(predicted_targets_idx)\n",
    "    ap_sum = 0\n",
    "    for i in range(k):\n",
    "        tp_seen = 0\n",
    "        if target_test == targets_train[predicted_targets_idx[i]]:\n",
    "            for j in range(i+1):\n",
    "                if target_test == targets_train[predicted_targets_idx[j]]:\n",
    "                    tp_seen += 1\n",
    "        ap_sum += tp_seen / (i+1)\n",
    "    return ap_sum / n_tp_total\n",
    "\n",
    "def m_av_p_k(dataset_folder, dmatrix_folder, n1, n2, c, k, dist_type=\"dtw\", input_dmatrix=None):\n",
    "    if dist_type == \"dtw\":\n",
    "        dmatrix = np.load(dmatrix_folder + \"dmatrix_n{}_m{}_c{}.npy\".format(n1, n2, c), allow_pickle=True)\n",
    "    elif dist_type == \"twed\":\n",
    "        dmatrix = np.load(dmatrix_folder + \"dmatrix_n{}_m{}_c{}_twed.npy\".format(n1, n2, c), allow_pickle=True)\n",
    "    else:\n",
    "        dmatrix = input_dmatrix\n",
    "    train_labels = np.load(dataset_folder + \"train_l_n{}_c{}.npy\".format(n1, c), allow_pickle=True)\n",
    "    test_labels = np.load(dataset_folder + \"test_l_n{}_c{}.npy\".format(n2, c), allow_pickle=True)\n",
    "    \n",
    "    n = len(train_labels)\n",
    "    m = len(test_labels)\n",
    "    mapk = []\n",
    "    for j in range(m):\n",
    "        best_idx_sort = np.argsort(dmatrix[:,j])[::-1]\n",
    "        best_idx_sort_k = best_idx_sort[:k]\n",
    "        apk = average_precision(test_labels[j], train_labels, best_idx_sort_k)\n",
    "        mapk.append(apk)\n",
    "    \n",
    "    return np.sum(mapk)/ m, mapk"
   ]
  },
  {
   "cell_type": "code",
   "execution_count": 9,
   "metadata": {},
   "outputs": [
    {
     "name": "stdout",
     "output_type": "stream",
     "text": [
      "mAP@k for dataset [100, 25, 6], and k=10: 0.28263756613756613\n",
      "mAP@k for dataset [500, 125, 6], and k=10: 0.29329639455782314\n",
      "mAP@k for dataset [1000, 250, 6], and k=10: 0.320765141723356\n",
      "mAP@k for dataset [2000, 500, 6], and k=10: 0.2567565863567649\n",
      "mAP@k for dataset [4000, 1000, 6], and k=10: 0.2558541260393046\n",
      "mAP@k for dataset [5000, 1250, 6], and k=10: 0.1982154838750315\n"
     ]
    }
   ],
   "source": [
    "# loading matrix\n",
    "mapk_dtw = []\n",
    "for n1, n2 in zip(n1_arr, n2_arr):\n",
    "    mapk, vec = m_av_p_k(path1, path2, n1, n2, c, 10, dist_type=\"dtw\")\n",
    "    print(\"mAP@k for dataset [%d, %d, %d], and k=%d:\" % (n1, n2, c, 10), mapk)\n",
    "    mapk_dtw.append(mapk)"
   ]
  },
  {
   "cell_type": "markdown",
   "metadata": {},
   "source": [
    "# TWED\n",
    "\n",
    "compute distance matrix between test and train datasets using TWED distance from [here](https://en.wikipedia.org/wiki/Time_Warp_Edit_Distance)\n",
    "\n",
    "elasticity parameter **nu** and penalty paramete **\\_lambda** are set to 1 and 0.001 respectively in an arbitrary way (should be fit)\n",
    "\n",
    "**very expensive executions**"
   ]
  },
  {
   "cell_type": "code",
   "execution_count": 10,
   "metadata": {},
   "outputs": [],
   "source": [
    "def Dlp(A, B, p=2):\n",
    "    cost = np.sum(np.power(np.abs(A - B), p))\n",
    "    return np.power(cost, 1 / p)\n",
    "\n",
    "\n",
    "def twed(A, timeSA, B, timeSB, nu, _lambda):\n",
    "    # [distance, DP] = TWED( A, timeSA, B, timeSB, lambda, nu )\n",
    "    # Compute Time Warp Edit Distance (TWED) for given time series A and B\n",
    "    #\n",
    "    # A      := Time series A (e.g. [ 10 2 30 4])\n",
    "    # timeSA := Time stamp of time series A (e.g. 1:4)\n",
    "    # B      := Time series B\n",
    "    # timeSB := Time stamp of time series B\n",
    "    # lambda := Penalty for deletion operation\n",
    "    # nu     := Elasticity parameter - nu >=0 needed for distance measure\n",
    "    # Reference :\n",
    "    #    Marteau, P.; F. (2009). \"Time Warp Edit Distance with Stiffness Adjustment for Time Series Matching\".\n",
    "    #    IEEE Transactions on Pattern Analysis and Machine Intelligence. 31 (2): 306–318. arXiv:cs/0703033\n",
    "    #    http://people.irisa.fr/Pierre-Francois.Marteau/\n",
    "\n",
    "    # Check if input arguments\n",
    "    if len(A) != len(timeSA):\n",
    "        print(\"The length of A is not equal length of timeSA\")\n",
    "        return None, None\n",
    "\n",
    "    if len(B) != len(timeSB):\n",
    "        print(\"The length of B is not equal length of timeSB\")\n",
    "        return None, None\n",
    "\n",
    "    if nu < 0:\n",
    "        print(\"nu is negative\")\n",
    "        return None, None\n",
    "\n",
    "    # Add padding\n",
    "    A = np.array([0] + list(A))\n",
    "    timeSA = np.array([0] + list(timeSA))\n",
    "    B = np.array([0] + list(B))\n",
    "    timeSB = np.array([0] + list(timeSB))\n",
    "\n",
    "    n = len(A)\n",
    "    m = len(B)\n",
    "    # Dynamical programming\n",
    "    DP = np.zeros((n, m))\n",
    "\n",
    "    # Initialize DP Matrix and set first row and column to infinity\n",
    "    DP[0, :] = np.inf\n",
    "    DP[:, 0] = np.inf\n",
    "    DP[0, 0] = 0\n",
    "\n",
    "    # Compute minimal cost\n",
    "    for i in range(1, n):\n",
    "        for j in range(1, m):\n",
    "            # Calculate and save cost of various operations\n",
    "            C = np.ones((3, 1)) * np.inf\n",
    "            # Deletion in A\n",
    "            C[0] = (DP[i - 1, j] + Dlp(A[i - 1], A[i]) + nu * (timeSA[i] - timeSA[i - 1]) + _lambda)\n",
    "            # Deletion in B\n",
    "            C[1] = (\n",
    "                DP[i, j - 1]\n",
    "                + Dlp(B[j - 1], B[j])\n",
    "                + nu * (timeSB[j] - timeSB[j - 1])\n",
    "                + _lambda\n",
    "            )\n",
    "            # Keep data points in both time series\n",
    "            C[2] = (\n",
    "                DP[i - 1, j - 1]\n",
    "                + Dlp(A[i], B[j])\n",
    "                + Dlp(A[i - 1], B[j - 1])\n",
    "                + nu * (abs(timeSA[i] - timeSB[j]) + abs(timeSA[i - 1] - timeSB[j - 1]))\n",
    "            )\n",
    "            # Choose the operation with the minimal cost and update DP Matrix\n",
    "            DP[i, j] = np.min(C)\n",
    "    distance = DP[n - 1, m - 1]\n",
    "    return distance, DP"
   ]
  },
  {
   "cell_type": "code",
   "execution_count": 30,
   "metadata": {},
   "outputs": [
    {
     "name": "stdout",
     "output_type": "stream",
     "text": [
      "(100,) (100,) (25,) (25,)\n",
      "CPU times: user 192 ms, sys: 10.5 ms, total: 202 ms\n",
      "Wall time: 176 ms\n"
     ]
    }
   ],
   "source": [
    "%%time\n",
    "path = \"/home/frmunoz/Documents/tesis/data/plasticc_subsets/scenario1_ratio_2-8/\"\n",
    "train_d = np.load(os.path.join(path, \"train_d_n100_c6.npy\"), allow_pickle=True)\n",
    "test_d = np.load(os.path.join(path, \"test_d_n25_c6.npy\"), allow_pickle=True)\n",
    "train_t = np.load(os.path.join(path, \"train_t_n100_c6.npy\"), allow_pickle=True)\n",
    "test_t = np.load(os.path.join(path, \"test_t_n25_c6.npy\"), allow_pickle=True)\n",
    "\n",
    "print(train_d.shape, train_t.shape, test_d.shape, test_t.shape)\n",
    "for i in range(train_d.shape[0]):\n",
    "    if train_d[i].shape[0] != train_t[i].shape[0]:\n",
    "        print(train_d[i].shape, train_t[i].shape)\n",
    "        \n",
    "for i in range(test_d.shape[0]):\n",
    "    if test_d[i].shape[0] != test_t[i].shape[0]:\n",
    "        print(test_d[i].shape, test_t[i].shape)\n",
    "    \n",
    "d, dp = twed(train_d[0], train_t[0], test_d[0], test_t[0], 1, 0.001)\n",
    "# d"
   ]
  },
  {
   "cell_type": "code",
   "execution_count": 31,
   "metadata": {},
   "outputs": [],
   "source": [
    "def distances_twed(train_x, train_t, test_x, test_t):\n",
    "    n = len(train_x)\n",
    "    m = len(test_x)\n",
    "    res = np.ones((n, m)) * -1\n",
    "    for i in range(len(train_x)):\n",
    "        for j in range(len(test_x)):\n",
    "            d, m = twed(train_x[i], train_t[i], test_x[j], test_t[j], 1, 0.001)\n",
    "            res[i][j] = d\n",
    "    return res"
   ]
  },
  {
   "cell_type": "code",
   "execution_count": 13,
   "metadata": {},
   "outputs": [
    {
     "name": "stdout",
     "output_type": "stream",
     "text": [
      "accuracy for dataset [100, 25, 6]: 0.16666666666666666\n",
      "accuracy for dataset [500, 125, 6]: 0.16666666666666666\n",
      "accuracy for dataset [1000, 250, 6]: 0.21817220355854172\n",
      "accuracy for dataset [2000, 500, 6]: 0.28528888096971\n",
      "accuracy for dataset [4000, 1000, 6]: 0.30862964721023783\n"
     ]
    }
   ],
   "source": [
    "# loading matrix\n",
    "# loading matrix\n",
    "path1 = \"D:/tesis/tesis/data/plasticc_subsets/scenario1_ratio_2-8/\"\n",
    "path2 = \"D:/tesis/tesis/data/bruteforce_dmatrix/scenario1_ratio_2-8/\"\n",
    "ratio = 2/8 # 20% test, 80% train\n",
    "n1_arr = np.array([100, 500, 1000, 2000, 4000], dtype=int)\n",
    "n2_arr = (n1_arr * ratio).astype(int)\n",
    "c = 6\n",
    "    \n",
    "acc_classifier_twed = []\n",
    "test_labels_twed = []\n",
    "pred_labels_twed = []\n",
    "for n1, n2 in zip(n1_arr, n2_arr):\n",
    "    count, acc, pred_label, test_label = bruteforce_classifier(path1, path2, n1, n2, c, dist_type=\"twed\")\n",
    "    print(\"accuracy for dataset [%d, %d, %d]:\" % (n1, n2, c), acc)\n",
    "    acc_classifier_twed.append(acc)\n",
    "    pred_labels_twed.append(pred_label)\n",
    "    test_labels_twed.append(test_label)"
   ]
  },
  {
   "cell_type": "code",
   "execution_count": 19,
   "metadata": {},
   "outputs": [
    {
     "data": {
      "text/plain": [
       "[0.12, 0.192, 0.28, 0.366, 0.382]"
      ]
     },
     "execution_count": 19,
     "metadata": {},
     "output_type": "execute_result"
    }
   ],
   "source": [
    "acc_classifier_twed"
   ]
  },
  {
   "cell_type": "code",
   "execution_count": 14,
   "metadata": {},
   "outputs": [
    {
     "name": "stdout",
     "output_type": "stream",
     "text": [
      "Normalized confusion matrix\n",
      "              precision    recall  f1-score   support\n",
      "\n",
      "        15.0       0.11      0.14      0.13        77\n",
      "        16.0       0.79      0.50      0.61       145\n",
      "        42.0       0.29      0.28      0.28       187\n",
      "        62.0       0.06      0.07      0.06        76\n",
      "        65.0       0.39      0.35      0.37       153\n",
      "        90.0       0.46      0.52      0.49       362\n",
      "\n",
      "    accuracy                           0.38      1000\n",
      "   macro avg       0.35      0.31      0.32      1000\n",
      "weighted avg       0.41      0.38      0.39      1000\n",
      "\n"
     ]
    },
    {
     "data": {
      "image/png": "[encoded data removed]",
      "text/plain": [
       "<Figure size 576x576 with 2 Axes>"
      ]
     },
     "metadata": {
      "needs_background": "light"
     },
     "output_type": "display_data"
    }
   ],
   "source": [
    "# Compute confusion matrix for last test\n",
    "N = 4\n",
    "y_test = test_labels_twed[N]\n",
    "y_pred = pred_labels_twed[N]\n",
    "cnf_matrix = confusion_matrix(y_test, y_pred)\n",
    "np.set_printoptions(precision=2)\n",
    "\n",
    "# Plot non-normalized confusion matrix\n",
    "class_names = [15, 16, 42, 62, 65, 90]\n",
    "# plt.figure(figsize=(6, 6))\n",
    "# plot_confusion_matrix(cnf_matrix, classes=class_names,\n",
    "#                       title='Confusion matrix, without normalization')\n",
    "\n",
    "# Plot normalized confusion matrix\n",
    "plt.figure(figsize=(8, 8))\n",
    "plot_confusion_matrix(cnf_matrix, classes=class_names, normalize=True,\n",
    "                      title='Confusion matrix TWED, dataset %d/%d' % (n1_arr[N], n2_arr[N]))\n",
    "\n",
    "print(classification_report(y_test, y_pred))"
   ]
  },
  {
   "cell_type": "code",
   "execution_count": 15,
   "metadata": {},
   "outputs": [
    {
     "name": "stdout",
     "output_type": "stream",
     "text": [
      "mAP@k for dataset [100, 25, 6], and k=10: 0.28263756613756613\n",
      "mAP@k for dataset [500, 125, 6], and k=10: 0.29329639455782314\n",
      "mAP@k for dataset [1000, 250, 6], and k=10: 0.320765141723356\n",
      "mAP@k for dataset [2000, 500, 6], and k=10: 0.2567565863567649\n",
      "mAP@k for dataset [4000, 1000, 6], and k=10: 0.2558541260393046\n"
     ]
    }
   ],
   "source": [
    "# checking mAP@k\n",
    "mapk_twed = []\n",
    "k = 10\n",
    "for n1, n2 in zip(n1_arr, n2_arr):\n",
    "    mapk, vec = m_av_p_k(path1, path2, n1, n2, c, k, dist_type=\"dtw\")\n",
    "    print(\"mAP@k for dataset [%d, %d, %d], and k=%d:\" % (n1, n2, c, k), mapk)\n",
    "    mapk_twed.append(mapk)"
   ]
  },
  {
   "cell_type": "markdown",
   "metadata": {},
   "source": [
    "## Plots"
   ]
  },
  {
   "cell_type": "code",
   "execution_count": 16,
   "metadata": {},
   "outputs": [
    {
     "data": {
      "text/plain": [
       "<matplotlib.legend.Legend at 0x2bab7990b00>"
      ]
     },
     "execution_count": 16,
     "metadata": {},
     "output_type": "execute_result"
    },
    {
     "data": {
      "image/png": "[encoded data removed]",
      "text/plain": [
       "<Figure size 1008x360 with 1 Axes>"
      ]
     },
     "metadata": {
      "needs_background": "light"
     },
     "output_type": "display_data"
    }
   ],
   "source": [
    "# execution time dtw distances\n",
    "dtw_dist_time = [1.75, 63.82, 250.05, 5574.6, 3857.38, 60.73]\n",
    "dtw_train_len = [100, 500, 1000, 2000, 4000, 5000]\n",
    "twed_dist_time = [79.43, 1994.7, 7645.19, 30256.8, 123674.35]\n",
    "twed_train_len = [100, 500, 1000, 2000, 4000]\n",
    "\n",
    "fig = plt.figure(figsize=(14, 5))\n",
    "plt.plot(dtw_train_len, np.array(dtw_dist_time) / 60 / 60, 'o--', label=\"DTW\")\n",
    "plt.plot(twed_train_len, np.array(twed_dist_time) / 60 / 60, 'ro--', label=\"TWED\")\n",
    "plt.xlabel(\"Number of train time series\", fontsize=14)\n",
    "plt.ylabel(\"Execution time (hours)\", fontsize=14)\n",
    "plt.title(\"Execution time vs computed distances\", fontsize=14)\n",
    "plt.legend(fontsize=13)"
   ]
  },
  {
   "cell_type": "code",
   "execution_count": null,
   "metadata": {},
   "outputs": [],
   "source": []
  },
  {
   "cell_type": "markdown",
   "metadata": {},
   "source": [
    "| Train set | Test set | classes | accuracy 1-NN classify DTW | accuracy 1-NN classify TWED |\n",
    "| :-: | :-: | :-: | :-: | :-: |\n",
    "| 10 | 10 | 2 | 0.8 | 0.4 | \n",
    "| 100 | 100 | 4 | 0.31 | 0.17 |\n",
    "| 200 | 100 | 4 | 0.35 | 0.51 |\n",
    "| 500 | 500 | 4 | 0.32 | 0.43 |\n",
    "| 1000 | 500 | 4 | 0.35 | -- |\n",
    "| 1000 | 1000 | 4 | 0.35 | -- |\n",
    "| 1000 | 1000 | 10 | 0.25 | 0.32 |\n",
    "| 2000 | 1000 | 14 | 0.18 | -- |\n",
    "| 2000 | 2000 | 14 | 0.18 | -- |\n",
    "| 5000 | 2847 | 14 | 0.18 | -- |\n",
    "| 6278 | 1570 | 14 | 0.23 | -- |"
   ]
  },
  {
   "cell_type": "markdown",
   "metadata": {},
   "source": [
    "| Train set | Test set | classes | mAP@k(k=10) DTW | mAP@k(k=10) TWED |\n",
    "| :-: | :-: | :-: | :-: | :-: |\n",
    "| 10 | 10 | 2 | 0.63 | 0.74 | \n",
    "| 100 | 100 | 4 | 0.33 | 0.27 |\n",
    "| 200 | 100 | 4 | 0.33 | 0.17 |\n",
    "| 500 | 500 | 4 | 0.29 | 0.30 |\n",
    "| 1000 | 500 | 4 | 0.26 | -- |\n",
    "| 1000 | 1000 | 4 | 0.25 | -- |\n",
    "| 1000 | 1000 | 10 | 0.13 | 0.03 |\n",
    "| 2000 | 1000 | 14 | 0.17 | -- |\n",
    "| 2000 | 2000 | 14 | 0.16 | -- |\n",
    "| 5000 | 2847 | 14 | 0.16 | -- |\n",
    "| 6278 | 1570 | 14 | 0.18 | -- |"
   ]
  },
  {
   "cell_type": "code",
   "execution_count": 17,
   "metadata": {},
   "outputs": [],
   "source": [
    "# dtw_acc = [0.8, 0.31, 0.35, 0.32, 0.35, 0.35, 0.25, 0.18, 0.18, 0.18, 0.23]\n",
    "# fig = plt.figure(figsize=(14, 6))\n",
    "# plt.plot([2, 4, 4, 4, 4, 4, 10, 14, 14, 14, 14], dtw_acc, 'x', label=\"dtw\")\n",
    "# twed_acc = [0.4, 0.17, 0.51, 0.43, 0.32]\n",
    "# plt.plot([2, 4, 4, 4, 10], twed_acc, 'o', label=\"twed\")\n",
    "# plt.xlabel(\"Number of classes used\", fontsize=14)\n",
    "# plt.ylabel(\"Accuracy of 1-NN classify\", fontsize=14)\n",
    "# plt.title(\"Acuraccy vs number of classes\", fontsize=14)\n",
    "# plt.legend()"
   ]
  },
  {
   "cell_type": "code",
   "execution_count": null,
   "metadata": {},
   "outputs": [],
   "source": []
  }
 ],
 "metadata": {
  "kernelspec": {
   "display_name": "Python 3",
   "language": "python",
   "name": "python3"
  },
  "language_info": {
   "codemirror_mode": {
    "name": "ipython",
    "version": 3
   },
   "file_extension": ".py",
   "mimetype": "text/x-python",
   "name": "python",
   "nbconvert_exporter": "python",
   "pygments_lexer": "ipython3",
   "version": "3.7.3"
  }
 },
 "nbformat": 4,
 "nbformat_minor": 2
}
