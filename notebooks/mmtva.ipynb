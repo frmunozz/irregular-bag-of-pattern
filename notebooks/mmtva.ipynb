{
 "cells": [
  {
   "cell_type": "markdown",
   "metadata": {},
   "source": [
    "\n",
    "- $cost_1(p_i, q_j) = |v_i^p - v_j^q| + | s_i^p - s_j^q|$\n",
    "- $cost_2(p_i, p_j) = |v_i^p - v_j^q|^2 + |s_i^p - s_j^q|^2$\n",
    "- $cost_3(p_i, q_j) = (1 + |v_i^p - v_j^q|)\\cdotp (1 + |s_i^p - s_j^q|) - 1$"
   ]
  },
  {
   "cell_type": "markdown",
   "metadata": {},
   "source": [
    "<center> - DTW: cumulative cost function $C\\in \\mathbb{R}^{M \\times M}$\n",
    "    \n",
    "$$C[0,0] = 0 \\;\\; C[i,0] = \\infty \\;\\; C[0, j] = \\infty$$\n",
    "$$ C[i,j] = cost(p_i, q_j) + min \\begin{cases} \n",
    "C[i-1, j] \\\\\n",
    "C[i, j-1] \\\\\n",
    "C[i-1, j-1]\n",
    "\\end{cases} $$\n",
    "$$\\Longrightarrow Dist(P, Q) = C[M,M] $$"
   ]
  },
  {
   "cell_type": "markdown",
   "metadata": {},
   "source": [
    "$$ L_{max} = \\lfloor log_2(n/2)\\rfloor + 1$$"
   ]
  },
  {
   "cell_type": "code",
   "execution_count": null,
   "metadata": {},
   "outputs": [],
   "source": []
  },
  {
   "cell_type": "code",
   "execution_count": null,
   "metadata": {},
   "outputs": [],
   "source": []
  },
  {
   "cell_type": "markdown",
   "metadata": {},
   "source": [
    "$$ \\text{MMTVA}(P) = \\begin{bmatrix} \n",
    "(v_{11}, s_{11}) & null & \\dots & (v_{n1}, v_{n1}) \\\\\n",
    "(v_{12}, s_{12}) & (v_{22}, s_{22}) & \\dots & null) \\\\\n",
    "\\dots & \\dots & \\dots & \\dots \\\\\n",
    "null & (v_{2b}, s_{2b}) & \\dots & (v_{nb}, v_{nb}) \\\\\n",
    "\\end{bmatrix}$$"
   ]
  },
  {
   "cell_type": "code",
   "execution_count": null,
   "metadata": {},
   "outputs": [],
   "source": []
  },
  {
   "cell_type": "markdown",
   "metadata": {},
   "source": [
    "<center> - MMTVA DTW: cumulative cost function $C\\in \\mathbb{R}^{M \\times N}$\n",
    "    \n",
    "$$C[0,0] = 0 \\;\\; C[i,0] = \\infty \\;\\; C[0, j] = \\infty$$\n",
    "$$ C[i,j] = mcost(P_i, P_j) + min \\begin{cases} \n",
    "C[next_i, j] \\\\\n",
    "C[i, next_j] \\\\\n",
    "C[next_i, next_j]\n",
    "\\end{cases} $$\n",
    "$$\\Longrightarrow Dist(P, Q) = C[M,N] $$"
   ]
  },
  {
   "cell_type": "code",
   "execution_count": null,
   "metadata": {},
   "outputs": [],
   "source": []
  },
  {
   "cell_type": "markdown",
   "metadata": {},
   "source": [
    "$$ next_i = find\\_next(P,i, Q_j) = \\begin{cases}\n",
    "0 & , \\text{ if } i = 1 \\\\\n",
    "i-1 & , \\text{ if } is\\_valid(P_{i-1}, Q_j) \\\\\n",
    "find\\_next(P, i-1, Q_j) & , \\text{ if not } is\\_valid(P_{i-1}, Q_j) \\\\\n",
    "\\end{cases}$$\n",
    "\n",
    "$$ is\\_valid(P_i, Q_j) = \\exists k \\in \\text{bands}, \\text{ such that } p_{ik} \\neq \\phi \\text{ and } q_{jk} \\neq \\phi$$"
   ]
  },
  {
   "cell_type": "code",
   "execution_count": null,
   "metadata": {},
   "outputs": [],
   "source": []
  },
  {
   "cell_type": "markdown",
   "metadata": {},
   "source": [
    "$$ mcost(P_{i}, Q_{j}) = \\frac{1}{N(P_{i}, Q_{j})} \\sum_{\\substack{k \\in \\text{ bands} \\\\ p_{ik} \\neq \\phi, q_{jk} \\neq \\phi}} cost(p_{ik}, q_{jk}) $$\n",
    "$$ N(P_{i}, Q_{j}) = \\text{COUNT}(k \\in \\text{ bands, such that } p_{ik} \\neq \\phi, q_{jk} \\neq \\phi)$$"
   ]
  },
  {
   "cell_type": "markdown",
   "metadata": {},
   "source": [
    "$$ mcost_{special}(P_i, Q_j) = \n",
    "$$"
   ]
  }
 ],
 "metadata": {
  "kernelspec": {
   "display_name": "Python 3",
   "language": "python",
   "name": "python3"
  },
  "language_info": {
   "codemirror_mode": {
    "name": "ipython",
    "version": 3
   },
   "file_extension": ".py",
   "mimetype": "text/x-python",
   "name": "python",
   "nbconvert_exporter": "python",
   "pygments_lexer": "ipython3",
   "version": "3.7.3"
  }
 },
 "nbformat": 4,
 "nbformat_minor": 2
}
