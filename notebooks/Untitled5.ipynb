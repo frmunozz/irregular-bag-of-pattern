{
 "cells": [
  {
   "cell_type": "code",
   "execution_count": 1,
   "metadata": {},
   "outputs": [],
   "source": [
    "import sys\n",
    "import os\n",
    "from collections import defaultdict\n",
    "sys.path.insert(0, os.path.abspath(os.path.join(os.path.dirname(\"./Untitled.ipynb\"), '..')))\n",
    "import numpy as np\n",
    "from src.bopf.bopf import BagOfPatternFeature\n",
    "from src.utils import sort_trim_arr\n",
    "from src.bopf.classifier import classify, classify2\n",
    "import matplotlib.pyplot as plt\n",
    "import time\n",
    "import pandas as pd\n",
    "from scipy.stats import f_oneway\n",
    "from sklearn.metrics import classification_report\n",
    "from sklearn.metrics import confusion_matrix\n",
    "import itertools\n",
    "%matplotlib inline\n",
    "\n",
    "from src.bopf.classifier import classify, classify2\n",
    "from src.utils import sort_trim_arr"
   ]
  },
  {
   "cell_type": "code",
   "execution_count": 2,
   "metadata": {},
   "outputs": [],
   "source": [
    "from src.bopf.bopf_finder import bopf_param_finder_mp, bopf_best_classifier\n",
    "from sklearn.metrics import classification_report\n",
    "from sklearn.metrics import confusion_matrix\n",
    "import matplotlib.pyplot as plt\n",
    "import itertools\n",
    "import pandas as pd\n",
    "\n",
    "import multiprocessing as mp\n",
    "from collections import defaultdict\n",
    "from src.bopf.bopf import BagOfPatternFeature\n",
    "from src.bopf.classifier import classify, classify2\n",
    "from src.utils import sort_trim_arr\n",
    "import numpy as np\n",
    "import time\n",
    "from sklearn.metrics import balanced_accuracy_score"
   ]
  },
  {
   "cell_type": "code",
   "execution_count": 3,
   "metadata": {},
   "outputs": [],
   "source": [
    "main_path = os.path.abspath(os.path.join(os.path.dirname(\"./Untitled.ipynb\"), '..'))"
   ]
  },
  {
   "cell_type": "code",
   "execution_count": 4,
   "metadata": {},
   "outputs": [],
   "source": [
    "data_path = os.path.join(main_path, \"data\", \"plasticc_subsets\", \"ddf_wdf_split_simplified\", \"60_40_split\")"
   ]
  },
  {
   "cell_type": "code",
   "execution_count": null,
   "metadata": {},
   "outputs": [],
   "source": []
  },
  {
   "cell_type": "code",
   "execution_count": 17,
   "metadata": {},
   "outputs": [],
   "source": [
    "train_base = \"wdf_train_%s_size1321.npy\"\n",
    "test_base = \"wdf_test_%s_size1321.npy\"\n",
    "wd = 3\n",
    "wl = 100\n",
    "\n",
    "bopf = BagOfPatternFeature(special_character=True, strategy=\"special1\", test=False)\n",
    "bopf.load_dataset(data_path, fmt=\"npy\", base=train_base)\n",
    "\n",
    "bopf.cumsum()"
   ]
  },
  {
   "cell_type": "code",
   "execution_count": 18,
   "metadata": {},
   "outputs": [
    {
     "name": "stdout",
     "output_type": "stream",
     "text": [
      "TOTAL DE SEGMENTOS VACIOS:  11271\n",
      "TOTAL DE TIMESERIES DESCARTADAS:  2\n",
      "TOTAL DE ts < 6: 0\n",
      "CPU times: user 1.1 s, sys: 1 µs, total: 1.1 s\n",
      "Wall time: 1.1 s\n"
     ]
    }
   ],
   "source": [
    "%%time\n",
    "bopf.bop(wd, wl, verbose=True, window_type=\"time\")"
   ]
  },
  {
   "cell_type": "code",
   "execution_count": 19,
   "metadata": {},
   "outputs": [
    {
     "data": {
      "text/plain": [
       "(793, 791)"
      ]
     },
     "execution_count": 19,
     "metadata": {},
     "output_type": "execute_result"
    }
   ],
   "source": [
    "len(bopf.valid_train_bop), bopf.valid_train_bop.sum()"
   ]
  },
  {
   "cell_type": "code",
   "execution_count": 20,
   "metadata": {},
   "outputs": [],
   "source": [
    "bopf.adjust_label_set()"
   ]
  },
  {
   "cell_type": "code",
   "execution_count": 21,
   "metadata": {},
   "outputs": [
    {
     "name": "stdout",
     "output_type": "stream",
     "text": [
      "CPU times: user 20.9 ms, sys: 2 µs, total: 20.9 ms\n",
      "Wall time: 18.8 ms\n"
     ]
    }
   ],
   "source": [
    "%%time\n",
    "bopf.simple_vectors()"
   ]
  },
  {
   "cell_type": "code",
   "execution_count": 11,
   "metadata": {},
   "outputs": [
    {
     "data": {
      "text/plain": [
       "(4054.2607041280535, 67.22880294019002)"
      ]
     },
     "execution_count": 11,
     "metadata": {},
     "output_type": "execute_result"
    }
   ],
   "source": [
    "np.sum(bopf.crossL2), np.sum(bopf.crossL)"
   ]
  },
  {
   "cell_type": "code",
   "execution_count": 19,
   "metadata": {},
   "outputs": [
    {
     "data": {
      "text/plain": [
       "(4054.2607041280535, 67.22880294019002)"
      ]
     },
     "execution_count": 19,
     "metadata": {},
     "output_type": "execute_result"
    }
   ],
   "source": [
    "np.sum(bopf.crossL2), np.sum(bopf.crossL)"
   ]
  },
  {
   "cell_type": "code",
   "execution_count": 22,
   "metadata": {},
   "outputs": [
    {
     "name": "stdout",
     "output_type": "stream",
     "text": [
      "TOTAL DE SEGMENTOS VACIOS:  7502\n",
      "TOTAL DE TIMESERIES DESCARTADAS:  0\n",
      "TOTAL DE ts < 6: 0\n"
     ]
    }
   ],
   "source": [
    "bopf_t = BagOfPatternFeature(special_character=True, strategy=\"special1\", test=True)\n",
    "bopf_t.load_dataset(data_path, fmt=\"npy\", base=test_base)\n",
    "bopf_t.cumsum()\n",
    "\n",
    "bopf_t.bop(wd, wl, verbose=True, window_type=\"time\")"
   ]
  },
  {
   "cell_type": "code",
   "execution_count": 23,
   "metadata": {},
   "outputs": [
    {
     "name": "stdout",
     "output_type": "stream",
     "text": [
      "CPU times: user 1.31 s, sys: 0 ns, total: 1.31 s\n",
      "Wall time: 1.31 s\n"
     ]
    }
   ],
   "source": [
    "%%time\n",
    "predicted_label = classify2_v2(bopf_t.train_bop, bopf.crossL2, bopf.tlabel,\n",
    "                                bopf_t.m, bopf.c, bopf.bopsize)"
   ]
  },
  {
   "cell_type": "code",
   "execution_count": 28,
   "metadata": {},
   "outputs": [
    {
     "data": {
      "text/plain": [
       "0.21631040717669722"
      ]
     },
     "execution_count": 28,
     "metadata": {},
     "output_type": "execute_result"
    }
   ],
   "source": [
    "real_label = bopf_t.labels\n",
    "balanced_accuracy_score(real_label, predicted_label)"
   ]
  },
  {
   "cell_type": "code",
   "execution_count": 159,
   "metadata": {},
   "outputs": [],
   "source": [
    "bopf.anova(verbose=False)"
   ]
  },
  {
   "cell_type": "code",
   "execution_count": 160,
   "metadata": {},
   "outputs": [
    {
     "data": {
      "text/plain": [
       "(0, 256)"
      ]
     },
     "execution_count": 160,
     "metadata": {},
     "output_type": "execute_result"
    }
   ],
   "source": [
    "bopf.fea_num, bopf.bopsize"
   ]
  },
  {
   "cell_type": "code",
   "execution_count": 161,
   "metadata": {},
   "outputs": [],
   "source": [
    "bopf.anova_sort()"
   ]
  },
  {
   "cell_type": "code",
   "execution_count": 162,
   "metadata": {},
   "outputs": [],
   "source": [
    "bopf.sort_trim_arr(verbose=False)"
   ]
  },
  {
   "cell_type": "code",
   "execution_count": 163,
   "metadata": {},
   "outputs": [
    {
     "name": "stdout",
     "output_type": "stream",
     "text": [
      "47/48\r"
     ]
    }
   ],
   "source": [
    "bopf.crossVL(verbose=True)"
   ]
  },
  {
   "cell_type": "code",
   "execution_count": 164,
   "metadata": {},
   "outputs": [],
   "source": [
    "_ = bopf.crossVL2()"
   ]
  },
  {
   "cell_type": "code",
   "execution_count": 165,
   "metadata": {},
   "outputs": [
    {
     "name": "stdout",
     "output_type": "stream",
     "text": [
      "3 10 crossVL acc: 0.22841426695680775 crossVL2 acc: 0.2967653840195415 , dropped ts:  85\n"
     ]
    }
   ],
   "source": [
    "print(wd, wl, \"crossVL acc:\", bopf.best_score, \"crossVL2 acc:\", bopf.best2_score, \", dropped ts: \", len(bopf.dropped_ts))"
   ]
  },
  {
   "cell_type": "code",
   "execution_count": 167,
   "metadata": {},
   "outputs": [],
   "source": [
    "bopf_t = BagOfPatternFeature(special_character=True, strategy=\"special1\", test=True)\n",
    "bopf_t.load_dataset(data_path, fmt=\"npy\", base=test_base)\n",
    "bopf_t.cumsum()"
   ]
  },
  {
   "cell_type": "code",
   "execution_count": 168,
   "metadata": {},
   "outputs": [
    {
     "name": "stdout",
     "output_type": "stream",
     "text": [
      "TOTAL DE SEGMENTOS VACIOS:  3254\n",
      "TOTAL DE TIMESERIES DESCARTADAS:  47\n",
      "TOTAL DE ts < 6: 0\n"
     ]
    }
   ],
   "source": [
    "bopf_t.bop(wd, wl, verbose=True, window_type=\"time\")"
   ]
  },
  {
   "cell_type": "code",
   "execution_count": 169,
   "metadata": {},
   "outputs": [],
   "source": [
    "bop_feature_index = bopf.sort_index[:bopf.best2_idx]\n",
    "bop_fea_num = bopf.best2_idx\n",
    "test_bop_sort = sort_trim_arr(bopf_t.train_bop, bop_feature_index,\n",
    "                                  bopf_t.m, bop_fea_num)"
   ]
  },
  {
   "cell_type": "code",
   "execution_count": 170,
   "metadata": {},
   "outputs": [
    {
     "data": {
      "text/plain": [
       "(135169,)"
      ]
     },
     "execution_count": 170,
     "metadata": {},
     "output_type": "execute_result"
    }
   ],
   "source": [
    "bopf_t.train_bop.shape"
   ]
  },
  {
   "cell_type": "code",
   "execution_count": 171,
   "metadata": {},
   "outputs": [
    {
     "data": {
      "text/plain": [
       "(24288,)"
      ]
     },
     "execution_count": 171,
     "metadata": {},
     "output_type": "execute_result"
    }
   ],
   "source": [
    "test_bop_sort.shape"
   ]
  },
  {
   "cell_type": "code",
   "execution_count": 172,
   "metadata": {},
   "outputs": [
    {
     "data": {
      "text/plain": [
       "(45, 256)"
      ]
     },
     "execution_count": 172,
     "metadata": {},
     "output_type": "execute_result"
    }
   ],
   "source": [
    "bop_fea_num, bopf_t.bopsize"
   ]
  },
  {
   "cell_type": "code",
   "execution_count": 14,
   "metadata": {},
   "outputs": [],
   "source": [
    "import pdb\n",
    "def classify2_v2(test_bop, tf_idfs, tlabel, mt, c, fea_num):\n",
    "    res = np.zeros(mt, dtype=int)\n",
    "    for i in range(mt):\n",
    "#         if i == 2:\n",
    "#             pdb.set_trace()\n",
    "        rmax = -np.inf\n",
    "        label = -1\n",
    "        for j in range(c):\n",
    "            r1 = 0.0\n",
    "            r2 = 0.0\n",
    "            r3 = 0.0\n",
    "            for k in range(fea_num):\n",
    "                q = test_bop[i + k * mt]\n",
    "                if q > 0:\n",
    "#                     if i == 8:\n",
    "#                         pdb.set_trace()\n",
    "                    q = 1 + np.log10(q)\n",
    "                s = tf_idfs[j + k * c]\n",
    "                r1 += q*s\n",
    "                r2 += q*q\n",
    "                r3 += s*s\n",
    "\n",
    "#             if r2 != 0 and r3 != 0:\n",
    "#                 dist = r1*r1 / (r2*r3)\n",
    "#             else:\n",
    "#                 dist = 0\n",
    "            dist = r1*r1 / (r2*r3)\n",
    "            if dist > rmax:\n",
    "                rmax = dist\n",
    "                label = tlabel[j]\n",
    "        res[i] = label\n",
    "    return res"
   ]
  },
  {
   "cell_type": "code",
   "execution_count": 174,
   "metadata": {},
   "outputs": [
    {
     "name": "stderr",
     "output_type": "stream",
     "text": [
      "<ipython-input-173-bfa1dc34c6c9>:28: RuntimeWarning: invalid value encountered in double_scalars\n",
      "  dist = r1*r1 / (r2*r3)\n"
     ]
    }
   ],
   "source": [
    "bop_features = bopf.crossL2[:bopf.c * bopf.best2_idx]\n",
    "predicted_label = classify2_v2(test_bop_sort, bop_features, bopf.tlabel,\n",
    "                                bopf_t.m, bopf.c, bop_fea_num)"
   ]
  },
  {
   "cell_type": "code",
   "execution_count": 175,
   "metadata": {},
   "outputs": [],
   "source": [
    "real_label = np.array(bopf_t.labels)"
   ]
  },
  {
   "cell_type": "code",
   "execution_count": 176,
   "metadata": {},
   "outputs": [],
   "source": [
    "pred = []\n",
    "real = []\n",
    "for i in range(bopf_t.m):\n",
    "    if bopf_t.valid_train_bop[i]:\n",
    "        pred.append(predicted_label[i])\n",
    "        real.append(real_label[i])"
   ]
  },
  {
   "cell_type": "code",
   "execution_count": 177,
   "metadata": {},
   "outputs": [
    {
     "data": {
      "text/plain": [
       "0.14792390199148647"
      ]
     },
     "execution_count": 177,
     "metadata": {},
     "output_type": "execute_result"
    }
   ],
   "source": [
    "balanced_accuracy_score(real, pred)"
   ]
  },
  {
   "cell_type": "code",
   "execution_count": 178,
   "metadata": {},
   "outputs": [
    {
     "data": {
      "text/plain": [
       "0.1368195930026016"
      ]
     },
     "execution_count": 178,
     "metadata": {},
     "output_type": "execute_result"
    }
   ],
   "source": [
    "balanced_accuracy_score(real_label, predicted_label)"
   ]
  },
  {
   "cell_type": "code",
   "execution_count": 123,
   "metadata": {},
   "outputs": [
    {
     "data": {
      "text/plain": [
       "array([19, 16,  3,  8,  6, 13,  9, 12,  7,  2])"
      ]
     },
     "execution_count": 123,
     "metadata": {},
     "output_type": "execute_result"
    }
   ],
   "source": [
    "bop_feature_index"
   ]
  },
  {
   "cell_type": "code",
   "execution_count": 124,
   "metadata": {},
   "outputs": [
    {
     "name": "stdout",
     "output_type": "stream",
     "text": [
      "34 0.0\n",
      "55 0.0\n",
      "77 0.0\n",
      "108 0.0\n",
      "127 0.0\n",
      "139 0.0\n",
      "146 0.0\n",
      "184 0.0\n",
      "198 0.0\n",
      "242 0.0\n",
      "249 0.0\n",
      "261 0.0\n",
      "274 0.0\n",
      "279 0.0\n",
      "281 0.0\n",
      "330 0.0\n",
      "340 0.0\n",
      "346 0.0\n",
      "350 0.0\n",
      "388 0.0\n",
      "434 0.0\n",
      "444 0.0\n",
      "457 0.0\n",
      "459 0.0\n",
      "480 0.0\n",
      "492 0.0\n",
      "501 0.0\n",
      "506 0.0\n"
     ]
    }
   ],
   "source": [
    "for i in range(bopf_t.m):\n",
    "    if predicted_label[i] == -1 and bopf_t.valid_train_bop[i]:\n",
    "        s = 0\n",
    "        for k in range(bop_fea_num):\n",
    "            s += test_bop_sort[i + k * bopf_t.m]\n",
    "        print(i, s)"
   ]
  },
  {
   "cell_type": "code",
   "execution_count": 64,
   "metadata": {},
   "outputs": [
    {
     "data": {
      "text/plain": [
       "array([62, 16, -1, -1, 90, 42, 65, 42, -1, 90, 16, 88, 42, 16, 90, 62, 16,\n",
       "       -1, 42, 90, -1, -1, 42, 65, 65, 90, 65, 42, 16, 88, 42, 16, 16, 42,\n",
       "       90, 42, -1, -1, 88, 62, -1, 62, -1, 90, 90, 62, 65, 62, 88, 65, 62,\n",
       "       62, 16, -1, 88, -1, 62, 62, 42, 42, 65, 42, 65, 62, 90, 62, -1, 90,\n",
       "       16, 42, 62, 62, 16, -1, -1, 88, -1, 88, 16, 65, 42, 42, 42, 65, 42,\n",
       "       90, 42, -1, 16, 90, 16, 65, -1, 42, -1, 42, -1, 90, 62, -1, 90, 90,\n",
       "       -1, 88, 90, 62, -1, 42, -1, 62, 16, -1, 62, 90, -1, 62, 16, 42, 90,\n",
       "       65, 42, 16, 65, 88, 16, -1, 42, 62, 90, 16, -1, 16, -1, 16, 65, -1,\n",
       "       -1, 65, -1, 90, 42, 90, 90, 42, 16, 42, 62, 88, 88, 62, 90, 65, 90,\n",
       "       -1, -1, 42, -1, 42, 62, 16, 62, 62, 90, 88, 90, 65, 16, 88, 42, -1,\n",
       "       90, -1, 16, -1, 16, 42, -1, 88, -1, 16, 42, -1, 16, 90, 65, -1, 90,\n",
       "       16, -1, 42, 65, 65, 90, 90, -1, -1, 88, 90, -1, 90, 62, 42, 65, -1,\n",
       "       -1, 16, 65, 90, -1, 65, 88, 65, 62, 42, 90, 42, 90, 16, 42, -1, 16,\n",
       "       65, 16, 90, 90, 88, 42, 42, 16, -1, 62, 65, 65, 65, -1, -1, 88, 88,\n",
       "       42, -1, 90, 65, 90, 90, 16, 62, -1, 42, 65, 90, 16, 16, -1, -1, -1,\n",
       "       88, 62, 16, 65, 65, -1, 65, 42, -1, 42, 16, 16, 90, -1, 42, 62, 62,\n",
       "       42, -1, 90, 16, 16, 42, 42, -1, 90, -1, 42, 42, 16, 16, 65, 62, 90,\n",
       "       90, -1, 88, 88, -1, -1, 65, -1, 88, 62, -1, 16, -1, -1, 88, 65, 62,\n",
       "       65, -1, 88, 65, 42, 16, 16, 16, 88, 62, 42, 90, 65, 42, 88, 88, 62,\n",
       "       65, 62, -1, 65, 90, 88, -1, -1, 65, 88, 65, 42, -1, 90, 42, 16, -1,\n",
       "       -1, 62, 65, 62, 65, 65, 42, 90, 42, -1, 90, 16, -1, 65, 65, -1, 42,\n",
       "       88, 90, 90, -1, -1, 90, 65, -1, 62, 90, 90, 62, -1, 88, 90, 42, -1,\n",
       "       90, -1, 90, -1, 62, 90, -1, -1, 42, 88, 65, 65, 62, -1, 90, 90, 16,\n",
       "       -1, -1, 90, 42, 16, -1, 90, 90, 65, 90, 42, -1, -1, 88, -1, 16, 16,\n",
       "       65, 90, -1, -1, 88, 16, -1, 16, -1, 65, 62, 65, 90, 42, 65, 42, 42,\n",
       "       90, 42, 16, 62, -1, 65, 16, -1, 62, -1, 90, -1, 16, 42, 90, 90, 90,\n",
       "       88, 16, 42, -1, 65, 88, 65, 90, 16, 88, 65, 42, 42, 16, 16, 65, 90,\n",
       "       90, 42, 90, 65, -1, 16, 62, 16, -1, -1, -1, 65, 90, 42, 65, 16, 42,\n",
       "       16, 42, 90, -1, 16, 16, -1, 62, -1, 42, 16, 62, 90, 16, 65, -1, -1,\n",
       "       62, -1, 16, -1, 88, 65, 16, 62, -1, 88, -1, 65, -1, 16, 90, 90, 90,\n",
       "       90, 62, 42, 65, 62, 16, -1, 65, 65, 88, 16, 88, 62, 90, -1, 62, -1,\n",
       "       16])"
      ]
     },
     "execution_count": 64,
     "metadata": {},
     "output_type": "execute_result"
    }
   ],
   "source": [
    "predicted_label"
   ]
  },
  {
   "cell_type": "code",
   "execution_count": 70,
   "metadata": {},
   "outputs": [
    {
     "data": {
      "text/plain": [
       "0.0"
      ]
     },
     "execution_count": 70,
     "metadata": {},
     "output_type": "execute_result"
    }
   ],
   "source": [
    "i = 3\n",
    "s = 0\n",
    "for k in range(bop_fea_num):\n",
    "    s += test_bop_sort[i + k * bopf_t.m]\n",
    "s"
   ]
  },
  {
   "cell_type": "code",
   "execution_count": 179,
   "metadata": {},
   "outputs": [
    {
     "data": {
      "text/plain": [
       "98"
      ]
     },
     "execution_count": 179,
     "metadata": {},
     "output_type": "execute_result"
    }
   ],
   "source": [
    "a = [1, 2, 3, 4, 5, 6, 7]\n",
    "b = [25, 50, 75, 100, 125, 150, 175, 200, 225, 250, 275, 300, 325, 350]\n",
    "len(a) * len(b)"
   ]
  },
  {
   "cell_type": "code",
   "execution_count": null,
   "metadata": {},
   "outputs": [],
   "source": []
  },
  {
   "cell_type": "code",
   "execution_count": null,
   "metadata": {},
   "outputs": [],
   "source": []
  },
  {
   "cell_type": "code",
   "execution_count": null,
   "metadata": {},
   "outputs": [],
   "source": []
  },
  {
   "cell_type": "code",
   "execution_count": null,
   "metadata": {},
   "outputs": [],
   "source": []
  },
  {
   "cell_type": "code",
   "execution_count": null,
   "metadata": {},
   "outputs": [],
   "source": []
  },
  {
   "cell_type": "code",
   "execution_count": null,
   "metadata": {},
   "outputs": [],
   "source": []
  },
  {
   "cell_type": "code",
   "execution_count": 183,
   "metadata": {},
   "outputs": [],
   "source": [
    "\n",
    "from multiprocessing import Lock, Process, Queue, current_process\n",
    "import time\n",
    "import queue # imported for using queue.Empty exception\n",
    "\n",
    "\n",
    "def do_job(tasks_to_accomplish, tasks_that_are_done):\n",
    "    while True:\n",
    "        try:\n",
    "            '''\n",
    "                try to get task from the queue. get_nowait() function will \n",
    "                raise queue.Empty exception if the queue is empty. \n",
    "                queue(False) function would do the same task also.\n",
    "            '''\n",
    "            task, wd, wl = tasks_to_accomplish.get_nowait()\n",
    "        except queue.Empty:\n",
    "\n",
    "            break\n",
    "        else:\n",
    "            '''\n",
    "                if no exception has been raised, add the task completion \n",
    "                message to task_that_are_done queue\n",
    "            '''\n",
    "            print(task)\n",
    "            tasks_that_are_done.put(task + ' is done by ' + current_process().name + ', wd: ' +  str(wd) + ', wl: ' + str(wl))\n",
    "            time.sleep(.5)\n",
    "    return True\n",
    "\n",
    "\n",
    "def main():\n",
    "    number_of_task = 10\n",
    "    number_of_processes = 4\n",
    "    tasks_to_accomplish = Queue()\n",
    "    tasks_that_are_done = Queue()\n",
    "    processes = []\n",
    "\n",
    "    for i in range(number_of_task):\n",
    "        tasks_to_accomplish.put((\"Task no \" + str(i), 2, i))\n",
    "\n",
    "    # creating processes\n",
    "    for w in range(number_of_processes):\n",
    "        p = Process(target=do_job, args=(tasks_to_accomplish, tasks_that_are_done))\n",
    "        processes.append(p)\n",
    "        p.start()\n",
    "\n",
    "    # completing process\n",
    "    for p in processes:\n",
    "        p.join()\n",
    "\n",
    "    # print the output\n",
    "    while not tasks_that_are_done.empty():\n",
    "        print(tasks_that_are_done.get())\n",
    "\n",
    "    return True"
   ]
  },
  {
   "cell_type": "code",
   "execution_count": 184,
   "metadata": {},
   "outputs": [
    {
     "name": "stdout",
     "output_type": "stream",
     "text": [
      "Task no 0\n",
      "Task no 1\n",
      "Task no 2\n",
      "Task no 3\n",
      "Task no 4\n",
      "Task no 5\n",
      "Task no 6\n",
      "Task no 7\n",
      "Task no 8\n",
      "Task no 9\n",
      "Task no 0 is done by Process-5, wd: 2, wl: 0\n",
      "Task no 1 is done by Process-6, wd: 2, wl: 1\n",
      "Task no 2 is done by Process-7, wd: 2, wl: 2\n",
      "Task no 3 is done by Process-8, wd: 2, wl: 3\n",
      "Task no 4 is done by Process-5, wd: 2, wl: 4\n",
      "Task no 5 is done by Process-6, wd: 2, wl: 5\n",
      "Task no 6 is done by Process-7, wd: 2, wl: 6\n",
      "Task no 7 is done by Process-8, wd: 2, wl: 7\n",
      "Task no 8 is done by Process-5, wd: 2, wl: 8\n",
      "Task no 9 is done by Process-6, wd: 2, wl: 9\n"
     ]
    }
   ],
   "source": [
    "if __name__ == '__main__':\n",
    "    main()"
   ]
  },
  {
   "cell_type": "code",
   "execution_count": null,
   "metadata": {},
   "outputs": [],
   "source": []
  }
 ],
 "metadata": {
  "kernelspec": {
   "display_name": "Python 3",
   "language": "python",
   "name": "python3"
  },
  "language_info": {
   "codemirror_mode": {
    "name": "ipython",
    "version": 3
   },
   "file_extension": ".py",
   "mimetype": "text/x-python",
   "name": "python",
   "nbconvert_exporter": "python",
   "pygments_lexer": "ipython3",
   "version": "3.7.9"
  }
 },
 "nbformat": 4,
 "nbformat_minor": 4
}
