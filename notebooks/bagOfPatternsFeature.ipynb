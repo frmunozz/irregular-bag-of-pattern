{
 "cells": [
  {
   "cell_type": "markdown",
   "metadata": {},
   "source": [
    "# Bag of pattern feature\n",
    "\n",
    "Linear time method for classify time series using 1-NN approach. The method consist on generate all the sub-sequences of length $S$ from the timeseries, transforming each sub-sequence into a SAX word, generating a Bag-of-Patter representation.  \n",
    "\n",
    "For irregular time series support the following modifications are made:\n",
    "\n",
    "1. sub-sequence length will be defined based on time window instead of number of samples\n",
    "2. sub-sequences with empty segments will be represented with special character on the SAX word.\n"
   ]
  },
  {
   "cell_type": "markdown",
   "metadata": {},
   "source": [
    "## Step by step execution\n",
    "\n",
    "Bag-of-Pattern features is a secuential process composed of several steps. Here we will show them based on the implemented source code using a **small dataset of regular time series**"
   ]
  },
  {
   "cell_type": "code",
   "execution_count": 1,
   "metadata": {},
   "outputs": [],
   "source": [
    "import sys\n",
    "import os\n",
    "from collections import defaultdict\n",
    "sys.path.insert(0, os.path.abspath(os.path.join(os.path.dirname(\"./Untitled.ipynb\"), '..')))\n",
    "import numpy as np\n",
    "from src.bopf.bopf import BagOfPatternFeature\n",
    "import matplotlib.pyplot as plt\n",
    "%matplotlib inline"
   ]
  },
  {
   "cell_type": "markdown",
   "metadata": {},
   "source": [
    "1. instanciate the main class"
   ]
  },
  {
   "cell_type": "code",
   "execution_count": 2,
   "metadata": {},
   "outputs": [],
   "source": [
    "# special_character set to FALSE when using regular time series\n",
    "bopf = BagOfPatternFeature(special_character=False)"
   ]
  },
  {
   "cell_type": "markdown",
   "metadata": {},
   "source": [
    "2. load the dataset. In this case we will use Car dataset from UCR Archive which has 60 train samples and 60 test samples"
   ]
  },
  {
   "cell_type": "code",
   "execution_count": 3,
   "metadata": {},
   "outputs": [
    {
     "name": "stdout",
     "output_type": "stream",
     "text": [
      "train size: 24 Ts len: 350\n",
      "Wall time: 4.01 ms\n"
     ]
    }
   ],
   "source": [
    "%%time\n",
    "# path windows\n",
    "path = \"D:/tesis/UCRArchive_2018/FaceFour/FaceFour_TRAIN.tsv\"\n",
    "bopf.load_dataset(path, fmt=\"file\")\n",
    "print(\"train size:\", bopf.m, \"Ts len:\", len(bopf.dataset[0]))"
   ]
  },
  {
   "cell_type": "markdown",
   "metadata": {},
   "source": [
    "3. compute the CUMSUM matrix, needed for the linear time PAA computation."
   ]
  },
  {
   "cell_type": "code",
   "execution_count": 4,
   "metadata": {},
   "outputs": [
    {
     "name": "stdout",
     "output_type": "stream",
     "text": [
      "Wall time: 13 ms\n"
     ]
    }
   ],
   "source": [
    "%%time\n",
    "bopf.cumsum()"
   ]
  },
  {
   "cell_type": "markdown",
   "metadata": {},
   "source": [
    "4. get the bag-of-pattern representation for each time series. Input parameters are:\n",
    "\n",
    "    - Word length (wd): the number of letter within each word\n",
    "    - Sub-sequence width (wl): the size of each sub-sequence, input is a fraction ($[0, 1]$) of the whole time series width "
   ]
  },
  {
   "cell_type": "code",
   "execution_count": 5,
   "metadata": {},
   "outputs": [
    {
     "name": "stdout",
     "output_type": "stream",
     "text": [
      "TOTAL DE SEGMENTOS VACIOS:  0\n",
      "Wall time: 259 ms\n"
     ]
    }
   ],
   "source": [
    "%%time\n",
    "wd = 5 \n",
    "wl = 0.325\n",
    "bopf.bop(wd, wl)"
   ]
  },
  {
   "cell_type": "markdown",
   "metadata": {},
   "source": [
    "5. adjust the labels, getting the counts of time series on each class and an index array for each time series which lead to its label"
   ]
  },
  {
   "cell_type": "code",
   "execution_count": 6,
   "metadata": {},
   "outputs": [
    {
     "name": "stdout",
     "output_type": "stream",
     "text": [
      "Wall time: 0 ns\n"
     ]
    }
   ],
   "source": [
    "%%time\n",
    "bopf.adjust_label_set()"
   ]
  },
  {
   "cell_type": "markdown",
   "metadata": {},
   "source": [
    "6. Perform ANOVA F Test for discriminating the best features of the bag-of-pattern representation"
   ]
  },
  {
   "cell_type": "code",
   "execution_count": 7,
   "metadata": {},
   "outputs": [
    {
     "name": "stdout",
     "output_type": "stream",
     "text": [
      "0/1024\r",
      "100/1024\r",
      "200/1024\r",
      "300/1024\r",
      "400/1024\r",
      "500/1024\r",
      "600/1024\r",
      "700/1024\r",
      "800/1024\r",
      "900/1024\r",
      "1000/1024\r",
      "Wall time: 62.8 ms\n"
     ]
    }
   ],
   "source": [
    "%%time\n",
    "bopf.anova()"
   ]
  },
  {
   "cell_type": "markdown",
   "metadata": {},
   "source": [
    "7. drop all features with ANOVA F value 0 and sort the rest in decreasing order"
   ]
  },
  {
   "cell_type": "code",
   "execution_count": 8,
   "metadata": {},
   "outputs": [
    {
     "name": "stdout",
     "output_type": "stream",
     "text": [
      "bopf features will be reduced from 1024 to 244\n",
      "Wall time: 0 ns\n"
     ]
    }
   ],
   "source": [
    "%%time\n",
    "bopf.anova_sort()\n",
    "print(\"bopf features will be reduced from %d to %d\" % (bopf.bopsize, bopf.fea_num))"
   ]
  },
  {
   "cell_type": "markdown",
   "metadata": {},
   "source": [
    "8. sort and trim the bag-of-pattern representation matrix of the whole dataset according tho the anova_sort"
   ]
  },
  {
   "cell_type": "code",
   "execution_count": 9,
   "metadata": {},
   "outputs": [
    {
     "name": "stdout",
     "output_type": "stream",
     "text": [
      "0/244\r",
      "100/244\r",
      "200/244\r",
      "Wall time: 4.02 ms\n"
     ]
    }
   ],
   "source": [
    "%%time\n",
    "bopf.sort_trim_arr()"
   ]
  },
  {
   "cell_type": "markdown",
   "metadata": {},
   "source": [
    "9. cross validate the accuracy of classification under leave-one-out method for the reduced bag-of-pattern representation, testing different combination of the top features. The cross validation is made under two different values:\n",
    "    - cross validation using class centroids for classification\n",
    "    - cross validation using class TF-IDF weights for classification"
   ]
  },
  {
   "cell_type": "code",
   "execution_count": 35,
   "metadata": {},
   "outputs": [
    {
     "name": "stdout",
     "output_type": "stream",
     "text": [
      "best accuracy of CV:  1.0 , using the top 208 features according to ANOVA F\n",
      "Wall time: 47.9 ms\n"
     ]
    }
   ],
   "source": [
    "%%time\n",
    "# cross validation using centroids\n",
    "bopf.crossVL(verbose=False)\n",
    "print(\"best accuracy of CV: \", bopf.best_score, \", using the top\", bopf.best_idx, \"features according to ANOVA F\")"
   ]
  },
  {
   "cell_type": "code",
   "execution_count": 36,
   "metadata": {
    "scrolled": true
   },
   "outputs": [
    {
     "name": "stdout",
     "output_type": "stream",
     "text": [
      "best accuracy of CV2:  1.0 , using the top 244 features according to ANOVA F\n",
      "Wall time: 114 ms\n"
     ]
    }
   ],
   "source": [
    "%%time\n",
    "# cross validation using tf-idf\n",
    "bopf.crossVL2()\n",
    "print(\"best accuracy of CV2: \", bopf.best2_score, \", using the top\", bopf.best2_idx, \"features according to ANOVA F\")"
   ]
  },
  {
   "cell_type": "markdown",
   "metadata": {},
   "source": [
    "10. classify a test set using the best configuration for centroids or tf-idf"
   ]
  },
  {
   "cell_type": "code",
   "execution_count": 11,
   "metadata": {},
   "outputs": [],
   "source": [
    "from src.bopf.classifier import classify, classify2\n",
    "from src.utils import sort_trim_arr"
   ]
  },
  {
   "cell_type": "code",
   "execution_count": 37,
   "metadata": {},
   "outputs": [
    {
     "name": "stdout",
     "output_type": "stream",
     "text": [
      "TOTAL DE SEGMENTOS VACIOS:  0\n",
      "accuracy of classify using wd: 5 , wl: 0.325 , and best config for centroids is: 0.6704545454545454\n",
      "accuracy of classify using wd: 5 , wl: 0.325 , and best config for tf-idf is: 0.25\n"
     ]
    }
   ],
   "source": [
    "# load the test set\n",
    "bopf_t = BagOfPatternFeature(special_character=False)\n",
    "path_t = \"D:/tesis/UCRArchive_2018/FaceFour/FaceFour_TEST.tsv\"\n",
    "bopf_t.load_dataset(path_t, fmt=\"file\")\n",
    "\n",
    "# compute CUMSUM matrix for test set\n",
    "bopf_t.cumsum()\n",
    "\n",
    "# compute bag-of-pattern representation for test set\n",
    "bopf_t.bop(wd, wl)\n",
    "\n",
    "# sort and trim the bag-of-pattern representation based on the centroid best configuration\n",
    "test_bop_sort = sort_trim_arr(bopf_t.train_bop, bopf.sort_index[:bopf.best_idx], \n",
    "                                  bopf_t.m, bopf.best_idx)\n",
    "# classify to get predicted labels\n",
    "predicted_label = classify(test_bop_sort, bopf.crossL[:bopf. c*bopf.best_idx], bopf.tlabel, \n",
    "                               bopf_t.m, bopf.c, bopf.best_idx)\n",
    "\n",
    "# get real labels of test set\n",
    "real_label = np.array(bopf_t.labels)\n",
    "\n",
    "# compute accuracy\n",
    "count = 0\n",
    "for i in range(len(real_label)):\n",
    "    if predicted_label[i] == real_label[i]:\n",
    "        count += 1\n",
    "\n",
    "acc = count / bopf_t.m\n",
    "print(\"accuracy of classify using wd:\", wd, \", wl:\", wl, \", and best config for centroids is:\", acc)\n",
    "\n",
    "### repeat for tf-idf\n",
    "\n",
    "# sort and trim the bag-of-pattern representation based on the centroid best configuration\n",
    "test_bop_sort2 = sort_trim_arr(bopf_t.train_bop, bopf.sort_index[:bopf.best2_idx], \n",
    "                                  bopf_t.m, bopf.best2_idx)\n",
    "# classify to get predicted labels\n",
    "predicted_label2 = classify2(test_bop_sort2, bopf.crossL2[:bopf.c*bopf.best2_idx], bopf.tlabel, \n",
    "                               bopf_t.m, bopf.c, bopf.best2_idx)\n",
    "\n",
    "# compute accuracy\n",
    "count = 0\n",
    "for i in range(len(real_label)):\n",
    "    if predicted_label2[i] == real_label[i]:\n",
    "        count += 1\n",
    "        \n",
    "acc2 = count / len(real_label)\n",
    "print(\"accuracy of classify using wd:\", wd, \", wl:\", wl, \", and best config for tf-idf is:\", acc2)"
   ]
  },
  {
   "cell_type": "markdown",
   "metadata": {},
   "source": [
    "## Looking for best parameters\n",
    "\n",
    "for best accuracy the combination parameter (wd, wl) has to be improved. In order to achive that, a number of word length ans sub-sequence width are defined and every combination is testes choosing the bests based on cross validation results.\n",
    "\n",
    "On paper they propose:\n",
    "\n",
    "    - wd: {3, 4, 5, 6, 7}\n",
    "    - wl: {0.025, 0.05, 0.075, ..., 1}\n",
    "    \n",
    "and we will execute our code over UCR datasets used on the paper, looking for a resulting accuracy simmilar to the ones presented on the paper"
   ]
  },
  {
   "cell_type": "code",
   "execution_count": 38,
   "metadata": {},
   "outputs": [],
   "source": [
    "wd_arr = [3, 4, 5, 6, 7]\n",
    "step = 0.05\n",
    "wl_arr = np.round((np.arange(int(1/step))+1)*step, 2)\n",
    "\n",
    "\n",
    "def main_test_ucr_p1(train_file, test_file, wd_arr, wl_arr):\n",
    "    wd_num = len(wd_arr)\n",
    "    wl_num = len(wl_arr)\n",
    "    \n",
    "    bopf = BagOfPatternFeature(special_character=False)\n",
    "    bopf.load_dataset(train_file, fmt=\"file\")\n",
    "    bopf.cumsum()\n",
    "    \n",
    "    bopf_t = BagOfPatternFeature(special_character=False)\n",
    "    bopf_t.load_dataset(test_file, fmt=\"file\")\n",
    "    bopf_t.cumsum()\n",
    "    \n",
    "    output_dict = defaultdict(list)\n",
    "    \n",
    "    for i in range(wd_num):\n",
    "        wd = wd_arr[i]\n",
    "        for j in range(wl_num):\n",
    "            wl = wl_arr[j]\n",
    "            print(\"wd: {}\".format(wd) + \", wl: {}\".format(wl), end=\"\\r\")\n",
    "            bopf.bop(wd, wl, verbose=False)\n",
    "            bopf.adjust_label_set()\n",
    "            bopf.anova(verbose=False)\n",
    "            bopf.anova_sort()\n",
    "            bopf.sort_trim_arr(verbose=False)\n",
    "            \n",
    "            bopf.crossVL(verbose=False)\n",
    "            output_dict[\"bop_features\"].append(bopf.crossL[:bopf.c*bopf.best_idx])\n",
    "            output_dict[\"bop_fea_num\"].append(bopf.best_idx)\n",
    "            output_dict[\"bop_cv_acc\"].append(bopf.best_score)\n",
    "            output_dict[\"bop_feature_index\"].append(bopf.sort_index[:bopf.best_idx])\n",
    "            \n",
    "            bopf.crossVL2()\n",
    "            output_dict[\"bop_features2\"].append(bopf.crossL2[:bopf.c*bopf.best2_idx])\n",
    "            output_dict[\"bop_fea_num2\"].append(bopf.best2_idx)\n",
    "            output_dict[\"bop_cv_acc2\"].append(bopf.best2_score)\n",
    "            output_dict[\"bop_feature_index2\"].append(bopf.sort_index[:bopf.best2_idx])\n",
    "            \n",
    "            output_dict[\"bop_wd\"].append(wd)\n",
    "            output_dict[\"bop_wl\"].append(wl)\n",
    "            \n",
    "    print(\"wd: {}\".format(wd) + \", wl: {0:.2f}\".format(wl))\n",
    "    return bopf, bopf_t, output_dict\n",
    "    \n",
    "def main_test_ucr_p2(bopf, bopf_t, output_dict, top_n):\n",
    "    index1 = np.argsort(output_dict[\"bop_cv_acc\"])[::-1]\n",
    "    index2 = np.argsort(output_dict[\"bop_cv_acc2\"])[::-1]\n",
    "\n",
    "#     avg_acc_sum = 0\n",
    "#     avg_acc_sum2 = 0\n",
    "#     for i in range(top_n):\n",
    "#         avg_acc_sum += output_dict[\"bop_cv_acc\"][index1[i]]\n",
    "#         avg_acc_sum2 += output_dict[\"bop_cv_acc2\"][index2[i]]\n",
    "\n",
    "#     avg_acc = avg_acc_sum / top_n\n",
    "#     avg_acc2 = avg_acc_sum2 / top_n\n",
    "#     if avg_acc > avg_acc2:\n",
    "        # classify using centroid\n",
    "    best_centroid = -1\n",
    "    best_tf_idf = -1\n",
    "    rbest_centroid = -np.inf\n",
    "    rbest_tf_idf = -np.inf\n",
    "    for i in range(top_n):\n",
    "        print(i, end=\"\\r\")\n",
    "        s_index = index1[i]\n",
    "        wd = output_dict[\"bop_wd\"][s_index]\n",
    "        wl = output_dict[\"bop_wl\"][s_index]\n",
    "        bopf_t.bop(wd, wl, verbose=False)\n",
    "        test_bop_sort = sort_trim_arr(bopf_t.train_bop, output_dict[\"bop_feature_index\"][s_index], \n",
    "                                  bopf_t.m, output_dict[\"bop_fea_num\"][s_index])\n",
    "        predicted_label = classify(test_bop_sort, output_dict[\"bop_features\"][s_index], bopf.tlabel, \n",
    "                               bopf_t.m, bopf.c, output_dict[\"bop_fea_num\"][s_index])\n",
    "        real_label = np.array(bopf_t.labels)\n",
    "        count = 0\n",
    "        for j in range(len(real_label)):\n",
    "            if predicted_label[j] == real_label[j]:\n",
    "                count += 1\n",
    "        acc = count / len(real_label)\n",
    "        if acc > rbest_centroid:\n",
    "            rbest_centroid = acc\n",
    "            best_centroid = i\n",
    "    s_index = index1[best_centroid]\n",
    "    print(\"classify with best centroid and wd:\", output_dict[\"bop_wd\"][s_index], \n",
    "          \", wl:\", output_dict[\"bop_wl\"][s_index], \n",
    "          \"-> cv_acc:\", round(output_dict[\"bop_cv_acc\"][s_index], 3),\n",
    "          \", acc:\", round(rbest_centroid, 3))\n",
    "    \n",
    "#     else:\n",
    "    # classify using tf-idf\n",
    "    # classify using centroid\n",
    "    for i in range(top_n):\n",
    "        print(i, end=\"\\r\")\n",
    "        s_index = index2[i]\n",
    "        wd = output_dict[\"bop_wd\"][s_index]\n",
    "        wl = output_dict[\"bop_wl\"][s_index]\n",
    "        bopf_t.bop(wd, wl, verbose=False)\n",
    "        test_bop_sort = sort_trim_arr(bopf_t.train_bop, output_dict[\"bop_feature_index2\"][s_index], \n",
    "                              bopf_t.m, output_dict[\"bop_fea_num2\"][s_index])\n",
    "        predicted_label = classify2(test_bop_sort, output_dict[\"bop_features2\"][s_index], bopf.tlabel, \n",
    "                           bopf_t.m, bopf.c, output_dict[\"bop_fea_num2\"][s_index])\n",
    "        real_label = np.array(bopf_t.labels)\n",
    "        count = 0\n",
    "        for j in range(len(real_label)):\n",
    "            if predicted_label[j] == real_label[j]:\n",
    "                count += 1\n",
    "        acc = count / len(real_label)\n",
    "        if acc > rbest_tf_idf:\n",
    "            rbest_tf_idf = acc\n",
    "            best_tf_idf = i\n",
    "            \n",
    "    s_index = index2[best_tf_idf]\n",
    "    print(\"classify with best tf-idf and wd:\", output_dict[\"bop_wd\"][s_index], \n",
    "          \", wl:\", output_dict[\"bop_wl\"][s_index], \n",
    "          \"-> cv_acc:\", round(output_dict[\"bop_cv_acc2\"][s_index], 3),\n",
    "          \", acc:\", round(rbest_tf_idf, 3))\n",
    "    "
   ]
  },
  {
   "cell_type": "markdown",
   "metadata": {},
   "source": [
    "## Control tests on regular datasets\n",
    "\n",
    "we will do some sanity checks by comparing accuracy of our implementation with the paper's results for the same datasets. Dataset used will be:\n",
    "\n",
    "- FaceFour\n",
    "- BeetleFly\n",
    "- Car\n",
    "- Haptics\n",
    "\n",
    "all of them can be founde on [UCR Archive](https://www.cs.ucr.edu/~eamonn/time_series_data_2018/)"
   ]
  },
  {
   "cell_type": "markdown",
   "metadata": {},
   "source": [
    "### FaceFour dataset"
   ]
  },
  {
   "cell_type": "code",
   "execution_count": 13,
   "metadata": {},
   "outputs": [
    {
     "name": "stdout",
     "output_type": "stream",
     "text": [
      "wd: 3, wl: 0.025\r",
      "wd: 3, wl: 0.05\r"
     ]
    },
    {
     "name": "stderr",
     "output_type": "stream",
     "text": [
      "D:\\tesis\\tesis\\src\\bopf\\bopf.py:226: RuntimeWarning: invalid value encountered in sqrt\n",
      "  sigmax = np.sqrt(round(sumx2 / (seq_j-seq_i), 15) - round(meanx * meanx, 15))\n",
      "D:\\tesis\\tesis\\src\\bopf\\bopf.py:244: RuntimeWarning: divide by zero encountered in double_scalars\n",
      "  paa = (avgsub - meanx) / sigmax\n"
     ]
    },
    {
     "name": "stdout",
     "output_type": "stream",
     "text": [
      "wd: 7, wl: 1.005\n",
      "Wall time: 2min 11s\n"
     ]
    }
   ],
   "source": [
    "%%time\n",
    "train_file = \"D:/tesis/UCRArchive_2018/FaceFour/FaceFour_TRAIN.tsv\"\n",
    "test_file = \"D:/tesis/UCRArchive_2018/FaceFour/FaceFour_TEST.tsv\"\n",
    "wd_arr = [3, 4, 5, 6, 7]\n",
    "step = 0.025\n",
    "wl_arr = np.round((np.arange(int(1/step))+1)*step, 3)\n",
    "bopf3, bopf_t3, output_dict3 = main_test_ucr_p1(train_file, test_file, wd_arr, wl_arr)"
   ]
  },
  {
   "cell_type": "code",
   "execution_count": 21,
   "metadata": {},
   "outputs": [
    {
     "name": "stdout",
     "output_type": "stream",
     "text": [
      "classify with best centroid and wd: 4 , wl: 0.425 -> cv_acc: 1.0 , acc: 0.955\n",
      "10\r"
     ]
    },
    {
     "name": "stderr",
     "output_type": "stream",
     "text": [
      "D:\\tesis\\tesis\\src\\bopf\\bopf.py:191: RuntimeWarning: invalid value encountered in double_scalars\n",
      "  paa = (avgsub - meanx) / sigmax\n"
     ]
    },
    {
     "name": "stdout",
     "output_type": "stream",
     "text": [
      "classify with best tf-idf and wd: 4 , wl: 0.475 -> cv_acc: 1.0 , acc: 0.852\n"
     ]
    }
   ],
   "source": [
    "top_n = 50\n",
    "main_test_ucr_p2(bopf3, bopf_t3, output_dict3, top_n)"
   ]
  },
  {
   "cell_type": "markdown",
   "metadata": {},
   "source": [
    "### BeetleFly dataset"
   ]
  },
  {
   "cell_type": "code",
   "execution_count": 22,
   "metadata": {},
   "outputs": [
    {
     "name": "stdout",
     "output_type": "stream",
     "text": [
      "wd: 7, wl: 1.005\n",
      "Wall time: 2min 3s\n"
     ]
    }
   ],
   "source": [
    "%%time\n",
    "train_file = \"D:/tesis/UCRArchive_2018/BeetleFly/BeetleFly_TRAIN.tsv\"\n",
    "test_file = \"D:/tesis/UCRArchive_2018/BeetleFly/BeetleFly_TEST.tsv\"\n",
    "wd_arr = [3, 4, 5, 6, 7]\n",
    "step = 0.025\n",
    "wl_arr = np.round((np.arange(int(1/step))+1)*step, 3)\n",
    "bopf0, bopf_t0, output_dict0 = main_test_ucr_p1(train_file, test_file, wd_arr, wl_arr)"
   ]
  },
  {
   "cell_type": "code",
   "execution_count": 23,
   "metadata": {},
   "outputs": [
    {
     "name": "stdout",
     "output_type": "stream",
     "text": [
      "classify with best centroid and wd: 5 , wl: 0.175 -> cv_acc: 1.0 , acc: 0.85\n",
      "1\r"
     ]
    },
    {
     "name": "stderr",
     "output_type": "stream",
     "text": [
      "D:\\tesis\\tesis\\src\\bopf\\classifier.py:55: RuntimeWarning: invalid value encountered in double_scalars\n",
      "  r = r1 * r1 / (r2 * r3)\n"
     ]
    },
    {
     "name": "stdout",
     "output_type": "stream",
     "text": [
      "classify with best tf-idf and wd: 5 , wl: 0.8 -> cv_acc: 1.0 , acc: 0.6\n",
      "Wall time: 35 s\n"
     ]
    }
   ],
   "source": [
    "%%time\n",
    "top_n = 50\n",
    "main_test_ucr_p2(bopf0, bopf_t0, output_dict0, top_n)"
   ]
  },
  {
   "cell_type": "markdown",
   "metadata": {},
   "source": [
    "### Car dataset"
   ]
  },
  {
   "cell_type": "code",
   "execution_count": 24,
   "metadata": {
    "scrolled": true
   },
   "outputs": [
    {
     "name": "stdout",
     "output_type": "stream",
     "text": [
      "wd: 7, wl: 1.005\n",
      "Wall time: 6min 15s\n"
     ]
    }
   ],
   "source": [
    "%%time\n",
    "train_file = \"D:/tesis/UCRArchive_2018/Car/Car_TRAIN.tsv\"\n",
    "test_file = \"D:/tesis/UCRArchive_2018/Car/Car_TEST.tsv\"\n",
    "wd_arr = [3, 4, 5, 6, 7]\n",
    "step = 0.025\n",
    "wl_arr = np.round((np.arange(int(1/step))+1)*step, 3)\n",
    "bopf1, bopf_t1, output_dict1 = main_test_ucr_p1(train_file, test_file, wd_arr, wl_arr)"
   ]
  },
  {
   "cell_type": "code",
   "execution_count": 25,
   "metadata": {},
   "outputs": [
    {
     "name": "stdout",
     "output_type": "stream",
     "text": [
      "classify with best centroid and wd: 7 , wl: 0.3 -> cv_acc: 0.917 , acc: 0.683\n",
      "classify with best tf-idf and wd: 6 , wl: 0.85 -> cv_acc: 0.833 , acc: 0.483\n"
     ]
    }
   ],
   "source": [
    "top_n = 50\n",
    "main_test_ucr_p2(bopf1, bopf_t1, output_dict1, top_n)"
   ]
  },
  {
   "cell_type": "markdown",
   "metadata": {},
   "source": [
    "### Haptics dataset"
   ]
  },
  {
   "cell_type": "code",
   "execution_count": 27,
   "metadata": {},
   "outputs": [
    {
     "name": "stdout",
     "output_type": "stream",
     "text": [
      "wd: 7, wl: 1.005\n",
      "Wall time: 36min 52s\n"
     ]
    }
   ],
   "source": [
    "%%time\n",
    "train_file = \"D:/tesis/UCRArchive_2018/Haptics/Haptics_TRAIN.tsv\"\n",
    "test_file = \"D:/tesis/UCRArchive_2018/Haptics/Haptics_TEST.tsv\"\n",
    "wd_arr = [3, 4, 5, 6, 7]\n",
    "step = 0.025\n",
    "wl_arr = np.round((np.arange(int(1/step))+1)*step, 3)\n",
    "bopf4, bopf_t4, output_dict4 = main_test_ucr_p1(train_file, test_file, wd_arr, wl_arr)"
   ]
  },
  {
   "cell_type": "code",
   "execution_count": 29,
   "metadata": {},
   "outputs": [
    {
     "name": "stdout",
     "output_type": "stream",
     "text": [
      "classify with best centroid and wd: 5 , wl: 0.775 -> cv_acc: 0.555 , acc: 0.36\n",
      "classify with best tf-idf and wd: 7 , wl: 0.45 -> cv_acc: 0.723 , acc: 0.224\n",
      "Wall time: 33min 45s\n"
     ]
    }
   ],
   "source": [
    "%%time\n",
    "top_n = 50\n",
    "main_test_ucr_p2(bopf4, bopf_t4, output_dict4, top_n)"
   ]
  },
  {
   "cell_type": "markdown",
   "metadata": {},
   "source": [
    "### Comparing paper vs our results\n",
    "\n",
    "| Dataset | Accuracy paper | Accuracy us |\n",
    "| :-: | :-: | :-: |\n",
    "| FaceFour | 1 | 0.96 |\n",
    "| BeetleFly | 0.8 | 0.85|\n",
    "| Car | 0.73 | 0.68 |\n",
    "| Haptics | 0.42 | 0.36|\n",
    "\n",
    "At most 6% difference is probably due to difference in sorting algorithms. To check this problem should use stable_sort on bot my python implementation and the author's implementation in c++"
   ]
  },
  {
   "cell_type": "markdown",
   "metadata": {},
   "source": [
    "## Application to irregular time series"
   ]
  },
  {
   "cell_type": "markdown",
   "metadata": {},
   "source": [
    "### Simple case execution"
   ]
  },
  {
   "cell_type": "code",
   "execution_count": 4,
   "metadata": {},
   "outputs": [
    {
     "name": "stdout",
     "output_type": "stream",
     "text": [
      "train size: 100\n",
      "computing BOP...DONE\n",
      "adjusting labels...DONE\n",
      "computing ANOVA...DONE\n",
      "sorting ANOVA values...DONE\n",
      "sort BOP representation...DONE\n",
      "best accuracy of CV:  0.53 , using the top 3 features according to ANOVA F\n",
      "best accuracy of CV2:  0.97 , using the top 411 features according to ANOVA F\n",
      "accuracy of classify using wd: 7 , wl: 0.325 , and best config for centroids is: 0.37\n",
      "accuracy of classify using wd: 7 , wl: 0.325 , and best config for tf-idf is: 0.19\n"
     ]
    }
   ],
   "source": [
    "bopf = BagOfPatternFeature(special_character=True)\n",
    "path = \"D:/tesis/tesis/data/plasticc_sub_dataset/\"\n",
    "bopf.load_dataset(path, fmt=\"npy\", set_type=\"train\", n1=100, n2=100, c=4)\n",
    "print(\"train size:\", bopf.m)\n",
    "bopf.cumsum()\n",
    "wd = 7 \n",
    "wl = 0.325\n",
    "print(\"computing BOP...\", end=\"\")\n",
    "bopf.bop(wd, wl, verbose=False)\n",
    "print(\"DONE\")\n",
    "print(\"adjusting labels...\", end=\"\")\n",
    "bopf.adjust_label_set()\n",
    "print(\"DONE\")\n",
    "print(\"computing ANOVA...\", end=\"\")\n",
    "bopf.anova(verbose=False)\n",
    "print(\"DONE\")\n",
    "print(\"sorting ANOVA values...\", end=\"\")\n",
    "bopf.anova_sort()\n",
    "print(\"DONE\")\n",
    "print(\"sort BOP representation...\", end=\"\")\n",
    "bopf.sort_trim_arr(verbose=False)\n",
    "print(\"DONE\")\n",
    "bopf.crossVL(verbose=False)\n",
    "print(\"best accuracy of CV: \", bopf.best_score, \", using the top\", bopf.best_idx, \"features according to ANOVA F\")\n",
    "bopf.crossVL2()\n",
    "print(\"best accuracy of CV2: \", bopf.best2_score, \", using the top\", bopf.best2_idx, \"features according to ANOVA F\")\n",
    "\n",
    "\n",
    "# load the test set\n",
    "bopf_t = BagOfPatternFeature(special_character=True)\n",
    "bopf_t.load_dataset(path, fmt=\"npy\", set_type=\"test\", n1=100, n2=100, c=4)\n",
    "\n",
    "# compute CUMSUM matrix for test set\n",
    "bopf_t.cumsum()\n",
    "\n",
    "# compute bag-of-pattern representation for test set\n",
    "bopf_t.bop(wd, wl, verbose=False)\n",
    "\n",
    "# sort and trim the bag-of-pattern representation based on the centroid best configuration\n",
    "test_bop_sort = sort_trim_arr(bopf_t.train_bop, bopf.sort_index[:bopf.best_idx], \n",
    "                                  bopf_t.m, bopf.best_idx)\n",
    "# classify to get predicted labels\n",
    "predicted_label = classify(test_bop_sort, bopf.crossL[:bopf. c*bopf.best_idx], bopf.tlabel, \n",
    "                               bopf_t.m, bopf.c, bopf.best_idx)\n",
    "\n",
    "# get real labels of test set\n",
    "real_label = np.array(bopf_t.labels)\n",
    "\n",
    "# compute accuracy\n",
    "count = 0\n",
    "for i in range(len(real_label)):\n",
    "    if predicted_label[i] == real_label[i]:\n",
    "        count += 1\n",
    "\n",
    "acc = count / bopf_t.m\n",
    "print(\"accuracy of classify using wd:\", wd, \", wl:\", wl, \", and best config for centroids is:\", acc)\n",
    "\n",
    "### repeat for tf-idf\n",
    "\n",
    "# sort and trim the bag-of-pattern representation based on the centroid best configuration\n",
    "test_bop_sort2 = sort_trim_arr(bopf_t.train_bop, bopf.sort_index[:bopf.best2_idx], \n",
    "                                  bopf_t.m, bopf.best2_idx)\n",
    "# classify to get predicted labels\n",
    "predicted_label2 = classify2(test_bop_sort2, bopf.crossL2[:bopf.c*bopf.best2_idx], bopf.tlabel, \n",
    "                               bopf_t.m, bopf.c, bopf.best2_idx)\n",
    "\n",
    "# compute accuracy\n",
    "count = 0\n",
    "for i in range(len(real_label)):\n",
    "    if predicted_label2[i] == real_label[i]:\n",
    "        count += 1\n",
    "        \n",
    "acc2 = count / len(real_label)\n",
    "print(\"accuracy of classify using wd:\", wd, \", wl:\", wl, \", and best config for tf-idf is:\", acc2)"
   ]
  },
  {
   "cell_type": "markdown",
   "metadata": {},
   "source": [
    "## Experimental evaluation on sub-datasets from PLaSTiCC\n",
    "\n",
    "for faster execution the experiments where performed on terminal using multiprocessing and here we will show the results\n",
    "\n",
    "| train set | test set | N classes | best acc BOPF | acc DTW | acc TWED |\n",
    "| :-: | :-: | :-: | :-: | :-: | :-: |\n",
    "| 10 | 10 | 2 | 0.8 | 0.8 | 0.4 |\n",
    "| 100 | 100 | 4 | 0.46 | 0.31 | 0.17 |\n",
    "| 500 | 500 | 4 | 0.47 | 0.32 | 0.43 |\n",
    "| 1000 | 1000 | 10 | 0.32 | 0.25 | 0.32 |\n",
    "\n",
    "unfortunately, BOPF was executed on a different machine than brute force DTW and TWE so the train time and test time cannot be compared.\n",
    "\n",
    "Note: The test part wasn't executed using multiprocessing, only the train part was executed using multiprocessing on a machine with 6 cores"
   ]
  },
  {
   "cell_type": "markdown",
   "metadata": {},
   "source": [
    "| 200 | 100 | 4 | 615.00 | 42.51 | 0.49 | 0.35 | 0.51 |\n",
    "| 1000 | 500 | 4| 2362.54 | 470.91 | 0.47 | 0.35 | -- |"
   ]
  },
  {
   "cell_type": "code",
   "execution_count": 15,
   "metadata": {},
   "outputs": [
    {
     "data": {
      "text/plain": [
       "<matplotlib.legend.Legend at 0x1a62f8f19b0>"
      ]
     },
     "execution_count": 15,
     "metadata": {},
     "output_type": "execute_result"
    },
    {
     "data": {
      "image/png": "[encoded data removed]",
      "text/plain": [
       "<Figure size 432x288 with 1 Axes>"
      ]
     },
     "metadata": {
      "needs_background": "light"
     },
     "output_type": "display_data"
    },
    {
     "data": {
      "image/png": "[encoded data removed]",
      "text/plain": [
       "<Figure size 432x288 with 1 Axes>"
      ]
     },
     "metadata": {
      "needs_background": "light"
     },
     "output_type": "display_data"
    }
   ],
   "source": [
    "train_time = [37.15, 181.54, 1109.84, 3826.74]\n",
    "dtw_dist_time = [0.123, 6.227, 253.757, 1047.021]\n",
    "twed_dist_time = [2.1, 326.245, 15460.57, 31179.298]\n",
    "train_set = [10, 100, 500, 1000]\n",
    "\n",
    "bopf_acc = [0.8, 0.46, 0.47, 0.32]\n",
    "dtw_acc = [0.8, 0.31, 0.32, 0.25]\n",
    "twed_acc = [0.4, 0.17, 0.43, 0.32]\n",
    "\n",
    "fig = plt.figure()\n",
    "plt.plot(train_set, np.array(train_time) * (6/8) / 60 / 60, 'o', label=\"BOPF\")\n",
    "plt.plot(train_set, np.array(dtw_dist_time) / 60 / 60, 'o', label=\"DTW\")\n",
    "plt.plot(train_set, np.array(twed_dist_time) / 60 / 60, 'o', label=\"TWED\")\n",
    "plt.xlabel(\"Number of train time series\", fontsize=14)\n",
    "plt.ylabel(\"train time (hours)\", fontsize=14)\n",
    "plt.title(\"train time vs number of samples\", fontsize=14)\n",
    "plt.legend()\n",
    "\n",
    "fig = plt.figure()\n",
    "plt.plot(train_set, bopf_acc, '--.', label=\"BOPF\")\n",
    "plt.plot(train_set, dtw_acc, '--.', label=\"DTW\")\n",
    "plt.plot(train_set, twed_acc, '--.', label=\"TWED\")\n",
    "plt.xlabel(\"Train set size\")\n",
    "plt.ylabel(\"accuracy\")\n",
    "plt.legend()"
   ]
  },
  {
   "cell_type": "markdown",
   "metadata": {},
   "source": [
    "### TO-DO on datasets\n",
    "\n",
    "1. create sub-datasets of same train/test ratio and same number of classes but changing the number of samples\n",
    "2. create sub-datasets of same number of samples and classes but different train/test ratio\n",
    "3. execute brute force DTW, brute force TWED and BOPF on same machine for time test"
   ]
  },
  {
   "cell_type": "code",
   "execution_count": null,
   "metadata": {},
   "outputs": [],
   "source": []
  }
 ],
 "metadata": {
  "kernelspec": {
   "display_name": "Python 3",
   "language": "python",
   "name": "python3"
  },
  "language_info": {
   "codemirror_mode": {
    "name": "ipython",
    "version": 3
   },
   "file_extension": ".py",
   "mimetype": "text/x-python",
   "name": "python",
   "nbconvert_exporter": "python",
   "pygments_lexer": "ipython3",
   "version": "3.7.3"
  }
 },
 "nbformat": 4,
 "nbformat_minor": 2
}
