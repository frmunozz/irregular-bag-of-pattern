{
 "cells": [
  {
   "cell_type": "code",
   "execution_count": 1,
   "metadata": {},
   "outputs": [],
   "source": [
    "import pandas as pd\n",
    "import numpy as np\n",
    "import os\n",
    "import matplotlib.pyplot as plt\n",
    "from collections import defaultdict\n",
    "from sklearn.model_selection import train_test_split\n",
    "%matplotlib inline"
   ]
  },
  {
   "cell_type": "code",
   "execution_count": 2,
   "metadata": {},
   "outputs": [],
   "source": [
    "data_path = os.path.join(str(os.getcwd()), '..', 'data')\n",
    "df = pd.read_csv(os.path.join(data_path, \"training_set.csv.zip\"))\n",
    "df_meta = pd.read_csv(os.path.join(data_path, \"training_set_metadata.csv\"))"
   ]
  },
  {
   "cell_type": "code",
   "execution_count": 3,
   "metadata": {},
   "outputs": [
    {
     "data": {
      "text/html": [
       "<div>\n",
       "<style scoped>\n",
       "    .dataframe tbody tr th:only-of-type {\n",
       "        vertical-align: middle;\n",
       "    }\n",
       "\n",
       "    .dataframe tbody tr th {\n",
       "        vertical-align: top;\n",
       "    }\n",
       "\n",
       "    .dataframe thead th {\n",
       "        text-align: right;\n",
       "    }\n",
       "</style>\n",
       "<table border=\"1\" class=\"dataframe\">\n",
       "  <thead>\n",
       "    <tr style=\"text-align: right;\">\n",
       "      <th></th>\n",
       "      <th>object_id</th>\n",
       "      <th>ra</th>\n",
       "      <th>decl</th>\n",
       "      <th>gal_l</th>\n",
       "      <th>gal_b</th>\n",
       "      <th>ddf</th>\n",
       "      <th>hostgal_specz</th>\n",
       "      <th>hostgal_photoz</th>\n",
       "      <th>hostgal_photoz_err</th>\n",
       "      <th>distmod</th>\n",
       "      <th>mwebv</th>\n",
       "      <th>target</th>\n",
       "    </tr>\n",
       "  </thead>\n",
       "  <tbody>\n",
       "    <tr>\n",
       "      <th>0</th>\n",
       "      <td>615</td>\n",
       "      <td>349.046051</td>\n",
       "      <td>-61.943836</td>\n",
       "      <td>320.796530</td>\n",
       "      <td>-51.753706</td>\n",
       "      <td>1</td>\n",
       "      <td>0.0000</td>\n",
       "      <td>0.0000</td>\n",
       "      <td>0.0000</td>\n",
       "      <td>NaN</td>\n",
       "      <td>0.017</td>\n",
       "      <td>92</td>\n",
       "    </tr>\n",
       "    <tr>\n",
       "      <th>1</th>\n",
       "      <td>713</td>\n",
       "      <td>53.085938</td>\n",
       "      <td>-27.784405</td>\n",
       "      <td>223.525509</td>\n",
       "      <td>-54.460748</td>\n",
       "      <td>1</td>\n",
       "      <td>1.8181</td>\n",
       "      <td>1.6267</td>\n",
       "      <td>0.2552</td>\n",
       "      <td>45.4063</td>\n",
       "      <td>0.007</td>\n",
       "      <td>88</td>\n",
       "    </tr>\n",
       "    <tr>\n",
       "      <th>2</th>\n",
       "      <td>730</td>\n",
       "      <td>33.574219</td>\n",
       "      <td>-6.579593</td>\n",
       "      <td>170.455585</td>\n",
       "      <td>-61.548219</td>\n",
       "      <td>1</td>\n",
       "      <td>0.2320</td>\n",
       "      <td>0.2262</td>\n",
       "      <td>0.0157</td>\n",
       "      <td>40.2561</td>\n",
       "      <td>0.021</td>\n",
       "      <td>42</td>\n",
       "    </tr>\n",
       "    <tr>\n",
       "      <th>3</th>\n",
       "      <td>745</td>\n",
       "      <td>0.189873</td>\n",
       "      <td>-45.586655</td>\n",
       "      <td>328.254458</td>\n",
       "      <td>-68.969298</td>\n",
       "      <td>1</td>\n",
       "      <td>0.3037</td>\n",
       "      <td>0.2813</td>\n",
       "      <td>1.1523</td>\n",
       "      <td>40.7951</td>\n",
       "      <td>0.007</td>\n",
       "      <td>90</td>\n",
       "    </tr>\n",
       "    <tr>\n",
       "      <th>4</th>\n",
       "      <td>1124</td>\n",
       "      <td>352.711273</td>\n",
       "      <td>-63.823658</td>\n",
       "      <td>316.922299</td>\n",
       "      <td>-51.059403</td>\n",
       "      <td>1</td>\n",
       "      <td>0.1934</td>\n",
       "      <td>0.2415</td>\n",
       "      <td>0.0176</td>\n",
       "      <td>40.4166</td>\n",
       "      <td>0.024</td>\n",
       "      <td>90</td>\n",
       "    </tr>\n",
       "  </tbody>\n",
       "</table>\n",
       "</div>"
      ],
      "text/plain": [
       "   object_id          ra       decl       gal_l      gal_b  ddf  \\\n",
       "0        615  349.046051 -61.943836  320.796530 -51.753706    1   \n",
       "1        713   53.085938 -27.784405  223.525509 -54.460748    1   \n",
       "2        730   33.574219  -6.579593  170.455585 -61.548219    1   \n",
       "3        745    0.189873 -45.586655  328.254458 -68.969298    1   \n",
       "4       1124  352.711273 -63.823658  316.922299 -51.059403    1   \n",
       "\n",
       "   hostgal_specz  hostgal_photoz  hostgal_photoz_err  distmod  mwebv  target  \n",
       "0         0.0000          0.0000              0.0000      NaN  0.017      92  \n",
       "1         1.8181          1.6267              0.2552  45.4063  0.007      88  \n",
       "2         0.2320          0.2262              0.0157  40.2561  0.021      42  \n",
       "3         0.3037          0.2813              1.1523  40.7951  0.007      90  \n",
       "4         0.1934          0.2415              0.0176  40.4166  0.024      90  "
      ]
     },
     "execution_count": 3,
     "metadata": {},
     "output_type": "execute_result"
    }
   ],
   "source": [
    "df_meta.head()"
   ]
  },
  {
   "cell_type": "code",
   "execution_count": 4,
   "metadata": {},
   "outputs": [
    {
     "data": {
      "text/plain": [
       "Text(0.5, 1.0, 'Number of timeseries per class')"
      ]
     },
     "execution_count": 4,
     "metadata": {},
     "output_type": "execute_result"
    },
    {
     "data": {
      "image/png": "[encoded data removed]",
      "text/plain": [
       "<Figure size 1008x432 with 1 Axes>"
      ]
     },
     "metadata": {
      "needs_background": "light"
     },
     "output_type": "display_data"
    }
   ],
   "source": [
    "class_count = defaultdict(int)\n",
    "for l in df_meta[\"target\"]:\n",
    "    class_count[l] += 1\n",
    "    \n",
    "labels_cc, values_cc = zip(*class_count.items())\n",
    "indexes = np.arange(len(labels_cc))\n",
    "\n",
    "fig = plt.figure(figsize=(14, 6))\n",
    "plt.bar(indexes, values_cc)\n",
    "plt.xticks(indexes, labels_cc)\n",
    "plt.xlabel(\"class\", fontsize=15)\n",
    "plt.ylabel(\"count\", fontsize=15)\n",
    "plt.title(\"Number of timeseries per class\", fontsize=17)"
   ]
  },
  {
   "cell_type": "markdown",
   "metadata": {},
   "source": [
    "## first reduction: number of classes\n",
    "\n",
    "as a first preprocessing step, we will discard every class with less than a fixed number of time series in order to make a more simplest dataset for testing reducing the number of classes with small amount of train and test data"
   ]
  },
  {
   "cell_type": "code",
   "execution_count": 6,
   "metadata": {},
   "outputs": [
    {
     "name": "stdout",
     "output_type": "stream",
     "text": [
      "surviving classes are: [15 16 42 62 65 90]\n"
     ]
    },
    {
     "data": {
      "text/plain": [
       "6390"
      ]
     },
     "execution_count": 6,
     "metadata": {},
     "output_type": "execute_result"
    }
   ],
   "source": [
    "threshold = 400\n",
    "df_meta = df_meta.sort_values(by=[\"target\"])\n",
    "df_meta_filtered = df_meta[df_meta['target'].map(df_meta['target'].value_counts()) >= threshold]\n",
    "classes = np.unique(df_meta_filtered[\"target\"])\n",
    "print(\"surviving classes are:\", classes)\n",
    "df_meta_filtered.shape[0]"
   ]
  },
  {
   "cell_type": "markdown",
   "metadata": {},
   "source": [
    "we take time series fro the passband '3'"
   ]
  },
  {
   "cell_type": "code",
   "execution_count": 8,
   "metadata": {},
   "outputs": [],
   "source": [
    "passband_id = 3\n",
    "\n",
    "df = df[df[\"passband\"] == passband_id]\n",
    "df = df.sort_values(by=[\"object_id\", \"mjd\"])\n",
    "df_grouped = df.groupby(\"object_id\")\n",
    "fluxes = df_grouped[\"flux\"].apply(list)\n",
    "mjds = df_grouped[\"mjd\"].apply(list)\n",
    "labels = []\n",
    "dataset = []\n",
    "times = []\n",
    "for i in range(df_meta_filtered.shape[0]):\n",
    "    row = df_meta_filtered.iloc[i]\n",
    "    object_id = row.object_id\n",
    "    target = row.target\n",
    "    labels.append(target)\n",
    "    dataset.append(np.array(fluxes.loc[object_id]))\n",
    "    times.append(np.array(mjds.loc[object_id]))"
   ]
  },
  {
   "cell_type": "markdown",
   "metadata": {},
   "source": [
    "### Second reduction: train/test data size\n",
    "\n",
    "since at first we will use non-optimize solutions which will take lot of time to execute, we will start evaluating our experimentes on small sub-sets from the original dataset. From here, we will test three scenarios:\n",
    "\n",
    "1. constant train/test set ratio but increasing the number of timeseries\n",
    "2. constant test set size but increasing the size of train set\n",
    "3. constant train set size but increasing the size of the test set\n",
    "\n",
    "in particular here, for the 3rd scenario we will just have to fix the train set size and get a test size as big as posible, then on evaluation process we will take only sub-sets of this test set\n",
    "\n",
    "for the 2nd scenario, we will fix the test set size on 1/3 of the maximum train set size"
   ]
  },
  {
   "cell_type": "code",
   "execution_count": 12,
   "metadata": {},
   "outputs": [],
   "source": [
    "def get_small_dataset(dataset, times, labels, n1, n2):\n",
    "    # n: size of the small dataset\n",
    "    # c: use the 'c' classes most present in the original dataset\n",
    "    \n",
    "    data_time_tuple = [(t, y) for t, y in zip(times, dataset)]\n",
    "    \n",
    "    # first split, to get n1+n2 set size\n",
    "    if n1+n2 < len(labels) - np.unique(labels).size:\n",
    "    \n",
    "         _, data_time_tuple, _,  labels = train_test_split(data_time_tuple, labels,\n",
    "                                                    test_size=n1 + n2,\n",
    "                                                    random_state=0,\n",
    "                                                    stratify=labels)\n",
    "        \n",
    "    # second split, to get train n1 and test n2\n",
    "    data_time_train, data_time_test, labels_train, labels_test = train_test_split(data_time_tuple,\n",
    "                                                                                 labels,\n",
    "                                                                                 test_size=n2,\n",
    "                                                                                 random_state=0,\n",
    "                                                                                 stratify=labels)\n",
    "    d_train = []\n",
    "    d_test = []\n",
    "    t_train = []\n",
    "    t_test = []\n",
    "    for i in range(n1):\n",
    "        t, d = data_time_train[i]\n",
    "        d_train.append(d)\n",
    "        t_train.append(t)\n",
    "        \n",
    "    for i in range(n2):\n",
    "        t, d = data_time_test[i]\n",
    "        d_test.append(d)\n",
    "        t_test.append(t)\n",
    "\n",
    "    \n",
    "    return d_train, t_train, labels_train, d_test, t_test, labels_test\n",
    "\n",
    "\n",
    "def gen_sub_sets(output_path, dataset, times, labels, n1_arr, n2_arr, c):\n",
    "    for n1, n2 in zip(n1_arr, n2_arr):\n",
    "        d_train, t_train, l_train, d_test, t_test, l_test = get_small_dataset(dataset, times, labels,\n",
    "                                                                             n1, n2)\n",
    "        skip = False\n",
    "        for type_i, data_i in zip([\"d\", \"t\", \"l\"],\n",
    "                                  [(d_train, d_test), (t_train, t_test), (l_train, l_test)]):\n",
    "            out_file_train = os.path.join(output_path, \"train_{}_n{}_c{}.npy\".format(type_i, n1, c))\n",
    "            out_file_test = os.path.join(output_path, \"test_{}_n{}_c{}.npy\".format(type_i, n2, c))\n",
    "            if not os.path.exists(out_file_train):\n",
    "                np.save(out_file_train, data_i[0])\n",
    "                np.save(out_file_test, data_i[1])\n",
    "            else:\n",
    "                skip = True\n",
    "                break\n",
    "        if not skip:\n",
    "            print(\":::GEN [train, test, classes] = [%d, %d, %d] set on dir %s\" % (n1, n2, c, output_path))\n",
    "        else:\n",
    "            print(\":::SKIP [train, test, classes] = [%d, %d, %d]\" % (n1, n2, c))"
   ]
  },
  {
   "cell_type": "code",
   "execution_count": 13,
   "metadata": {},
   "outputs": [
    {
     "name": "stdout",
     "output_type": "stream",
     "text": [
      "6250 6390\n"
     ]
    }
   ],
   "source": [
    "print(n1_arr[-1] + n2_arr[-1], len(labels))"
   ]
  },
  {
   "cell_type": "code",
   "execution_count": 14,
   "metadata": {},
   "outputs": [
    {
     "name": "stdout",
     "output_type": "stream",
     "text": [
      ":::GEN [train, test, classes] = [100, 25, 6] set on dir /home/frmunoz/Documents/tesis/notebooks/../data/plasticc_subsets/scenario1_ratio_2-8\n",
      ":::GEN [train, test, classes] = [500, 125, 6] set on dir /home/frmunoz/Documents/tesis/notebooks/../data/plasticc_subsets/scenario1_ratio_2-8\n",
      ":::GEN [train, test, classes] = [1000, 250, 6] set on dir /home/frmunoz/Documents/tesis/notebooks/../data/plasticc_subsets/scenario1_ratio_2-8\n",
      ":::GEN [train, test, classes] = [2000, 500, 6] set on dir /home/frmunoz/Documents/tesis/notebooks/../data/plasticc_subsets/scenario1_ratio_2-8\n",
      ":::GEN [train, test, classes] = [4000, 1000, 6] set on dir /home/frmunoz/Documents/tesis/notebooks/../data/plasticc_subsets/scenario1_ratio_2-8\n",
      ":::GEN [train, test, classes] = [5000, 1250, 6] set on dir /home/frmunoz/Documents/tesis/notebooks/../data/plasticc_subsets/scenario1_ratio_2-8\n"
     ]
    }
   ],
   "source": [
    "# 1st scenario\n",
    "ratio = 2/8 # 20% test, 80% train\n",
    "n1_arr = np.array([100, 500, 1000, 2000, 4000, 5000], dtype=int)\n",
    "n2_arr = (n1_arr * ratio).astype(int)\n",
    "output_path1 = os.path.join(data_path, \"plasticc_subsets\", \"scenario1_ratio_2-8\")\n",
    "gen_sub_sets(output_path1, dataset, times, labels, n1_arr, n2_arr, len(classes))"
   ]
  },
  {
   "cell_type": "code",
   "execution_count": 15,
   "metadata": {},
   "outputs": [],
   "source": [
    "#2nd scenario"
   ]
  },
  {
   "cell_type": "code",
   "execution_count": 16,
   "metadata": {},
   "outputs": [],
   "source": [
    "#3rd scenario"
   ]
  },
  {
   "cell_type": "code",
   "execution_count": null,
   "metadata": {},
   "outputs": [],
   "source": []
  }
 ],
 "metadata": {
  "kernelspec": {
   "display_name": "Python 3",
   "language": "python",
   "name": "python3"
  },
  "language_info": {
   "codemirror_mode": {
    "name": "ipython",
    "version": 3
   },
   "file_extension": ".py",
   "mimetype": "text/x-python",
   "name": "python",
   "nbconvert_exporter": "python",
   "pygments_lexer": "ipython3",
   "version": "3.8.1"
  }
 },
 "nbformat": 4,
 "nbformat_minor": 4
}
