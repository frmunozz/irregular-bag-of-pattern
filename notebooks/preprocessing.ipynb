{
 "cells": [
  {
   "cell_type": "code",
   "execution_count": 1,
   "metadata": {},
   "outputs": [
    {
     "name": "stderr",
     "output_type": "stream",
     "text": [
      "c:\\programdata\\miniconda3\\lib\\site-packages\\numpy\\_distributor_init.py:32: UserWarning: loaded more than 1 DLL from .libs:\n",
      "c:\\programdata\\miniconda3\\lib\\site-packages\\numpy\\.libs\\libopenblas.PYQHXLVVQ7VESDPUVUADXEVJOBGHJPAY.gfortran-win_amd64.dll\n",
      "c:\\programdata\\miniconda3\\lib\\site-packages\\numpy\\.libs\\libopenblas.TXA6YQSD3GCQQC22GEQ54J2UDCXDXHWN.gfortran-win_amd64.dll\n",
      "  stacklevel=1)\n"
     ]
    }
   ],
   "source": [
    "import pandas as pd\n",
    "import numpy as np\n",
    "import os\n",
    "import matplotlib.pyplot as plt\n",
    "from collections import defaultdict\n",
    "from sklearn.model_selection import train_test_split\n",
    "%matplotlib inline"
   ]
  },
  {
   "cell_type": "code",
   "execution_count": 2,
   "metadata": {},
   "outputs": [],
   "source": [
    "data_path = os.path.join(str(os.getcwd()), '..', 'data')\n",
    "df = pd.read_csv(os.path.join(data_path, \"training_set.csv.zip\"))\n",
    "df_meta = pd.read_csv(os.path.join(data_path, \"training_set_metadata.csv\"))"
   ]
  },
  {
   "cell_type": "code",
   "execution_count": 3,
   "metadata": {},
   "outputs": [
    {
     "data": {
      "text/html": [
       "<div>\n",
       "<style scoped>\n",
       "    .dataframe tbody tr th:only-of-type {\n",
       "        vertical-align: middle;\n",
       "    }\n",
       "\n",
       "    .dataframe tbody tr th {\n",
       "        vertical-align: top;\n",
       "    }\n",
       "\n",
       "    .dataframe thead th {\n",
       "        text-align: right;\n",
       "    }\n",
       "</style>\n",
       "<table border=\"1\" class=\"dataframe\">\n",
       "  <thead>\n",
       "    <tr style=\"text-align: right;\">\n",
       "      <th></th>\n",
       "      <th>object_id</th>\n",
       "      <th>ra</th>\n",
       "      <th>decl</th>\n",
       "      <th>gal_l</th>\n",
       "      <th>gal_b</th>\n",
       "      <th>ddf</th>\n",
       "      <th>hostgal_specz</th>\n",
       "      <th>hostgal_photoz</th>\n",
       "      <th>hostgal_photoz_err</th>\n",
       "      <th>distmod</th>\n",
       "      <th>mwebv</th>\n",
       "      <th>target</th>\n",
       "    </tr>\n",
       "  </thead>\n",
       "  <tbody>\n",
       "    <tr>\n",
       "      <th>0</th>\n",
       "      <td>615</td>\n",
       "      <td>349.046051</td>\n",
       "      <td>-61.943836</td>\n",
       "      <td>320.796530</td>\n",
       "      <td>-51.753706</td>\n",
       "      <td>1</td>\n",
       "      <td>0.0000</td>\n",
       "      <td>0.0000</td>\n",
       "      <td>0.0000</td>\n",
       "      <td>NaN</td>\n",
       "      <td>0.017</td>\n",
       "      <td>92</td>\n",
       "    </tr>\n",
       "    <tr>\n",
       "      <th>1</th>\n",
       "      <td>713</td>\n",
       "      <td>53.085938</td>\n",
       "      <td>-27.784405</td>\n",
       "      <td>223.525509</td>\n",
       "      <td>-54.460748</td>\n",
       "      <td>1</td>\n",
       "      <td>1.8181</td>\n",
       "      <td>1.6267</td>\n",
       "      <td>0.2552</td>\n",
       "      <td>45.4063</td>\n",
       "      <td>0.007</td>\n",
       "      <td>88</td>\n",
       "    </tr>\n",
       "    <tr>\n",
       "      <th>2</th>\n",
       "      <td>730</td>\n",
       "      <td>33.574219</td>\n",
       "      <td>-6.579593</td>\n",
       "      <td>170.455585</td>\n",
       "      <td>-61.548219</td>\n",
       "      <td>1</td>\n",
       "      <td>0.2320</td>\n",
       "      <td>0.2262</td>\n",
       "      <td>0.0157</td>\n",
       "      <td>40.2561</td>\n",
       "      <td>0.021</td>\n",
       "      <td>42</td>\n",
       "    </tr>\n",
       "    <tr>\n",
       "      <th>3</th>\n",
       "      <td>745</td>\n",
       "      <td>0.189873</td>\n",
       "      <td>-45.586655</td>\n",
       "      <td>328.254458</td>\n",
       "      <td>-68.969298</td>\n",
       "      <td>1</td>\n",
       "      <td>0.3037</td>\n",
       "      <td>0.2813</td>\n",
       "      <td>1.1523</td>\n",
       "      <td>40.7951</td>\n",
       "      <td>0.007</td>\n",
       "      <td>90</td>\n",
       "    </tr>\n",
       "    <tr>\n",
       "      <th>4</th>\n",
       "      <td>1124</td>\n",
       "      <td>352.711273</td>\n",
       "      <td>-63.823658</td>\n",
       "      <td>316.922299</td>\n",
       "      <td>-51.059403</td>\n",
       "      <td>1</td>\n",
       "      <td>0.1934</td>\n",
       "      <td>0.2415</td>\n",
       "      <td>0.0176</td>\n",
       "      <td>40.4166</td>\n",
       "      <td>0.024</td>\n",
       "      <td>90</td>\n",
       "    </tr>\n",
       "  </tbody>\n",
       "</table>\n",
       "</div>"
      ],
      "text/plain": [
       "   object_id          ra       decl       gal_l      gal_b  ddf  \\\n",
       "0        615  349.046051 -61.943836  320.796530 -51.753706    1   \n",
       "1        713   53.085938 -27.784405  223.525509 -54.460748    1   \n",
       "2        730   33.574219  -6.579593  170.455585 -61.548219    1   \n",
       "3        745    0.189873 -45.586655  328.254458 -68.969298    1   \n",
       "4       1124  352.711273 -63.823658  316.922299 -51.059403    1   \n",
       "\n",
       "   hostgal_specz  hostgal_photoz  hostgal_photoz_err  distmod  mwebv  target  \n",
       "0         0.0000          0.0000              0.0000      NaN  0.017      92  \n",
       "1         1.8181          1.6267              0.2552  45.4063  0.007      88  \n",
       "2         0.2320          0.2262              0.0157  40.2561  0.021      42  \n",
       "3         0.3037          0.2813              1.1523  40.7951  0.007      90  \n",
       "4         0.1934          0.2415              0.0176  40.4166  0.024      90  "
      ]
     },
     "execution_count": 3,
     "metadata": {},
     "output_type": "execute_result"
    }
   ],
   "source": [
    "df_meta.head()"
   ]
  },
  {
   "cell_type": "code",
   "execution_count": 4,
   "metadata": {},
   "outputs": [
    {
     "data": {
      "image/png": "[encoded data removed]",
      "text/plain": [
       "<Figure size 1008x432 with 1 Axes>"
      ]
     },
     "metadata": {
      "needs_background": "light"
     },
     "output_type": "display_data"
    }
   ],
   "source": [
    "def plot_labels(class_count, title=\"timeseries count per class\"):\n",
    "    labels_cc, values_cc = zip(*sorted(class_count.items()))\n",
    "    indexes = np.arange(len(labels_cc))\n",
    "    fig = plt.figure(figsize=(14, 6))\n",
    "    plt.bar(indexes, values_cc)\n",
    "    plt.xticks(indexes, labels_cc)\n",
    "    plt.xlabel(\"class\", fontsize=15)\n",
    "    plt.ylabel(\"count\", fontsize=15)\n",
    "    plt.title(title, fontsize=17)\n",
    "\n",
    "\n",
    "class_count = defaultdict(int)\n",
    "for l in df_meta[\"target\"]:\n",
    "    class_count[l] += 1\n",
    "    \n",
    "plot_labels(class_count)"
   ]
  },
  {
   "cell_type": "code",
   "execution_count": 62,
   "metadata": {},
   "outputs": [],
   "source": [
    "def get_timeseries_detections(df, df_meta, passband=3):\n",
    "    df1 = df[df[\"passband\"] == passband]\n",
    "    df1 = df1.sort_values(by=[\"object_id\", \"mjd\"])\n",
    "    df_grouped = df1.groupby(\"object_id\")\n",
    "    fluxes = df_grouped[\"flux\"].apply(list)\n",
    "    mjds = df_grouped[\"mjd\"].apply(list)\n",
    "    detections = df_grouped[\"detected\"].apply(list)\n",
    "    labels = []\n",
    "    dataset = []\n",
    "    times = []\n",
    "    total_detected = []\n",
    "    six_or_more_detections = 0\n",
    "    for i in range(df_meta.shape[0]):\n",
    "        row = df_meta.iloc[i]\n",
    "        object_id = row.object_id\n",
    "        target = row.target\n",
    "        \n",
    "        tot_detect = np.sum(detections.loc[object_id])\n",
    "        if tot_detect >= 6:\n",
    "            six_or_more_detections += 1\n",
    "        \n",
    "        labels.append(target)\n",
    "        dataset.append(np.array(fluxes.loc[object_id]))\n",
    "        times.append(np.array(mjds.loc[object_id]))\n",
    "        total_detected.append(tot_detect)\n",
    "    return dataset, times, labels, total_detected, six_or_more_detections\n",
    "\n",
    "passband = 5\n",
    "d_before, t_before, l_before, total_detected, six_or_more = get_timeseries_detections(df, df_meta, passband=passband)"
   ]
  },
  {
   "cell_type": "code",
   "execution_count": 64,
   "metadata": {},
   "outputs": [
    {
     "name": "stdout",
     "output_type": "stream",
     "text": [
      "1490 7848\n"
     ]
    }
   ],
   "source": [
    "print(six_or_more, len(d_before))"
   ]
  },
  {
   "cell_type": "code",
   "execution_count": 10,
   "metadata": {},
   "outputs": [
    {
     "data": {
      "image/png": "[encoded data removed]",
      "text/plain": [
       "<Figure size 432x288 with 1 Axes>"
      ]
     },
     "metadata": {
      "needs_background": "light"
     },
     "output_type": "display_data"
    }
   ],
   "source": [
    "_ = plt.hist(total_detected, bins=50)"
   ]
  },
  {
   "cell_type": "code",
   "execution_count": 61,
   "metadata": {},
   "outputs": [
    {
     "name": "stdout",
     "output_type": "stream",
     "text": [
      "total detection:  6\n",
      "12.606405711111112 29.99082406908306 89.97247220724918\n",
      "(array([40, 41, 42, 43, 44], dtype=int64),)\n"
     ]
    },
    {
     "data": {
      "image/png": "[encoded data removed]",
      "text/plain": [
       "<Figure size 432x288 with 1 Axes>"
      ]
     },
     "metadata": {
      "needs_background": "light"
     },
     "output_type": "display_data"
    }
   ],
   "source": [
    "i = 18\n",
    "print(\"total detection: \", total_detected[i])\n",
    "plt.plot(t_before[i], d_before[i], '.--')\n",
    "sigma = np.std(d_before[i])\n",
    "mu = np.mean(d_before[i])\n",
    "print(mu, sigma, 3*sigma)\n",
    "print(np.where(np.abs(d_before[i]) > sigma))"
   ]
  },
  {
   "cell_type": "code",
   "execution_count": 59,
   "metadata": {},
   "outputs": [
    {
     "data": {
      "text/plain": [
       "array([  17,   21,   41,   65,   78,   85,   95,   98,  122,  131,  142,\n",
       "        180,  195,  198,  201,  230,  237,  242,  247,  248,  255,  261,\n",
       "        265,  266,  274,  276,  285,  286,  304,  309,  310,  329,  336,\n",
       "        343,  353,  363,  391,  400,  429,  433,  441,  457,  460,  472,\n",
       "        480,  481,  488,  567,  570,  600,  601,  603,  668,  674,  696,\n",
       "        698,  730,  763,  775,  797,  840,  846,  859,  862,  868,  875,\n",
       "        880,  894,  923,  932,  945,  978, 1006, 1020, 1024, 1045, 1057,\n",
       "       1069, 1075, 1086, 1098, 1112, 1114, 1155, 1188, 1201, 1220, 1223,\n",
       "       1234, 1241, 1250, 1251, 1268, 1284, 1286, 1292, 1313, 1314, 1328,\n",
       "       1340, 1355, 1386, 1387, 1398, 1413, 1414, 1422, 1429, 1431, 1434,\n",
       "       1438, 1449, 1460, 1461, 1464, 1467, 1497, 1500, 1508, 1527, 1554,\n",
       "       1555, 1570, 1579, 1613, 1621, 1654, 1659, 1665, 1684, 1711, 1721,\n",
       "       1742, 1745, 1753, 1755, 1760, 1772, 1784, 1796, 1830, 1831, 1834,\n",
       "       1842, 1855, 1858, 1860, 1869, 1875, 1899, 1903, 1907, 1942, 1943,\n",
       "       1958, 2017, 2024, 2026, 2036, 2048, 2061, 2071, 2079, 2091, 2105,\n",
       "       2124, 2127, 2129, 2138, 2146, 2148, 2153, 2170, 2174, 2177, 2179,\n",
       "       2190, 2234, 2250, 2251, 2292, 2295, 2300, 2328, 2340, 2351, 2369,\n",
       "       2376, 2394, 2395, 2418, 2428, 2439, 2448, 2450, 2474, 2475, 2479,\n",
       "       2489, 2494, 2508, 2514, 2521, 2524, 2544, 2558, 2565, 2579, 2596,\n",
       "       2615, 2639, 2656, 2659, 2660, 2665, 2670, 2674, 2681, 2690, 2695,\n",
       "       2703, 2707, 2725, 2729, 2739, 2758, 2784, 2805, 2816, 2824, 2864,\n",
       "       2893, 2928, 2936, 2942, 2951, 2952, 2959, 2962, 2976, 2999, 3002,\n",
       "       3010, 3033, 3047, 3055, 3062, 3074, 3097, 3121, 3125, 3135, 3136,\n",
       "       3139, 3154, 3155, 3168, 3172, 3174, 3181, 3189, 3198, 3205, 3231,\n",
       "       3235, 3239, 3254, 3262, 3268, 3269, 3281, 3292, 3296, 3299, 3301,\n",
       "       3306, 3317, 3329, 3375, 3376, 3386, 3421, 3422, 3441, 3454, 3468,\n",
       "       3491, 3505, 3508, 3532, 3539, 3546, 3548, 3558, 3577, 3599, 3610,\n",
       "       3625, 3626, 3632, 3664, 3673, 3691, 3718, 3719, 3735, 3746, 3792,\n",
       "       3798, 3811, 3825, 3837, 3846, 3854, 3856, 3878, 3882, 3903, 3907,\n",
       "       3916, 3931, 3947, 3950, 3954, 3981, 3983, 3988, 3991, 3992, 3998,\n",
       "       4039, 4044, 4058, 4094, 4098, 4105, 4106, 4112, 4116, 4121, 4125,\n",
       "       4176, 4179, 4188, 4192, 4208, 4214, 4218, 4239, 4241, 4249, 4252,\n",
       "       4280, 4285, 4291, 4301, 4305, 4315, 4328, 4331, 4345, 4348, 4349,\n",
       "       4353, 4361, 4363, 4379, 4421, 4463, 4465, 4478, 4481, 4485, 4490,\n",
       "       4498, 4506, 4509, 4529, 4538, 4547, 4554, 4560, 4565, 4573, 4587,\n",
       "       4590, 4592, 4601, 4614, 4625, 4634, 4660, 4684, 4702, 4703, 4708,\n",
       "       4710, 4711, 4723, 4730, 4737, 4757, 4768, 4777, 4780, 4783, 4792,\n",
       "       4812, 4816, 4820, 4822, 4831, 4858, 4861, 4870, 4882, 4900, 4911,\n",
       "       4915, 4938, 4970, 4989, 5018, 5019, 5056, 5070, 5075, 5082, 5120,\n",
       "       5121, 5125, 5127, 5131, 5137, 5141, 5149, 5157, 5168, 5174, 5187,\n",
       "       5197, 5201, 5220, 5233, 5244, 5249, 5261, 5294, 5295, 5300, 5346,\n",
       "       5351, 5352, 5356, 5360, 5369, 5396, 5399, 5427, 5436, 5454, 5456,\n",
       "       5463, 5490, 5493, 5499, 5508, 5513, 5515, 5521, 5525, 5536, 5559,\n",
       "       5589, 5592, 5605, 5619, 5621, 5624, 5625, 5629, 5653, 5656, 5661,\n",
       "       5685, 5718, 5724, 5741, 5748, 5780, 5785, 5793, 5809, 5810, 5845,\n",
       "       5859, 5863, 5887, 5891, 5906, 5948, 5951, 5952, 5968, 5990, 5998,\n",
       "       6031, 6042, 6065, 6068, 6117, 6137, 6138, 6155, 6160, 6192, 6219,\n",
       "       6221, 6229, 6230, 6250, 6251, 6259, 6272, 6283, 6289, 6307, 6312,\n",
       "       6314, 6340, 6353, 6358, 6381, 6400, 6403, 6411, 6414, 6418, 6423,\n",
       "       6431, 6442, 6447, 6450, 6465, 6510, 6515, 6518, 6546, 6560, 6561,\n",
       "       6592, 6598, 6599, 6601, 6612, 6642, 6644, 6658, 6667, 6671, 6675,\n",
       "       6682, 6697, 6703, 6705, 6712, 6715, 6716, 6720, 6723, 6754, 6788,\n",
       "       6817, 6840, 6849, 6873, 6875, 6898, 6908, 6915, 6923, 6934, 6943,\n",
       "       6954, 6986, 6992, 7026, 7027, 7032, 7037, 7039, 7059, 7064, 7087,\n",
       "       7097, 7110, 7128, 7131, 7153, 7161, 7173, 7190, 7191, 7221, 7222,\n",
       "       7225, 7230, 7241, 7243, 7285, 7302, 7313, 7329, 7336, 7350, 7364,\n",
       "       7370, 7372, 7376, 7377, 7399, 7402, 7409, 7412, 7415, 7417, 7429,\n",
       "       7448, 7455, 7460, 7483, 7491, 7493, 7549, 7564, 7570, 7584, 7594,\n",
       "       7596, 7621, 7630, 7636, 7640, 7645, 7654, 7664, 7673, 7680, 7694,\n",
       "       7711, 7730, 7742, 7770, 7789, 7790, 7830, 7833, 7837], dtype=int64)"
      ]
     },
     "execution_count": 59,
     "metadata": {},
     "output_type": "execute_result"
    }
   ],
   "source": [
    "np.where(np.array(total_detected, dtype=int) == 2)[0]"
   ]
  },
  {
   "cell_type": "markdown",
   "metadata": {},
   "source": [
    "## DDF vs WDF observations"
   ]
  },
  {
   "cell_type": "code",
   "execution_count": 11,
   "metadata": {},
   "outputs": [
    {
     "data": {
      "text/plain": [
       "ddf\n",
       "0    5732\n",
       "1    2116\n",
       "Name: ddf, dtype: int64"
      ]
     },
     "execution_count": 11,
     "metadata": {},
     "output_type": "execute_result"
    }
   ],
   "source": [
    "df_meta.groupby(by=[\"ddf\"])[\"ddf\"].count()"
   ]
  },
  {
   "cell_type": "code",
   "execution_count": 70,
   "metadata": {
    "scrolled": false
   },
   "outputs": [
    {
     "data": {
      "image/png": "[encoded data removed]",
      "text/plain": [
       "<Figure size 864x432 with 1 Axes>"
      ]
     },
     "metadata": {
      "needs_background": "light"
     },
     "output_type": "display_data"
    }
   ],
   "source": [
    "wdf = 0\n",
    "ddf = 1\n",
    "\n",
    "df_meta_ddf = df_meta[df_meta[\"ddf\"] == ddf]\n",
    "df_meta_wdf = df_meta[df_meta[\"ddf\"] == wdf]\n",
    "\n",
    "class_count_ddf = defaultdict(int)\n",
    "for l in df_meta_ddf[\"target\"]:\n",
    "    class_count_ddf[l] += 1\n",
    "\n",
    "class_count_wdf = defaultdict(int)\n",
    "for l in df_meta_wdf[\"target\"]:\n",
    "    class_count_wdf[l] += 1\n",
    "\n",
    "def plot_labels_tuple(class_count1, class_count2, label1, label2, title=\"Timeseries count per class\"):\n",
    "    labels_cc1, values_cc1 = zip(*sorted(class_count1.items()))\n",
    "    labels_cc2, values_cc2 = zip(*sorted(class_count2.items()))\n",
    "    \n",
    "    indexes = np.arange(len(labels_cc1))\n",
    "    width = 0.35 \n",
    "    \n",
    "    fig, ax = plt.subplots(figsize=(12, 6))\n",
    "    \n",
    "    rects1 = ax.bar(indexes, values_cc1, width)\n",
    "    rects2 = ax.bar(indexes + width, values_cc2, width)\n",
    "    \n",
    "    ax.set_xticks(indexes + width / 2)\n",
    "    ax.set_ylim([0, max(np.max(values_cc1), np.max(values_cc2)) + 150])\n",
    "    ax.set_xticklabels(labels_cc1)\n",
    "    \n",
    "    ax.set_xlabel(\"Class\", fontsize=15)\n",
    "    ax.set_ylabel(\"Count\", fontsize=15)\n",
    "    ax.set_title(title, fontsize=17)\n",
    "    \n",
    "    ax.legend((rects1[0], rects2[0]), (label1, label2), fontsize=15)\n",
    "    \n",
    "    def autolabel(rects):\n",
    "        \"\"\"\n",
    "        Attach a text label above each bar displaying its height\n",
    "        \"\"\"\n",
    "        for rect in rects:\n",
    "            height = rect.get_height()\n",
    "            ax.text(rect.get_x() + rect.get_width()/2., height + 15,\n",
    "                    '%d' % int(height),\n",
    "                    ha='center', va='bottom')\n",
    "\n",
    "    autolabel(rects1)\n",
    "    autolabel(rects2)\n",
    "    \n",
    "    plt.tight_layout()\n",
    "#     \n",
    "#     plt.xlabel(\"class\", fontsize=15)\n",
    "#     plt.ylabel(\"count\", fontsize=15)\n",
    "#     plt.title(title, fontsize=17)\n",
    "    \n",
    "plot_labels_tuple(class_count_ddf, class_count_wdf, \"DDF\", \"WDF\")"
   ]
  },
  {
   "cell_type": "code",
   "execution_count": 100,
   "metadata": {},
   "outputs": [],
   "source": [
    "def get_timeseries(df, df_meta, passband=3):\n",
    "    df1 = df[df[\"passband\"] == passband]\n",
    "    df1 = df1.sort_values(by=[\"object_id\", \"mjd\"])\n",
    "    df_grouped = df1.groupby(\"object_id\")\n",
    "    fluxes = df_grouped[\"flux\"].apply(list)\n",
    "    mjds = df_grouped[\"mjd\"].apply(list)\n",
    "    labels = []\n",
    "    dataset = []\n",
    "    times = []\n",
    "    for i in range(df_meta.shape[0]):\n",
    "        row = df_meta.iloc[i]\n",
    "        object_id = row.object_id\n",
    "        target = row.target\n",
    "        labels.append(target)\n",
    "        dataset.append(np.array(fluxes.loc[object_id]))\n",
    "        times.append(np.array(mjds.loc[object_id]))\n",
    "    return dataset, times, labels\n",
    "\n",
    "passband = 5\n",
    "d_ddf, t_ddf, l_ddf = get_timeseries(df, df_meta_ddf, passband=passband)\n",
    "d_wdf, t_wdf, l_wdf = get_timeseries(df, df_meta_wdf, passband=passband)\n",
    "\n",
    "def get_time_intervals(times):\n",
    "    res = []\n",
    "    for ts_t in times:\n",
    "        for i in range(1, len(ts_t)):\n",
    "            res.append(ts_t[i] - ts_t[i-1])\n",
    "    return res\n",
    "\n",
    "intervals_ddf = get_time_intervals(t_ddf)\n",
    "intervals_wdf = get_time_intervals(t_wdf)"
   ]
  },
  {
   "cell_type": "code",
   "execution_count": 101,
   "metadata": {},
   "outputs": [
    {
     "data": {
      "image/png": "[encoded data removed]",
      "text/plain": [
       "<Figure size 720x288 with 1 Axes>"
      ]
     },
     "metadata": {
      "needs_background": "light"
     },
     "output_type": "display_data"
    }
   ],
   "source": [
    "fig = plt.figure(figsize=(10, 4))\n",
    "plt.hist(intervals_ddf, alpha=0.9, bins=50, label=\"DDF\")\n",
    "plt.hist(intervals_wdf, alpha=0.5, bins=50, label=\"WDF\")\n",
    "plt.xlabel(\"Interval between observations (days)\", fontsize=14)\n",
    "plt.ylabel(\"count\", fontsize=14)\n",
    "plt.title(\"Histogram of time interval between observations for passband '%s'\" % passband, fontsize=16)\n",
    "_ = plt.legend()"
   ]
  },
  {
   "cell_type": "code",
   "execution_count": 102,
   "metadata": {},
   "outputs": [],
   "source": [
    "def get_bandwidths(times):\n",
    "    res = []\n",
    "    for ts_t in times:\n",
    "        res.append(ts_t[-1] - ts_t[0])\n",
    "    return res\n",
    "\n",
    "bandwidths_ddf = get_bandwidths(t_ddf)\n",
    "bandwidths_wdf = get_bandwidths(t_wdf)"
   ]
  },
  {
   "cell_type": "code",
   "execution_count": 103,
   "metadata": {},
   "outputs": [
    {
     "data": {
      "image/png": "[encoded data removed]",
      "text/plain": [
       "<Figure size 720x288 with 1 Axes>"
      ]
     },
     "metadata": {
      "needs_background": "light"
     },
     "output_type": "display_data"
    }
   ],
   "source": [
    "fig = plt.figure(figsize=(10, 4))\n",
    "plt.hist(bandwidths_ddf, alpha=1, bins=50, label=\"DDF\")\n",
    "plt.hist(bandwidths_wdf, alpha=0.5, bins=50, label=\"WDF\")\n",
    "plt.xlabel(\"Time series duration (days)\", fontsize=14)\n",
    "plt.ylabel(\"Count\", fontsize=14)\n",
    "plt.title(\"Histogram of timeseries duration for passband '%s'\" % passband, fontsize=16)\n",
    "_ = plt.legend()"
   ]
  },
  {
   "cell_type": "code",
   "execution_count": 104,
   "metadata": {},
   "outputs": [],
   "source": [
    "def get_total_samples(times):\n",
    "    res = []\n",
    "    for ts_t in times:\n",
    "        res.append(len(ts_t))\n",
    "    return res\n",
    "\n",
    "total_samples_ddf = get_total_samples(t_ddf)\n",
    "total_samples_wdf = get_total_samples(t_wdf)"
   ]
  },
  {
   "cell_type": "code",
   "execution_count": 105,
   "metadata": {},
   "outputs": [
    {
     "data": {
      "image/png": "[encoded data removed]",
      "text/plain": [
       "<Figure size 720x288 with 1 Axes>"
      ]
     },
     "metadata": {
      "needs_background": "light"
     },
     "output_type": "display_data"
    }
   ],
   "source": [
    "fig = plt.figure(figsize=(10, 4))\n",
    "plt.hist(total_samples_ddf, alpha=1, bins=20, label=\"DDF\")\n",
    "plt.hist(total_samples_wdf, alpha=0.5, bins=50, label=\"WDF\")\n",
    "plt.xlabel(\"Number of observations\", fontsize=14)\n",
    "plt.ylabel(\"Count\", fontsize=14)\n",
    "plt.title(\"Histogram of number of observations for passband '%s'\" % passband, fontsize=16)\n",
    "_ = plt.legend()"
   ]
  },
  {
   "cell_type": "markdown",
   "metadata": {},
   "source": [
    "### Comments\n",
    "\n",
    "- there are more WDF timeseries than DDF timeseries\n",
    "- DDF timeseries has more observations than WDF timeseries\n",
    "- DDF timeseries has lower timer intervals between observations\n",
    "- classes 6, 15, 53 and  64 have less than 10 DDF timeseries\n",
    "- classes 52, 67, 92, 95 have less than 100 DDF timeseries"
   ]
  },
  {
   "cell_type": "markdown",
   "metadata": {},
   "source": [
    "### Working decision\n",
    "\n",
    "- We will use classes (16, 42, 62, 65, 88, 90) for testing, discarding classes (6, 15, 52, 53, 64, 67, 92, 95). \n",
    "- We will split datasets in DDF and WDF datasets with 60% training and 40% test. \n",
    "- (optional for balancing) In addition, class 90 will be reduced to half in random way\n",
    "- we will create 3 sizes dataset, using 30%, 50% and 100% of the data, in a stratify way"
   ]
  },
  {
   "cell_type": "code",
   "execution_count": 114,
   "metadata": {},
   "outputs": [],
   "source": [
    "def get_reduced_stratify_dataset(dataset, labels, reduced_size, test_fraction):\n",
    "    if len(dataset) - reduced_size > 10:\n",
    "        _, dataset, _,  labels = train_test_split(dataset, labels,\n",
    "                                                    test_size=reduced_size,\n",
    "                                                    random_state=0,\n",
    "                                                    stratify=labels)\n",
    "    test_size = int(reduced_size * test_fraction)\n",
    "    return train_test_split(dataset, labels, test_size=test_size, random_state=0, stratify=labels)\n",
    "\n",
    "def generate_reduced_stratify_dataset(ddf_dtl, wdf_dtl, test_fraction, dataset_ratios, output_path):\n",
    "    for d_ratio in dataset_ratios:\n",
    "        for dtl_set, key in zip([ddf_dtl, wdf_dtl], [\"ddf\", \"wdf\"]):\n",
    "            d = dtl_set[0]\n",
    "            t = dtl_set[1]\n",
    "            l = dtl_set[2]\n",
    "            t_d = [(t, y) for t, y in zip(t, d)]\n",
    "            size = int(len(d) * d_ratio)\n",
    "            train_t_d, test_t_d, train_l, test_l = get_reduced_stratify_dataset(t_d, l, \n",
    "                                                                                size, \n",
    "                                                                                test_fraction)\n",
    "            train_t, train_d = zip(*train_t_d)\n",
    "            test_t, test_d = zip(*test_t_d)\n",
    "            skip = False\n",
    "            for type_i, data_i in zip([\"d\", \"t\", \"l\"],\n",
    "                                  [(train_d, test_d), (train_t, test_t), (train_l, test_l)]):\n",
    "                out_file_train = os.path.join(output_path, \"{}_train_{}_size{}.npy\".format(key, type_i, size))\n",
    "                out_file_test = os.path.join(output_path, \"{}_test_{}_size{}.npy\".format(key, type_i, size))\n",
    "                \n",
    "                if not os.path.exists(out_file_train):\n",
    "                    np.save(out_file_train, data_i[0])\n",
    "                    np.save(out_file_test, data_i[1])\n",
    "                else:\n",
    "                    skip = True\n",
    "                    break\n",
    "            if not skip:\n",
    "                print(\":::GEN %s dataset of size %d [%d train, %d test] on dir:\" % (key, size, len(train_d), \n",
    "                                                                                      len(test_d)))\n",
    "                print(\"::: \", output_path)\n",
    "            else:\n",
    "                print(\":::SKIP %s dataset of size %d\" % (key, size))"
   ]
  },
  {
   "cell_type": "code",
   "execution_count": 119,
   "metadata": {},
   "outputs": [
    {
     "name": "stdout",
     "output_type": "stream",
     "text": [
      ":::GEN ddf dataset of size 558 [335 train, 223 test] on dir:\n",
      ":::  D:\\tesis\\tesis\\notebooks\\..\\data\\plasticc_subsets\\ddf_wdf_split_simplified\\60_40_split\n",
      ":::GEN wdf dataset of size 1321 [793 train, 528 test] on dir:\n",
      ":::  D:\\tesis\\tesis\\notebooks\\..\\data\\plasticc_subsets\\ddf_wdf_split_simplified\\60_40_split\n",
      ":::GEN ddf dataset of size 930 [558 train, 372 test] on dir:\n",
      ":::  D:\\tesis\\tesis\\notebooks\\..\\data\\plasticc_subsets\\ddf_wdf_split_simplified\\60_40_split\n",
      ":::GEN wdf dataset of size 2202 [1322 train, 880 test] on dir:\n",
      ":::  D:\\tesis\\tesis\\notebooks\\..\\data\\plasticc_subsets\\ddf_wdf_split_simplified\\60_40_split\n",
      ":::GEN ddf dataset of size 1860 [1116 train, 744 test] on dir:\n",
      ":::  D:\\tesis\\tesis\\notebooks\\..\\data\\plasticc_subsets\\ddf_wdf_split_simplified\\60_40_split\n",
      ":::GEN wdf dataset of size 4405 [2643 train, 1762 test] on dir:\n",
      ":::  D:\\tesis\\tesis\\notebooks\\..\\data\\plasticc_subsets\\ddf_wdf_split_simplified\\60_40_split\n"
     ]
    }
   ],
   "source": [
    "test_fraction = 0.4\n",
    "dataset_ratios = [0.3, 0.5, 1]\n",
    "output_path_reduced = os.path.join(data_path, \"plasticc_subsets\", \"ddf_wdf_split_simplified\", \"60_40_split\")\n",
    "\n",
    "df_meta_reduced = df_meta[df_meta[\"target\"].isin([16, 42, 62, 65, 88, 90])]\n",
    "\n",
    "wdf = 0\n",
    "ddf = 1\n",
    "\n",
    "df_meta_reduced_ddf = df_meta_reduced[df_meta_reduced[\"ddf\"] == ddf]\n",
    "df_meta_reduced_wdf = df_meta_reduced[df_meta_reduced[\"ddf\"] == wdf]\n",
    "\n",
    "passband = 5\n",
    "d_ddf, t_ddf, l_ddf = get_timeseries(df, df_meta_reduced_ddf, passband=passband)\n",
    "d_wdf, t_wdf, l_wdf = get_timeseries(df, df_meta_reduced_wdf, passband=passband)\n",
    "\n",
    "generate_reduced_stratify_dataset([d_ddf, t_ddf, l_ddf], [d_wdf, t_wdf, l_wdf], \n",
    "                                  test_fraction, dataset_ratios, output_path_reduced)"
   ]
  },
  {
   "cell_type": "code",
   "execution_count": 126,
   "metadata": {},
   "outputs": [
    {
     "data": {
      "image/png": "[encoded data removed]",
      "text/plain": [
       "<Figure size 864x432 with 1 Axes>"
      ]
     },
     "metadata": {
      "needs_background": "light"
     },
     "output_type": "display_data"
    },
    {
     "data": {
      "image/png": "[encoded data removed]",
      "text/plain": [
       "<Figure size 864x432 with 1 Axes>"
      ]
     },
     "metadata": {
      "needs_background": "light"
     },
     "output_type": "display_data"
    }
   ],
   "source": [
    "ddf_subset_train_l = np.load(os.path.join(output_path_reduced, \"ddf_train_l_size558.npy\"), allow_pickle=True)\n",
    "ddf_subset_test_l = np.load(os.path.join(output_path_reduced, \"ddf_test_l_size558.npy\"), allow_pickle=True)\n",
    "wdf_subset_train_l = np.load(os.path.join(output_path_reduced, \"wdf_train_l_size1321.npy\"), allow_pickle=True)\n",
    "wdf_subset_test_l = np.load(os.path.join(output_path_reduced, \"wdf_test_l_size1321.npy\"), allow_pickle=True)\n",
    "\n",
    "def fast_class_count_plot(train_l, test_l, title=\"Timeseries count per class\"):\n",
    "    class_count_train = defaultdict(int)\n",
    "    for l in train_l:\n",
    "        class_count_train[l] += 1\n",
    "    class_count_test = defaultdict(int)\n",
    "    for l in test_l:\n",
    "        class_count_test[l] += 1\n",
    "    \n",
    "    plot_labels_tuple(class_count_train, class_count_test, \"train\", \"test\", title=title)\n",
    "    \n",
    "fast_class_count_plot(ddf_subset_train_l, ddf_subset_test_l, title=\"Class count DDF sub-dataset of size 558\")\n",
    "fast_class_count_plot(wdf_subset_train_l, wdf_subset_test_l, title=\"Class count WDF sub-dataset of size 1321\")"
   ]
  },
  {
   "cell_type": "markdown",
   "metadata": {},
   "source": [
    "## Detection meta\n",
    "\n",
    "we can see that original dataset includes a detection/non-detection feature and that most of the single-band time series has 0 detections, so we can create a single-band dataset using only time series with a minimum number of detections"
   ]
  },
  {
   "cell_type": "code",
   "execution_count": 71,
   "metadata": {},
   "outputs": [],
   "source": [
    "# we take time series with at least 'min_detections' detections in this band\n",
    "def get_timeseries_detections(df, df_meta, passband=3, min_detections=3):\n",
    "    df1 = df[df[\"passband\"] == passband]\n",
    "    df1 = df1.sort_values(by=[\"object_id\", \"mjd\"])\n",
    "    df_grouped = df1.groupby(\"object_id\")\n",
    "    fluxes = df_grouped[\"flux\"].apply(list)\n",
    "    mjds = df_grouped[\"mjd\"].apply(list)\n",
    "    detections = df_grouped[\"detected\"].apply(list)\n",
    "    labels = []\n",
    "    dataset = []\n",
    "    times = []\n",
    "    total_detected = []\n",
    "    ddf_target = []\n",
    "    wdf_target = []\n",
    "    \n",
    "    for i in range(df_meta.shape[0]):\n",
    "        row = df_meta.iloc[i]\n",
    "        object_id = row.object_id\n",
    "        target = row.target\n",
    "        tot_detect = np.sum(detections.loc[object_id])\n",
    "        if tot_detect >= min_detections:\n",
    "            labels.append(target)\n",
    "            dataset.append(np.array(fluxes.loc[object_id]))\n",
    "            times.append(np.array(mjds.loc[object_id]))\n",
    "            total_detected.append(tot_detect)\n",
    "            \n",
    "            if row.ddf:\n",
    "                ddf_target.append(target)\n",
    "            else:\n",
    "                wdf_target.append(target)\n",
    "                \n",
    "    return dataset, times, labels, total_detected, ddf_target, wdf_target\n",
    "\n",
    "passband = 5\n",
    "d_before, t_before, l_before, total_detected, ddf_target, wdf_target = get_timeseries_detections(df, df_meta, passband=passband)"
   ]
  },
  {
   "cell_type": "code",
   "execution_count": 76,
   "metadata": {},
   "outputs": [
    {
     "name": "stdout",
     "output_type": "stream",
     "text": [
      "2402 1206 1196\n"
     ]
    }
   ],
   "source": [
    "print(len(total_detected), len(ddf_target), len(wdf_target))"
   ]
  },
  {
   "cell_type": "code",
   "execution_count": 73,
   "metadata": {},
   "outputs": [
    {
     "data": {
      "image/png": "[encoded data removed]",
      "text/plain": [
       "<Figure size 864x432 with 1 Axes>"
      ]
     },
     "metadata": {
      "needs_background": "light"
     },
     "output_type": "display_data"
    }
   ],
   "source": [
    "class_count_ddf = defaultdict(int)\n",
    "for l in ddf_target:\n",
    "    class_count_ddf[l] += 1\n",
    "\n",
    "class_count_wdf = defaultdict(int)\n",
    "for l in wdf_target:\n",
    "    class_count_wdf[l] += 1\n",
    "    \n",
    "def plot_labels_tuple(class_count1, class_count2, label1, label2, title=\"Timeseries count per class\"):\n",
    "    labels_cc1, values_cc1 = zip(*sorted(class_count1.items()))\n",
    "    labels_cc2, values_cc2 = zip(*sorted(class_count2.items()))\n",
    "    \n",
    "    indexes = np.arange(len(labels_cc1))\n",
    "    width = 0.35 \n",
    "    \n",
    "    fig, ax = plt.subplots(figsize=(12, 6))\n",
    "    \n",
    "    rects1 = ax.bar(indexes, values_cc1, width)\n",
    "    rects2 = ax.bar(indexes + width, values_cc2, width)\n",
    "    \n",
    "    ax.set_xticks(indexes + width / 2)\n",
    "    ax.set_ylim([0, max(np.max(values_cc1), np.max(values_cc2)) + 150])\n",
    "    ax.set_xticklabels(labels_cc1)\n",
    "    \n",
    "    ax.set_xlabel(\"Class\", fontsize=15)\n",
    "    ax.set_ylabel(\"Count\", fontsize=15)\n",
    "    ax.set_title(title, fontsize=17)\n",
    "    \n",
    "    ax.legend((rects1[0], rects2[0]), (label1, label2), fontsize=15)\n",
    "    \n",
    "    def autolabel(rects):\n",
    "        \"\"\"\n",
    "        Attach a text label above each bar displaying its height\n",
    "        \"\"\"\n",
    "        for rect in rects:\n",
    "            height = rect.get_height()\n",
    "            ax.text(rect.get_x() + rect.get_width()/2., height + 15,\n",
    "                    '%d' % int(height),\n",
    "                    ha='center', va='bottom')\n",
    "\n",
    "    autolabel(rects1)\n",
    "    autolabel(rects2)\n",
    "    \n",
    "    plt.tight_layout()\n",
    "    \n",
    "plot_labels_tuple(class_count_ddf, class_count_wdf, \"DDF\", \"WDF\")"
   ]
  },
  {
   "cell_type": "markdown",
   "metadata": {},
   "source": [
    "from this setup, we keep classes: 16, 42, 62, 88, 92"
   ]
  },
  {
   "cell_type": "code",
   "execution_count": 81,
   "metadata": {},
   "outputs": [],
   "source": [
    "def get_reduced_stratify_dataset(dataset, labels, reduced_size, test_fraction):\n",
    "    if len(dataset) - reduced_size > 10:\n",
    "        _, dataset, _,  labels = train_test_split(dataset, labels,\n",
    "                                                    test_size=reduced_size,\n",
    "                                                    random_state=0,\n",
    "                                                    stratify=labels)\n",
    "    test_size = int(reduced_size * test_fraction)\n",
    "    return train_test_split(dataset, labels, test_size=test_size, random_state=0, stratify=labels)\n",
    "\n",
    "def generate_reduced_stratify_dataset(ddf_dtl, wdf_dtl, test_fraction, dataset_ratios, output_path):\n",
    "    for d_ratio in dataset_ratios:\n",
    "        for dtl_set, key in zip([ddf_dtl, wdf_dtl], [\"ddf\", \"wdf\"]):\n",
    "            d = dtl_set[0]\n",
    "            t = dtl_set[1]\n",
    "            l = dtl_set[2]\n",
    "            t_d = [(t, y) for t, y in zip(t, d)]\n",
    "            size = int(len(d) * d_ratio)\n",
    "            train_t_d, test_t_d, train_l, test_l = get_reduced_stratify_dataset(t_d, l, \n",
    "                                                                                size, \n",
    "                                                                                test_fraction)\n",
    "            train_t, train_d = zip(*train_t_d)\n",
    "            test_t, test_d = zip(*test_t_d)\n",
    "            skip = False\n",
    "            for type_i, data_i in zip([\"d\", \"t\", \"l\"],\n",
    "                                  [(train_d, test_d), (train_t, test_t), (train_l, test_l)]):\n",
    "                out_file_train = os.path.join(output_path, \"{}_train_{}_size{}.npy\".format(key, type_i, size))\n",
    "                out_file_test = os.path.join(output_path, \"{}_test_{}_size{}.npy\".format(key, type_i, size))\n",
    "                \n",
    "                if not os.path.exists(out_file_train):\n",
    "                    np.save(out_file_train, data_i[0])\n",
    "                    np.save(out_file_test, data_i[1])\n",
    "                else:\n",
    "                    skip = True\n",
    "                    break\n",
    "            if not skip:\n",
    "                print(\":::GEN %s dataset of size %d [%d train, %d test] on dir:\" % (key, size, len(train_d), \n",
    "                                                                                      len(test_d)))\n",
    "                print(\"::: \", output_path)\n",
    "            else:\n",
    "                print(\":::SKIP %s dataset of size %d\" % (key, size))"
   ]
  },
  {
   "cell_type": "code",
   "execution_count": 83,
   "metadata": {},
   "outputs": [
    {
     "name": "stdout",
     "output_type": "stream",
     "text": [
      ":::GEN ddf dataset of size 563 [338 train, 225 test] on dir:\n",
      ":::  D:\\tesis\\tesis\\notebooks\\..\\data\\plasticc_subsets\\ddf_wdf_split_min_detection\\3_min\n",
      ":::GEN wdf dataset of size 767 [461 train, 306 test] on dir:\n",
      ":::  D:\\tesis\\tesis\\notebooks\\..\\data\\plasticc_subsets\\ddf_wdf_split_min_detection\\3_min\n"
     ]
    }
   ],
   "source": [
    "def get_timeseries_detected(df, df_meta, passband=3, min_detections=3):\n",
    "    df1 = df[df[\"passband\"] == passband]\n",
    "    df1 = df1.sort_values(by=[\"object_id\", \"mjd\"])\n",
    "    df_grouped = df1.groupby(\"object_id\")\n",
    "    fluxes = df_grouped[\"flux\"].apply(list)\n",
    "    mjds = df_grouped[\"mjd\"].apply(list)\n",
    "    detections = df_grouped[\"detected\"].apply(list)\n",
    "    labels = []\n",
    "    dataset = []\n",
    "    times = []\n",
    "    total_detected = []\n",
    "    \n",
    "    for i in range(df_meta.shape[0]):\n",
    "        row = df_meta.iloc[i]\n",
    "        object_id = row.object_id\n",
    "        target = row.target\n",
    "        tot_detect = np.sum(detections.loc[object_id])\n",
    "        if tot_detect >= min_detections:\n",
    "            labels.append(target)\n",
    "            dataset.append(np.array(fluxes.loc[object_id]))\n",
    "            times.append(np.array(mjds.loc[object_id]))\n",
    "            total_detected.append(tot_detect)\n",
    "                \n",
    "    return dataset, times, labels, total_detected\n",
    "\n",
    "def get_stratify_dataset(dataset, labels, test_fraction):\n",
    "    test_size = int(len(dataset) * test_fraction)\n",
    "    return train_test_split(dataset, labels, test_size=test_size, random_state=0, stratify=labels)\n",
    "\n",
    "def gen_dataset_min_detection(df, df_meta, output_path, min_detect=3, passband=5):\n",
    "    df_meta_reduced2 = df_meta[df_meta[\"target\"].isin([16, 42, 62, 88, 92])]\n",
    "\n",
    "    wdf = 0\n",
    "    ddf = 1\n",
    "\n",
    "    for ddf in [1, 0]:\n",
    "        if ddf == 1:\n",
    "            key = \"ddf\"\n",
    "        else:\n",
    "            key = \"wdf\"\n",
    "        df_meta_reduced2_type = df_meta_reduced2[df_meta_reduced2[\"ddf\"] == ddf]\n",
    "        \n",
    "        d, t, l, _ = get_timeseries_detected(df, df_meta_reduced2_type, passband=passband, min_detections=min_detect)\n",
    "        t_d = [(t, y) for t, y in zip(t, d)]\n",
    "    \n",
    "        train_t_d, test_t_d, train_l, test_l = get_stratify_dataset(t_d, l, 0.4)\n",
    "    \n",
    "        train_t, train_d = zip(*train_t_d)\n",
    "        test_t, test_d = zip(*test_t_d)\n",
    "        skip = False\n",
    "        for type_i, data_i in zip([\"d\", \"t\", \"l\"],\n",
    "                                  [(train_d, test_d), (train_t, test_t), (train_l, test_l)]):\n",
    "            out_file_train = os.path.join(output_path, \"{}_train_{}.npy\".format(key, type_i))\n",
    "            out_file_test = os.path.join(output_path, \"{}_test_{}.npy\".format(key, type_i))\n",
    "                \n",
    "            if not os.path.exists(out_file_train):\n",
    "                np.save(out_file_train, data_i[0])\n",
    "                np.save(out_file_test, data_i[1])\n",
    "            else:\n",
    "                skip = True\n",
    "                break\n",
    "        if not skip:\n",
    "            print(\":::GEN %s dataset of size %d [%d train, %d test] on dir:\" % (key, len(d), len(train_d), \n",
    "                                                                                      len(test_d)))\n",
    "            print(\"::: \", output_path)\n",
    "        else:\n",
    "            print(\":::SKIP %s dataset of size %d\" % (key, len(d)))\n",
    "        \n",
    "output_path_min_detect = os.path.join(data_path, \"plasticc_subsets\", \"ddf_wdf_split_min_detection\", \"3_min\")\n",
    "gen_dataset_min_detection(df, df_meta, output_path_min_detect, min_detect=3, passband=5)"
   ]
  },
  {
   "cell_type": "markdown",
   "metadata": {},
   "source": [
    "## reduction: number of classes\n",
    "\n",
    "as a first preprocessing step, we will discard every class with less than a fixed number of time series in order to make a more simplest dataset for testing reducing the number of classes with small amount of train and test data"
   ]
  },
  {
   "cell_type": "code",
   "execution_count": 10,
   "metadata": {},
   "outputs": [
    {
     "name": "stdout",
     "output_type": "stream",
     "text": [
      "surviving classes are: [15 16 42 62 65 90]\n"
     ]
    },
    {
     "data": {
      "text/plain": [
       "6390"
      ]
     },
     "execution_count": 10,
     "metadata": {},
     "output_type": "execute_result"
    }
   ],
   "source": [
    "threshold = 400\n",
    "df_meta = df_meta.sort_values(by=[\"target\"])\n",
    "df_meta_filtered = df_meta[df_meta['target'].map(df_meta['target'].value_counts()) >= threshold]\n",
    "classes = np.unique(df_meta_filtered[\"target\"])\n",
    "print(\"surviving classes are:\", classes)\n",
    "df_meta_filtered.shape[0]"
   ]
  },
  {
   "cell_type": "markdown",
   "metadata": {},
   "source": [
    "we take time series fro the passband '3'"
   ]
  },
  {
   "cell_type": "code",
   "execution_count": 11,
   "metadata": {},
   "outputs": [],
   "source": [
    "passband_id = 3\n",
    "\n",
    "df = df[df[\"passband\"] == passband_id]\n",
    "df = df.sort_values(by=[\"object_id\", \"mjd\"])\n",
    "df_grouped = df.groupby(\"object_id\")\n",
    "fluxes = df_grouped[\"flux\"].apply(list)\n",
    "mjds = df_grouped[\"mjd\"].apply(list)\n",
    "labels = []\n",
    "dataset = []\n",
    "times = []\n",
    "for i in range(df_meta_filtered.shape[0]):\n",
    "    row = df_meta_filtered.iloc[i]\n",
    "    object_id = row.object_id\n",
    "    target = row.target\n",
    "    labels.append(target)\n",
    "    dataset.append(np.array(fluxes.loc[object_id]))\n",
    "    times.append(np.array(mjds.loc[object_id]))"
   ]
  },
  {
   "cell_type": "markdown",
   "metadata": {},
   "source": [
    "### Second reduction: train/test data size\n",
    "\n",
    "since at first we will use non-optimize solutions which will take lot of time to execute, we will start evaluating our experimentes on small sub-sets from the original dataset. From here, we will test three scenarios:\n",
    "\n",
    "1. constant train/test set ratio but increasing the number of timeseries\n",
    "2. constant test set size but increasing the size of train set\n",
    "3. constant train set size but increasing the size of the test set\n",
    "\n",
    "in particular here, for the 3rd scenario we will just have to fix the train set size and get a test size as big as posible, then on evaluation process we will take only sub-sets of this test set\n",
    "\n",
    "for the 2nd scenario, we will fix the test set size on 1/3 of the maximum train set size"
   ]
  },
  {
   "cell_type": "code",
   "execution_count": 12,
   "metadata": {},
   "outputs": [],
   "source": [
    "def get_small_dataset(dataset, times, labels, n1, n2):\n",
    "    # n: size of the small dataset\n",
    "    # c: use the 'c' classes most present in the original dataset\n",
    "    \n",
    "    data_time_tuple = [(t, y) for t, y in zip(times, dataset)]\n",
    "    \n",
    "    # first split, to get n1+n2 set size\n",
    "    if n1+n2 < len(labels) - np.unique(labels).size:\n",
    "    \n",
    "         _, data_time_tuple, _,  labels = train_test_split(data_time_tuple, labels,\n",
    "                                                    test_size=n1 + n2,\n",
    "                                                    random_state=0,\n",
    "                                                    stratify=labels)\n",
    "        \n",
    "    # second split, to get train n1 and test n2\n",
    "    data_time_train, data_time_test, labels_train, labels_test = train_test_split(data_time_tuple,\n",
    "                                                                                 labels,\n",
    "                                                                                 test_size=n2,\n",
    "                                                                                 random_state=0,\n",
    "                                                                                 stratify=labels)\n",
    "    d_train = []\n",
    "    d_test = []\n",
    "    t_train = []\n",
    "    t_test = []\n",
    "    for i in range(n1):\n",
    "        t, d = data_time_train[i]\n",
    "        d_train.append(d)\n",
    "        t_train.append(t)\n",
    "        \n",
    "    for i in range(n2):\n",
    "        t, d = data_time_test[i]\n",
    "        d_test.append(d)\n",
    "        t_test.append(t)\n",
    "\n",
    "    \n",
    "    return d_train, t_train, labels_train, d_test, t_test, labels_test\n",
    "\n",
    "\n",
    "def gen_sub_sets(output_path, dataset, times, labels, n1_arr, n2_arr, c):\n",
    "    for n1, n2 in zip(n1_arr, n2_arr):\n",
    "        d_train, t_train, l_train, d_test, t_test, l_test = get_small_dataset(dataset, times, labels,\n",
    "                                                                             n1, n2)\n",
    "        skip = False\n",
    "        for type_i, data_i in zip([\"d\", \"t\", \"l\"],\n",
    "                                  [(d_train, d_test), (t_train, t_test), (l_train, l_test)]):\n",
    "            out_file_train = os.path.join(output_path, \"train_{}_n{}_c{}.npy\".format(type_i, n1, c))\n",
    "            out_file_test = os.path.join(output_path, \"test_{}_n{}_c{}.npy\".format(type_i, n2, c))\n",
    "            if not os.path.exists(out_file_train):\n",
    "                np.save(out_file_train, data_i[0])\n",
    "                np.save(out_file_test, data_i[1])\n",
    "            else:\n",
    "                skip = True\n",
    "                break\n",
    "        if not skip:\n",
    "            print(\":::GEN [train, test, classes] = [%d, %d, %d] set on dir %s\" % (n1, n2, c, output_path))\n",
    "        else:\n",
    "            print(\":::SKIP [train, test, classes] = [%d, %d, %d]\" % (n1, n2, c))"
   ]
  },
  {
   "cell_type": "code",
   "execution_count": 15,
   "metadata": {},
   "outputs": [
    {
     "name": "stdout",
     "output_type": "stream",
     "text": [
      ":::GEN [train, test, classes] = [100, 25, 6] set on dir D:\\tesis\\tesis\\notebooks\\..\\data\\plasticc_subsets\\scenario1_ratio_2-8\n",
      ":::GEN [train, test, classes] = [500, 125, 6] set on dir D:\\tesis\\tesis\\notebooks\\..\\data\\plasticc_subsets\\scenario1_ratio_2-8\n",
      ":::GEN [train, test, classes] = [1000, 250, 6] set on dir D:\\tesis\\tesis\\notebooks\\..\\data\\plasticc_subsets\\scenario1_ratio_2-8\n",
      ":::GEN [train, test, classes] = [2000, 500, 6] set on dir D:\\tesis\\tesis\\notebooks\\..\\data\\plasticc_subsets\\scenario1_ratio_2-8\n",
      ":::GEN [train, test, classes] = [4000, 1000, 6] set on dir D:\\tesis\\tesis\\notebooks\\..\\data\\plasticc_subsets\\scenario1_ratio_2-8\n",
      ":::GEN [train, test, classes] = [5000, 1250, 6] set on dir D:\\tesis\\tesis\\notebooks\\..\\data\\plasticc_subsets\\scenario1_ratio_2-8\n"
     ]
    }
   ],
   "source": [
    "# 1st scenario\n",
    "ratio = 2/8 # 20% test, 80% train\n",
    "n1_arr = np.array([100, 500, 1000, 2000, 4000, 5000], dtype=int)\n",
    "n2_arr = (n1_arr * ratio).astype(int)\n",
    "output_path1 = os.path.join(data_path, \"plasticc_subsets\", \"scenario1_ratio_2-8\")\n",
    "gen_sub_sets(output_path1, dataset, times, labels, n1_arr, n2_arr, len(classes))"
   ]
  },
  {
   "cell_type": "code",
   "execution_count": 15,
   "metadata": {},
   "outputs": [],
   "source": [
    "#2nd scenario"
   ]
  },
  {
   "cell_type": "code",
   "execution_count": 16,
   "metadata": {},
   "outputs": [],
   "source": [
    "#3rd scenario"
   ]
  },
  {
   "cell_type": "code",
   "execution_count": null,
   "metadata": {},
   "outputs": [],
   "source": []
  }
 ],
 "metadata": {
  "kernelspec": {
   "display_name": "Python 3",
   "language": "python",
   "name": "python3"
  },
  "language_info": {
   "codemirror_mode": {
    "name": "ipython",
    "version": 3
   },
   "file_extension": ".py",
   "mimetype": "text/x-python",
   "name": "python",
   "nbconvert_exporter": "python",
   "pygments_lexer": "ipython3",
   "version": "3.7.3"
  }
 },
 "nbformat": 4,
 "nbformat_minor": 4
}
