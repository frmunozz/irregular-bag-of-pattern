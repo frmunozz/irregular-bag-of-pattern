{
 "cells": [
  {
   "cell_type": "code",
   "execution_count": 5,
   "metadata": {},
   "outputs": [],
   "source": [
    "from dtw import dtw, accelerated_dtw\n",
    "import numpy as np\n",
    "from scipy.spatial.distance import euclidean\n",
    "import matplotlib.pyplot as plt\n",
    "from collections import defaultdict"
   ]
  },
  {
   "cell_type": "code",
   "execution_count": 17,
   "metadata": {},
   "outputs": [],
   "source": [
    "def get_reference_points(dataset, w, r):\n",
    "    i = 0\n",
    "    r_points = []\n",
    "    while i < r:\n",
    "        uts_i = np.random.randint(len(dataset))\n",
    "        j = np.random.randint(len(dataset[uts_i]) - w + 1)\n",
    "        r_point = [uts_i, j]\n",
    "        if r_point not in r_points:\n",
    "            r_points.append(r_point)\n",
    "            i += 1\n",
    "    print(r_points)\n",
    "    return r_points\n",
    "\n",
    "def compute_distance(q,s):\n",
    "    \n",
    "    d, cost_matrix, acc_cost_matrix, path = accelerated_dtw(q, s, 'cosine')\n",
    "    return d\n",
    "    \n",
    "\n",
    "def lbs_build(dataset, w, r=10):\n",
    "    #cost: r\n",
    "    r_points = get_reference_points(dataset, w, r)\n",
    "    indexes = []\n",
    "    #cost: r*m*n*dist()\n",
    "    # in dtw use is: r*m*n*w^2\n",
    "    print(\"initialize\")\n",
    "    for r_i in range(r):\n",
    "        index_ri = []\n",
    "        for uts_i in range(len(dataset)):\n",
    "            print(\"%d/%d\" % (uts_i, len(dataset)), end=\"\\r\")\n",
    "            for j in range(len(dataset[uts_i]) - w + 1):\n",
    "                uts_i_r_point, j_r_point = r_points[r_i]\n",
    "                dist = compute_distance(dataset[uts_i_r_point][j_r_point:j_r_point + w], dataset[uts_i][j:j+w])\n",
    "                new_entry = [uts_i, j, dist]\n",
    "                index_ri.append(new_entry)\n",
    "        #cost: log\n",
    "        index_ri = sorted(index_ri, key=lambda x: x[2])\n",
    "        indexes.append(index_ri)\n",
    "    return indexes, r_points\n",
    "\n",
    "def get_index_candidates(index, dist_ri, e):\n",
    "    cand_ri = []\n",
    "    for i in range(len(index)):\n",
    "        uts_i, j, x = index[i]\n",
    "        if dist_ri - e <= x <= dist_ri + e:\n",
    "            cand_ri.append([uts_i, j])\n",
    "    return cand_ri\n",
    "\n",
    "def intersect_cand(candidates):\n",
    "    new_cand = candidates[0]\n",
    "#     print(\"ini len cand:\", len(new_cand))\n",
    "    for i in range(1, len(candidates)):\n",
    "#         print(\"next step cand len:\", len(candidates[i]))\n",
    "        new_cand = [x for x in new_cand if x in candidates[i]]\n",
    "#         print(\"intersect len cand:\", len(new_cand))\n",
    "#     print(new_cand)\n",
    "    return new_cand\n",
    "    \n",
    "\n",
    "def lbs_search(dataset, q, indexes, r_points, r, w, e):\n",
    "    candidates = []\n",
    "    for r_i in range(r):\n",
    "        uts_i_r_point, j_r_point = r_points[r_i]\n",
    "        dist_ri = compute_distance(q, dataset[uts_i_r_point][j_r_point:j_r_point + w])\n",
    "#         dist_ri = euclidean(q, dataset[uts_i_r_point][j_r_point:j_r_point + w])\n",
    "        cand_ri = get_index_candidates(indexes[r_i], dist_ri, e)\n",
    "        candidates.append(cand_ri)\n",
    "    candidates = intersect_cand(candidates)\n",
    "    e_nn = []\n",
    "    for c_i in range(len(candidates)):\n",
    "        uts_i, j = candidates[c_i]\n",
    "        dist = compute_distance(q, dataset[uts_i][j:j+w])\n",
    "#         dist = euclidean(q, dataset[uts_i][j:j+w])\n",
    "        if dist <= e:\n",
    "            print(dist)\n",
    "            e_nn.append(c_i)\n",
    "    return candidates, e_nn"
   ]
  },
  {
   "cell_type": "code",
   "execution_count": 7,
   "metadata": {},
   "outputs": [],
   "source": [
    "train_file = \"D:/tesis/UCRArchive_2018/FaceFour/FaceFour_TRAIN.tsv\"\n",
    "test_file = \"D:/tesis/UCRArchive_2018/FaceFour/FaceFour_TEST.tsv\""
   ]
  },
  {
   "cell_type": "code",
   "execution_count": 8,
   "metadata": {},
   "outputs": [],
   "source": [
    "file = open(train_file, 'r')\n",
    "lines = file.readlines()"
   ]
  },
  {
   "cell_type": "code",
   "execution_count": 9,
   "metadata": {},
   "outputs": [],
   "source": [
    "dataset = []\n",
    "labels = []\n",
    "for d in lines:\n",
    "    arr = d[:-1].split('\\t')\n",
    "    y = np.array(arr[1:], dtype=float)\n",
    "    labels.append(arr[0])\n",
    "    dataset.append(y)\n",
    "\n",
    "file_t = open(test_file, 'r')\n",
    "lines_t = file_t.readlines()\n",
    "test = []\n",
    "l_test = []\n",
    "for d in lines_t:\n",
    "    arr = d[:-1].split('\\t')\n",
    "    y = np.array(arr[1:], dtype=float)\n",
    "    test.append(y)\n",
    "    l_test.append(arr[0])"
   ]
  },
  {
   "cell_type": "code",
   "execution_count": 11,
   "metadata": {},
   "outputs": [
    {
     "name": "stdout",
     "output_type": "stream",
     "text": [
      "[[9, 0], [16, 0], [18, 0], [11, 0], [8, 0]]\n",
      "initialize\n",
      "Wall time: 24.4 s\n"
     ]
    }
   ],
   "source": [
    "%%time\n",
    "w = 350\n",
    "r = 5\n",
    "indexes, r_points = lbs_build(dataset, w, r=r)\n",
    "indexes"
   ]
  },
  {
   "cell_type": "code",
   "execution_count": 13,
   "metadata": {},
   "outputs": [
    {
     "name": "stdout",
     "output_type": "stream",
     "text": [
      "350\n"
     ]
    },
    {
     "data": {
      "text/plain": [
       "[<matplotlib.lines.Line2D at 0x18f37b359b0>]"
      ]
     },
     "execution_count": 13,
     "metadata": {},
     "output_type": "execute_result"
    },
    {
     "data": {
      "image/png": "[encoded data removed]",
      "text/plain": [
       "<Figure size 432x288 with 1 Axes>"
      ]
     },
     "metadata": {
      "needs_background": "light"
     },
     "output_type": "display_data"
    }
   ],
   "source": [
    "uts_i_test = 0\n",
    "j_test = 0\n",
    "q = test[uts_i_test][j_test:j_test + w]\n",
    "print(len(q))\n",
    "plt.plot(q)"
   ]
  },
  {
   "cell_type": "code",
   "execution_count": 18,
   "metadata": {},
   "outputs": [
    {
     "name": "stdout",
     "output_type": "stream",
     "text": [
      "18.0\n",
      "18.0\n",
      "14.0\n",
      "10.0\n",
      "10.0\n",
      "4.0\n",
      "4.0\n",
      "6.0\n",
      "2.0\n",
      "2.0\n",
      "[0, 1, 2, 3, 4, 5, 6, 7, 8, 9]\n",
      "Wall time: 3.05 s\n"
     ]
    }
   ],
   "source": [
    "%%time\n",
    "e = 20\n",
    "candidates, e_nn = lbs_search(dataset, q, indexes, r_points, r, w, e)\n",
    "print(e_nn)"
   ]
  },
  {
   "cell_type": "code",
   "execution_count": 181,
   "metadata": {},
   "outputs": [
    {
     "data": {
      "text/plain": [
       "[]"
      ]
     },
     "execution_count": 181,
     "metadata": {},
     "output_type": "execute_result"
    }
   ],
   "source": []
  },
  {
   "cell_type": "code",
   "execution_count": 19,
   "metadata": {},
   "outputs": [
    {
     "name": "stdout",
     "output_type": "stream",
     "text": [
      "subsequence match label: 2 , query subsequence label: 3\n"
     ]
    },
    {
     "data": {
      "image/png": "[encoded data removed]",
      "text/plain": [
       "<Figure size 432x288 with 1 Axes>"
      ]
     },
     "metadata": {
      "needs_background": "light"
     },
     "output_type": "display_data"
    }
   ],
   "source": [
    "\n",
    "uts_i, j = candidates[e_nn[9]]\n",
    "plt.plot(dataset[uts_i][j:j+w])\n",
    "plt.plot(q)\n",
    "print(\"subsequence match label:\", labels[uts_i], \", query subsequence label:\", l_test[uts_i_test])"
   ]
  },
  {
   "cell_type": "code",
   "execution_count": 20,
   "metadata": {},
   "outputs": [
    {
     "data": {
      "text/plain": [
       "defaultdict(int, {'1': 2, '3': 3, '2': 5})"
      ]
     },
     "execution_count": 20,
     "metadata": {},
     "output_type": "execute_result"
    }
   ],
   "source": [
    "pred = defaultdict(int)\n",
    "for i in e_nn:\n",
    "    uts_i, j = candidates[i]\n",
    "    pred[labels[uts_i]] += 1\n",
    "pred"
   ]
  },
  {
   "cell_type": "code",
   "execution_count": null,
   "metadata": {},
   "outputs": [],
   "source": []
  }
 ],
 "metadata": {
  "kernelspec": {
   "display_name": "Python 3",
   "language": "python",
   "name": "python3"
  },
  "language_info": {
   "codemirror_mode": {
    "name": "ipython",
    "version": 3
   },
   "file_extension": ".py",
   "mimetype": "text/x-python",
   "name": "python",
   "nbconvert_exporter": "python",
   "pygments_lexer": "ipython3",
   "version": "3.8.6"
  }
 },
 "nbformat": 4,
 "nbformat_minor": 4
}
