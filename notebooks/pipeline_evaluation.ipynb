{
 "cells": [
  {
   "cell_type": "code",
   "execution_count": 1,
   "metadata": {},
   "outputs": [],
   "source": [
    "import os\n",
    "import sys\n",
    "main_path = os.path.abspath(os.path.join(os.path.dirname(\"pipeline_evaluation.ipynb\"), \"..\"))\n",
    "sys.path.insert(0, main_path)\n",
    "import numpy as np\n",
    "from sklearn.model_selection import cross_val_score, GridSearchCV\n",
    "from sklearn.preprocessing import Normalizer, StandardScaler\n",
    "from sklearn.pipeline import Pipeline\n",
    "from sklearn.feature_selection import f_classif, VarianceThreshold\n",
    "from sklearn.metrics import confusion_matrix, balanced_accuracy_score\n",
    "\n",
    "import matplotlib.pyplot as plt\n",
    "import itertools\n",
    "from scipy import sparse"
   ]
  },
  {
   "cell_type": "code",
   "execution_count": 2,
   "metadata": {},
   "outputs": [],
   "source": [
    "from src.preprocesing import gen_dataset, gen_dataset_from_h5\n",
    "from src.feature_extraction.text import ParameterSelector, MPTextGenerator, TextGeneration, CountVectorizer\n",
    "from src.feature_extraction.vector_space_model import VSM\n",
    "from src.feature_extraction.centroid import CentroidClass\n",
    "from src.feature_selection.select_k_best import SelectKTop\n",
    "from src.decomposition import LSA, PCA\n",
    "from src.neighbors import KNeighborsClassifier\n",
    "from src.feature_extraction.window_slider import TwoWaysSlider"
   ]
  },
  {
   "cell_type": "code",
   "execution_count": 3,
   "metadata": {},
   "outputs": [
    {
     "name": "stderr",
     "output_type": "stream",
     "text": [
      "Object: 100%|████████████████████████████████████████████████████████████████████████████████| 675/675 [00:00<?, ?it/s]\n"
     ]
    }
   ],
   "source": [
    "d_train, l_train, meta_train = gen_dataset_from_h5(\"plasticc_augment_ddf_50\")\n",
    "classes = np.unique(l_train)\n",
    "bands = [\"lsstg\", \"lssti\", \"lsstr\", \"lsstu\", \"lssty\", \"lsstz\"]"
   ]
  },
  {
   "cell_type": "code",
   "execution_count": 4,
   "metadata": {},
   "outputs": [
    {
     "name": "stderr",
     "output_type": "stream",
     "text": [
      "Object: 100%|████████████████████████████████████████████████████████████████████████████████| 517/517 [00:00<?, ?it/s]\n"
     ]
    }
   ],
   "source": [
    "d_test, l_test, meta_test = gen_dataset_from_h5(\"plasticc_test_ddf_50\")"
   ]
  },
  {
   "cell_type": "code",
   "execution_count": 5,
   "metadata": {},
   "outputs": [],
   "source": [
    "def first_iter_pipeline(win, wl, doc_kwargs, class_based=False, classes=None, normalize='l2',\n",
    "                        use_idf=True, sublinear_tf=True):\n",
    "\n",
    "    pipe = []\n",
    "\n",
    "    # extract the word features from dataset as a bag-of-word\n",
    "    text_gen = TextGeneration(win=win, wl=wl, direct_bow=True, **doc_kwargs)\n",
    "    pipe.append((\"textgen\", text_gen))\n",
    "\n",
    "    # transform the words to a basic VSM called bag-of-word\n",
    "    # count_vec = CountVectorizer(alph_size=text_gen.alph_size,\n",
    "    #                             irr_handler=text_gen.irr_handler,\n",
    "    #                             word_length=text_gen.wl)\n",
    "    # pipe.append((\"count_vec\", count_vec))\n",
    "\n",
    "    # generate VSM following a fixed scheme\n",
    "    vsm = VSM(class_based=False, classes=classes, norm=normalize, use_idf=use_idf,\n",
    "              smooth_idf=True, sublinear_tf=sublinear_tf)\n",
    "    pipe.append((\"vsm\", vsm))\n",
    "\n",
    "    # we will do it without LSA\n",
    "\n",
    "    # if class based, set centroid\n",
    "    if class_based:\n",
    "        centroid = CentroidClass(classes=classes)\n",
    "        pipe.append((\"prototype\", centroid))\n",
    "\n",
    "    # set classifier as 1-NN\n",
    "    knn = KNeighborsClassifier(n_neighbors=1, classes=classes, useClasses=class_based)\n",
    "    pipe.append((\"knn\", knn))\n",
    "\n",
    "    pipeline = Pipeline(pipe)\n",
    "    return pipeline\n",
    "\n",
    "def second_iter_pipeline(win, wl, doc_kwargs, class_based=False, classes=None, normalize='l2',\n",
    "                        use_idf=True, sublinear_tf=True):\n",
    "\n",
    "    pipe = []\n",
    "\n",
    "    # extract the word features from dataset as a bag-of-word\n",
    "    text_gen = TextGeneration(win=win, wl=wl, direct_bow=True, **doc_kwargs)\n",
    "    pipe.append((\"textgen\", text_gen))\n",
    "\n",
    "    # transform the words to a basic VSM called bag-of-word\n",
    "    # count_vec = CountVectorizer(alph_size=text_gen.alph_size,\n",
    "    #                             irr_handler=text_gen.irr_handler,\n",
    "    #                             word_length=text_gen.wl)\n",
    "    # pipe.append((\"count_vec\", count_vec))\n",
    "\n",
    "    # generate VSM following a fixed scheme\n",
    "    vsm = VSM(class_based=False, classes=classes, norm=normalize, use_idf=use_idf,\n",
    "              smooth_idf=True, sublinear_tf=sublinear_tf)\n",
    "    pipe.append((\"vsm\", vsm))\n",
    "\n",
    "    # use LSA with fixed number of components\n",
    "    lsa = LSA(sc=6 * (5 ** wl), algorithm=\"randomized\", n_iter=5, random_state=None, tol=0.)\n",
    "    pipe.append((\"red\", lsa))\n",
    "\n",
    "    # if class based, set centroid\n",
    "    if class_based:\n",
    "        centroid = CentroidClass(classes=classes)\n",
    "        pipe.append((\"prototype\", centroid))\n",
    "\n",
    "    # set classifier as 1-NN\n",
    "    knn = KNeighborsClassifier(n_neighbors=1, classes=classes, useClasses=class_based)\n",
    "    pipe.append((\"knn\", knn))\n",
    "\n",
    "    pipeline = Pipeline(pipe)\n",
    "    return pipeline"
   ]
  },
  {
   "cell_type": "code",
   "execution_count": 6,
   "metadata": {},
   "outputs": [],
   "source": [
    "doc_kwargs = {\n",
    "        \"alphabet_size\": np.array([4]),\n",
    "        \"quantity\": np.array([\"mean\"]),\n",
    "        \"irr_handler\": \"#\",\n",
    "        \"mean_bp_dist\": \"normal\",\n",
    "        \"verbose\": True\n",
    "    }\n",
    "class_based = True  # options: True, False\n",
    "normalize = 'l2'  # options: None, l2\n",
    "use_idf = True  # options: True, False\n",
    "sublinear_tf = True  # options: True, False\n",
    "\n",
    "pipeline = second_iter_pipeline(80, 5, doc_kwargs, class_based=class_based, classes=classes, normalize=normalize,\n",
    "                                   use_idf=use_idf, sublinear_tf=sublinear_tf)"
   ]
  },
  {
   "cell_type": "code",
   "execution_count": 20,
   "metadata": {},
   "outputs": [
    {
     "name": "stderr",
     "output_type": "stream",
     "text": [
      "[win: 80.000000.3, wl: 5]: 100%|█████████████████████████████████████████████████████| 675/675 [00:16<00:00, 40.85it/s]\n"
     ]
    }
   ],
   "source": [
    "text_gen = TextGeneration(win=80, wl=5, direct_bow=True, **doc_kwargs)\n",
    "x = text_gen.transform(d_train)"
   ]
  },
  {
   "cell_type": "code",
   "execution_count": 21,
   "metadata": {},
   "outputs": [
    {
     "name": "stdout",
     "output_type": "stream",
     "text": [
      "Wall time: 0 ns\n"
     ]
    }
   ],
   "source": [
    "%time\n",
    "vsm = VSM(class_based=False, classes=classes, norm=normalize, use_idf=use_idf,\n",
    "              smooth_idf=True, sublinear_tf=sublinear_tf)\n",
    "x2 = vsm.fit_transform(x, y=l_train)"
   ]
  },
  {
   "cell_type": "code",
   "execution_count": 22,
   "metadata": {},
   "outputs": [
    {
     "name": "stdout",
     "output_type": "stream",
     "text": [
      "Wall time: 0 ns\n",
      "(675, 18750)\n",
      "(675, 400)\n"
     ]
    }
   ],
   "source": [
    "%time\n",
    "lsa = LSA(sc=401, algorithm=\"randomized\", n_iter=5, random_state=None, tol=0.)\n",
    "print(x2.shape)\n",
    "x3 = lsa.fit_transform(x2, y=l_train)\n",
    "print(x3.shape)"
   ]
  },
  {
   "cell_type": "code",
   "execution_count": 23,
   "metadata": {},
   "outputs": [
    {
     "name": "stdout",
     "output_type": "stream",
     "text": [
      "(14, 400)\n",
      "Wall time: 430 ms\n"
     ]
    }
   ],
   "source": [
    "%%time\n",
    "centroid = CentroidClass(classes=classes)\n",
    "x4 = centroid.fit_transform(x3, y=l_train)\n",
    "print(x4.shape)"
   ]
  },
  {
   "cell_type": "code",
   "execution_count": 24,
   "metadata": {},
   "outputs": [
    {
     "name": "stdout",
     "output_type": "stream",
     "text": [
      "Wall time: 0 ns\n"
     ]
    },
    {
     "data": {
      "text/plain": [
       "KNeighborsClassifier(classes=array([ 6, 15, 16, 42, 52, 53, 62, 64, 65, 67, 88, 90, 92, 95]),\n",
       "                     useClasses=True)"
      ]
     },
     "execution_count": 24,
     "metadata": {},
     "output_type": "execute_result"
    }
   ],
   "source": [
    "%time\n",
    "knn = KNeighborsClassifier(n_neighbors=1, classes=classes, useClasses=class_based)\n",
    "knn.fit(x4, classes)"
   ]
  },
  {
   "cell_type": "code",
   "execution_count": 25,
   "metadata": {},
   "outputs": [
    {
     "name": "stderr",
     "output_type": "stream",
     "text": [
      "[win: 80.000000.3, wl: 5]:   0%|▏                                                      | 2/517 [00:00<00:25, 19.83it/s]"
     ]
    },
    {
     "name": "stdout",
     "output_type": "stream",
     "text": [
      "Wall time: 0 ns\n"
     ]
    },
    {
     "name": "stderr",
     "output_type": "stream",
     "text": [
      "[win: 80.000000.3, wl: 5]: 100%|█████████████████████████████████████████████████████| 517/517 [00:19<00:00, 26.77it/s]\n"
     ]
    },
    {
     "name": "stdout",
     "output_type": "stream",
     "text": [
      "0.3238095238095239\n"
     ]
    }
   ],
   "source": [
    "%time\n",
    "x_ = text_gen.transform(d_test)\n",
    "x2_ = vsm.transform(x_)\n",
    "x3_ = lsa.transform(x2_)\n",
    "pred = knn.predict(x3_)\n",
    "print(balanced_accuracy_score(l_test, pred))"
   ]
  },
  {
   "cell_type": "code",
   "execution_count": 69,
   "metadata": {},
   "outputs": [
    {
     "name": "stdout",
     "output_type": "stream",
     "text": [
      "Wall time: 52.1 s\n"
     ]
    },
    {
     "data": {
      "text/plain": [
       "Pipeline(steps=[('textgen', TextGeneration(verbose=False, win=80, wl=5)),\n",
       "                ('vsm',\n",
       "                 VSM(classes=array([ 6, 15, 16, 42, 52, 53, 62, 64, 65, 67, 88, 90, 92, 95]),\n",
       "                     sublinear_tf=True)),\n",
       "                ('red', LSA(sc=18750)),\n",
       "                ('prototype',\n",
       "                 CentroidClass(classes=array([ 6, 15, 16, 42, 52, 53, 62, 64, 65, 67, 88, 90, 92, 95]))),\n",
       "                ('knn',\n",
       "                 KNeighborsClassifier(classes=array([ 6, 15, 16, 42, 52, 53, 62, 64, 65, 67, 88, 90, 92, 95]),\n",
       "                                      useClasses=True))])"
      ]
     },
     "execution_count": 69,
     "metadata": {},
     "output_type": "execute_result"
    }
   ],
   "source": [
    "%%time\n",
    "pipeline.fit(d_train, l_train)"
   ]
  },
  {
   "cell_type": "code",
   "execution_count": 45,
   "metadata": {},
   "outputs": [
    {
     "name": "stdout",
     "output_type": "stream",
     "text": [
      "Wall time: 19.6 s\n"
     ]
    },
    {
     "data": {
      "text/plain": [
       "0.2978723404255319"
      ]
     },
     "execution_count": 45,
     "metadata": {},
     "output_type": "execute_result"
    }
   ],
   "source": [
    "%%time\n",
    "pipeline.score(d_test, l_test)"
   ]
  },
  {
   "cell_type": "code",
   "execution_count": 70,
   "metadata": {},
   "outputs": [
    {
     "name": "stdout",
     "output_type": "stream",
     "text": [
      "Wall time: 19.1 s\n"
     ]
    }
   ],
   "source": [
    "%%time\n",
    "l_pred = pipeline.predict(d_test)"
   ]
  },
  {
   "cell_type": "code",
   "execution_count": 7,
   "metadata": {},
   "outputs": [
    {
     "data": {
      "application/vnd.jupyter.widget-view+json": {
       "model_id": "3c2617753769433fbbd9211c0316d5b2",
       "version_major": 2,
       "version_minor": 0
      },
      "text/plain": [
       "HBox(children=(HTML(value='[win: 80.000, wl: 5]'), FloatProgress(value=0.0, max=675.0), HTML(value='')))"
      ]
     },
     "metadata": {},
     "output_type": "display_data"
    },
    {
     "name": "stdout",
     "output_type": "stream",
     "text": [
      "\n"
     ]
    }
   ],
   "source": [
    "text_gen = MPTextGenerator(bands=bands, n_jobs=6, direct_bow=True, win=80, wl=5, **doc_kwargs)\n",
    "x = text_gen.fit_transform(d_train)"
   ]
  },
  {
   "cell_type": "code",
   "execution_count": 8,
   "metadata": {},
   "outputs": [
    {
     "data": {
      "text/plain": [
       "<675x18750 sparse matrix of type '<class 'numpy.int32'>'\n",
       "\twith 26139 stored elements in Compressed Sparse Row format>"
      ]
     },
     "execution_count": 8,
     "metadata": {},
     "output_type": "execute_result"
    }
   ],
   "source": [
    "x"
   ]
  },
  {
   "cell_type": "code",
   "execution_count": 12,
   "metadata": {},
   "outputs": [],
   "source": [
    "def cv_score(d_train, l_train, win, wl, doc_kwargs,\n",
    "             class_based=False, classes=None, normalize='l2',\n",
    "             use_idf=True, sublinear_tf=True):\n",
    "    text_gen = MPTextGenerator(bands=bands, n_jobs=6, win=win, wl=wl, direct_bow=True, **doc_kwargs)\n",
    "    x = text_gen.fit_transform(d_train)\n",
    "    \n",
    "    vsm = VSM(class_based=False, classes=classes, norm=normalize, use_idf=use_idf,\n",
    "              smooth_idf=True, sublinear_tf=sublinear_tf)\n",
    "    lsa = LSA(sc=401, algorithm=\"randomized\", n_iter=5, random_state=None, tol=0.)\n",
    "    centroid = CentroidClass(classes=classes)\n",
    "    knn = KNeighborsClassifier(n_neighbors=1, classes=classes, useClasses=class_based)\n",
    "    pipeline = Pipeline([(\"vsm\", vsm), (\"lsa\", lsa), (\"centroid\", centroid), (\"knn\", knn)])\n",
    "\n",
    "    scores = cross_val_score(pipeline, x, y=l_train, cv=10, n_jobs=6, verbose=2)\n",
    "    print(\"===> MEAN score [win={}, wl={}]:\".format(win, wl), np.mean(scores), \"+-\", np.std(scores))\n",
    "    return scores, pipeline, text_gen"
   ]
  },
  {
   "cell_type": "code",
   "execution_count": 13,
   "metadata": {},
   "outputs": [
    {
     "data": {
      "application/vnd.jupyter.widget-view+json": {
       "model_id": "fc10f0daafc249ef9104a63a44093a22",
       "version_major": 2,
       "version_minor": 0
      },
      "text/plain": [
       "HBox(children=(HTML(value='[win: 80.000, wl: 5]'), FloatProgress(value=0.0, max=675.0), HTML(value='')))"
      ]
     },
     "metadata": {},
     "output_type": "display_data"
    },
    {
     "name": "stdout",
     "output_type": "stream",
     "text": [
      "\n"
     ]
    },
    {
     "name": "stderr",
     "output_type": "stream",
     "text": [
      "[Parallel(n_jobs=6)]: Using backend LokyBackend with 6 concurrent workers.\n",
      "[Parallel(n_jobs=6)]: Done   5 out of  10 | elapsed:    7.2s remaining:    7.2s\n"
     ]
    },
    {
     "name": "stdout",
     "output_type": "stream",
     "text": [
      "===> MEAN score [win=80, wl=5]: 0.3807945566286216 +- 0.024634738302733307\n"
     ]
    },
    {
     "name": "stderr",
     "output_type": "stream",
     "text": [
      "[Parallel(n_jobs=6)]: Done  10 out of  10 | elapsed:   11.6s finished\n"
     ]
    }
   ],
   "source": [
    "scores, pipeline, text_gen = cv_score(d_train, l_train, 80, 5, doc_kwargs, \n",
    "                                      class_based=class_based, classes=classes, \n",
    "                                      normalize=normalize, use_idf=use_idf, \n",
    "                                      sublinear_tf=sublinear_tf)"
   ]
  },
  {
   "cell_type": "code",
   "execution_count": 17,
   "metadata": {},
   "outputs": [
    {
     "data": {
      "application/vnd.jupyter.widget-view+json": {
       "model_id": "bb7e391ba5cb4e9d8fd6876d4a261232",
       "version_major": 2,
       "version_minor": 0
      },
      "text/plain": [
       "HBox(children=(HTML(value='[win: 80.000, wl: 5]'), FloatProgress(value=0.0, max=675.0), HTML(value='')))"
      ]
     },
     "metadata": {},
     "output_type": "display_data"
    },
    {
     "name": "stdout",
     "output_type": "stream",
     "text": [
      "\n"
     ]
    }
   ],
   "source": [
    "x = text_gen.fit_transform(d_train)"
   ]
  },
  {
   "cell_type": "code",
   "execution_count": 22,
   "metadata": {},
   "outputs": [
    {
     "data": {
      "text/plain": [
       "0"
      ]
     },
     "execution_count": 22,
     "metadata": {},
     "output_type": "execute_result"
    }
   ],
   "source": [
    "len(np.where(np.sum(x, axis=1) == 0)[0])"
   ]
  },
  {
   "cell_type": "code",
   "execution_count": 51,
   "metadata": {},
   "outputs": [],
   "source": [
    "def plot_confusion_matrix(cm, classes,\n",
    "                          normalize=False,\n",
    "                          title='Confusion matrix',\n",
    "                          cmap=\"YlGnBu\"):\n",
    "    \"\"\"\n",
    "    This function prints and plots the confusion matrix.\n",
    "    Normalization can be applied by setting `normalize=True`.\n",
    "    \"\"\"\n",
    "    plt.imshow(cm, interpolation='nearest', cmap=cmap)\n",
    "    plt.title(title, fontsize=17)\n",
    "    plt.colorbar()\n",
    "    tick_marks = np.arange(len(classes))\n",
    "    plt.xticks(tick_marks, classes, rotation=45, ha=\"right\")\n",
    "    plt.yticks(tick_marks, classes)\n",
    "\n",
    "    if normalize:\n",
    "        cm = np.round(cm.astype('float') / cm.sum(axis=1)[:, np.newaxis], 2)\n",
    "        print(\"Normalized confusion matrix\")\n",
    "    else:\n",
    "        print('Confusion matrix, without normalization')\n",
    "\n",
    "#     print(cm)\n",
    "\n",
    "    thresh = cm.max() / 2.\n",
    "    for i, j in itertools.product(range(cm.shape[0]), range(cm.shape[1])):\n",
    "        plt.text(j, i, cm[i, j],\n",
    "                 horizontalalignment=\"center\",\n",
    "                 color=\"white\" if cm[i, j] > thresh else \"black\",\n",
    "                 fontsize=14)\n",
    "\n",
    "    plt.ylabel('True label', fontsize=17)\n",
    "    plt.xlabel('Predicted label', fontsize=17)\n",
    "    plt.xticks(fontsize=15)\n",
    "    plt.yticks(fontsize=15)\n",
    "    plt.tight_layout()"
   ]
  },
  {
   "cell_type": "code",
   "execution_count": 56,
   "metadata": {},
   "outputs": [
    {
     "name": "stdout",
     "output_type": "stream",
     "text": [
      "Confusion matrix, without normalization\n"
     ]
    },
    {
     "data": {
      "image/png": "[encoded data removed]",
      "text/plain": [
       "<Figure size 720x576 with 2 Axes>"
      ]
     },
     "metadata": {
      "needs_background": "light"
     },
     "output_type": "display_data"
    }
   ],
   "source": [
    "plot_labels_extra_short = {\n",
    "    6: 'Single $\\mu$-lens',\n",
    "    15: 'TDE',\n",
    "    16: 'Eclip. Binary',\n",
    "    42: 'SNII',\n",
    "    52: 'SNIax',\n",
    "    53: 'Mira',\n",
    "    62: 'SNIbc',\n",
    "    64: 'Kilonova',\n",
    "    65: 'M-dwarf',\n",
    "    67: 'SNIa-91bg',\n",
    "    88: 'AGN',\n",
    "    90: 'SNIa',\n",
    "    92: 'RR lyrae',\n",
    "    95: 'SLSN-I',\n",
    "    99: 'Unknown',\n",
    "}\n",
    "\n",
    "reorder = [6, 15, 65, 88, 42, 52, 62, 64, 67, 90, 95, 16, 53, 92]\n",
    "classes_names = [plot_labels_extra_short[x] for x in reorder]\n",
    "cnf_matrix2 = confusion_matrix(l_test, l_pred, labels=reorder)\n",
    "fig = plt.figure(figsize=(10, 8))\n",
    "plot_confusion_matrix(cnf_matrix2, classes=classes_names, normalize=False,\n",
    "                          title='Conf. matrix DTW-raw augment [b_acc:%.3f]' % balanced_accuracy_score(l_test, l_pred))"
   ]
  },
  {
   "cell_type": "code",
   "execution_count": 75,
   "metadata": {},
   "outputs": [
    {
     "data": {
      "image/png": "[encoded data removed]",
      "text/plain": [
       "<Figure size 432x288 with 1 Axes>"
      ]
     },
     "metadata": {
      "needs_background": "light"
     },
     "output_type": "display_data"
    }
   ],
   "source": [
    "plt.plot(np.cumsum(pipeline['red'].explained_variance_ratio_))\n",
    "plt.axhline(0.95)\n",
    "plt.axvline(420)\n",
    "plt.xlabel('number of components')\n",
    "plt.ylabel('cumulative explained variance');"
   ]
  },
  {
   "cell_type": "code",
   "execution_count": null,
   "metadata": {},
   "outputs": [],
   "source": []
  }
 ],
 "metadata": {
  "kernelspec": {
   "display_name": "Python 3",
   "language": "python",
   "name": "python3"
  },
  "language_info": {
   "codemirror_mode": {
    "name": "ipython",
    "version": 3
   },
   "file_extension": ".py",
   "mimetype": "text/x-python",
   "name": "python",
   "nbconvert_exporter": "python",
   "pygments_lexer": "ipython3",
   "version": "3.7.9"
  }
 },
 "nbformat": 4,
 "nbformat_minor": 4
}
