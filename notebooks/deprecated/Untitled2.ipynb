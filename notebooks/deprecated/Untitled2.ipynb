{
 "cells": [
  {
   "cell_type": "code",
   "execution_count": 1,
   "metadata": {},
   "outputs": [],
   "source": [
    "import sys\n",
    "import os\n",
    "sys.path.insert(0, os.path.abspath(os.path.join(os.path.dirname(\"./Untitled.ipynb\"), '..')))\n",
    "import numpy as np\n",
    "from src.bopf.bopf import BagOfPatternFeature"
   ]
  },
  {
   "cell_type": "code",
   "execution_count": 2,
   "metadata": {},
   "outputs": [],
   "source": [
    "bopf = BagOfPatternFeature()"
   ]
  },
  {
   "cell_type": "code",
   "execution_count": 3,
   "metadata": {},
   "outputs": [
    {
     "name": "stdout",
     "output_type": "stream",
     "text": [
      "Wall time: 9.76 ms\n"
     ]
    }
   ],
   "source": [
    "%%time\n",
    "# path windows\n",
    "path = \"D:/tesis/UCRArchive_2018/Car/Car_TRAIN.tsv\"\n",
    "\n",
    "bopf.load_dataset(path, fmt=\"file\")"
   ]
  },
  {
   "cell_type": "code",
   "execution_count": 4,
   "metadata": {},
   "outputs": [
    {
     "name": "stdout",
     "output_type": "stream",
     "text": [
      "Wall time: 49.7 ms\n"
     ]
    }
   ],
   "source": [
    "%%time\n",
    "bopf.cumsum()"
   ]
  },
  {
   "cell_type": "code",
   "execution_count": 5,
   "metadata": {},
   "outputs": [
    {
     "name": "stdout",
     "output_type": "stream",
     "text": [
      "TOTAL DE SEGMENTOS VACIOS:  0\n",
      "Wall time: 1.12 s\n"
     ]
    }
   ],
   "source": [
    "%%time\n",
    "bopf.bop(5, 0.25)"
   ]
  },
  {
   "cell_type": "code",
   "execution_count": 6,
   "metadata": {},
   "outputs": [
    {
     "name": "stdout",
     "output_type": "stream",
     "text": [
      "Wall time: 0 ns\n"
     ]
    }
   ],
   "source": [
    "%%time\n",
    "bopf.adjust_label_set()"
   ]
  },
  {
   "cell_type": "code",
   "execution_count": 7,
   "metadata": {},
   "outputs": [
    {
     "name": "stdout",
     "output_type": "stream",
     "text": [
      "Wall time: 557 ms\n"
     ]
    }
   ],
   "source": [
    "%%time\n",
    "bopf.anova()"
   ]
  },
  {
   "cell_type": "code",
   "execution_count": 8,
   "metadata": {},
   "outputs": [
    {
     "name": "stdout",
     "output_type": "stream",
     "text": [
      "Wall time: 977 µs\n"
     ]
    }
   ],
   "source": [
    "%%time\n",
    "bopf.anova_sort()"
   ]
  },
  {
   "cell_type": "code",
   "execution_count": 9,
   "metadata": {},
   "outputs": [
    {
     "name": "stdout",
     "output_type": "stream",
     "text": [
      "0/4096\r",
      "100/4096\r",
      "200/4096\r",
      "300/4096\r",
      "400/4096\r",
      "500/4096\r",
      "600/4096\r",
      "700/4096\r",
      "800/4096\r",
      "900/4096\r",
      "1000/4096\r",
      "1100/4096\r",
      "1200/4096\r",
      "1300/4096\r",
      "1400/4096\r",
      "1500/4096\r",
      "1600/4096\r",
      "1700/4096\r",
      "1800/4096\r",
      "1900/4096\r",
      "2000/4096\r",
      "2100/4096\r",
      "2200/4096\r",
      "2300/4096\r",
      "2400/4096\r",
      "2500/4096\r",
      "2600/4096\r",
      "2700/4096\r",
      "2800/4096\r",
      "2900/4096\r",
      "3000/4096\r",
      "3100/4096\r",
      "3200/4096\r",
      "3300/4096\r",
      "3400/4096\r",
      "3500/4096\r",
      "3600/4096\r",
      "3700/4096\r",
      "3800/4096\r",
      "3900/4096\r",
      "4000/4096\r",
      "Wall time: 187 ms\n"
     ]
    }
   ],
   "source": [
    "%%time\n",
    "bopf.sort_trim_arr()"
   ]
  },
  {
   "cell_type": "code",
   "execution_count": 10,
   "metadata": {},
   "outputs": [
    {
     "name": "stdout",
     "output_type": "stream",
     "text": [
      "0/191\r",
      "1/191\r",
      "2/191\r",
      "3/191\r",
      "4/191\r",
      "5/191\r",
      "6/191\r",
      "7/191\r",
      "8/191\r",
      "9/191\r",
      "10/191\r",
      "11/191\r",
      "12/191\r",
      "13/191\r",
      "14/191\r",
      "15/191\r",
      "16/191\r",
      "17/191\r",
      "18/191\r",
      "19/191\r",
      "20/191\r",
      "21/191\r",
      "22/191\r",
      "23/191\r",
      "24/191\r",
      "25/191\r",
      "26/191\r",
      "27/191\r",
      "28/191\r",
      "29/191\r",
      "30/191\r",
      "31/191\r",
      "32/191\r",
      "33/191\r",
      "34/191\r",
      "35/191\r",
      "36/191\r",
      "37/191\r",
      "38/191\r",
      "39/191\r",
      "40/191\r",
      "41/191\r",
      "42/191\r",
      "43/191\r",
      "44/191\r",
      "45/191\r",
      "46/191\r",
      "47/191\r",
      "48/191\r",
      "49/191\r",
      "50/191\r",
      "51/191\r",
      "52/191\r",
      "53/191\r",
      "54/191\r",
      "55/191\r",
      "56/191\r",
      "57/191\r",
      "58/191\r",
      "59/191\r",
      "60/191\r",
      "61/191\r",
      "62/191\r",
      "63/191\r",
      "64/191\r",
      "65/191\r",
      "66/191\r",
      "67/191\r",
      "68/191\r",
      "69/191\r",
      "70/191\r",
      "71/191\r",
      "72/191\r",
      "73/191\r",
      "74/191\r",
      "75/191\r",
      "76/191\r",
      "77/191\r",
      "78/191\r",
      "79/191\r",
      "80/191\r",
      "81/191\r",
      "82/191\r",
      "83/191\r",
      "84/191\r",
      "85/191\r",
      "86/191\r",
      "87/191\r",
      "88/191\r",
      "89/191\r",
      "90/191\r",
      "91/191\r",
      "92/191\r",
      "93/191\r",
      "94/191\r",
      "95/191\r",
      "96/191\r",
      "97/191\r",
      "98/191\r",
      "99/191\r",
      "100/191\r",
      "101/191\r",
      "102/191\r",
      "103/191\r",
      "104/191\r",
      "105/191\r",
      "106/191\r",
      "107/191\r",
      "108/191\r",
      "109/191\r",
      "110/191\r",
      "111/191\r",
      "112/191\r",
      "113/191\r",
      "114/191\r",
      "115/191\r",
      "116/191\r",
      "117/191\r",
      "118/191\r",
      "119/191\r",
      "120/191\r",
      "121/191\r",
      "122/191\r",
      "123/191\r",
      "124/191\r",
      "125/191\r",
      "126/191\r",
      "127/191\r",
      "128/191\r",
      "129/191\r",
      "130/191\r",
      "131/191\r",
      "132/191\r",
      "133/191\r",
      "134/191\r",
      "135/191\r",
      "136/191\r",
      "137/191\r",
      "138/191\r",
      "139/191\r",
      "140/191\r",
      "141/191\r",
      "142/191\r",
      "143/191\r",
      "144/191\r",
      "145/191\r",
      "146/191\r",
      "147/191\r",
      "148/191\r",
      "149/191\r",
      "150/191\r",
      "151/191\r",
      "152/191\r",
      "153/191\r",
      "154/191\r",
      "155/191\r",
      "156/191\r",
      "157/191\r",
      "158/191\r",
      "159/191\r",
      "160/191\r",
      "161/191\r",
      "162/191\r",
      "163/191\r",
      "164/191\r",
      "165/191\r",
      "166/191\r",
      "167/191\r",
      "168/191\r",
      "169/191\r",
      "170/191\r",
      "171/191\r",
      "172/191\r",
      "173/191\r",
      "174/191\r",
      "175/191\r",
      "176/191\r",
      "177/191\r",
      "178/191\r",
      "179/191\r",
      "180/191\r",
      "181/191\r",
      "182/191\r",
      "183/191\r",
      "184/191\r",
      "185/191\r",
      "186/191\r",
      "187/191\r",
      "188/191\r",
      "189/191\r",
      "190/191\r",
      "Wall time: 98.6 ms\n"
     ]
    }
   ],
   "source": [
    "%%time\n",
    "bopf.crossVL()"
   ]
  },
  {
   "cell_type": "code",
   "execution_count": 11,
   "metadata": {},
   "outputs": [
    {
     "data": {
      "text/plain": [
       "(20, 0.85)"
      ]
     },
     "execution_count": 11,
     "metadata": {},
     "output_type": "execute_result"
    }
   ],
   "source": [
    "bopf.best_idx, bopf.best_score"
   ]
  },
  {
   "cell_type": "code",
   "execution_count": 12,
   "metadata": {},
   "outputs": [
    {
     "name": "stdout",
     "output_type": "stream",
     "text": [
      "Wall time: 199 ms\n"
     ]
    }
   ],
   "source": [
    "%%time\n",
    "crossL2 = bopf.crossVL2()"
   ]
  },
  {
   "cell_type": "code",
   "execution_count": 13,
   "metadata": {},
   "outputs": [
    {
     "data": {
      "text/plain": [
       "(22, 0.6333333333333333)"
      ]
     },
     "execution_count": 13,
     "metadata": {},
     "output_type": "execute_result"
    }
   ],
   "source": [
    "bopf.best2_idx, bopf.best2_score"
   ]
  },
  {
   "cell_type": "code",
   "execution_count": 14,
   "metadata": {},
   "outputs": [],
   "source": [
    "bop_feature = bopf.crossL\n",
    "bop_fea_num = bopf.best_idx\n",
    "cv_acc = bopf.best_score\n",
    "bop_feature_index = bopf.sort_index[:bop_fea_num]\n",
    "bop_feature2 = bopf.crossL2\n",
    "bop_fea_num2 = bopf.best2_idx\n",
    "cv_acc2 = bopf.best2_score\n",
    "bop_feature_index2 = bopf.sort_index[:bop_fea_num2]"
   ]
  },
  {
   "cell_type": "code",
   "execution_count": 15,
   "metadata": {},
   "outputs": [],
   "source": [
    "bopf_test = BagOfPatternFeature()\n",
    "path_test = \"D:/tesis/UCRArchive_2018/Car/Car_TEST.tsv\"\n",
    "bopf_test.load_dataset(path_test, fmt=\"file\")"
   ]
  },
  {
   "cell_type": "code",
   "execution_count": 16,
   "metadata": {},
   "outputs": [],
   "source": [
    "bopf_test.cumsum()"
   ]
  },
  {
   "cell_type": "code",
   "execution_count": 17,
   "metadata": {},
   "outputs": [
    {
     "name": "stdout",
     "output_type": "stream",
     "text": [
      "TOTAL DE SEGMENTOS VACIOS:  0\n",
      "Wall time: 1.26 s\n"
     ]
    }
   ],
   "source": [
    "%%time\n",
    "bopf_test.bop(7, 0.25)"
   ]
  },
  {
   "cell_type": "code",
   "execution_count": 18,
   "metadata": {},
   "outputs": [],
   "source": [
    "def sort_trim_arr(train_bop, sort_index, m, n):\n",
    "    train_bop_sort = np.zeros((n+1) * m)\n",
    "    idx = 0\n",
    "    for j in range(n):\n",
    "        k = sort_index[j]\n",
    "        for i in range(m):\n",
    "            train_bop_sort[idx] = train_bop[i + k * m]\n",
    "            idx  += 1\n",
    "    return train_bop_sort"
   ]
  },
  {
   "cell_type": "code",
   "execution_count": 19,
   "metadata": {},
   "outputs": [],
   "source": [
    "test_bop_sort = sort_trim_arr(bopf_test.train_bop, bop_feature_index, bopf_test.m, bop_fea_num)"
   ]
  },
  {
   "cell_type": "code",
   "execution_count": 20,
   "metadata": {},
   "outputs": [
    {
     "data": {
      "text/plain": [
       "1260"
      ]
     },
     "execution_count": 20,
     "metadata": {},
     "output_type": "execute_result"
    }
   ],
   "source": [
    "test_bop_sort.size"
   ]
  },
  {
   "cell_type": "code",
   "execution_count": 21,
   "metadata": {},
   "outputs": [],
   "source": [
    "def classify(test_bop, centroids, tlabel, mt, c, fea_num):\n",
    "    res = np.zeros(mt, dtype=int)\n",
    "    for i in range(mt):\n",
    "        rmin = np.inf\n",
    "        label = -1\n",
    "        for j in range(c):\n",
    "            r = 0.0\n",
    "            pm = 0\n",
    "            pv = 0\n",
    "            for k in range(fea_num):\n",
    "                pm += test_bop[i + (k)*mt]\n",
    "                pv += centroids[j + (k)*c]\n",
    "                d = pm - pv\n",
    "                r += d*d\n",
    "            \n",
    "#             pm = test_bop[i]\n",
    "#             pv = centroids[j]\n",
    "            \n",
    "            \n",
    "#             for k in range(fea_num):\n",
    "#                 d = pm - pv\n",
    "#                 pm += test_bop[i + (k+1)*mt]\n",
    "#                 pv += centroids[j+ (k+1)*c]\n",
    "#                 r += d*d\n",
    "            if r < rmin:\n",
    "                rmin = r\n",
    "                label = tlabel[j]\n",
    "        res[i] = label\n",
    "\n",
    "    return res\n",
    "\n",
    "def classify2(test_bop, tf_idfs, tlabel, mt, c, fea_num):\n",
    "    res = np.zeros(mt, dtype=int)\n",
    "    for i in range(mt):\n",
    "        rmin = np.inf\n",
    "        label = -1\n",
    "        for j in range(c):\n",
    "            r1 = 0.0\n",
    "            r2 = 0.0\n",
    "            r3 = 0.0\n",
    "            pm = 0\n",
    "            pv = 0\n",
    "            for k in range(fea_num):\n",
    "                pm += test_bop[i + k*mt]\n",
    "                pv += tf_idfs[j + (k)*c]\n",
    "                d = pm\n",
    "                if d > 0:\n",
    "                    d = 1 + np.log10(d)\n",
    "                r1 += d * pv\n",
    "                r2 += d*d\n",
    "                r3 += pv * pv\n",
    "            r = r1 * r1 / (r2 * r3)\n",
    "            if r > rmax:\n",
    "                rmax = r\n",
    "                label = tlabel[j]\n",
    "        res[i] = label\n",
    "    return res"
   ]
  },
  {
   "cell_type": "code",
   "execution_count": 22,
   "metadata": {},
   "outputs": [],
   "source": [
    "predicted_label = classify(test_bop_sort, bop_feature, bopf.tlabel, bopf_test.m, bopf.c, bop_fea_num)"
   ]
  },
  {
   "cell_type": "code",
   "execution_count": 23,
   "metadata": {},
   "outputs": [],
   "source": [
    "real_label = np.array(bopf_test.labels)"
   ]
  },
  {
   "cell_type": "code",
   "execution_count": 24,
   "metadata": {},
   "outputs": [
    {
     "name": "stdout",
     "output_type": "stream",
     "text": [
      "0.31666666666666665\n"
     ]
    }
   ],
   "source": [
    "count = 0\n",
    "for i in range(len(real_label)):\n",
    "    if predicted_label[i] == real_label[i]:\n",
    "        count += 1\n",
    "\n",
    "print(count / len(real_label))"
   ]
  },
  {
   "cell_type": "code",
   "execution_count": 25,
   "metadata": {},
   "outputs": [
    {
     "data": {
      "text/plain": [
       "array([3, 3, 3, 3, 3, 3, 3, 3, 3, 3, 3, 3, 3, 3, 3, 3, 3, 3, 3, 3, 3, 3,\n",
       "       3, 3, 3, 3, 3, 3, 3, 3, 3, 3, 3, 3, 3, 3, 3, 3, 3, 3, 3, 3, 3, 3,\n",
       "       3, 3, 3, 3, 3, 3, 3, 3, 3, 3, 3, 3, 3, 3, 3, 3])"
      ]
     },
     "execution_count": 25,
     "metadata": {},
     "output_type": "execute_result"
    }
   ],
   "source": [
    "predicted_label"
   ]
  },
  {
   "cell_type": "code",
   "execution_count": 26,
   "metadata": {},
   "outputs": [
    {
     "data": {
      "text/plain": [
       "array([4, 3, 2, 3, 4, 3, 4, 4, 2, 4, 1, 1, 1, 3, 4, 3, 3, 4, 2, 4, 2, 2,\n",
       "       3, 2, 3, 2, 3, 3, 1, 2, 4, 1, 4, 1, 4, 3, 1, 3, 1, 3, 2, 2, 3, 2,\n",
       "       2, 2, 3, 3, 1, 1, 4, 3, 1, 1, 2, 1, 1, 3, 3, 4])"
      ]
     },
     "execution_count": 26,
     "metadata": {},
     "output_type": "execute_result"
    }
   ],
   "source": [
    "real_label"
   ]
  },
  {
   "cell_type": "code",
   "execution_count": 27,
   "metadata": {},
   "outputs": [],
   "source": [
    "wd_arr = [7]\n",
    "wd_num = 1\n",
    "wl_arr = [0.25, 0.5, 0.55]\n",
    "wl_num = len(wl_arr)"
   ]
  },
  {
   "cell_type": "code",
   "execution_count": 28,
   "metadata": {},
   "outputs": [],
   "source": [
    "bopf = BagOfPatternFeature()\n",
    "path = \"D:/tesis/UCRArchive_2018/Car/Car_TRAIN.tsv\"\n",
    "bopf.load_dataset(path, fmt=\"file\")\n",
    "bopf.cumsum()"
   ]
  },
  {
   "cell_type": "code",
   "execution_count": 29,
   "metadata": {
    "scrolled": true
   },
   "outputs": [
    {
     "name": "stdout",
     "output_type": "stream",
     "text": [
      "TOTAL DE SEGMENTOS VACIOS:  0\n",
      "426/4275536\r"
     ]
    },
    {
     "name": "stderr",
     "output_type": "stream",
     "text": [
      "D:\\tesis\\tesis\\src\\bopf\\bopf.py:344: RuntimeWarning: invalid value encountered in double_scalars\n",
      "  r = r1*r1 / (r2*r3)\n"
     ]
    },
    {
     "name": "stdout",
     "output_type": "stream",
     "text": [
      "cross_vl_results for wl: 0.25 , wd: 7\n",
      ">>> centroid => best_fea_num: 16 , best_acc:  0.9333333333333333\n",
      ">>> tf-idf => best_fea_num: 31 , best_acc:  0.75\n",
      "TOTAL DE SEGMENTOS VACIOS:  0\n",
      "40300/65536"
     ]
    },
    {
     "ename": "KeyboardInterrupt",
     "evalue": "",
     "output_type": "error",
     "traceback": [
      "\u001b[1;31m---------------------------------------------------------------------------\u001b[0m",
      "\u001b[1;31mKeyboardInterrupt\u001b[0m                         Traceback (most recent call last)",
      "\u001b[1;32m<timed exec>\u001b[0m in \u001b[0;36m<module>\u001b[1;34m\u001b[0m\n",
      "\u001b[1;32mD:\\tesis\\tesis\\src\\bopf\\bopf.py\u001b[0m in \u001b[0;36msort_trim_arr\u001b[1;34m(self, verbose)\u001b[0m\n\u001b[0;32m    254\u001b[0m         \u001b[1;32mfor\u001b[0m \u001b[0mj\u001b[0m \u001b[1;32min\u001b[0m \u001b[0mrange\u001b[0m\u001b[1;33m(\u001b[0m\u001b[0mself\u001b[0m\u001b[1;33m.\u001b[0m\u001b[0mbopsize\u001b[0m\u001b[1;33m)\u001b[0m\u001b[1;33m:\u001b[0m\u001b[1;33m\u001b[0m\u001b[1;33m\u001b[0m\u001b[0m\n\u001b[0;32m    255\u001b[0m             \u001b[1;32mif\u001b[0m \u001b[0mj\u001b[0m \u001b[1;33m%\u001b[0m \u001b[1;36m100\u001b[0m \u001b[1;33m==\u001b[0m \u001b[1;36m0\u001b[0m \u001b[1;32mand\u001b[0m \u001b[0mverbose\u001b[0m\u001b[1;33m:\u001b[0m\u001b[1;33m\u001b[0m\u001b[1;33m\u001b[0m\u001b[0m\n\u001b[1;32m--> 256\u001b[1;33m                 \u001b[0mprint\u001b[0m\u001b[1;33m(\u001b[0m\u001b[1;34m\"{}/{}\"\u001b[0m\u001b[1;33m.\u001b[0m\u001b[0mformat\u001b[0m\u001b[1;33m(\u001b[0m\u001b[0mj\u001b[0m\u001b[1;33m,\u001b[0m \u001b[0mself\u001b[0m\u001b[1;33m.\u001b[0m\u001b[0mbopsize\u001b[0m\u001b[1;33m)\u001b[0m\u001b[1;33m,\u001b[0m \u001b[0mend\u001b[0m\u001b[1;33m=\u001b[0m\u001b[1;34m\"\\r\"\u001b[0m\u001b[1;33m)\u001b[0m\u001b[1;33m\u001b[0m\u001b[1;33m\u001b[0m\u001b[0m\n\u001b[0m\u001b[0;32m    257\u001b[0m             \u001b[0mk\u001b[0m \u001b[1;33m=\u001b[0m \u001b[0mself\u001b[0m\u001b[1;33m.\u001b[0m\u001b[0msort_index\u001b[0m\u001b[1;33m[\u001b[0m\u001b[0mj\u001b[0m\u001b[1;33m]\u001b[0m\u001b[1;33m\u001b[0m\u001b[1;33m\u001b[0m\u001b[0m\n\u001b[0;32m    258\u001b[0m             \u001b[1;32mfor\u001b[0m \u001b[0mi\u001b[0m \u001b[1;32min\u001b[0m \u001b[0mrange\u001b[0m\u001b[1;33m(\u001b[0m\u001b[0mself\u001b[0m\u001b[1;33m.\u001b[0m\u001b[0mm\u001b[0m\u001b[1;33m)\u001b[0m\u001b[1;33m:\u001b[0m\u001b[1;33m\u001b[0m\u001b[1;33m\u001b[0m\u001b[0m\n",
      "\u001b[1;32mc:\\programdata\\miniconda3\\lib\\site-packages\\ipykernel\\iostream.py\u001b[0m in \u001b[0;36mwrite\u001b[1;34m(self, string)\u001b[0m\n\u001b[0;32m    398\u001b[0m             \u001b[0mis_child\u001b[0m \u001b[1;33m=\u001b[0m \u001b[1;33m(\u001b[0m\u001b[1;32mnot\u001b[0m \u001b[0mself\u001b[0m\u001b[1;33m.\u001b[0m\u001b[0m_is_master_process\u001b[0m\u001b[1;33m(\u001b[0m\u001b[1;33m)\u001b[0m\u001b[1;33m)\u001b[0m\u001b[1;33m\u001b[0m\u001b[1;33m\u001b[0m\u001b[0m\n\u001b[0;32m    399\u001b[0m             \u001b[1;31m# only touch the buffer in the IO thread to avoid races\u001b[0m\u001b[1;33m\u001b[0m\u001b[1;33m\u001b[0m\u001b[1;33m\u001b[0m\u001b[0m\n\u001b[1;32m--> 400\u001b[1;33m             \u001b[0mself\u001b[0m\u001b[1;33m.\u001b[0m\u001b[0mpub_thread\u001b[0m\u001b[1;33m.\u001b[0m\u001b[0mschedule\u001b[0m\u001b[1;33m(\u001b[0m\u001b[1;32mlambda\u001b[0m \u001b[1;33m:\u001b[0m \u001b[0mself\u001b[0m\u001b[1;33m.\u001b[0m\u001b[0m_buffer\u001b[0m\u001b[1;33m.\u001b[0m\u001b[0mwrite\u001b[0m\u001b[1;33m(\u001b[0m\u001b[0mstring\u001b[0m\u001b[1;33m)\u001b[0m\u001b[1;33m)\u001b[0m\u001b[1;33m\u001b[0m\u001b[1;33m\u001b[0m\u001b[0m\n\u001b[0m\u001b[0;32m    401\u001b[0m             \u001b[1;32mif\u001b[0m \u001b[0mis_child\u001b[0m\u001b[1;33m:\u001b[0m\u001b[1;33m\u001b[0m\u001b[1;33m\u001b[0m\u001b[0m\n\u001b[0;32m    402\u001b[0m                 \u001b[1;31m# newlines imply flush in subprocesses\u001b[0m\u001b[1;33m\u001b[0m\u001b[1;33m\u001b[0m\u001b[1;33m\u001b[0m\u001b[0m\n",
      "\u001b[1;32mc:\\programdata\\miniconda3\\lib\\site-packages\\ipykernel\\iostream.py\u001b[0m in \u001b[0;36mschedule\u001b[1;34m(self, f)\u001b[0m\n\u001b[0;32m    201\u001b[0m             \u001b[0mself\u001b[0m\u001b[1;33m.\u001b[0m\u001b[0m_events\u001b[0m\u001b[1;33m.\u001b[0m\u001b[0mappend\u001b[0m\u001b[1;33m(\u001b[0m\u001b[0mf\u001b[0m\u001b[1;33m)\u001b[0m\u001b[1;33m\u001b[0m\u001b[1;33m\u001b[0m\u001b[0m\n\u001b[0;32m    202\u001b[0m             \u001b[1;31m# wake event thread (message content is ignored)\u001b[0m\u001b[1;33m\u001b[0m\u001b[1;33m\u001b[0m\u001b[1;33m\u001b[0m\u001b[0m\n\u001b[1;32m--> 203\u001b[1;33m             \u001b[0mself\u001b[0m\u001b[1;33m.\u001b[0m\u001b[0m_event_pipe\u001b[0m\u001b[1;33m.\u001b[0m\u001b[0msend\u001b[0m\u001b[1;33m(\u001b[0m\u001b[1;34mb''\u001b[0m\u001b[1;33m)\u001b[0m\u001b[1;33m\u001b[0m\u001b[1;33m\u001b[0m\u001b[0m\n\u001b[0m\u001b[0;32m    204\u001b[0m         \u001b[1;32melse\u001b[0m\u001b[1;33m:\u001b[0m\u001b[1;33m\u001b[0m\u001b[1;33m\u001b[0m\u001b[0m\n\u001b[0;32m    205\u001b[0m             \u001b[0mf\u001b[0m\u001b[1;33m(\u001b[0m\u001b[1;33m)\u001b[0m\u001b[1;33m\u001b[0m\u001b[1;33m\u001b[0m\u001b[0m\n",
      "\u001b[1;32mc:\\programdata\\miniconda3\\lib\\site-packages\\zmq\\sugar\\socket.py\u001b[0m in \u001b[0;36msend\u001b[1;34m(self, data, flags, copy, track, routing_id, group)\u001b[0m\n\u001b[0;32m    393\u001b[0m                                  copy_threshold=self.copy_threshold)\n\u001b[0;32m    394\u001b[0m             \u001b[0mdata\u001b[0m\u001b[1;33m.\u001b[0m\u001b[0mgroup\u001b[0m \u001b[1;33m=\u001b[0m \u001b[0mgroup\u001b[0m\u001b[1;33m\u001b[0m\u001b[1;33m\u001b[0m\u001b[0m\n\u001b[1;32m--> 395\u001b[1;33m         \u001b[1;32mreturn\u001b[0m \u001b[0msuper\u001b[0m\u001b[1;33m(\u001b[0m\u001b[0mSocket\u001b[0m\u001b[1;33m,\u001b[0m \u001b[0mself\u001b[0m\u001b[1;33m)\u001b[0m\u001b[1;33m.\u001b[0m\u001b[0msend\u001b[0m\u001b[1;33m(\u001b[0m\u001b[0mdata\u001b[0m\u001b[1;33m,\u001b[0m \u001b[0mflags\u001b[0m\u001b[1;33m=\u001b[0m\u001b[0mflags\u001b[0m\u001b[1;33m,\u001b[0m \u001b[0mcopy\u001b[0m\u001b[1;33m=\u001b[0m\u001b[0mcopy\u001b[0m\u001b[1;33m,\u001b[0m \u001b[0mtrack\u001b[0m\u001b[1;33m=\u001b[0m\u001b[0mtrack\u001b[0m\u001b[1;33m)\u001b[0m\u001b[1;33m\u001b[0m\u001b[1;33m\u001b[0m\u001b[0m\n\u001b[0m\u001b[0;32m    396\u001b[0m \u001b[1;33m\u001b[0m\u001b[0m\n\u001b[0;32m    397\u001b[0m     \u001b[1;32mdef\u001b[0m \u001b[0msend_multipart\u001b[0m\u001b[1;33m(\u001b[0m\u001b[0mself\u001b[0m\u001b[1;33m,\u001b[0m \u001b[0mmsg_parts\u001b[0m\u001b[1;33m,\u001b[0m \u001b[0mflags\u001b[0m\u001b[1;33m=\u001b[0m\u001b[1;36m0\u001b[0m\u001b[1;33m,\u001b[0m \u001b[0mcopy\u001b[0m\u001b[1;33m=\u001b[0m\u001b[1;32mTrue\u001b[0m\u001b[1;33m,\u001b[0m \u001b[0mtrack\u001b[0m\u001b[1;33m=\u001b[0m\u001b[1;32mFalse\u001b[0m\u001b[1;33m,\u001b[0m \u001b[1;33m**\u001b[0m\u001b[0mkwargs\u001b[0m\u001b[1;33m)\u001b[0m\u001b[1;33m:\u001b[0m\u001b[1;33m\u001b[0m\u001b[1;33m\u001b[0m\u001b[0m\n",
      "\u001b[1;32mzmq\\backend\\cython\\socket.pyx\u001b[0m in \u001b[0;36mzmq.backend.cython.socket.Socket.send\u001b[1;34m()\u001b[0m\n",
      "\u001b[1;32mzmq\\backend\\cython\\socket.pyx\u001b[0m in \u001b[0;36mzmq.backend.cython.socket.Socket.send\u001b[1;34m()\u001b[0m\n",
      "\u001b[1;32mzmq\\backend\\cython\\socket.pyx\u001b[0m in \u001b[0;36mzmq.backend.cython.socket._send_copy\u001b[1;34m()\u001b[0m\n",
      "\u001b[1;32mc:\\programdata\\miniconda3\\lib\\site-packages\\zmq\\backend\\cython\\checkrc.pxd\u001b[0m in \u001b[0;36mzmq.backend.cython.checkrc._check_rc\u001b[1;34m()\u001b[0m\n",
      "\u001b[1;31mKeyboardInterrupt\u001b[0m: "
     ]
    }
   ],
   "source": [
    "%%time\n",
    "bop_features = []\n",
    "bop_fea_num = []\n",
    "bop_cv_acc = []\n",
    "bop_feature_index = []\n",
    "\n",
    "bop_features2 = []\n",
    "bop_fea_num2 = []\n",
    "bop_cv_acc2 = []\n",
    "bop_feature_index2 = []\n",
    "\n",
    "bop_wd = []\n",
    "bop_wl = []\n",
    "for i in range(wd_num):\n",
    "    wd = wd_arr[i]\n",
    "    for j in range(wl_num):\n",
    "        wl = wl_arr[j]\n",
    "        bopf.bop(wd, wl)\n",
    "        bopf.adjust_label_set()\n",
    "        bopf.anova()\n",
    "        bopf.anova_sort()\n",
    "        bopf.sort_trim_arr()\n",
    "        bopf.crossVL()\n",
    "        \n",
    "        bop_features.append(bopf.crossL[:bopf.c*bopf.best_idx])\n",
    "        bop_fea_num.append(bopf.best_idx)\n",
    "        bop_cv_acc.append(bopf.best_score)\n",
    "        bop_feature_index.append(bopf.sort_index[:bopf.best_idx])\n",
    "        \n",
    "        bopf.crossVL2()\n",
    "        bop_features2.append(bopf.crossL2[:bopf.c*bopf.best2_idx])\n",
    "        bop_fea_num2.append(bopf.best2_idx)\n",
    "        bop_cv_acc2.append(bopf.best2_score)\n",
    "        bop_feature_index2.append(bopf.sort_index[:bopf.best2_idx])\n",
    "        \n",
    "        bop_wd.append(wd)\n",
    "        bop_wl.append(wl)\n",
    "        print(\"cross_vl_results for wl:\", wl, \", wd:\", wd)\n",
    "        print(\">>> centroid => best_fea_num:\", bopf.best_idx, \", best_acc: \", bopf.best_score)\n",
    "        print(\">>> tf-idf => best_fea_num:\", bopf.best2_idx, \", best_acc: \", bopf.best2_score)"
   ]
  },
  {
   "cell_type": "code",
   "execution_count": 63,
   "metadata": {},
   "outputs": [
    {
     "name": "stdout",
     "output_type": "stream",
     "text": [
      "0.9333333333333333 7 0.2\n",
      "0.9333333333333333 7 0.25\n",
      "0.9166666666666666 7 0.30000000000000004\n",
      "0.9 6 0.5\n",
      "0.9 7 0.5\n",
      "0.8833333333333333 3 0.25\n",
      "0.8833333333333333 7 0.55\n",
      "0.8666666666666667 7 0.35000000000000003\n",
      "0.8666666666666667 6 0.30000000000000004\n",
      "0.8666666666666667 6 0.25\n"
     ]
    }
   ],
   "source": [
    "index = np.argsort(bop_cv_acc)[::-1]\n",
    "top_n = 10\n",
    "\n",
    "avg_acc_sum = 0\n",
    "for i in range(top_n):\n",
    "    avg_acc_sum += bop_cv_acc[index[i]]\n",
    "    print(bop_cv_acc[index[i]], bop_wd[index[i]], bop_wl[index[i]])\n",
    "\n",
    "avg_acc = avg_acc_sum / top_n"
   ]
  },
  {
   "cell_type": "code",
   "execution_count": 64,
   "metadata": {},
   "outputs": [
    {
     "data": {
      "text/plain": [
       "0.8950000000000001"
      ]
     },
     "execution_count": 64,
     "metadata": {},
     "output_type": "execute_result"
    }
   ],
   "source": [
    "avg_acc"
   ]
  },
  {
   "cell_type": "code",
   "execution_count": 67,
   "metadata": {},
   "outputs": [],
   "source": [
    "bopf_t = BagOfPatternFeature()\n",
    "path_t = \"D:/tesis/UCRArchive_2018/Car/Car_TEST.tsv\"\n",
    "bopf_t.load_dataset(path, fmt=\"file\")\n",
    "bopf_t.cumsum()"
   ]
  },
  {
   "cell_type": "code",
   "execution_count": 79,
   "metadata": {},
   "outputs": [
    {
     "name": "stdout",
     "output_type": "stream",
     "text": [
      "0.6\n",
      "0.7666666666666667\n",
      "0.7166666666666667\n",
      "0.7\n",
      "0.75\n",
      "0.38333333333333336\n",
      "0.7666666666666667\n",
      "0.43333333333333335\n",
      "0.5333333333333333\n",
      "0.6333333333333333\n"
     ]
    }
   ],
   "source": [
    "for i in range(top_n):\n",
    "    s_index = index[i]\n",
    "    wd = bop_wd[s_index]\n",
    "    wl = bop_wl[s_index]\n",
    "    bopf_t.bop(wd, wl)\n",
    "    test_bop_sort = sort_trim_arr(bopf_t.train_bop, bop_feature_index[s_index], \n",
    "                                  bopf_t.m, bop_fea_num[s_index])\n",
    "    predicted_label = classify(test_bop_sort, bop_features[s_index], bopf.tlabel, \n",
    "                               bopf_t.m, bopf.c, bop_fea_num[s_index])\n",
    "    real_label = np.array(bopf_t.labels)\n",
    "    count = 0\n",
    "    for i in range(len(real_label)):\n",
    "        if predicted_label[i] == real_label[i]:\n",
    "            count += 1\n",
    "\n",
    "    print(count / len(real_label))"
   ]
  },
  {
   "cell_type": "code",
   "execution_count": 55,
   "metadata": {},
   "outputs": [],
   "source": [
    "for i in range(top_n):\n",
    "    s_index = index2[i]\n",
    "    wd = bop_wd[s_index]\n",
    "    wl = bop_wl[s_index]\n",
    "    bopf_t.bop(wd, wl)\n",
    "    test_bop_sort = sort_trim_arr(bopf_t.train_bop, bop_feature_index2[s_index], \n",
    "                                  bopf_t.m, bop_fea_num2[s_index])\n",
    "    predicted_label = classify2(test_bop_sort, bop_features2[s_index], bopf.tlabel, \n",
    "                               bopf_t.m, bopf.c, bop_fea_num2[s_index])\n",
    "    real_label = np.array(bopf_t.labels)\n",
    "    count = 0\n",
    "    for i in range(len(real_label)):\n",
    "        if predicted_label[i] == real_label[i]:\n",
    "            count += 1\n",
    "\n",
    "    print(count / len(real_label))"
   ]
  },
  {
   "cell_type": "code",
   "execution_count": 60,
   "metadata": {},
   "outputs": [
    {
     "data": {
      "text/plain": [
       "1.75"
      ]
     },
     "execution_count": 60,
     "metadata": {},
     "output_type": "execute_result"
    }
   ],
   "source": []
  },
  {
   "cell_type": "code",
   "execution_count": null,
   "metadata": {},
   "outputs": [],
   "source": []
  }
 ],
 "metadata": {
  "kernelspec": {
   "display_name": "Python 3",
   "language": "python",
   "name": "python3"
  },
  "language_info": {
   "codemirror_mode": {
    "name": "ipython",
    "version": 3
   },
   "file_extension": ".py",
   "mimetype": "text/x-python",
   "name": "python",
   "nbconvert_exporter": "python",
   "pygments_lexer": "ipython3",
   "version": "3.7.3"
  }
 },
 "nbformat": 4,
 "nbformat_minor": 2
}
