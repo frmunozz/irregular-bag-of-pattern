{
 "cells": [
  {
   "cell_type": "code",
   "execution_count": 1,
   "metadata": {},
   "outputs": [],
   "source": [
    "import os\n",
    "main_path = os.path.abspath(os.path.join(os.path.dirname(\"./Untitled.ipynb\"), '..'))\n",
    "import sys\n",
    "\n",
    "\n",
    "sys.path.insert(0, main_path)\n",
    "\n",
    "from src.methodA.transformer import CountVectorizer, get_full_alphabet, transformer_mp_tuples\n",
    "from src.methodA.cross_validation import cv_pca, CVParamFinder\n",
    "from src.methodA.classify import cv_classify, train_test_classify\n",
    "from src.utils import read_numpy_dataset, read_file_regular_dataset\n",
    "# from src.methodA.class_vectors import \n",
    "\n",
    "import matplotlib.pyplot as plt\n",
    "import numpy as np\n",
    "from scipy import sparse\n",
    "from sklearn.metrics import balanced_accuracy_score"
   ]
  },
  {
   "cell_type": "code",
   "execution_count": 2,
   "metadata": {},
   "outputs": [
    {
     "data": {
      "text/plain": [
       "'/home/frmunoz/Documents/tesis/data/UCRArchive_2018'"
      ]
     },
     "execution_count": 2,
     "metadata": {},
     "output_type": "execute_result"
    }
   ],
   "source": [
    "ucr_data = os.path.join(main_path, \"data\", \"UCRArchive_2018\")\n",
    "ucr_data"
   ]
  },
  {
   "cell_type": "markdown",
   "metadata": {},
   "source": [
    "# UCR dataset tests"
   ]
  },
  {
   "cell_type": "code",
   "execution_count": 5,
   "metadata": {},
   "outputs": [
    {
     "name": "stdout",
     "output_type": "stream",
     "text": [
      "80\n"
     ]
    },
    {
     "data": {
      "text/plain": [
       "[<matplotlib.lines.Line2D at 0x7fe539712700>]"
      ]
     },
     "execution_count": 5,
     "metadata": {},
     "output_type": "execute_result"
    },
    {
     "data": {
      "image/png": "[encoded data removed]",
      "text/plain": [
       "<Figure size 576x216 with 1 Axes>"
      ]
     },
     "metadata": {
      "needs_background": "light"
     },
     "output_type": "display_data"
    }
   ],
   "source": [
    "# key = \"MiddlePhalanxTW\"\n",
    "key = \"DistalPhalanxOutlineAgeGroup\"\n",
    "# key = \"FaceFour\"\n",
    "train_file = os.path.join(ucr_data, key, key + \"_TRAIN.tsv\")\n",
    "test_file = os.path.join(ucr_data, key, key + \"_TEST.tsv\")\n",
    "d_train, t_train, l_train, m = read_file_regular_dataset(train_file)\n",
    "d_test, t_test, l_test, m = read_file_regular_dataset(test_file)\n",
    "plt.figure(figsize=(8, 3))\n",
    "i = 1\n",
    "print(len(d_train[i]))\n",
    "plt.plot(t_train[i], d_train[i])"
   ]
  },
  {
   "cell_type": "code",
   "execution_count": 9,
   "metadata": {
    "scrolled": true
   },
   "outputs": [
    {
     "name": "stdout",
     "output_type": "stream",
     "text": [
      "computing count vectorizers for window = [39.5], word_length = [1 2 3 4 5 6] "
     ]
    },
    {
     "name": "stderr",
     "output_type": "stream",
     "text": [
      "MethodA.CountVectorizer.INFO    : start countVectorizer on worker 'Process-146'\n",
      "MethodA.CountVectorizer.INFO    : computing BagOfPatter for [39.5, 1] on worker 'Process-146'\n",
      "MethodA.CountVectorizer.INFO    : start countVectorizer on worker 'Process-147'\n",
      "MethodA.CountVectorizer.INFO    : computing BagOfPatter for [39.5, 2] on worker 'Process-147'\n",
      "MethodA.CountVectorizer.INFO    : start countVectorizer on worker 'Process-148'\n",
      "MethodA.CountVectorizer.INFO    : computing BagOfPatter for [39.5, 3] on worker 'Process-148'\n",
      "MethodA.CountVectorizer.INFO    : start countVectorizer on worker 'Process-149'\n",
      "MethodA.CountVectorizer.INFO    : start countVectorizer on worker 'Process-150'\n",
      "MethodA.CountVectorizer.INFO    : computing BagOfPatter for [39.5, 4] on worker 'Process-149'\n",
      "MethodA.CountVectorizer.INFO    : computing BagOfPatter for [39.5, 5] on worker 'Process-150'\n",
      "MethodA.CountVectorizer.INFO    : start countVectorizer on worker 'Process-151'\n",
      "MethodA.CountVectorizer.INFO    : computing BagOfPatter for [39.5, 6] on worker 'Process-151'\n",
      "MethodA.CountVectorizer.INFO    : start countVectorizer on worker 'Process-152'\n",
      "MethodA.CountVectorizer.INFO    : start countVectorizer on worker 'Process-153'\n"
     ]
    },
    {
     "name": "stdout",
     "output_type": "stream",
     "text": [
      "worker 'Process-153' DONE\n",
      "worker 'Process-152' DONE\n",
      "worker 'Process-146' DONE\n",
      "worker 'Process-147' DONE\n",
      "worker 'Process-148' DONE\n",
      "worker 'Process-149' DONE\n",
      "worker 'Process-150' DONE\n",
      "worker 'Process-151' DONE\n",
      "DONE\n",
      "computing balanced accuracy for Cross-validation using 8 process\n",
      "Multiprocessing CV: |||||| [DONE]\n",
      "first cv -> best b_acc: 0.796 for pair [39.5, 6] (4096 features) (time: 10.189 sec)\n",
      "computing count vectorizers for window = [12.   13.72 15.44 17.15 18.87 20.59 22.31 24.03 25.74 27.46 29.18 30.9\n",
      " 32.62 34.33 36.05 37.77 39.49 39.5  41.21 42.92 44.64 46.36 48.08 49.79\n",
      " 51.51 53.23 54.95 56.67 58.38 60.1  61.82 63.54 65.26 66.97 68.69 70.41\n",
      " 72.13 73.85 75.56 77.28 79.  ], word_length = [6] "
     ]
    },
    {
     "name": "stderr",
     "output_type": "stream",
     "text": [
      "MethodA.CountVectorizer.INFO    : start countVectorizer on worker 'Process-164'\n",
      "MethodA.CountVectorizer.INFO    : computing BagOfPatter for [12.0, 6] on worker 'Process-164'\n",
      "MethodA.CountVectorizer.INFO    : start countVectorizer on worker 'Process-165'\n",
      "MethodA.CountVectorizer.INFO    : start countVectorizer on worker 'Process-166'\n",
      "MethodA.CountVectorizer.INFO    : computing BagOfPatter for [15.44, 6] on worker 'Process-166'\n",
      "MethodA.CountVectorizer.INFO    : computing BagOfPatter for [13.72, 6] on worker 'Process-165'\n",
      "MethodA.CountVectorizer.INFO    : start countVectorizer on worker 'Process-167'\n",
      "MethodA.CountVectorizer.INFO    : computing BagOfPatter for [17.15, 6] on worker 'Process-167'\n",
      "MethodA.CountVectorizer.INFO    : start countVectorizer on worker 'Process-168'\n",
      "MethodA.CountVectorizer.INFO    : start countVectorizer on worker 'Process-169'\n",
      "MethodA.CountVectorizer.INFO    : computing BagOfPatter for [18.87, 6] on worker 'Process-168'\n",
      "MethodA.CountVectorizer.INFO    : computing BagOfPatter for [20.59, 6] on worker 'Process-169'\n",
      "MethodA.CountVectorizer.INFO    : start countVectorizer on worker 'Process-171'\n",
      "MethodA.CountVectorizer.INFO    : start countVectorizer on worker 'Process-170'\n",
      "MethodA.CountVectorizer.INFO    : computing BagOfPatter for [24.03, 6] on worker 'Process-171'\n",
      "MethodA.CountVectorizer.INFO    : computing BagOfPatter for [22.31, 6] on worker 'Process-170'\n",
      "MethodA.CountVectorizer.INFO    : computing BagOfPatter for [25.74, 6] on worker 'Process-170'\n",
      "MethodA.CountVectorizer.INFO    : computing BagOfPatter for [27.46, 6] on worker 'Process-171'\n",
      "MethodA.CountVectorizer.INFO    : computing BagOfPatter for [29.18, 6] on worker 'Process-167'\n",
      "MethodA.CountVectorizer.INFO    : computing BagOfPatter for [30.9, 6] on worker 'Process-169'\n",
      "MethodA.CountVectorizer.INFO    : computing BagOfPatter for [32.62, 6] on worker 'Process-166'\n",
      "MethodA.CountVectorizer.INFO    : computing BagOfPatter for [34.33, 6] on worker 'Process-168'\n",
      "MethodA.CountVectorizer.INFO    : computing BagOfPatter for [36.05, 6] on worker 'Process-164'\n",
      "MethodA.CountVectorizer.INFO    : computing BagOfPatter for [37.77, 6] on worker 'Process-165'\n",
      "MethodA.CountVectorizer.INFO    : computing BagOfPatter for [39.49, 6] on worker 'Process-168'\n",
      "MethodA.CountVectorizer.INFO    : computing BagOfPatter for [39.5, 6] on worker 'Process-171'\n",
      "MethodA.CountVectorizer.INFO    : computing BagOfPatter for [41.21, 6] on worker 'Process-166'\n",
      "MethodA.CountVectorizer.INFO    : computing BagOfPatter for [42.92, 6] on worker 'Process-169'\n",
      "MethodA.CountVectorizer.INFO    : computing BagOfPatter for [44.64, 6] on worker 'Process-164'\n",
      "MethodA.CountVectorizer.INFO    : computing BagOfPatter for [46.36, 6] on worker 'Process-170'\n",
      "MethodA.CountVectorizer.INFO    : computing BagOfPatter for [48.08, 6] on worker 'Process-167'\n",
      "MethodA.CountVectorizer.INFO    : computing BagOfPatter for [49.79, 6] on worker 'Process-165'\n",
      "MethodA.CountVectorizer.INFO    : computing BagOfPatter for [51.51, 6] on worker 'Process-165'\n",
      "MethodA.CountVectorizer.INFO    : computing BagOfPatter for [53.23, 6] on worker 'Process-170'\n",
      "MethodA.CountVectorizer.INFO    : computing BagOfPatter for [54.95, 6] on worker 'Process-167'\n",
      "MethodA.CountVectorizer.INFO    : computing BagOfPatter for [56.67, 6] on worker 'Process-164'\n",
      "MethodA.CountVectorizer.INFO    : computing BagOfPatter for [58.38, 6] on worker 'Process-166'\n",
      "MethodA.CountVectorizer.INFO    : computing BagOfPatter for [60.1, 6] on worker 'Process-168'\n",
      "MethodA.CountVectorizer.INFO    : computing BagOfPatter for [61.82, 6] on worker 'Process-169'\n",
      "MethodA.CountVectorizer.INFO    : computing BagOfPatter for [63.54, 6] on worker 'Process-171'\n",
      "MethodA.CountVectorizer.INFO    : computing BagOfPatter for [65.26, 6] on worker 'Process-169'\n",
      "MethodA.CountVectorizer.INFO    : computing BagOfPatter for [66.97, 6] on worker 'Process-171'\n",
      "MethodA.CountVectorizer.INFO    : computing BagOfPatter for [68.69, 6] on worker 'Process-168'\n",
      "MethodA.CountVectorizer.INFO    : computing BagOfPatter for [70.41, 6] on worker 'Process-165'\n",
      "MethodA.CountVectorizer.INFO    : computing BagOfPatter for [72.13, 6] on worker 'Process-166'\n",
      "MethodA.CountVectorizer.INFO    : computing BagOfPatter for [73.85, 6] on worker 'Process-164'\n",
      "MethodA.CountVectorizer.INFO    : computing BagOfPatter for [75.56, 6] on worker 'Process-167'\n",
      "MethodA.CountVectorizer.INFO    : computing BagOfPatter for [77.28, 6] on worker 'Process-170'\n",
      "MethodA.CountVectorizer.INFO    : computing BagOfPatter for [79.0, 6] on worker 'Process-170'\n"
     ]
    },
    {
     "name": "stdout",
     "output_type": "stream",
     "text": [
      "worker 'Process-167' DONE\n",
      "worker 'Process-166' DONE\n",
      "worker 'Process-164' DONE\n",
      "worker 'Process-165' DONE\n",
      "worker 'Process-168' DONE\n",
      "worker 'Process-170' DONE\n",
      "worker 'Process-171' DONE\n",
      "worker 'Process-169' DONE\n",
      "DONE\n",
      "computing balanced accuracy for Cross-validation using 8 process\n",
      "Multiprocessing CV: ||||||||||||||||||||||||||||||||||||||||| [DONE]\n",
      "second cv -> best b_acc: 0.835 for pair [32.6, 6] (4096 features) (time: 99.758 sec)\n"
     ]
    }
   ],
   "source": [
    "# find best params by cross-validation leave-one-out\n",
    "cv_finder = CVParamFinder(max_n_lengths=6, max_n_windows=40)\n",
    "class_method = \"centroid\"\n",
    "cv_method = \"kfold\"\n",
    "n_splits = 10\n",
    "\n",
    "# with_mean=True\n",
    "# n_components = 3\n",
    "# dist_method = \"euclidean\"\n",
    "# repr_method=\"bopf\"\n",
    "# use_pca = False\n",
    "# scale = False\n",
    "\n",
    "with_mean=True\n",
    "n_components = 20\n",
    "dist_method = \"cosine\"\n",
    "repr_method=\"tf_idf\"\n",
    "use_pca = False\n",
    "scale = False\n",
    "\n",
    "\n",
    "cv_finder.cv_first_step(d_train, t_train, l_train, special_character=False, \n",
    "                        use_pca=use_pca, class_method=class_method, scale=scale, cv_method=cv_method,\n",
    "                       n_splits=n_splits, with_mean=with_mean, n_components=n_components,\n",
    "                                                 dist_method=dist_method, repr_method=repr_method)\n",
    "\n",
    "cv_finder.cv_second_step(d_train, t_train, l_train, special_character=False, \n",
    "                        use_pca=use_pca, class_method=class_method, scale=scale, cv_method=cv_method,\n",
    "                       n_splits=n_splits, with_mean=with_mean, n_components=n_components,\n",
    "                                                 dist_method=dist_method, repr_method=repr_method)"
   ]
  },
  {
   "cell_type": "code",
   "execution_count": 7,
   "metadata": {
    "scrolled": true
   },
   "outputs": [
    {
     "name": "stdout",
     "output_type": "stream",
     "text": [
      "computing count vectorizers for window = [39.5], word_length = [1 2 3 4 5 6] "
     ]
    },
    {
     "name": "stderr",
     "output_type": "stream",
     "text": [
      "MethodA.CountVectorizer.INFO    : start countVectorizer on worker 'Process-74'\n",
      "MethodA.CountVectorizer.INFO    : computing BagOfPatter for [39.5, 1] on worker 'Process-74'\n",
      "MethodA.CountVectorizer.INFO    : start countVectorizer on worker 'Process-75'\n",
      "MethodA.CountVectorizer.INFO    : computing BagOfPatter for [39.5, 2] on worker 'Process-75'\n",
      "MethodA.CountVectorizer.INFO    : start countVectorizer on worker 'Process-76'\n",
      "MethodA.CountVectorizer.INFO    : start countVectorizer on worker 'Process-77'\n",
      "MethodA.CountVectorizer.INFO    : computing BagOfPatter for [39.5, 3] on worker 'Process-76'\n",
      "MethodA.CountVectorizer.INFO    : start countVectorizer on worker 'Process-78'\n",
      "MethodA.CountVectorizer.INFO    : computing BagOfPatter for [39.5, 4] on worker 'Process-77'\n",
      "MethodA.CountVectorizer.INFO    : start countVectorizer on worker 'Process-80'\n",
      "MethodA.CountVectorizer.INFO    : start countVectorizer on worker 'Process-79'\n",
      "MethodA.CountVectorizer.INFO    : start countVectorizer on worker 'Process-81'\n",
      "MethodA.CountVectorizer.INFO    : computing BagOfPatter for [39.5, 5] on worker 'Process-78'\n"
     ]
    },
    {
     "name": "stdout",
     "output_type": "stream",
     "text": [
      "worker 'Process-79' DONEworker 'Process-80' DONE"
     ]
    },
    {
     "name": "stderr",
     "output_type": "stream",
     "text": [
      "MethodA.CountVectorizer.INFO    : computing BagOfPatter for [39.5, 6] on worker 'Process-81'\n"
     ]
    },
    {
     "name": "stdout",
     "output_type": "stream",
     "text": [
      "\n",
      "\n",
      "worker 'Process-74' DONE\n",
      "worker 'Process-75' DONE\n",
      "worker 'Process-77' DONE\n",
      "worker 'Process-76' DONE\n",
      "worker 'Process-78' DONE\n",
      "worker 'Process-81' DONE\n",
      "DONE\n",
      "computing balanced accuracy for Cross-validation using 8 process\n",
      "Multiprocessing CV: |||||| [DONE]\n",
      "first cv -> best b_acc: 0.796 for pair [39.5, 6] (4096 features) (time: 11.958 sec)\n",
      "computing count vectorizers for window = [12.   13.72 15.44 17.15 18.87 20.59 22.31 24.03 25.74 27.46 29.18 30.9\n",
      " 32.62 34.33 36.05 37.77 39.49 39.5  41.21 42.92 44.64 46.36 48.08 49.79\n",
      " 51.51 53.23 54.95 56.67 58.38 60.1  61.82 63.54 65.26 66.97 68.69 70.41\n",
      " 72.13 73.85 75.56 77.28 79.  ], word_length = [6] "
     ]
    },
    {
     "name": "stderr",
     "output_type": "stream",
     "text": [
      "MethodA.CountVectorizer.INFO    : start countVectorizer on worker 'Process-92'\n",
      "MethodA.CountVectorizer.INFO    : computing BagOfPatter for [12.0, 6] on worker 'Process-92'\n",
      "MethodA.CountVectorizer.INFO    : start countVectorizer on worker 'Process-93'\n",
      "MethodA.CountVectorizer.INFO    : computing BagOfPatter for [13.72, 6] on worker 'Process-93'\n",
      "MethodA.CountVectorizer.INFO    : start countVectorizer on worker 'Process-94'\n",
      "MethodA.CountVectorizer.INFO    : computing BagOfPatter for [15.44, 6] on worker 'Process-94'\n",
      "MethodA.CountVectorizer.INFO    : start countVectorizer on worker 'Process-95'\n",
      "MethodA.CountVectorizer.INFO    : computing BagOfPatter for [17.15, 6] on worker 'Process-95'\n",
      "MethodA.CountVectorizer.INFO    : start countVectorizer on worker 'Process-97'\n",
      "MethodA.CountVectorizer.INFO    : start countVectorizer on worker 'Process-96'\n",
      "MethodA.CountVectorizer.INFO    : computing BagOfPatter for [20.59, 6] on worker 'Process-96'\n",
      "MethodA.CountVectorizer.INFO    : start countVectorizer on worker 'Process-98'\n",
      "MethodA.CountVectorizer.INFO    : start countVectorizer on worker 'Process-99'\n",
      "MethodA.CountVectorizer.INFO    : computing BagOfPatter for [18.87, 6] on worker 'Process-97'\n",
      "MethodA.CountVectorizer.INFO    : computing BagOfPatter for [22.31, 6] on worker 'Process-98'\n",
      "MethodA.CountVectorizer.INFO    : computing BagOfPatter for [24.03, 6] on worker 'Process-99'\n",
      "MethodA.CountVectorizer.INFO    : computing BagOfPatter for [25.74, 6] on worker 'Process-98'\n",
      "MethodA.CountVectorizer.INFO    : computing BagOfPatter for [27.46, 6] on worker 'Process-99'\n",
      "MethodA.CountVectorizer.INFO    : computing BagOfPatter for [29.18, 6] on worker 'Process-97'\n",
      "MethodA.CountVectorizer.INFO    : computing BagOfPatter for [30.9, 6] on worker 'Process-94'\n",
      "MethodA.CountVectorizer.INFO    : computing BagOfPatter for [32.62, 6] on worker 'Process-96'\n",
      "MethodA.CountVectorizer.INFO    : computing BagOfPatter for [34.33, 6] on worker 'Process-93'\n",
      "MethodA.CountVectorizer.INFO    : computing BagOfPatter for [36.05, 6] on worker 'Process-95'\n",
      "MethodA.CountVectorizer.INFO    : computing BagOfPatter for [37.77, 6] on worker 'Process-92'\n",
      "MethodA.CountVectorizer.INFO    : computing BagOfPatter for [39.49, 6] on worker 'Process-92'\n",
      "MethodA.CountVectorizer.INFO    : computing BagOfPatter for [39.5, 6] on worker 'Process-93'\n",
      "MethodA.CountVectorizer.INFO    : computing BagOfPatter for [41.21, 6] on worker 'Process-97'\n",
      "MethodA.CountVectorizer.INFO    : computing BagOfPatter for [44.64, 6] on worker 'Process-96'\n",
      "MethodA.CountVectorizer.INFO    : computing BagOfPatter for [42.92, 6] on worker 'Process-98'\n",
      "MethodA.CountVectorizer.INFO    : computing BagOfPatter for [46.36, 6] on worker 'Process-94'\n",
      "MethodA.CountVectorizer.INFO    : computing BagOfPatter for [48.08, 6] on worker 'Process-95'\n",
      "MethodA.CountVectorizer.INFO    : computing BagOfPatter for [49.79, 6] on worker 'Process-99'\n",
      "MethodA.CountVectorizer.INFO    : computing BagOfPatter for [51.51, 6] on worker 'Process-99'\n",
      "MethodA.CountVectorizer.INFO    : computing BagOfPatter for [53.23, 6] on worker 'Process-94'\n",
      "MethodA.CountVectorizer.INFO    : computing BagOfPatter for [54.95, 6] on worker 'Process-95'\n",
      "MethodA.CountVectorizer.INFO    : computing BagOfPatter for [56.67, 6] on worker 'Process-96'\n",
      "MethodA.CountVectorizer.INFO    : computing BagOfPatter for [58.38, 6] on worker 'Process-98'\n",
      "MethodA.CountVectorizer.INFO    : computing BagOfPatter for [60.1, 6] on worker 'Process-97'\n",
      "MethodA.CountVectorizer.INFO    : computing BagOfPatter for [61.82, 6] on worker 'Process-93'\n",
      "MethodA.CountVectorizer.INFO    : computing BagOfPatter for [63.54, 6] on worker 'Process-92'\n",
      "MethodA.CountVectorizer.INFO    : computing BagOfPatter for [65.26, 6] on worker 'Process-93'\n",
      "MethodA.CountVectorizer.INFO    : computing BagOfPatter for [66.97, 6] on worker 'Process-98'\n",
      "MethodA.CountVectorizer.INFO    : computing BagOfPatter for [68.69, 6] on worker 'Process-97'\n",
      "MethodA.CountVectorizer.INFO    : computing BagOfPatter for [70.41, 6] on worker 'Process-94'\n",
      "MethodA.CountVectorizer.INFO    : computing BagOfPatter for [72.13, 6] on worker 'Process-96'\n",
      "MethodA.CountVectorizer.INFO    : computing BagOfPatter for [73.85, 6] on worker 'Process-95'\n",
      "MethodA.CountVectorizer.INFO    : computing BagOfPatter for [75.56, 6] on worker 'Process-92'\n",
      "MethodA.CountVectorizer.INFO    : computing BagOfPatter for [77.28, 6] on worker 'Process-99'\n",
      "MethodA.CountVectorizer.INFO    : computing BagOfPatter for [79.0, 6] on worker 'Process-99'\n"
     ]
    },
    {
     "name": "stdout",
     "output_type": "stream",
     "text": [
      "worker 'Process-92' DONE\n",
      "worker 'Process-95' DONE\n",
      "worker 'Process-96' DONE\n",
      "worker 'Process-99' DONE\n",
      "worker 'Process-94' DONE\n",
      "worker 'Process-97' DONE\n",
      "worker 'Process-98' DONE\n",
      "worker 'Process-93' DONE\n",
      "DONE\n",
      "computing balanced accuracy for Cross-validation using 8 process\n",
      "Multiprocessing CV: |||||||||||||||||||||||||||||||||||||||| [DONE]\n",
      "second cv -> best b_acc: 0.835 for pair [32.6, 6] (4096 features) (time: 93.274 sec)\n"
     ]
    }
   ],
   "source": [
    "with_mean=True\n",
    "n_components = 20\n",
    "dist_method = \"cosine\"\n",
    "repr_method=\"tf_idf\"\n",
    "use_pca = False\n",
    "scale = False\n",
    "\n",
    "\n",
    "cv_finder.cv_first_step(d_train, t_train, l_train, special_character=False, \n",
    "                        use_pca=use_pca, class_method=class_method, scale=scale, cv_method=cv_method,\n",
    "                       n_splits=n_splits, with_mean=with_mean, n_components=n_components,\n",
    "                                                 dist_method=dist_method, repr_method=repr_method)\n",
    "\n",
    "cv_finder.cv_second_step(d_train, t_train, l_train, special_character=False, \n",
    "                        use_pca=use_pca, class_method=class_method, scale=scale, cv_method=cv_method,\n",
    "                       n_splits=n_splits, with_mean=with_mean, n_components=n_components,\n",
    "                                                 dist_method=dist_method, repr_method=repr_method)"
   ]
  },
  {
   "cell_type": "code",
   "execution_count": 8,
   "metadata": {
    "scrolled": true
   },
   "outputs": [
    {
     "name": "stdout",
     "output_type": "stream",
     "text": [
      "computing count vectorizers for window = [39.5], word_length = [1 2 3 4 5 6] "
     ]
    },
    {
     "name": "stderr",
     "output_type": "stream",
     "text": [
      "MethodA.CountVectorizer.INFO    : start countVectorizer on worker 'Process-110'\n",
      "MethodA.CountVectorizer.INFO    : computing BagOfPatter for [39.5, 1] on worker 'Process-110'\n",
      "MethodA.CountVectorizer.INFO    : start countVectorizer on worker 'Process-111'\n",
      "MethodA.CountVectorizer.INFO    : computing BagOfPatter for [39.5, 2] on worker 'Process-111'\n",
      "MethodA.CountVectorizer.INFO    : start countVectorizer on worker 'Process-112'\n",
      "MethodA.CountVectorizer.INFO    : start countVectorizer on worker 'Process-113'\n",
      "MethodA.CountVectorizer.INFO    : computing BagOfPatter for [39.5, 4] on worker 'Process-113'\n",
      "MethodA.CountVectorizer.INFO    : computing BagOfPatter for [39.5, 3] on worker 'Process-112'\n",
      "MethodA.CountVectorizer.INFO    : start countVectorizer on worker 'Process-114'\n",
      "MethodA.CountVectorizer.INFO    : start countVectorizer on worker 'Process-115'\n",
      "MethodA.CountVectorizer.INFO    : computing BagOfPatter for [39.5, 6] on worker 'Process-115'\n",
      "MethodA.CountVectorizer.INFO    : start countVectorizer on worker 'Process-116'\n",
      "MethodA.CountVectorizer.INFO    : computing BagOfPatter for [39.5, 5] on worker 'Process-114'\n"
     ]
    },
    {
     "name": "stdout",
     "output_type": "stream",
     "text": [
      "worker 'Process-116' DONE\n"
     ]
    },
    {
     "name": "stderr",
     "output_type": "stream",
     "text": [
      "MethodA.CountVectorizer.INFO    : start countVectorizer on worker 'Process-117'\n"
     ]
    },
    {
     "name": "stdout",
     "output_type": "stream",
     "text": [
      "worker 'Process-117' DONE\n",
      "worker 'Process-110' DONE\n",
      "worker 'Process-111' DONE\n",
      "worker 'Process-112' DONE\n",
      "worker 'Process-114' DONE\n",
      "worker 'Process-113' DONE\n",
      "worker 'Process-115' DONE\n",
      "DONE\n",
      "computing balanced accuracy for Cross-validation using 8 process\n",
      "Multiprocessing CV: |||||| [DONE]\n",
      "first cv -> best b_acc: 0.641 for pair [39.5, 6] (4096 features) (time: 20.277 sec)\n",
      "computing count vectorizers for window = [12.   13.72 15.44 17.15 18.87 20.59 22.31 24.03 25.74 27.46 29.18 30.9\n",
      " 32.62 34.33 36.05 37.77 39.49 39.5  41.21 42.92 44.64 46.36 48.08 49.79\n",
      " 51.51 53.23 54.95 56.67 58.38 60.1  61.82 63.54 65.26 66.97 68.69 70.41\n",
      " 72.13 73.85 75.56 77.28 79.  ], word_length = [6] "
     ]
    },
    {
     "name": "stderr",
     "output_type": "stream",
     "text": [
      "MethodA.CountVectorizer.INFO    : start countVectorizer on worker 'Process-128'\n",
      "MethodA.CountVectorizer.INFO    : computing BagOfPatter for [12.0, 6] on worker 'Process-128'\n",
      "MethodA.CountVectorizer.INFO    : start countVectorizer on worker 'Process-129'\n",
      "MethodA.CountVectorizer.INFO    : computing BagOfPatter for [13.72, 6] on worker 'Process-129'\n",
      "MethodA.CountVectorizer.INFO    : start countVectorizer on worker 'Process-130'\n",
      "MethodA.CountVectorizer.INFO    : computing BagOfPatter for [15.44, 6] on worker 'Process-130'\n",
      "MethodA.CountVectorizer.INFO    : start countVectorizer on worker 'Process-131'\n",
      "MethodA.CountVectorizer.INFO    : computing BagOfPatter for [17.15, 6] on worker 'Process-131'\n",
      "MethodA.CountVectorizer.INFO    : start countVectorizer on worker 'Process-132'\n",
      "MethodA.CountVectorizer.INFO    : computing BagOfPatter for [18.87, 6] on worker 'Process-132'\n",
      "MethodA.CountVectorizer.INFO    : start countVectorizer on worker 'Process-133'\n",
      "MethodA.CountVectorizer.INFO    : start countVectorizer on worker 'Process-134'\n",
      "MethodA.CountVectorizer.INFO    : computing BagOfPatter for [20.59, 6] on worker 'Process-133'\n",
      "MethodA.CountVectorizer.INFO    : computing BagOfPatter for [22.31, 6] on worker 'Process-134'\n",
      "MethodA.CountVectorizer.INFO    : start countVectorizer on worker 'Process-135'\n",
      "MethodA.CountVectorizer.INFO    : computing BagOfPatter for [24.03, 6] on worker 'Process-135'\n",
      "MethodA.CountVectorizer.INFO    : computing BagOfPatter for [25.74, 6] on worker 'Process-134'\n",
      "MethodA.CountVectorizer.INFO    : computing BagOfPatter for [27.46, 6] on worker 'Process-133'\n",
      "MethodA.CountVectorizer.INFO    : computing BagOfPatter for [29.18, 6] on worker 'Process-135'\n",
      "MethodA.CountVectorizer.INFO    : computing BagOfPatter for [30.9, 6] on worker 'Process-131'\n",
      "MethodA.CountVectorizer.INFO    : computing BagOfPatter for [32.62, 6] on worker 'Process-130'\n",
      "MethodA.CountVectorizer.INFO    : computing BagOfPatter for [36.05, 6] on worker 'Process-132'\n",
      "MethodA.CountVectorizer.INFO    : computing BagOfPatter for [34.33, 6] on worker 'Process-129'\n",
      "MethodA.CountVectorizer.INFO    : computing BagOfPatter for [37.77, 6] on worker 'Process-128'\n",
      "MethodA.CountVectorizer.INFO    : computing BagOfPatter for [39.49, 6] on worker 'Process-128'\n",
      "MethodA.CountVectorizer.INFO    : computing BagOfPatter for [39.5, 6] on worker 'Process-132'\n",
      "MethodA.CountVectorizer.INFO    : computing BagOfPatter for [41.21, 6] on worker 'Process-135'\n",
      "MethodA.CountVectorizer.INFO    : computing BagOfPatter for [42.92, 6] on worker 'Process-129'\n",
      "MethodA.CountVectorizer.INFO    : computing BagOfPatter for [44.64, 6] on worker 'Process-130'\n",
      "MethodA.CountVectorizer.INFO    : computing BagOfPatter for [46.36, 6] on worker 'Process-131'\n",
      "MethodA.CountVectorizer.INFO    : computing BagOfPatter for [48.08, 6] on worker 'Process-133'\n",
      "MethodA.CountVectorizer.INFO    : computing BagOfPatter for [49.79, 6] on worker 'Process-134'\n",
      "MethodA.CountVectorizer.INFO    : computing BagOfPatter for [51.51, 6] on worker 'Process-131'\n",
      "MethodA.CountVectorizer.INFO    : computing BagOfPatter for [53.23, 6] on worker 'Process-133'\n",
      "MethodA.CountVectorizer.INFO    : computing BagOfPatter for [54.95, 6] on worker 'Process-130'\n",
      "MethodA.CountVectorizer.INFO    : computing BagOfPatter for [56.67, 6] on worker 'Process-134'\n",
      "MethodA.CountVectorizer.INFO    : computing BagOfPatter for [58.38, 6] on worker 'Process-129'\n",
      "MethodA.CountVectorizer.INFO    : computing BagOfPatter for [60.1, 6] on worker 'Process-135'\n",
      "MethodA.CountVectorizer.INFO    : computing BagOfPatter for [61.82, 6] on worker 'Process-132'\n",
      "MethodA.CountVectorizer.INFO    : computing BagOfPatter for [63.54, 6] on worker 'Process-128'\n",
      "MethodA.CountVectorizer.INFO    : computing BagOfPatter for [65.26, 6] on worker 'Process-128'\n",
      "MethodA.CountVectorizer.INFO    : computing BagOfPatter for [66.97, 6] on worker 'Process-132'\n",
      "MethodA.CountVectorizer.INFO    : computing BagOfPatter for [68.69, 6] on worker 'Process-135'\n",
      "MethodA.CountVectorizer.INFO    : computing BagOfPatter for [70.41, 6] on worker 'Process-129'\n",
      "MethodA.CountVectorizer.INFO    : computing BagOfPatter for [72.13, 6] on worker 'Process-134'\n",
      "MethodA.CountVectorizer.INFO    : computing BagOfPatter for [73.85, 6] on worker 'Process-130'\n",
      "MethodA.CountVectorizer.INFO    : computing BagOfPatter for [75.56, 6] on worker 'Process-133'\n",
      "MethodA.CountVectorizer.INFO    : computing BagOfPatter for [77.28, 6] on worker 'Process-131'\n",
      "MethodA.CountVectorizer.INFO    : computing BagOfPatter for [79.0, 6] on worker 'Process-133'\n"
     ]
    },
    {
     "name": "stdout",
     "output_type": "stream",
     "text": [
      "worker 'Process-131' DONE\n",
      "worker 'Process-134' DONE\n",
      "worker 'Process-130' DONE\n",
      "worker 'Process-129' DONE\n",
      "worker 'Process-135' DONE\n",
      "worker 'Process-132' DONE\n",
      "worker 'Process-128' DONE\n",
      "worker 'Process-133' DONE\n",
      "DONE\n",
      "computing balanced accuracy for Cross-validation using 8 process\n",
      "Multiprocessing CV: ||||||||||||||||||||||||||||||||||||||| [DONE]\n",
      "second cv -> best b_acc: 0.719 for pair [25.7, 6] (4096 features) (time: 344.014 sec)\n"
     ]
    }
   ],
   "source": [
    "# cv_finder = CVParamFinder(max_n_lengths=6, max_n_windows=40)\n",
    "# class_method = \"centroid\"\n",
    "# cv_method = \"kfold\"\n",
    "# n_splits = 10\n",
    "with_mean=True\n",
    "n_components = 20\n",
    "dist_method = \"cosine\"\n",
    "repr_method=\"tf_idf\"\n",
    "use_pca = True\n",
    "scale = False\n",
    "class_method = None\n",
    "\n",
    "\n",
    "cv_finder.cv_first_step(d_train, t_train, l_train, special_character=False, \n",
    "                        use_pca=use_pca, class_method=class_method, scale=scale, cv_method=cv_method,\n",
    "                       n_splits=n_splits, with_mean=with_mean, n_components=n_components,\n",
    "                                                 dist_method=dist_method, repr_method=repr_method)\n",
    "\n",
    "cv_finder.cv_second_step(d_train, t_train, l_train, special_character=False, \n",
    "                        use_pca=use_pca, class_method=class_method, scale=scale, cv_method=cv_method,\n",
    "                       n_splits=n_splits, with_mean=with_mean, n_components=n_components,\n",
    "                                                 dist_method=dist_method, repr_method=repr_method)"
   ]
  },
  {
   "cell_type": "code",
   "execution_count": 8,
   "metadata": {
    "scrolled": true
   },
   "outputs": [
    {
     "name": "stdout",
     "output_type": "stream",
     "text": [
      "computing count vectorizers for window = [48.08 34.33 41.21 39.49 39.5  49.79 15.44 44.64 54.95 30.9 ], word_length = [6 7 5 4] "
     ]
    },
    {
     "name": "stderr",
     "output_type": "stream",
     "text": [
      "MethodA.CountVectorizer.INFO    : start countVectorizer on worker 'Process-38'\n",
      "MethodA.CountVectorizer.INFO    : computing BagOfPatter for [48.08, 6] on worker 'Process-38'\n",
      "MethodA.CountVectorizer.INFO    : start countVectorizer on worker 'Process-39'\n",
      "MethodA.CountVectorizer.INFO    : start countVectorizer on worker 'Process-40'\n",
      "MethodA.CountVectorizer.INFO    : computing BagOfPatter for [34.33, 6] on worker 'Process-39'\n",
      "MethodA.CountVectorizer.INFO    : computing BagOfPatter for [41.21, 6] on worker 'Process-40'\n",
      "MethodA.CountVectorizer.INFO    : start countVectorizer on worker 'Process-41'\n",
      "MethodA.CountVectorizer.INFO    : start countVectorizer on worker 'Process-42'\n",
      "MethodA.CountVectorizer.INFO    : start countVectorizer on worker 'Process-43'\n",
      "MethodA.CountVectorizer.INFO    : computing BagOfPatter for [39.49, 6] on worker 'Process-41'\n",
      "MethodA.CountVectorizer.INFO    : start countVectorizer on worker 'Process-45'\n",
      "MethodA.CountVectorizer.INFO    : computing BagOfPatter for [39.5, 6] on worker 'Process-42'\n",
      "MethodA.CountVectorizer.INFO    : start countVectorizer on worker 'Process-44'\n",
      "MethodA.CountVectorizer.INFO    : computing BagOfPatter for [49.79, 6] on worker 'Process-43'\n",
      "MethodA.CountVectorizer.INFO    : computing BagOfPatter for [15.44, 6] on worker 'Process-45'\n",
      "MethodA.CountVectorizer.INFO    : computing BagOfPatter for [44.64, 6] on worker 'Process-44'\n",
      "MethodA.CountVectorizer.INFO    : computing BagOfPatter for [54.95, 6] on worker 'Process-38'\n",
      "MethodA.CountVectorizer.INFO    : computing BagOfPatter for [30.9, 6] on worker 'Process-43'\n",
      "MethodA.CountVectorizer.INFO    : computing BagOfPatter for [48.08, 7] on worker 'Process-44'\n",
      "MethodA.CountVectorizer.INFO    : computing BagOfPatter for [34.33, 7] on worker 'Process-40'\n",
      "MethodA.CountVectorizer.INFO    : computing BagOfPatter for [41.21, 7] on worker 'Process-42'\n",
      "MethodA.CountVectorizer.INFO    : computing BagOfPatter for [39.49, 7] on worker 'Process-39'\n",
      "MethodA.CountVectorizer.INFO    : computing BagOfPatter for [39.5, 7] on worker 'Process-41'\n",
      "MethodA.CountVectorizer.INFO    : computing BagOfPatter for [49.79, 7] on worker 'Process-38'\n",
      "MethodA.CountVectorizer.INFO    : computing BagOfPatter for [15.44, 7] on worker 'Process-45'\n",
      "MethodA.CountVectorizer.INFO    : computing BagOfPatter for [44.64, 7] on worker 'Process-44'\n",
      "MethodA.CountVectorizer.INFO    : computing BagOfPatter for [54.95, 7] on worker 'Process-43'\n",
      "MethodA.CountVectorizer.INFO    : computing BagOfPatter for [30.9, 7] on worker 'Process-40'\n",
      "MethodA.CountVectorizer.INFO    : computing BagOfPatter for [48.08, 5] on worker 'Process-39'\n",
      "MethodA.CountVectorizer.INFO    : computing BagOfPatter for [34.33, 5] on worker 'Process-42'\n",
      "MethodA.CountVectorizer.INFO    : computing BagOfPatter for [41.21, 5] on worker 'Process-41'\n",
      "MethodA.CountVectorizer.INFO    : computing BagOfPatter for [39.49, 5] on worker 'Process-38'\n",
      "MethodA.CountVectorizer.INFO    : computing BagOfPatter for [39.5, 5] on worker 'Process-43'\n",
      "MethodA.CountVectorizer.INFO    : computing BagOfPatter for [49.79, 5] on worker 'Process-39'\n",
      "MethodA.CountVectorizer.INFO    : computing BagOfPatter for [15.44, 5] on worker 'Process-44'\n",
      "MethodA.CountVectorizer.INFO    : computing BagOfPatter for [44.64, 5] on worker 'Process-41'\n",
      "MethodA.CountVectorizer.INFO    : computing BagOfPatter for [54.95, 5] on worker 'Process-45'\n",
      "MethodA.CountVectorizer.INFO    : computing BagOfPatter for [30.9, 5] on worker 'Process-38'\n",
      "MethodA.CountVectorizer.INFO    : computing BagOfPatter for [48.08, 4] on worker 'Process-42'\n",
      "MethodA.CountVectorizer.INFO    : computing BagOfPatter for [34.33, 4] on worker 'Process-40'\n",
      "MethodA.CountVectorizer.INFO    : computing BagOfPatter for [41.21, 4] on worker 'Process-39'\n",
      "MethodA.CountVectorizer.INFO    : computing BagOfPatter for [39.49, 4] on worker 'Process-43'\n",
      "MethodA.CountVectorizer.INFO    : computing BagOfPatter for [39.5, 4] on worker 'Process-45'\n",
      "MethodA.CountVectorizer.INFO    : computing BagOfPatter for [49.79, 4] on worker 'Process-42'\n",
      "MethodA.CountVectorizer.INFO    : computing BagOfPatter for [15.44, 4] on worker 'Process-41'\n",
      "MethodA.CountVectorizer.INFO    : computing BagOfPatter for [44.64, 4] on worker 'Process-38'\n",
      "MethodA.CountVectorizer.INFO    : computing BagOfPatter for [54.95, 4] on worker 'Process-44'\n",
      "MethodA.CountVectorizer.INFO    : computing BagOfPatter for [30.9, 4] on worker 'Process-39'\n"
     ]
    },
    {
     "name": "stdout",
     "output_type": "stream",
     "text": [
      "worker 'Process-43' DONE\n",
      "worker 'Process-40' DONE\n",
      "worker 'Process-42' DONE\n",
      "worker 'Process-45' DONE\n",
      "worker 'Process-44' DONE\n",
      "worker 'Process-38' DONE\n",
      "worker 'Process-41' DONE\n",
      "worker 'Process-39' DONE\n",
      "DONE\n",
      "computing balanced accuracy for Cross-validation using 8 process\n",
      "Multiprocessing CV: ||||||||||||||||||||||||||||||||||||||| [DONE]\n",
      "third cv -> best b_acc: 0.475 for pair [48.1, 4] (4352 features) (time: 47.856 sec)\n",
      "[(48.08, 6), (48.08, 4)]\n",
      "computing balanced accuracy for Cross-validation using 8 process\n",
      "Multiprocessing CV: |||||||||||||||||||||||||||||||||||||| [DONE]\n",
      "accuracy doesnt improve, best combinations are: [(48.08, 6), (48.08, 4)]  (time: 46.850 sec)\n",
      "[(48.08, 6), (48.08, 4)]\n"
     ]
    }
   ],
   "source": [
    "c = 1\n",
    "while True:\n",
    "    if c > 5 or cv_finder.stop:\n",
    "        break\n",
    "    cv_finder.cv_third_step(d_train, t_train, l_train, special_character=False,\n",
    "                       use_pca=False, class_method=class_method, scale=False,\n",
    "                           cv_method=cv_method, n_splits=n_splits)\n",
    "    print(cv_finder.selected_tuples)\n",
    "    c += 1"
   ]
  },
  {
   "cell_type": "code",
   "execution_count": 9,
   "metadata": {},
   "outputs": [
    {
     "data": {
      "text/plain": [
       "<399x4352 sparse matrix of type '<class 'numpy.float64'>'\n",
       "\twith 13868 stored elements in List of Lists format>"
      ]
     },
     "execution_count": 9,
     "metadata": {},
     "output_type": "execute_result"
    }
   ],
   "source": [
    "cv_finder.selected_vectors"
   ]
  },
  {
   "cell_type": "code",
   "execution_count": 10,
   "metadata": {},
   "outputs": [
    {
     "data": {
      "text/plain": [
       "[(48.08, 6), (48.08, 4)]"
      ]
     },
     "execution_count": 10,
     "metadata": {},
     "output_type": "execute_result"
    }
   ],
   "source": [
    "cv_finder.selected_tuples"
   ]
  },
  {
   "cell_type": "markdown",
   "metadata": {},
   "source": [
    "- selected tuples for DistalPhalanxOutlineAgeGroup is: \\[(21.24, 6), (25.86, 6), (48.97, 4), (48.97, 6)\\]\n",
    "- selecte tuples for FaceFour is: \\[(138.59, 5), (174.5, 5), (126.9, 4), (126.9, 4), (126.9, 4)\\]"
   ]
  },
  {
   "cell_type": "code",
   "execution_count": 11,
   "metadata": {},
   "outputs": [
    {
     "name": "stderr",
     "output_type": "stream",
     "text": [
      "MethodA.CountVectorizer.INFO    : start countVectorizer on worker 'Process-65'\n",
      "MethodA.CountVectorizer.INFO    : computing BagOfPatter for [48.08, 6] on worker 'Process-65'\n",
      "MethodA.CountVectorizer.INFO    : start countVectorizer on worker 'Process-66'\n",
      "MethodA.CountVectorizer.INFO    : computing BagOfPatter for [48.08, 4] on worker 'Process-66'\n",
      "MethodA.CountVectorizer.INFO    : start countVectorizer on worker 'Process-67'\n"
     ]
    },
    {
     "name": "stdout",
     "output_type": "stream",
     "text": [
      "worker 'Process-67' DONE"
     ]
    },
    {
     "name": "stderr",
     "output_type": "stream",
     "text": [
      "MethodA.CountVectorizer.INFO    : start countVectorizer on worker 'Process-68'\n"
     ]
    },
    {
     "name": "stdout",
     "output_type": "stream",
     "text": [
      "\n",
      "worker 'Process-68' DONE\n"
     ]
    },
    {
     "name": "stderr",
     "output_type": "stream",
     "text": [
      "MethodA.CountVectorizer.INFO    : start countVectorizer on worker 'Process-69'\n"
     ]
    },
    {
     "name": "stdout",
     "output_type": "stream",
     "text": [
      "worker 'Process-69' DONE\n"
     ]
    },
    {
     "name": "stderr",
     "output_type": "stream",
     "text": [
      "MethodA.CountVectorizer.INFO    : start countVectorizer on worker 'Process-70'\n",
      "MethodA.CountVectorizer.INFO    : start countVectorizer on worker 'Process-71'\n"
     ]
    },
    {
     "name": "stdout",
     "output_type": "stream",
     "text": [
      "worker 'Process-70' DONEworker 'Process-71' DONE\n"
     ]
    },
    {
     "name": "stderr",
     "output_type": "stream",
     "text": [
      "MethodA.CountVectorizer.INFO    : start countVectorizer on worker 'Process-72'\n"
     ]
    },
    {
     "name": "stdout",
     "output_type": "stream",
     "text": [
      "\n",
      "worker 'Process-72' DONE\n",
      "worker 'Process-66' DONE\n",
      "worker 'Process-65' DONE\n"
     ]
    },
    {
     "name": "stderr",
     "output_type": "stream",
     "text": [
      "MethodA.CountVectorizer.INFO    : start countVectorizer on worker 'Process-74'\n",
      "MethodA.CountVectorizer.INFO    : computing BagOfPatter for [48.08, 6] on worker 'Process-74'\n",
      "MethodA.CountVectorizer.INFO    : start countVectorizer on worker 'Process-75'\n",
      "MethodA.CountVectorizer.INFO    : computing BagOfPatter for [48.08, 4] on worker 'Process-75'\n",
      "MethodA.CountVectorizer.INFO    : start countVectorizer on worker 'Process-76'\n"
     ]
    },
    {
     "name": "stdout",
     "output_type": "stream",
     "text": [
      "worker 'Process-76' DONE"
     ]
    },
    {
     "name": "stderr",
     "output_type": "stream",
     "text": [
      "MethodA.CountVectorizer.INFO    : start countVectorizer on worker 'Process-77'\n"
     ]
    },
    {
     "name": "stdout",
     "output_type": "stream",
     "text": [
      "\n"
     ]
    },
    {
     "name": "stderr",
     "output_type": "stream",
     "text": [
      "MethodA.CountVectorizer.INFO    : start countVectorizer on worker 'Process-78'\n"
     ]
    },
    {
     "name": "stdout",
     "output_type": "stream",
     "text": [
      "worker 'Process-77' DONE\n"
     ]
    },
    {
     "name": "stderr",
     "output_type": "stream",
     "text": [
      "MethodA.CountVectorizer.INFO    : start countVectorizer on worker 'Process-79'\n"
     ]
    },
    {
     "name": "stdout",
     "output_type": "stream",
     "text": [
      "worker 'Process-78' DONEworker 'Process-79' DONE\n",
      "\n"
     ]
    },
    {
     "name": "stderr",
     "output_type": "stream",
     "text": [
      "MethodA.CountVectorizer.INFO    : start countVectorizer on worker 'Process-81'\n"
     ]
    },
    {
     "name": "stdout",
     "output_type": "stream",
     "text": [
      "worker 'Process-81' DONE"
     ]
    },
    {
     "name": "stderr",
     "output_type": "stream",
     "text": [
      "MethodA.CountVectorizer.INFO    : start countVectorizer on worker 'Process-80'\n"
     ]
    },
    {
     "name": "stdout",
     "output_type": "stream",
     "text": [
      "\n",
      "worker 'Process-80' DONE\n",
      "worker 'Process-75' DONE\n",
      "worker 'Process-74' DONE\n",
      "(154, 4352) (399, 4352)\n"
     ]
    }
   ],
   "source": [
    "tuples = cv_finder.selected_tuples[:]\n",
    "# tuples = [(15, 3), (30, 4), (45, 5), (60, 6)]\n",
    "wl_arr, win_arr, vectors_test_arr = transformer_mp_tuples(d_test, t_test, tuples, \n",
    "                                                     special_character=False)\n",
    "vectors_test = vectors_test_arr[0]\n",
    "if len(vectors_test_arr) > 1:\n",
    "    for i in range(1, len(vectors_test_arr)):\n",
    "        vectors_test = sparse.hstack((vectors_test, vectors_test_arr[i])).tolil()\n",
    "        \n",
    "wl_arr, win_arr, vectors_train_arr = transformer_mp_tuples(d_train, t_train, tuples, \n",
    "                                                     special_character=False)\n",
    "\n",
    "vectors_train = vectors_train_arr[0]\n",
    "if len(vectors_train_arr) > 1:\n",
    "    for i in range(1, len(vectors_train_arr)):\n",
    "        vectors_train = sparse.hstack((vectors_train, vectors_train_arr[i])).tolil()\n",
    "        \n",
    "print(vectors_test.shape, vectors_train.shape)"
   ]
  },
  {
   "cell_type": "code",
   "execution_count": 12,
   "metadata": {},
   "outputs": [],
   "source": [
    "from sklearn.decomposition import PCA, TruncatedSVD\n",
    "from sklearn.preprocessing import StandardScaler\n",
    "from src.methodA.class_vectors import predict_by_centroid, predict_by_tf_idf, compute_class_centroids, \\\n",
    "    compute_class_tf_idf, transform_vector_to_tf_idf_class_form\n",
    "\n",
    "def train_test_classify2(X_train, X_test, y_train, use_pca=True, class_method=\"centroid\", scale=True):\n",
    "    if class_method is not None:\n",
    "        n_com = len(np.unique(y_train))\n",
    "    else:\n",
    "        n_com = min(20, X_train.shape[1]-1)\n",
    "\n",
    "    std_scaler = StandardScaler(with_mean=True)\n",
    "\n",
    "    if class_method == \"centroid\":\n",
    "        X_train, y_train = compute_class_centroids(X_train, y_train)\n",
    "    elif class_method == \"tf_idf\":\n",
    "        X_train, y_train = compute_class_tf_idf(X_train, y_train)\n",
    "\n",
    "    if scale:\n",
    "        X_train = std_scaler.fit_transform(X_train)\n",
    "        X_test = std_scaler.transform(X_test)\n",
    "\n",
    "    if use_pca:\n",
    "        pca = PCA(n_components=n_com)\n",
    "        dim_before = X_train.shape[1]\n",
    "        X_train = pca.fit_transform(X_train)\n",
    "        X_test = pca.transform(X_test)\n",
    "        print(\"dim reduced: %d -> %d\" % (dim_before, X_train.shape[1]))\n",
    "\n",
    "    if class_method == \"centroid\":\n",
    "        print(X_train.shape, X_test.shape)\n",
    "        y_pred = predict_by_centroid(X_train, y_train, X_test)\n",
    "    elif class_method == \"tf_idf\":\n",
    "        y_pred = predict_by_tf_idf(X_train, y_train, X_test)\n",
    "    else:\n",
    "        raise ValueError(\"class type '%s' unknown\" % class_method)\n",
    "\n",
    "    return y_pred"
   ]
  },
  {
   "cell_type": "code",
   "execution_count": 14,
   "metadata": {},
   "outputs": [
    {
     "name": "stdout",
     "output_type": "stream",
     "text": [
      "dim reduced: 4352 -> 6\n"
     ]
    },
    {
     "data": {
      "text/plain": [
       "0.6699247129681912"
      ]
     },
     "execution_count": 14,
     "metadata": {},
     "output_type": "execute_result"
    }
   ],
   "source": [
    "pred = train_test_classify(vectors_train, vectors_test, np.array(l_train), use_pca=True,\n",
    "                           class_method=\"centroid\", scale=True, with_mean=True)\n",
    "1 - balanced_accuracy_score(l_test, pred)"
   ]
  },
  {
   "cell_type": "code",
   "execution_count": null,
   "metadata": {},
   "outputs": [],
   "source": [
    "%debug"
   ]
  },
  {
   "cell_type": "code",
   "execution_count": null,
   "metadata": {
    "scrolled": true
   },
   "outputs": [],
   "source": [
    "# mean_width = np.mean([x[-1] - x[0] for x in t_train])\n",
    "# window = np.array([mean_width / i for i in range(1, 10)], dtype=int)\n",
    "# window = 39\n",
    "# word_length = [6]\n",
    "\n",
    "# count_vect_transf = CountVectorizer(special_character=False, word_length=word_length,\n",
    "#                                    window=window)\n",
    "# count_vect_transf.fit(d_train, t_train)\n",
    "\n",
    "# wl_arr, win_arr, corpus_arr, count_vec_arr = count_vect_transf.transform(d_train, t_train)\n",
    "# wl_arr, win_arr, corpus_arr, count_vec_arr_test = count_vect_transf.transform(d_test, t_test)"
   ]
  },
  {
   "cell_type": "code",
   "execution_count": null,
   "metadata": {},
   "outputs": [],
   "source": [
    "# vectors_train = None\n",
    "# c = 0\n",
    "# for wl, win, count_vec in zip(wl_arr, win_arr, count_vec_arr):\n",
    "# #     print(wl, win)\n",
    "#     c +=1\n",
    "#     if vectors_train is None:\n",
    "#         vectors_train = count_vec\n",
    "#     else:\n",
    "#         vectors_train  = np.concatenate((vectors_train, count_vec), axis=1)\n",
    "# #     print(vectors.shape)\n",
    "# print(vectors_train.shape)\n",
    "\n",
    "# vectors_test = None\n",
    "# c = 0\n",
    "# for wl, win, count_vec in zip(wl_arr, win_arr, count_vec_arr_test):\n",
    "# #     print(wl, win)\n",
    "#     c +=1\n",
    "#     if vectors_test is None:\n",
    "#         vectors_test = count_vec\n",
    "#     else:\n",
    "#         vectors_test  = np.concatenate((vectors_test, count_vec), axis=1)\n",
    "# #     print(vectors.shape)\n",
    "# print(vectors_test.shape)"
   ]
  },
  {
   "cell_type": "code",
   "execution_count": null,
   "metadata": {},
   "outputs": [],
   "source": [
    "# %%time\n",
    "# n_classes = len(np.unique(l_train))\n",
    "# mean_len = np.mean([len(x) for x in d_train])\n",
    "# n_com_arr = np.linspace(n_classes, int(mean_len), 15).astype(int)\n",
    "# print(n_com_arr)\n",
    "\n",
    "# real, pred = cv_classify(vectors_train, np.array(l_train), use_pca=True, cv_method=\"loo\", class_method=\"centroid\",\n",
    "#                         scale=False)\n",
    "# 1 - balanced_accuracy_score(real, pred)"
   ]
  },
  {
   "cell_type": "code",
   "execution_count": null,
   "metadata": {},
   "outputs": [],
   "source": [
    "# pred"
   ]
  },
  {
   "cell_type": "code",
   "execution_count": null,
   "metadata": {},
   "outputs": [],
   "source": [
    "# pred = train_test_classify(vectors_train, vectors_test, np.array(l_train), use_pca=True, \n",
    "#                            class_method=\"centroid\")\n",
    "# 1 - balanced_accuracy_score(l_test, pred)"
   ]
  },
  {
   "cell_type": "code",
   "execution_count": null,
   "metadata": {},
   "outputs": [],
   "source": [
    "# real_labels = []\n",
    "# pred_labels = []\n",
    "# for real_i, pred_i in zip(real, pred):\n",
    "#     real_labels.extend(list(real_i))\n",
    "#     pred_labels.extend(list(pred_i))"
   ]
  },
  {
   "cell_type": "code",
   "execution_count": null,
   "metadata": {},
   "outputs": [],
   "source": [
    "# pred_labels"
   ]
  },
  {
   "cell_type": "code",
   "execution_count": null,
   "metadata": {},
   "outputs": [],
   "source": [
    "# 1 - balanced_accuracy_score(real_labels, pred_labels)"
   ]
  },
  {
   "cell_type": "code",
   "execution_count": null,
   "metadata": {},
   "outputs": [],
   "source": []
  }
 ],
 "metadata": {
  "kernelspec": {
   "display_name": "Python 3",
   "language": "python",
   "name": "python3"
  },
  "language_info": {
   "codemirror_mode": {
    "name": "ipython",
    "version": 3
   },
   "file_extension": ".py",
   "mimetype": "text/x-python",
   "name": "python",
   "nbconvert_exporter": "python",
   "pygments_lexer": "ipython3",
   "version": "3.7.9"
  }
 },
 "nbformat": 4,
 "nbformat_minor": 4
}
