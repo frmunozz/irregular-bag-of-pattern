{
 "cells": [
  {
   "cell_type": "markdown",
   "metadata": {},
   "source": [
    "# Bag of pattern feature\n",
    "\n",
    "Linear time method for classify time series using 1-NN approach. The method consist on generate all the sub-sequences of length $S$ from the timeseries, transforming each sub-sequence into a SAX word, generating a Bag-of-Patter representation.  \n",
    "\n",
    "For irregular time series support the following modifications are made:\n",
    "\n",
    "1. sub-sequence length will be defined based on time window instead of number of samples\n",
    "2. sub-sequences with empty segments will be represented with special character on the SAX word.\n"
   ]
  },
  {
   "cell_type": "markdown",
   "metadata": {},
   "source": [
    "## Step by step execution\n",
    "\n",
    "Bag-of-Pattern features is a secuential process composed of several steps. Here we will show them based on the implemented source code using a **small dataset of regular time series**"
   ]
  },
  {
   "cell_type": "code",
   "execution_count": 1,
   "metadata": {},
   "outputs": [],
   "source": [
    "import sys\n",
    "import os\n",
    "from collections import defaultdict\n",
    "sys.path.insert(0, os.path.abspath(os.path.join(os.path.dirname(\"./Untitled.ipynb\"), '..')))\n",
    "import numpy as np\n",
    "from src.bopf.bopf import BagOfPatternFeature\n",
    "from src.utils import sort_trim_arr\n",
    "from src.bopf.classifier import classify, classify2\n",
    "import matplotlib.pyplot as plt\n",
    "import time\n",
    "import pandas as pd\n",
    "from scipy.stats import f_oneway\n",
    "from sklearn.metrics import classification_report\n",
    "from sklearn.metrics import confusion_matrix\n",
    "import itertools\n",
    "%matplotlib inline"
   ]
  },
  {
   "cell_type": "markdown",
   "metadata": {},
   "source": [
    "1. instanciate the main class"
   ]
  },
  {
   "cell_type": "code",
   "execution_count": 2,
   "metadata": {},
   "outputs": [],
   "source": [
    "# special_character set to FALSE when using regular time series\n",
    "bopf = BagOfPatternFeature(special_character=False)"
   ]
  },
  {
   "cell_type": "markdown",
   "metadata": {},
   "source": [
    "2. load the dataset. In this case we will use Car dataset from UCR Archive which has 60 train samples and 60 test samples"
   ]
  },
  {
   "cell_type": "code",
   "execution_count": 3,
   "metadata": {},
   "outputs": [
    {
     "name": "stdout",
     "output_type": "stream",
     "text": [
      "train size: 24 Ts len: 350\n",
      "CPU times: user 13.9 ms, sys: 1.44 ms, total: 15.4 ms\n",
      "Wall time: 24 ms\n"
     ]
    }
   ],
   "source": [
    "%%time\n",
    "# path windows\n",
    "path = \"../../UCRArchive_2018/FaceFour/FaceFour_TRAIN.tsv\"\n",
    "bopf.load_dataset(path, fmt=\"file\")\n",
    "print(\"train size:\", bopf.m, \"Ts len:\", len(bopf.dataset[0]))"
   ]
  },
  {
   "cell_type": "markdown",
   "metadata": {},
   "source": [
    "3. compute the CUMSUM matrix, needed for the linear time PAA computation."
   ]
  },
  {
   "cell_type": "code",
   "execution_count": 4,
   "metadata": {},
   "outputs": [
    {
     "name": "stdout",
     "output_type": "stream",
     "text": [
      "CPU times: user 62.9 ms, sys: 412 µs, total: 63.3 ms\n",
      "Wall time: 59.8 ms\n"
     ]
    }
   ],
   "source": [
    "%%time\n",
    "bopf.cumsum()"
   ]
  },
  {
   "cell_type": "markdown",
   "metadata": {},
   "source": [
    "4. get the bag-of-pattern representation for each time series. Input parameters are:\n",
    "\n",
    "    - Word length (wd): the number of letter within each word\n",
    "    - Sub-sequence width (wl): the size of each sub-sequence, input is a fraction ($[0, 1]$) of the whole time series width "
   ]
  },
  {
   "cell_type": "code",
   "execution_count": 5,
   "metadata": {},
   "outputs": [
    {
     "name": "stderr",
     "output_type": "stream",
     "text": [
      "/home/frmunoz/Documents/tesis/src/bopf/bopf.py:313: RuntimeWarning: invalid value encountered in sqrt\n",
      "  sigmax = np.sqrt(round(sumx2 / (seq_j-seq_i), 15) - round(meanx * meanx, 15))\n",
      "/home/frmunoz/Documents/tesis/src/bopf/bopf.py:332: RuntimeWarning: divide by zero encountered in double_scalars\n",
      "  paa = (avgsub - meanx) / sigmax\n"
     ]
    },
    {
     "name": "stdout",
     "output_type": "stream",
     "text": [
      "TOTAL DE SEGMENTOS VACIOS:  0\n",
      "TOTAL DE TIMESERIES DESCARTADAS:  0\n",
      "TOTAL DE ts < 6: 0\n",
      "CPU times: user 593 ms, sys: 9.28 ms, total: 602 ms\n",
      "Wall time: 598 ms\n"
     ]
    }
   ],
   "source": [
    "%%time\n",
    "wd = 7\n",
    "wl = 0.025\n",
    "bopf.bop(wd, wl)"
   ]
  },
  {
   "cell_type": "markdown",
   "metadata": {},
   "source": [
    "5. adjust the labels, getting the counts of time series on each class and an index array for each time series which lead to its label"
   ]
  },
  {
   "cell_type": "code",
   "execution_count": 6,
   "metadata": {},
   "outputs": [
    {
     "name": "stdout",
     "output_type": "stream",
     "text": [
      "CPU times: user 1.56 ms, sys: 397 µs, total: 1.95 ms\n",
      "Wall time: 1.55 ms\n"
     ]
    }
   ],
   "source": [
    "%%time\n",
    "bopf.adjust_label_set()"
   ]
  },
  {
   "cell_type": "markdown",
   "metadata": {},
   "source": [
    "6. Perform ANOVA F Test for discriminating the best features of the bag-of-pattern representation"
   ]
  },
  {
   "cell_type": "code",
   "execution_count": 7,
   "metadata": {},
   "outputs": [
    {
     "name": "stdout",
     "output_type": "stream",
     "text": [
      "CPU times: user 1.68 s, sys: 17.8 ms, total: 1.7 s\n",
      "Wall time: 1.68 s\n"
     ]
    }
   ],
   "source": [
    "%%time\n",
    "bopf.anova()"
   ]
  },
  {
   "cell_type": "code",
   "execution_count": 8,
   "metadata": {},
   "outputs": [
    {
     "name": "stdout",
     "output_type": "stream",
     "text": [
      "CPU times: user 1.43 ms, sys: 10.3 ms, total: 11.7 ms\n",
      "Wall time: 14 ms\n"
     ]
    }
   ],
   "source": [
    "%%time\n",
    "bopf.anova_matrix()"
   ]
  },
  {
   "cell_type": "markdown",
   "metadata": {},
   "source": [
    "7. drop all features with ANOVA F value 0 and sort the rest in decreasing order"
   ]
  },
  {
   "cell_type": "code",
   "execution_count": 9,
   "metadata": {},
   "outputs": [
    {
     "name": "stdout",
     "output_type": "stream",
     "text": [
      "bopf features will be reduced from 16384 to 1433\n",
      "CPU times: user 8.27 ms, sys: 0 ns, total: 8.27 ms\n",
      "Wall time: 5.98 ms\n"
     ]
    }
   ],
   "source": [
    "%%time\n",
    "bopf.anova_sort()\n",
    "print(\"bopf features will be reduced from %d to %d\" % (bopf.bopsize, bopf.fea_num))"
   ]
  },
  {
   "cell_type": "markdown",
   "metadata": {},
   "source": [
    "8. sort and trim the bag-of-pattern representation matrix of the whole dataset according tho the anova_sort"
   ]
  },
  {
   "cell_type": "code",
   "execution_count": 10,
   "metadata": {},
   "outputs": [
    {
     "name": "stdout",
     "output_type": "stream",
     "text": [
      "CPU times: user 89.2 ms, sys: 22.5 ms, total: 112 ms\n",
      "Wall time: 88.5 ms\n"
     ]
    }
   ],
   "source": [
    "%%time\n",
    "bopf.sort_trim_arr()"
   ]
  },
  {
   "cell_type": "markdown",
   "metadata": {},
   "source": [
    "9. cross validate the accuracy of classification under leave-one-out method for the reduced bag-of-pattern representation, testing different combination of the top features. The cross validation is made under two different values:\n",
    "    - cross validation using class centroids for classification\n",
    "    - cross validation using class TF-IDF weights for classification"
   ]
  },
  {
   "cell_type": "code",
   "execution_count": 11,
   "metadata": {},
   "outputs": [],
   "source": [
    "bopf.count_words_by_class()"
   ]
  },
  {
   "cell_type": "code",
   "execution_count": 12,
   "metadata": {},
   "outputs": [
    {
     "name": "stdout",
     "output_type": "stream",
     "text": [
      "CPU times: user 1.26 s, sys: 0 ns, total: 1.26 s\n",
      "Wall time: 1.26 s\n"
     ]
    }
   ],
   "source": [
    "%%time\n",
    "# cross validation using centroids\n",
    "bopf.cross_VL()\n",
    "# print(\"best accuracy of CV: \", bopf.best_score, \", using the top\", bopf.best_idx, \"features according to ANOVA F\")"
   ]
  },
  {
   "cell_type": "code",
   "execution_count": 12,
   "metadata": {},
   "outputs": [
    {
     "name": "stdout",
     "output_type": "stream",
     "text": [
      "best accuracy of CV:  0.9166666666666666 , using the top 14 features according to ANOVA F\n",
      "CPU times: user 1.28 s, sys: 9.08 ms, total: 1.29 s\n",
      "Wall time: 1.28 s\n"
     ]
    }
   ],
   "source": [
    "%%time\n",
    "# cross validation using centroids\n",
    "bopf.crossVL(verbose=False)\n",
    "print(\"best accuracy of CV: \", bopf.best_score, \", using the top\", bopf.best_idx, \"features according to ANOVA F\")"
   ]
  },
  {
   "cell_type": "code",
   "execution_count": 13,
   "metadata": {
    "scrolled": true
   },
   "outputs": [
    {
     "name": "stdout",
     "output_type": "stream",
     "text": [
      "best accuracy of CV2:  1.0 , using the top 1433 features according to ANOVA F\n",
      "CPU times: user 1.83 s, sys: 0 ns, total: 1.83 s\n",
      "Wall time: 1.83 s\n"
     ]
    }
   ],
   "source": [
    "%%time\n",
    "# cross validation using tf-idf\n",
    "bopf.crossVL2()\n",
    "print(\"best accuracy of CV2: \", bopf.best2_score, \", using the top\", bopf.best2_idx, \"features according to ANOVA F\")"
   ]
  },
  {
   "cell_type": "markdown",
   "metadata": {},
   "source": [
    "10. classify a test set using the best configuration for centroids or tf-idf"
   ]
  },
  {
   "cell_type": "code",
   "execution_count": 14,
   "metadata": {},
   "outputs": [],
   "source": [
    "from src.bopf.classifier import classify, classify2\n",
    "from src.utils import sort_trim_arr"
   ]
  },
  {
   "cell_type": "code",
   "execution_count": 15,
   "metadata": {},
   "outputs": [
    {
     "name": "stderr",
     "output_type": "stream",
     "text": [
      "/home/frmunoz/Documents/tesis/src/bopf/bopf.py:332: RuntimeWarning: invalid value encountered in double_scalars\n",
      "  paa = (avgsub - meanx) / sigmax\n"
     ]
    },
    {
     "name": "stdout",
     "output_type": "stream",
     "text": [
      "TOTAL DE SEGMENTOS VACIOS:  0\n",
      "TOTAL DE TIMESERIES DESCARTADAS:  0\n",
      "TOTAL DE ts < 6: 0\n",
      "accuracy of classify using wd: 7 , wl: 0.025 , and best config for centroids is: 0.4772727272727273\n",
      "accuracy of classify using wd: 7 , wl: 0.025 , and best config for tf-idf is: 0.48863636363636365\n"
     ]
    }
   ],
   "source": [
    "# load the test set\n",
    "bopf_t = BagOfPatternFeature(special_character=False)\n",
    "path_t = \"../../UCRArchive_2018/FaceFour/FaceFour_TEST.tsv\"\n",
    "bopf_t.load_dataset(path_t, fmt=\"file\")\n",
    "\n",
    "# compute CUMSUM matrix for test set\n",
    "bopf_t.cumsum()\n",
    "\n",
    "# compute bag-of-pattern representation for test set\n",
    "bopf_t.bop(wd, wl)\n",
    "\n",
    "# sort and trim the bag-of-pattern representation based on the centroid best configuration\n",
    "test_bop_sort = sort_trim_arr(bopf_t.train_bop, bopf.sort_index[:bopf.best_idx], \n",
    "                                  bopf_t.m, bopf.best_idx)\n",
    "# classify to get predicted labels\n",
    "predicted_label = classify(test_bop_sort, bopf.crossL[:bopf. c*bopf.best_idx], bopf.tlabel, \n",
    "                               bopf_t.m, bopf.c, bopf.best_idx)\n",
    "\n",
    "# get real labels of test set\n",
    "real_label = np.array(bopf_t.labels)\n",
    "\n",
    "# compute accuracy\n",
    "count = 0\n",
    "for i in range(len(real_label)):\n",
    "    if predicted_label[i] == real_label[i]:\n",
    "        count += 1\n",
    "\n",
    "acc = count / bopf_t.m\n",
    "print(\"accuracy of classify using wd:\", wd, \", wl:\", wl, \", and best config for centroids is:\", acc)\n",
    "\n",
    "### repeat for tf-idf\n",
    "\n",
    "# sort and trim the bag-of-pattern representation based on the centroid best configuration\n",
    "test_bop_sort2 = sort_trim_arr(bopf_t.train_bop, bopf.sort_index[:bopf.best2_idx], \n",
    "                                  bopf_t.m, bopf.best2_idx)\n",
    "# classify to get predicted labels\n",
    "predicted_label2 = classify2(test_bop_sort2, bopf.crossL2[:bopf.c*bopf.best2_idx], bopf.tlabel, \n",
    "                               bopf_t.m, bopf.c, bopf.best2_idx)\n",
    "\n",
    "# compute accuracy\n",
    "count = 0\n",
    "for i in range(len(real_label)):\n",
    "    if predicted_label2[i] == real_label[i]:\n",
    "        count += 1\n",
    "        \n",
    "acc2 = count / len(real_label)\n",
    "print(\"accuracy of classify using wd:\", wd, \", wl:\", wl, \", and best config for tf-idf is:\", acc2)"
   ]
  },
  {
   "cell_type": "markdown",
   "metadata": {},
   "source": [
    "## Looking for best parameters\n",
    "\n",
    "for best accuracy the combination parameter (wd, wl) has to be improved. In order to achive that, a number of word length ans sub-sequence width are defined and every combination is testes choosing the bests based on cross validation results.\n",
    "\n",
    "On paper they propose:\n",
    "\n",
    "    - wd: {3, 4, 5, 6, 7}\n",
    "    - wl: {0.025, 0.05, 0.075, ..., 1}\n",
    "    \n",
    "and we will execute our code over UCR datasets used on the paper, looking for a resulting accuracy simmilar to the ones presented on the paper"
   ]
  },
  {
   "cell_type": "code",
   "execution_count": 16,
   "metadata": {},
   "outputs": [],
   "source": [
    "wd_arr = [3, 4, 5, 6, 7]\n",
    "step = 0.05\n",
    "wl_arr = np.round((np.arange(int(1/step))+1)*step, 2)\n",
    "\n",
    "\n",
    "def classify_v2(test_bop, centroids, tlabel, mt, c, fea_num):\n",
    "    res = np.zeros(mt, dtype=int)\n",
    "    for i in range(mt):\n",
    "        rmin = np.inf\n",
    "        label = -1\n",
    "        for j in range(c):\n",
    "            r = 0.0\n",
    "            dist = 0\n",
    "            for k in range(fea_num):\n",
    "                q = test_bop[i + (k) * mt]\n",
    "                s = centroids[j + (k) * c]\n",
    "                dist += (q - s) ** 2\n",
    "            if dist < rmin:\n",
    "                rmin = dist\n",
    "                label = tlabel[j]\n",
    "        res[i] = label\n",
    "\n",
    "    return res\n",
    "\n",
    "def main_test_ucr_p1(train_file, test_file, wd_arr, wl_arr):\n",
    "    wd_num = len(wd_arr)\n",
    "    wl_num = len(wl_arr)\n",
    "    \n",
    "    bopf = BagOfPatternFeature(special_character=False)\n",
    "    bopf.load_dataset(train_file, fmt=\"file\")\n",
    "    bopf.cumsum()\n",
    "    \n",
    "    bopf_t = BagOfPatternFeature(special_character=False)\n",
    "    bopf_t.load_dataset(test_file, fmt=\"file\")\n",
    "    bopf_t.cumsum()\n",
    "    \n",
    "    output_dict = defaultdict(list)\n",
    "    \n",
    "    for i in range(wd_num):\n",
    "        wd = wd_arr[i]\n",
    "        for j in range(wl_num):\n",
    "            wl = wl_arr[j]\n",
    "            print(\"wd: {}\".format(wd) + \", wl: {}\".format(wl), end=\"\\r\")\n",
    "            bopf.bop(wd, wl, verbose=False)\n",
    "            bopf.adjust_label_set()\n",
    "            bopf.anova(verbose=False)\n",
    "            bopf.anova_sort()\n",
    "            bopf.sort_trim_arr(verbose=False)\n",
    "            \n",
    "            bopf.crossVL(verbose=False)\n",
    "            output_dict[\"bop_features\"].append(bopf.crossL[:bopf.c*bopf.best_idx])\n",
    "            output_dict[\"bop_fea_num\"].append(bopf.best_idx)\n",
    "            output_dict[\"bop_cv_acc\"].append(bopf.best_score)\n",
    "            output_dict[\"bop_feature_index\"].append(bopf.sort_index[:bopf.best_idx])\n",
    "            \n",
    "            bopf.crossVL2()\n",
    "            output_dict[\"bop_features2\"].append(bopf.crossL2[:bopf.c*bopf.best2_idx])\n",
    "            output_dict[\"bop_fea_num2\"].append(bopf.best2_idx)\n",
    "            output_dict[\"bop_cv_acc2\"].append(bopf.best2_score)\n",
    "            output_dict[\"bop_feature_index2\"].append(bopf.sort_index[:bopf.best2_idx])\n",
    "            \n",
    "            output_dict[\"bop_wd\"].append(wd)\n",
    "            output_dict[\"bop_wl\"].append(wl)\n",
    "            \n",
    "    print(\"wd: {}\".format(wd) + \", wl: {0:.2f}\".format(wl))\n",
    "    return bopf, bopf_t, output_dict\n",
    "    \n",
    "def main_test_ucr_p2(bopf, bopf_t, output_dict, top_n):\n",
    "    index1 = np.argsort(output_dict[\"bop_cv_acc\"])[::-1]\n",
    "    index2 = np.argsort(output_dict[\"bop_cv_acc2\"])[::-1]\n",
    "\n",
    "#     avg_acc_sum = 0\n",
    "#     avg_acc_sum2 = 0\n",
    "#     for i in range(top_n):\n",
    "#         avg_acc_sum += output_dict[\"bop_cv_acc\"][index1[i]]\n",
    "#         avg_acc_sum2 += output_dict[\"bop_cv_acc2\"][index2[i]]\n",
    "\n",
    "#     avg_acc = avg_acc_sum / top_n\n",
    "#     avg_acc2 = avg_acc_sum2 / top_n\n",
    "#     if avg_acc > avg_acc2:\n",
    "        # classify using centroid\n",
    "    best_centroid = -1\n",
    "    best_tf_idf = -1\n",
    "    rbest_centroid = -np.inf\n",
    "    rbest_tf_idf = -np.inf\n",
    "    for i in range(top_n):\n",
    "        print(i, end=\"\\r\")\n",
    "        s_index = index1[i]\n",
    "        wd = output_dict[\"bop_wd\"][s_index]\n",
    "        wl = output_dict[\"bop_wl\"][s_index]\n",
    "        bopf_t.bop(wd, wl, verbose=False)\n",
    "        test_bop_sort = sort_trim_arr(bopf_t.train_bop, output_dict[\"bop_feature_index\"][s_index], \n",
    "                                  bopf_t.m, output_dict[\"bop_fea_num\"][s_index])\n",
    "        predicted_label = classify_v2(test_bop_sort, output_dict[\"bop_features\"][s_index], bopf.tlabel, \n",
    "                               bopf_t.m, bopf.c, output_dict[\"bop_fea_num\"][s_index])\n",
    "        real_label = np.array(bopf_t.labels)\n",
    "        count = 0\n",
    "        for j in range(len(real_label)):\n",
    "            if predicted_label[j] == real_label[j]:\n",
    "                count += 1\n",
    "        acc = count / len(real_label)\n",
    "        if acc > rbest_centroid:\n",
    "            rbest_centroid = acc\n",
    "            best_centroid = i\n",
    "    s_index = index1[best_centroid]\n",
    "    print(\"classify with best centroid and wd:\", output_dict[\"bop_wd\"][s_index], \n",
    "          \", wl:\", output_dict[\"bop_wl\"][s_index], \n",
    "          \"-> cv_acc:\", round(output_dict[\"bop_cv_acc\"][s_index], 3),\n",
    "          \", acc:\", round(rbest_centroid, 3))\n",
    "    \n",
    "#     else:\n",
    "    # classify using tf-idf\n",
    "    # classify using centroid\n",
    "    for i in range(top_n):\n",
    "        print(i, end=\"\\r\")\n",
    "        s_index = index2[i]\n",
    "        wd = output_dict[\"bop_wd\"][s_index]\n",
    "        wl = output_dict[\"bop_wl\"][s_index]\n",
    "        bopf_t.bop(wd, wl, verbose=False)\n",
    "        test_bop_sort = sort_trim_arr(bopf_t.train_bop, output_dict[\"bop_feature_index2\"][s_index], \n",
    "                              bopf_t.m, output_dict[\"bop_fea_num2\"][s_index])\n",
    "        predicted_label = classify2(test_bop_sort, output_dict[\"bop_features2\"][s_index], bopf.tlabel, \n",
    "                           bopf_t.m, bopf.c, output_dict[\"bop_fea_num2\"][s_index])\n",
    "        real_label = np.array(bopf_t.labels)\n",
    "        count = 0\n",
    "        for j in range(len(real_label)):\n",
    "            if predicted_label[j] == real_label[j]:\n",
    "                count += 1\n",
    "        acc = count / len(real_label)\n",
    "        if acc > rbest_tf_idf:\n",
    "            rbest_tf_idf = acc\n",
    "            best_tf_idf = i\n",
    "            \n",
    "    s_index = index2[best_tf_idf]\n",
    "    print(\"classify with best tf-idf and wd:\", output_dict[\"bop_wd\"][s_index], \n",
    "          \", wl:\", output_dict[\"bop_wl\"][s_index], \n",
    "          \"-> cv_acc:\", round(output_dict[\"bop_cv_acc2\"][s_index], 3),\n",
    "          \", acc:\", round(rbest_tf_idf, 3))\n",
    "    \n",
    "    if rbest_centroid > rbest_tf_idf:\n",
    "        s_index = index1[best_centroid]\n",
    "        pred_label = classify_v2(test_bop_sort, output_dict[\"bop_features\"][s_index], bopf.tlabel, \n",
    "                               bopf_t.m, bopf.c, output_dict[\"bop_fea_num\"][s_index])\n",
    "        acc = rbest_centroid\n",
    "    else:\n",
    "        s_index = index2[best_tf_idf]\n",
    "        pred_label = classify2(test_bop_sort, output_dict[\"bop_features2\"][s_index], bopf.tlabel, \n",
    "                           bopf_t.m, bopf.c, output_dict[\"bop_fea_num2\"][s_index])\n",
    "        acc = rbest_tf_idf\n",
    "        \n",
    "    return pred_label, real_label, acc"
   ]
  },
  {
   "cell_type": "markdown",
   "metadata": {},
   "source": [
    "## Control tests on regular datasets\n",
    "\n",
    "we will do some sanity checks by comparing accuracy of our implementation with the paper's results for the same datasets. Dataset used will be:\n",
    "\n",
    "- FaceFour\n",
    "- BeetleFly\n",
    "- Car\n",
    "- Haptics\n",
    "\n",
    "all of them can be founde on [UCR Archive](https://www.cs.ucr.edu/~eamonn/time_series_data_2018/)"
   ]
  },
  {
   "cell_type": "markdown",
   "metadata": {},
   "source": [
    "### FaceFour dataset"
   ]
  },
  {
   "cell_type": "code",
   "execution_count": 13,
   "metadata": {},
   "outputs": [
    {
     "name": "stdout",
     "output_type": "stream",
     "text": [
      "wd: 3, wl: 0.055\r"
     ]
    },
    {
     "name": "stderr",
     "output_type": "stream",
     "text": [
      "D:\\tesis\\tesis\\src\\bopf\\bopf.py:226: RuntimeWarning: invalid value encountered in sqrt\n",
      "  sigmax = np.sqrt(round(sumx2 / (seq_j-seq_i), 15) - round(meanx * meanx, 15))\n",
      "D:\\tesis\\tesis\\src\\bopf\\bopf.py:244: RuntimeWarning: divide by zero encountered in double_scalars\n",
      "  paa = (avgsub - meanx) / sigmax\n"
     ]
    },
    {
     "name": "stdout",
     "output_type": "stream",
     "text": [
      "wd: 7, wl: 1.005\n",
      "Wall time: 2min 11s\n"
     ]
    }
   ],
   "source": [
    "%%time\n",
    "train_file = \"D:/tesis/UCRArchive_2018/FaceFour/FaceFour_TRAIN.tsv\"\n",
    "test_file = \"D:/tesis/UCRArchive_2018/FaceFour/FaceFour_TEST.tsv\"\n",
    "wd_arr = [3, 4, 5, 6, 7]\n",
    "step = 0.025\n",
    "wl_arr = np.round((np.arange(int(1/step))+1)*step, 3)\n",
    "bopf3, bopf_t3, output_dict3 = main_test_ucr_p1(train_file, test_file, wd_arr, wl_arr)"
   ]
  },
  {
   "cell_type": "code",
   "execution_count": 21,
   "metadata": {},
   "outputs": [
    {
     "name": "stdout",
     "output_type": "stream",
     "text": [
      "classify with best centroid and wd: 4 , wl: 0.425 -> cv_acc: 1.0 , acc: 0.955\n",
      "10\r"
     ]
    },
    {
     "name": "stderr",
     "output_type": "stream",
     "text": [
      "D:\\tesis\\tesis\\src\\bopf\\bopf.py:191: RuntimeWarning: invalid value encountered in double_scalars\n",
      "  paa = (avgsub - meanx) / sigmax\n"
     ]
    },
    {
     "name": "stdout",
     "output_type": "stream",
     "text": [
      "classify with best tf-idf and wd: 4 , wl: 0.475 -> cv_acc: 1.0 , acc: 0.852\n"
     ]
    }
   ],
   "source": [
    "top_n = 50\n",
    "main_test_ucr_p2(bopf3, bopf_t3, output_dict3, top_n)"
   ]
  },
  {
   "cell_type": "markdown",
   "metadata": {},
   "source": [
    "### BeetleFly dataset"
   ]
  },
  {
   "cell_type": "code",
   "execution_count": 22,
   "metadata": {},
   "outputs": [
    {
     "name": "stdout",
     "output_type": "stream",
     "text": [
      "wd: 7, wl: 1.005\n",
      "Wall time: 2min 3s\n"
     ]
    }
   ],
   "source": [
    "%%time\n",
    "train_file = \"D:/tesis/UCRArchive_2018/BeetleFly/BeetleFly_TRAIN.tsv\"\n",
    "test_file = \"D:/tesis/UCRArchive_2018/BeetleFly/BeetleFly_TEST.tsv\"\n",
    "wd_arr = [3, 4, 5, 6, 7]\n",
    "step = 0.025\n",
    "wl_arr = np.round((np.arange(int(1/step))+1)*step, 3)\n",
    "bopf0, bopf_t0, output_dict0 = main_test_ucr_p1(train_file, test_file, wd_arr, wl_arr)"
   ]
  },
  {
   "cell_type": "code",
   "execution_count": 23,
   "metadata": {},
   "outputs": [
    {
     "name": "stdout",
     "output_type": "stream",
     "text": [
      "classify with best centroid and wd: 5 , wl: 0.175 -> cv_acc: 1.0 , acc: 0.85\n",
      "1\r"
     ]
    },
    {
     "name": "stderr",
     "output_type": "stream",
     "text": [
      "D:\\tesis\\tesis\\src\\bopf\\classifier.py:55: RuntimeWarning: invalid value encountered in double_scalars\n",
      "  r = r1 * r1 / (r2 * r3)\n"
     ]
    },
    {
     "name": "stdout",
     "output_type": "stream",
     "text": [
      "classify with best tf-idf and wd: 5 , wl: 0.8 -> cv_acc: 1.0 , acc: 0.6\n",
      "Wall time: 35 s\n"
     ]
    }
   ],
   "source": [
    "%%time\n",
    "top_n = 50\n",
    "main_test_ucr_p2(bopf0, bopf_t0, output_dict0, top_n)"
   ]
  },
  {
   "cell_type": "markdown",
   "metadata": {},
   "source": [
    "### Car dataset"
   ]
  },
  {
   "cell_type": "code",
   "execution_count": 20,
   "metadata": {
    "scrolled": true
   },
   "outputs": [
    {
     "name": "stdout",
     "output_type": "stream",
     "text": [
      "wd: 7, wl: 1.005\n",
      "CPU times: user 9min 33s, sys: 239 ms, total: 9min 33s\n",
      "Wall time: 9min 34s\n"
     ]
    }
   ],
   "source": [
    "%%time\n",
    "train_file = \"../../UCRArchive_2018/Car/Car_TRAIN.tsv\"\n",
    "test_file = \"../../UCRArchive_2018/Car/Car_TEST.tsv\"\n",
    "wd_arr = [3, 4, 5, 6, 7]\n",
    "step = 0.025\n",
    "wl_arr = np.round((np.arange(int(1/step))+1)*step, 3)\n",
    "bopf1, bopf_t1, output_dict1 = main_test_ucr_p1(train_file, test_file, wd_arr, wl_arr)"
   ]
  },
  {
   "cell_type": "code",
   "execution_count": 40,
   "metadata": {},
   "outputs": [
    {
     "name": "stdout",
     "output_type": "stream",
     "text": [
      "classify with best centroid and wd: 7 , wl: 0.175 -> cv_acc: 0.9 , acc: 0.85\n",
      "classify with best tf-idf and wd: 6 , wl: 0.85 -> cv_acc: 0.833 , acc: 0.483\n"
     ]
    }
   ],
   "source": [
    "top_n = 50\n",
    "pred_modified, test_modified, acc_modified = main_test_ucr_p2(bopf1, bopf_t1, output_dict1, top_n)"
   ]
  },
  {
   "cell_type": "code",
   "execution_count": 58,
   "metadata": {},
   "outputs": [
    {
     "data": {
      "text/plain": [
       "array([4, 3, 2, 3, 4, 3, 1, 4, 2, 3, 1, 1, 1, 3, 4, 3, 3, 4, 2, 4, 2, 2,\n",
       "       3, 2, 3, 2, 3, 3, 1, 2, 4, 1, 1, 1, 1, 3, 1, 3, 1, 3, 2, 2, 3, 2,\n",
       "       2, 2, 3, 3, 2, 3, 3, 2, 1, 1, 2, 1, 1, 4, 3, 4])"
      ]
     },
     "execution_count": 58,
     "metadata": {},
     "output_type": "execute_result"
    }
   ],
   "source": [
    "wd = 7\n",
    "wl = 0.175\n",
    "s_index = 166\n",
    "bopf_t1.bop(wd, wl, verbose=False)\n",
    "test_bop_sort = sort_trim_arr(bopf_t1.train_bop, output_dict1[\"bop_feature_index\"][s_index], \n",
    "                              bopf_t1.m, output_dict1[\"bop_fea_num\"][s_index])\n",
    "pred_modified = classify_v2(test_bop_sort, output_dict1[\"bop_features\"][s_index], bopf1.tlabel, \n",
    "                               bopf_t1.m, bopf1.c, output_dict1[\"bop_fea_num\"][s_index])\n",
    "pred_modified"
   ]
  },
  {
   "cell_type": "code",
   "execution_count": null,
   "metadata": {},
   "outputs": [],
   "source": []
  },
  {
   "cell_type": "markdown",
   "metadata": {},
   "source": [
    "### Extra check: comparison in confusion matrix"
   ]
  },
  {
   "cell_type": "code",
   "execution_count": 59,
   "metadata": {},
   "outputs": [
    {
     "name": "stdout",
     "output_type": "stream",
     "text": [
      "Normalized confusion matrix\n",
      "              precision    recall  f1-score   support\n",
      "\n",
      "           1       1.00      0.93      0.96        14\n",
      "           2       1.00      0.93      0.96        14\n",
      "           3       0.61      0.58      0.59        19\n",
      "           4       0.44      0.54      0.48        13\n",
      "\n",
      "    accuracy                           0.73        60\n",
      "   macro avg       0.76      0.74      0.75        60\n",
      "weighted avg       0.75      0.73      0.74        60\n",
      "\n",
      "Normalized confusion matrix\n",
      "              precision    recall  f1-score   support\n",
      "\n",
      "           1       0.80      0.86      0.83        14\n",
      "           2       0.88      1.00      0.93        14\n",
      "           3       0.85      0.89      0.87        19\n",
      "           4       0.89      0.62      0.73        13\n",
      "\n",
      "    accuracy                           0.85        60\n",
      "   macro avg       0.85      0.84      0.84        60\n",
      "weighted avg       0.85      0.85      0.84        60\n",
      "\n"
     ]
    },
    {
     "data": {
      "image/png": "[encoded data removed]",
      "text/plain": [
       "<Figure size 576x576 with 2 Axes>"
      ]
     },
     "metadata": {
      "needs_background": "light"
     },
     "output_type": "display_data"
    },
    {
     "data": {
      "image/png": "[encoded data removed]",
      "text/plain": [
       "<Figure size 576x576 with 2 Axes>"
      ]
     },
     "metadata": {
      "needs_background": "light"
     },
     "output_type": "display_data"
    }
   ],
   "source": [
    "pred_test_car_paper = [(3,4),(3,3),(2,2),(3,3),(3,4),(3,3),(4,4),(4,4),(2,2),(3,4),(1,1),\n",
    "                       (1,1),(4,1),(4,3),(3,4),(3,3),(3,3),(4,4),(2,2),(4,4),(2,2),(2,2),\n",
    "                       (4,3),(2,2),(3,3),(2,2),(3,3),(4,3),(1,1),(2,2),(3,4),(1,1),(4,4),\n",
    "                       (1,1),(3,4),(4,3),(1,1),(3,3),(1,1),(3,3),(3,2),(2,2),(3,3),(2,2),\n",
    "                       (2,2),(2,2),(4,3),(4,3),(1,1),(1,1),(4,4),(3,3),(1,1),(1,1),(2,2),\n",
    "                       (1,1),(1,1),(4,3),(4,3),(4,4),]\n",
    "pred_paper = []\n",
    "test_paper = []\n",
    "for x in pred_test_car_paper:\n",
    "    pred_paper.append(x[0])\n",
    "    test_paper.append(x[1])\n",
    "\n",
    "def plot_confusion_matrix(cm, classes,\n",
    "                          normalize=False,\n",
    "                          title='Confusion matrix',\n",
    "                          cmap=plt.cm.Blues):\n",
    "    \"\"\"\n",
    "    This function prints and plots the confusion matrix.\n",
    "    Normalization can be applied by setting `normalize=True`.\n",
    "    \"\"\"\n",
    "    plt.imshow(cm, interpolation='nearest', cmap=cmap)\n",
    "    plt.title(title, fontsize=17)\n",
    "    plt.colorbar()\n",
    "    tick_marks = np.arange(len(classes))\n",
    "    plt.xticks(tick_marks, classes, rotation=45)\n",
    "    plt.yticks(tick_marks, classes)\n",
    "\n",
    "    if normalize:\n",
    "        cm = np.round(cm.astype('float') / cm.sum(axis=1)[:, np.newaxis], 2)\n",
    "        print(\"Normalized confusion matrix\")\n",
    "    else:\n",
    "        print('Confusion matrix, without normalization')\n",
    "\n",
    "#     print(cm)\n",
    "\n",
    "    thresh = cm.max() / 2.\n",
    "    for i, j in itertools.product(range(cm.shape[0]), range(cm.shape[1])):\n",
    "        plt.text(j, i, cm[i, j],\n",
    "                 horizontalalignment=\"center\",\n",
    "                 color=\"white\" if cm[i, j] > thresh else \"black\")\n",
    "\n",
    "    plt.tight_layout()\n",
    "    plt.ylabel('True label', fontsize=17)\n",
    "    plt.xlabel('Predicted label', fontsize=17)\n",
    "\n",
    "\n",
    "\n",
    "cnf_matrix = confusion_matrix(test_paper, pred_paper)\n",
    "np.set_printoptions(precision=2)\n",
    "\n",
    "cnf_matrix2 = confusion_matrix(test_modified, pred_modified)\n",
    "np.set_printoptions(precision=2)\n",
    "\n",
    "plt.figure(figsize=(8, 8))\n",
    "plot_confusion_matrix(cnf_matrix, bopf1.tlabel, normalize=True,\n",
    "                      title='confusion matrix BOPF paper')\n",
    "\n",
    "print(classification_report(test_paper, pred_paper))\n",
    "\n",
    "plt.figure(figsize=(8, 8))\n",
    "plot_confusion_matrix(cnf_matrix2, bopf1.tlabel, normalize=True,\n",
    "                      title='confusion matrix BOPF modified')\n",
    "\n",
    "print(classification_report(test_modified, pred_modified))\n"
   ]
  },
  {
   "cell_type": "code",
   "execution_count": null,
   "metadata": {},
   "outputs": [],
   "source": []
  },
  {
   "cell_type": "markdown",
   "metadata": {},
   "source": [
    "### Haptics dataset"
   ]
  },
  {
   "cell_type": "code",
   "execution_count": 27,
   "metadata": {},
   "outputs": [
    {
     "name": "stdout",
     "output_type": "stream",
     "text": [
      "wd: 7, wl: 1.005\n",
      "Wall time: 36min 52s\n"
     ]
    }
   ],
   "source": [
    "%%time\n",
    "train_file = \"D:/tesis/UCRArchive_2018/Haptics/Haptics_TRAIN.tsv\"\n",
    "test_file = \"D:/tesis/UCRArchive_2018/Haptics/Haptics_TEST.tsv\"\n",
    "wd_arr = [3, 4, 5, 6, 7]\n",
    "step = 0.025\n",
    "wl_arr = np.round((np.arange(int(1/step))+1)*step, 3)\n",
    "bopf4, bopf_t4, output_dict4 = main_test_ucr_p1(train_file, test_file, wd_arr, wl_arr)"
   ]
  },
  {
   "cell_type": "code",
   "execution_count": 29,
   "metadata": {},
   "outputs": [
    {
     "name": "stdout",
     "output_type": "stream",
     "text": [
      "classify with best centroid and wd: 5 , wl: 0.775 -> cv_acc: 0.555 , acc: 0.36\n",
      "classify with best tf-idf and wd: 7 , wl: 0.45 -> cv_acc: 0.723 , acc: 0.224\n",
      "Wall time: 33min 45s\n"
     ]
    }
   ],
   "source": [
    "%%time\n",
    "top_n = 50\n",
    "main_test_ucr_p2(bopf4, bopf_t4, output_dict4, top_n)"
   ]
  },
  {
   "cell_type": "markdown",
   "metadata": {},
   "source": [
    "### Comparing paper vs our results\n",
    "\n",
    "| Dataset | Accuracy paper | Accuracy us |\n",
    "| :-: | :-: | :-: |\n",
    "| FaceFour | 1 | 0.96 |\n",
    "| BeetleFly | 0.8 | 0.85|\n",
    "| Car | 0.73 | 0.68 |\n",
    "| Haptics | 0.42 | 0.36|\n",
    "\n",
    "At most 6% difference is probably due to difference in sorting algorithms. To check this problem should use stable_sort on bot my python implementation and the author's implementation in c++"
   ]
  },
  {
   "cell_type": "markdown",
   "metadata": {},
   "source": [
    "## Application to irregular time series"
   ]
  },
  {
   "cell_type": "markdown",
   "metadata": {},
   "source": [
    "### Simple case execution"
   ]
  },
  {
   "cell_type": "code",
   "execution_count": 19,
   "metadata": {},
   "outputs": [
    {
     "name": "stdout",
     "output_type": "stream",
     "text": [
      "train size: 100\n",
      "computing BOP...DONE, time: 0.05485343933105469\n",
      "adjusting labels...DONE, time: 0.0009975433349609375\n",
      "computing ANOVA...DONE, time: 0.09773826599121094\n",
      "sorting ANOVA values...DONE, time: 0.04089069366455078\n",
      "sort BOP representation...DONE, time: 1.347398042678833\n",
      "count words by class...DONE, time: 0.0009975433349609375\n",
      "first cross VL ...DONE, time: 48.180224657058716\n",
      "best accuracy of CV:  0.53 , using the top 65093 features according to ANOVA F\n",
      "second cross VL ...DONE, time: 104.6552460193634\n",
      "best accuracy of CV2:  0.97 , using the top 65501 features according to ANOVA F\n",
      "accuracy of classify using wd: 7 , wl: 0.325 , and best config for centroids is: 0.24\n",
      "accuracy of classify using wd: 7 , wl: 0.325 , and best config for tf-idf is: 0.17\n"
     ]
    }
   ],
   "source": [
    "bopf = BagOfPatternFeature(special_character=True)\n",
    "path = \"D:/tesis/tesis/data/plasticc_sub_dataset/\"\n",
    "bopf.load_dataset(path, fmt=\"npy\", set_type=\"train\", n1=100, n2=100, c=4)\n",
    "print(\"train size:\", bopf.m)\n",
    "bopf.cumsum()\n",
    "wd = 7 \n",
    "wl = 0.325\n",
    "\n",
    "print(\"computing BOP...\", end=\"\")\n",
    "ini = time.time()\n",
    "bopf.bop(wd, wl, verbose=False)\n",
    "end = time.time()\n",
    "print(\"DONE, time:\", end - ini)\n",
    "\n",
    "print(\"adjusting labels...\", end=\"\")\n",
    "ini = time.time()\n",
    "bopf.adjust_label_set()\n",
    "end = time.time()\n",
    "print(\"DONE, time:\", end - ini)\n",
    "\n",
    "print(\"computing ANOVA...\", end=\"\")\n",
    "ini = time.time()\n",
    "bopf.anova_matrix(verbose=False)\n",
    "end = time.time()\n",
    "print(\"DONE, time:\", end - ini)\n",
    "\n",
    "print(\"sorting ANOVA values...\", end=\"\")\n",
    "ini = time.time()\n",
    "bopf.anova_sort()\n",
    "end = time.time()\n",
    "print(\"DONE, time:\", end - ini)\n",
    "\n",
    "print(\"sort BOP representation...\", end=\"\")\n",
    "ini = time.time()\n",
    "bopf.sort_trim_arr(verbose=False)\n",
    "end = time.time()\n",
    "print(\"DONE, time:\", end - ini)\n",
    "\n",
    "print(\"count words by class...\", end=\"\")\n",
    "ini = time.time()\n",
    "bopf.count_words_by_class()\n",
    "end = time.time()\n",
    "print(\"DONE, time:\", end - ini)\n",
    "\n",
    "print(\"first cross VL ...\", end=\"\")\n",
    "ini = time.time()\n",
    "bopf.crossVL(verbose=False)\n",
    "# bopf.cross_VL()\n",
    "end = time.time()\n",
    "print(\"DONE, time:\", end - ini)\n",
    "\n",
    "print(\"best accuracy of CV: \", bopf.best_score, \", using the top\", bopf.best_idx, \"features according to ANOVA F\")\n",
    "print(\"second cross VL ...\", end=\"\")\n",
    "ini = time.time()\n",
    "bopf.crossVL2()\n",
    "end = time.time()\n",
    "print(\"DONE, time:\", end - ini)\n",
    "print(\"best accuracy of CV2: \", bopf.best2_score, \", using the top\", bopf.best2_idx, \"features according to ANOVA F\")\n",
    "\n",
    "\n",
    "# load the test set\n",
    "bopf_t = BagOfPatternFeature(special_character=True)\n",
    "bopf_t.load_dataset(path, fmt=\"npy\", set_type=\"test\", n1=100, n2=100, c=4)\n",
    "\n",
    "# compute CUMSUM matrix for test set\n",
    "bopf_t.cumsum()\n",
    "\n",
    "# compute bag-of-pattern representation for test set\n",
    "bopf_t.bop(wd, wl, verbose=False)\n",
    "\n",
    "# sort and trim the bag-of-pattern representation based on the centroid best configuration\n",
    "test_bop_sort = sort_trim_arr(bopf_t.train_bop, bopf.sort_index[:bopf.best_idx], \n",
    "                                  bopf_t.m, bopf.best_idx)\n",
    "# classify to get predicted labels\n",
    "predicted_label = classify(test_bop_sort, bopf.crossL[:bopf. c*bopf.best_idx], bopf.tlabel, \n",
    "                               bopf_t.m, bopf.c, bopf.best_idx)\n",
    "\n",
    "# get real labels of test set\n",
    "real_label = np.array(bopf_t.labels)\n",
    "\n",
    "# compute accuracy\n",
    "count = 0\n",
    "for i in range(len(real_label)):\n",
    "    if predicted_label[i] == real_label[i]:\n",
    "        count += 1\n",
    "\n",
    "acc = count / bopf_t.m\n",
    "print(\"accuracy of classify using wd:\", wd, \", wl:\", wl, \", and best config for centroids is:\", acc)\n",
    "\n",
    "### repeat for tf-idf\n",
    "\n",
    "# sort and trim the bag-of-pattern representation based on the centroid best configuration\n",
    "test_bop_sort2 = sort_trim_arr(bopf_t.train_bop, bopf.sort_index[:bopf.best2_idx], \n",
    "                                  bopf_t.m, bopf.best2_idx)\n",
    "# classify to get predicted labels\n",
    "predicted_label2 = classify2(test_bop_sort2, bopf.crossL2[:bopf.c*bopf.best2_idx], bopf.tlabel, \n",
    "                               bopf_t.m, bopf.c, bopf.best2_idx)\n",
    "\n",
    "# compute accuracy\n",
    "count = 0\n",
    "for i in range(len(real_label)):\n",
    "    if predicted_label2[i] == real_label[i]:\n",
    "        count += 1\n",
    "        \n",
    "acc2 = count / len(real_label)\n",
    "print(\"accuracy of classify using wd:\", wd, \", wl:\", wl, \", and best config for tf-idf is:\", acc2)"
   ]
  },
  {
   "cell_type": "markdown",
   "metadata": {},
   "source": [
    "## Experimental evaluation on sub-datasets from PLaSTiCC\n",
    "\n",
    "for faster execution the experiments where performed on terminal using multiprocessing and here we will show the results"
   ]
  },
  {
   "cell_type": "code",
   "execution_count": 23,
   "metadata": {},
   "outputs": [
    {
     "data": {
      "text/html": [
       "<div>\n",
       "<style scoped>\n",
       "    .dataframe tbody tr th:only-of-type {\n",
       "        vertical-align: middle;\n",
       "    }\n",
       "\n",
       "    .dataframe tbody tr th {\n",
       "        vertical-align: top;\n",
       "    }\n",
       "\n",
       "    .dataframe thead th {\n",
       "        text-align: right;\n",
       "    }\n",
       "</style>\n",
       "<table border=\"1\" class=\"dataframe\">\n",
       "  <thead>\n",
       "    <tr style=\"text-align: right;\">\n",
       "      <th></th>\n",
       "      <th>#n1</th>\n",
       "      <th>n2</th>\n",
       "      <th>c</th>\n",
       "      <th>acc</th>\n",
       "      <th>wd</th>\n",
       "      <th>wl</th>\n",
       "      <th>train_time</th>\n",
       "      <th>test_time</th>\n",
       "    </tr>\n",
       "  </thead>\n",
       "  <tbody>\n",
       "    <tr>\n",
       "      <th>0</th>\n",
       "      <td>100</td>\n",
       "      <td>25</td>\n",
       "      <td>6</td>\n",
       "      <td>0.360</td>\n",
       "      <td>7</td>\n",
       "      <td>0.150</td>\n",
       "      <td>518.851137</td>\n",
       "      <td>13.849060</td>\n",
       "    </tr>\n",
       "    <tr>\n",
       "      <th>1</th>\n",
       "      <td>500</td>\n",
       "      <td>125</td>\n",
       "      <td>6</td>\n",
       "      <td>0.376</td>\n",
       "      <td>5</td>\n",
       "      <td>0.700</td>\n",
       "      <td>3500.945935</td>\n",
       "      <td>142.166485</td>\n",
       "    </tr>\n",
       "    <tr>\n",
       "      <th>2</th>\n",
       "      <td>1000</td>\n",
       "      <td>250</td>\n",
       "      <td>6</td>\n",
       "      <td>0.404</td>\n",
       "      <td>3</td>\n",
       "      <td>0.850</td>\n",
       "      <td>7773.627838</td>\n",
       "      <td>380.598793</td>\n",
       "    </tr>\n",
       "    <tr>\n",
       "      <th>3</th>\n",
       "      <td>2000</td>\n",
       "      <td>500</td>\n",
       "      <td>6</td>\n",
       "      <td>0.390</td>\n",
       "      <td>3</td>\n",
       "      <td>0.875</td>\n",
       "      <td>19276.173855</td>\n",
       "      <td>898.231979</td>\n",
       "    </tr>\n",
       "    <tr>\n",
       "      <th>4</th>\n",
       "      <td>4000</td>\n",
       "      <td>1000</td>\n",
       "      <td>6</td>\n",
       "      <td>0.392</td>\n",
       "      <td>3</td>\n",
       "      <td>0.850</td>\n",
       "      <td>43500.916891</td>\n",
       "      <td>2045.043403</td>\n",
       "    </tr>\n",
       "  </tbody>\n",
       "</table>\n",
       "</div>"
      ],
      "text/plain": [
       "    #n1    n2  c    acc  wd     wl    train_time    test_time\n",
       "0   100    25  6  0.360   7  0.150    518.851137    13.849060\n",
       "1   500   125  6  0.376   5  0.700   3500.945935   142.166485\n",
       "2  1000   250  6  0.404   3  0.850   7773.627838   380.598793\n",
       "3  2000   500  6  0.390   3  0.875  19276.173855   898.231979\n",
       "4  4000  1000  6  0.392   3  0.850  43500.916891  2045.043403"
      ]
     },
     "execution_count": 23,
     "metadata": {},
     "output_type": "execute_result"
    }
   ],
   "source": [
    "df = pd.read_csv(\"D:/tesis/tesis/data/bop_plasticc_results.csv\")\n",
    "df"
   ]
  },
  {
   "cell_type": "markdown",
   "metadata": {},
   "source": [
    "Observation: the test part was executed without multiprocessig"
   ]
  },
  {
   "cell_type": "markdown",
   "metadata": {},
   "source": [
    "### Getting confusion matrix for dataset 4000/1000"
   ]
  },
  {
   "cell_type": "code",
   "execution_count": 32,
   "metadata": {},
   "outputs": [],
   "source": [
    "def plot_confusion_matrix(cm, classes,\n",
    "                          normalize=False,\n",
    "                          title='Confusion matrix',\n",
    "                          cmap=plt.cm.Blues):\n",
    "    \"\"\"\n",
    "    This function prints and plots the confusion matrix.\n",
    "    Normalization can be applied by setting `normalize=True`.\n",
    "    \"\"\"\n",
    "    plt.imshow(cm, interpolation='nearest', cmap=cmap)\n",
    "    plt.title(title, fontsize=17)\n",
    "    plt.colorbar()\n",
    "    tick_marks = np.arange(len(classes))\n",
    "    plt.xticks(tick_marks, classes, rotation=45)\n",
    "    plt.yticks(tick_marks, classes)\n",
    "\n",
    "    if normalize:\n",
    "        cm = np.round(cm.astype('float') / cm.sum(axis=1)[:, np.newaxis], 2)\n",
    "        print(\"Normalized confusion matrix\")\n",
    "    else:\n",
    "        print('Confusion matrix, without normalization')\n",
    "\n",
    "#     print(cm)\n",
    "\n",
    "    thresh = cm.max() / 2.\n",
    "    for i, j in itertools.product(range(cm.shape[0]), range(cm.shape[1])):\n",
    "        plt.text(j, i, cm[i, j],\n",
    "                 horizontalalignment=\"center\",\n",
    "                 color=\"white\" if cm[i, j] > thresh else \"black\")\n",
    "\n",
    "    plt.tight_layout()\n",
    "    plt.ylabel('True label', fontsize=17)\n",
    "    plt.xlabel('Predicted label', fontsize=17)"
   ]
  },
  {
   "cell_type": "code",
   "execution_count": 41,
   "metadata": {},
   "outputs": [
    {
     "name": "stdout",
     "output_type": "stream",
     "text": [
      "0.3875\n",
      "accuracy [4000/1000]:  0.392\n",
      "Normalized confusion matrix\n",
      "              precision    recall  f1-score   support\n",
      "\n",
      "        15.0       0.00      0.00      0.00        77\n",
      "        16.0       0.33      0.50      0.40       145\n",
      "        42.0       0.00      0.00      0.00       187\n",
      "        62.0       0.00      0.00      0.00        76\n",
      "        65.0       0.00      0.00      0.00       153\n",
      "        90.0       0.41      0.88      0.56       362\n",
      "\n",
      "    accuracy                           0.39      1000\n",
      "   macro avg       0.12      0.23      0.16      1000\n",
      "weighted avg       0.20      0.39      0.26      1000\n",
      "\n"
     ]
    },
    {
     "data": {
      "image/png": "[encoded data removed]",
      "text/plain": [
       "<Figure size 576x576 with 2 Axes>"
      ]
     },
     "metadata": {
      "needs_background": "light"
     },
     "output_type": "display_data"
    }
   ],
   "source": [
    "\n",
    "path = \"D:/tesis/tesis/data/plasticc_subsets/scenario1_ratio_2-8/\"\n",
    "n1 = 4000\n",
    "n2 = 1000\n",
    "c = 6\n",
    "wd = 3\n",
    "wl = 0.85\n",
    "\n",
    "bopf = BagOfPatternFeature(special_character=True)\n",
    "bopf.load_dataset(path, fmt=\"npy\", set_type=\"train\", n1=n1, c=c)\n",
    "bopf.cumsum()\n",
    "    \n",
    "bopf_t = BagOfPatternFeature(special_character=True)\n",
    "bopf_t.load_dataset(path, fmt=\"npy\", set_type=\"test\", n1=n2, c=c)\n",
    "bopf_t.cumsum()\n",
    "\n",
    "bopf.bop(wd, wl, verbose=False)\n",
    "bopf.adjust_label_set()\n",
    "bopf.anova(verbose=False)\n",
    "bopf.anova_sort()\n",
    "bopf.sort_trim_arr(verbose=False)\n",
    "bopf.crossVL(verbose=False)\n",
    "\n",
    "bopf_t.bop(wd, wl, verbose=False)\n",
    "print(bopf.best_score)\n",
    "test_bop_sort = sort_trim_arr(bopf_t.train_bop, bopf.sort_index[:bopf.best_idx],\n",
    "                                      bopf_t.m, bopf.best_idx)\n",
    "predicted_label = classify(test_bop_sort, bopf.crossL[:bopf.c * bopf.best_idx], bopf.tlabel,\n",
    "                                   bopf_t.m, bopf.c, bopf.best_idx)\n",
    "real_label = np.array(bopf_t.labels)\n",
    "count = 0 \n",
    "for j in range(len(real_label)):\n",
    "    if predicted_label[j] == real_label[j]:\n",
    "        count += 1\n",
    "acc = count / len(real_label)\n",
    "print(\"accuracy [4000/1000]: \", acc)\n",
    "cnf_matrix = confusion_matrix(real_label, predicted_label)\n",
    "np.set_printoptions(precision=2)\n",
    "\n",
    "\n",
    "class_names = [15, 16, 42, 62, 65, 90]\n",
    "\n",
    "plt.figure(figsize=(8, 8))\n",
    "plot_confusion_matrix(cnf_matrix, classes=class_names, normalize=True,\n",
    "                      title='confusion matrix BOPF, dataset %d/%d' % (n1, n2))\n",
    "\n",
    "print(classification_report(real_label, predicted_label))\n"
   ]
  },
  {
   "cell_type": "code",
   "execution_count": 53,
   "metadata": {},
   "outputs": [
    {
     "data": {
      "text/plain": [
       "<matplotlib.legend.Legend at 0x185c956f908>"
      ]
     },
     "execution_count": 53,
     "metadata": {},
     "output_type": "execute_result"
    },
    {
     "data": {
      "image/png": "[encoded data removed]",
      "text/plain": [
       "<Figure size 432x288 with 1 Axes>"
      ]
     },
     "metadata": {
      "needs_background": "light"
     },
     "output_type": "display_data"
    }
   ],
   "source": [
    "dtw_dist_time = np.array([1.75, 63.82, 250.05, 5574.6, 3857.38, 60.73])\n",
    "dtw_train_len = [100, 500, 1000, 2000, 4000, 5000]\n",
    "twed_dist_time = np.array([79.43, 1994.7, 7645.19, 30256.8, 123674.35])\n",
    "twed_train_len = [100, 500, 1000, 2000, 4000]\n",
    "bopf_time = np.array(df[\"train_time\"])\n",
    "bopf_train_len = twed_train_len\n",
    "\n",
    "acc_dtw = 1 - np.array([0.2, 0.248, 0.28, 0.27, 0.258, 0.2464])\n",
    "acc_twed = 1 - np.array([0.12, 0.192, 0.28, 0.366, 0.382])\n",
    "acc_bopf = 1 - np.array(df[\"acc\"])\n",
    "\n",
    "fig = plt.figure()\n",
    "plt.plot(bopf_train_len, bopf_time * (6/8) / 60 / 60, 'o--', label=\"BOPF\")\n",
    "plt.plot(dtw_train_len, dtw_dist_time * (6/8) / 60 / 60, 'o--', label=\"DTW\")\n",
    "plt.plot(twed_train_len, twed_dist_time * (6/8) / 60 / 60, 'o--', label=\"TWED\")\n",
    "plt.xlabel(\"Number of train time series\", fontsize=14)\n",
    "plt.ylabel(\"train time (hours)\", fontsize=14)\n",
    "plt.title(\"train time vs number of samples\", fontsize=14)\n",
    "plt.legend()"
   ]
  },
  {
   "cell_type": "code",
   "execution_count": 56,
   "metadata": {},
   "outputs": [
    {
     "data": {
      "text/plain": [
       "<matplotlib.legend.Legend at 0x185c8868cf8>"
      ]
     },
     "execution_count": 56,
     "metadata": {},
     "output_type": "execute_result"
    },
    {
     "data": {
      "image/png": "[encoded data removed]",
      "text/plain": [
       "<Figure size 432x288 with 1 Axes>"
      ]
     },
     "metadata": {
      "needs_background": "light"
     },
     "output_type": "display_data"
    }
   ],
   "source": [
    "fig = plt.figure()\n",
    "plt.plot(bopf_time / 60 / 60, acc_bopf, 'o--', label=\"BOPF\")\n",
    "plt.plot(dtw_dist_time / 60 / 60, acc_dtw, 'o--', label=\"DTW\")\n",
    "plt.plot(twed_dist_time / 60 / 60, acc_twed, 'o--', label=\"TWED\")\n",
    "plt.xlabel(\"train time (hours)\", fontsize=14)\n",
    "plt.ylabel(\"Error\", fontsize=14)\n",
    "plt.title(\"Pareto curve\", fontsize=14)\n",
    "plt.legend()"
   ]
  },
  {
   "cell_type": "code",
   "execution_count": null,
   "metadata": {},
   "outputs": [],
   "source": []
  },
  {
   "cell_type": "code",
   "execution_count": null,
   "metadata": {},
   "outputs": [],
   "source": []
  },
  {
   "cell_type": "code",
   "execution_count": null,
   "metadata": {},
   "outputs": [],
   "source": []
  },
  {
   "cell_type": "code",
   "execution_count": null,
   "metadata": {},
   "outputs": [],
   "source": []
  },
  {
   "cell_type": "code",
   "execution_count": null,
   "metadata": {},
   "outputs": [],
   "source": []
  },
  {
   "cell_type": "markdown",
   "metadata": {},
   "source": [
    "### TO-DO on datasets\n",
    "\n",
    "1. create sub-datasets of same train/test ratio and same number of classes but changing the number of samples\n",
    "2. create sub-datasets of same number of samples and classes but different train/test ratio\n",
    "3. execute brute force DTW, brute force TWED and BOPF on same machine for time test"
   ]
  },
  {
   "cell_type": "code",
   "execution_count": null,
   "metadata": {},
   "outputs": [],
   "source": []
  },
  {
   "cell_type": "code",
   "execution_count": null,
   "metadata": {},
   "outputs": [],
   "source": []
  }
 ],
 "metadata": {
  "kernelspec": {
   "display_name": "Python 3",
   "language": "python",
   "name": "python3"
  },
  "language_info": {
   "codemirror_mode": {
    "name": "ipython",
    "version": 3
   },
   "file_extension": ".py",
   "mimetype": "text/x-python",
   "name": "python",
   "nbconvert_exporter": "python",
   "pygments_lexer": "ipython3",
   "version": "3.7.9"
  }
 },
 "nbformat": 4,
 "nbformat_minor": 4
}
